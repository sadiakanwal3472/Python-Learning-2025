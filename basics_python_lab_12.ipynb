{
  "nbformat": 4,
  "nbformat_minor": 0,
  "metadata": {
    "colab": {
      "provenance": [],
      "authorship_tag": "ABX9TyPtCbWUhZlntq/1sKrAI0Eu",
      "include_colab_link": true
    },
    "kernelspec": {
      "name": "python3",
      "display_name": "Python 3"
    },
    "language_info": {
      "name": "python"
    }
  },
  "cells": [
    {
      "cell_type": "markdown",
      "metadata": {
        "id": "view-in-github",
        "colab_type": "text"
      },
      "source": [
        "<a href=\"https://colab.research.google.com/github/sadiakanwal3472/Python-Learning-2025/blob/main/basics_python_lab_12.ipynb\" target=\"_parent\"><img src=\"https://colab.research.google.com/assets/colab-badge.svg\" alt=\"Open In Colab\"/></a>"
      ]
    },
    {
      "cell_type": "markdown",
      "source": [
        "## Python Functions\n",
        "A function is a block of code which only runs when it is called.\n",
        "\n",
        "You can pass data, known as parameters, into a function.\n",
        "\n",
        "A function can return data as a result.\n",
        "\n"
      ],
      "metadata": {
        "id": "iNSqSeLSbEJM"
      }
    },
    {
      "cell_type": "markdown",
      "source": [
        "## Creating a Function\n",
        "In Python a function is defined using the def keyword:\n",
        "## Example"
      ],
      "metadata": {
        "id": "U9b4dprIbYZz"
      }
    },
    {
      "cell_type": "code",
      "source": [
        "def my_function():\n",
        "  print(\"Hello from a function\")"
      ],
      "metadata": {
        "id": "iwLZELQGbfVo"
      },
      "execution_count": 1,
      "outputs": []
    },
    {
      "cell_type": "markdown",
      "source": [
        "## Calling a Function\n",
        "To call a function, use the function name followed by parenthesis:\n",
        "## Example"
      ],
      "metadata": {
        "id": "cd3l-YsicSpu"
      }
    },
    {
      "cell_type": "code",
      "source": [
        "def my_function():\n",
        "  print(\"Hello from a function\")\n",
        "\n",
        "my_function()"
      ],
      "metadata": {
        "colab": {
          "base_uri": "https://localhost:8080/"
        },
        "id": "DVahnRuqcbRG",
        "outputId": "061a477c-5516-4bd9-a3b4-5964ba60c60a"
      },
      "execution_count": 3,
      "outputs": [
        {
          "output_type": "stream",
          "name": "stdout",
          "text": [
            "Hello from a function\n"
          ]
        }
      ]
    },
    {
      "cell_type": "markdown",
      "source": [
        "## Arguments\n",
        "Information can be passed into functions as arguments.\n",
        "Arguments are specified after the function name, inside the parentheses. You can add as many arguments as you want, just separate them with a comma.\n",
        "The following example has a function with one argument (fname). When the function is called, we pass along a first name, which is used inside the function to print the full name:\n",
        "## Example"
      ],
      "metadata": {
        "id": "TANWQ5XFcz8B"
      }
    },
    {
      "cell_type": "code",
      "source": [
        "def my_function(fname):\n",
        "  print(fname + \" Refsnes\")\n",
        "\n",
        "my_function(\"Emil\")\n",
        "my_function(\"Tobias\")\n",
        "my_function(\"Linus\")"
      ],
      "metadata": {
        "colab": {
          "base_uri": "https://localhost:8080/"
        },
        "id": "4OYA_R0Kc7Tj",
        "outputId": "09b5d894-def4-4cb1-e86b-6a759d59de5f"
      },
      "execution_count": 4,
      "outputs": [
        {
          "output_type": "stream",
          "name": "stdout",
          "text": [
            "Emil Refsnes\n",
            "Tobias Refsnes\n",
            "Linus Refsnes\n"
          ]
        }
      ]
    },
    {
      "cell_type": "markdown",
      "source": [
        "## Parameters or Arguments?\n",
        "###### The terms parameter and argument can be used for the same thing: information that are passed into a function.\n",
        "###### From a function's perspective:\n",
        "###### A parameter is the variable listed inside the parentheses in the function definition.\n",
        "###### An argument is the value that is sent to the function when it is called.\n",
        "## Number of Arguments\n",
        "By default, a function must be called with the correct number of arguments. Meaning that if your function expects 2 arguments, you have to call the function with 2 arguments, not more, and not less."
      ],
      "metadata": {
        "id": "1JOmaBIqdgsm"
      }
    },
    {
      "cell_type": "markdown",
      "source": [
        "## Example\n",
        "This function expects 2 arguments, and gets 2 arguments:"
      ],
      "metadata": {
        "id": "O2tSpmKEeDtt"
      }
    },
    {
      "cell_type": "code",
      "source": [
        "def my_function(fname, lname):\n",
        "  print(fname + \" \" + lname)\n",
        "\n",
        "my_function(\"Emil\", \"Refsnes\")"
      ],
      "metadata": {
        "colab": {
          "base_uri": "https://localhost:8080/"
        },
        "id": "PUDaJdmxd4K5",
        "outputId": "bd021087-b7d4-48cd-a16f-c5c9880f6e23"
      },
      "execution_count": 5,
      "outputs": [
        {
          "output_type": "stream",
          "name": "stdout",
          "text": [
            "Emil Refsnes\n"
          ]
        }
      ]
    },
    {
      "cell_type": "markdown",
      "source": [
        "If you try to call the function with 1 or 3 arguments, you will get an error:\n",
        "## Example\n",
        "This function expects 2 arguments, but gets only 1:"
      ],
      "metadata": {
        "id": "0r1m3Cu7eXjV"
      }
    },
    {
      "cell_type": "code",
      "source": [
        "def my_function(fname, lname):\n",
        "  print(fname + \" \" + lname)\n",
        "\n",
        "my_function(\"dostar\",\"ali\")"
      ],
      "metadata": {
        "colab": {
          "base_uri": "https://localhost:8080/"
        },
        "id": "HEQEIeRqebep",
        "outputId": "be93d712-348c-4635-a057-d811cd84a4c5"
      },
      "execution_count": 7,
      "outputs": [
        {
          "output_type": "stream",
          "name": "stdout",
          "text": [
            "dostar ali\n"
          ]
        }
      ]
    },
    {
      "cell_type": "code",
      "source": [
        "def my_function(a,b,c):\n",
        "  print(\"aX^2+bX+c\")"
      ],
      "metadata": {
        "id": "70pFikVle1KC"
      },
      "execution_count": 10,
      "outputs": []
    },
    {
      "cell_type": "code",
      "source": [
        "my_function(1,2,3)"
      ],
      "metadata": {
        "colab": {
          "base_uri": "https://localhost:8080/"
        },
        "id": "eNa8pQfTfhmV",
        "outputId": "164d4f68-4f14-42d2-b676-ecd14bd83c00"
      },
      "execution_count": 11,
      "outputs": [
        {
          "output_type": "stream",
          "name": "stdout",
          "text": [
            "aX^2+bX+c\n"
          ]
        }
      ]
    },
    {
      "cell_type": "code",
      "source": [
        "def quadratic_equation(a,b,c):\n",
        "  return f\"{a}x^2+{b}x+{c}=0\"\n",
        ""
      ],
      "metadata": {
        "id": "y431ZbQUgfXF"
      },
      "execution_count": 14,
      "outputs": []
    },
    {
      "cell_type": "code",
      "source": [
        "print(quadratic_equation(1,-3,2))"
      ],
      "metadata": {
        "colab": {
          "base_uri": "https://localhost:8080/"
        },
        "id": "bpiPtJn8hYpx",
        "outputId": "a9a47b82-0fc7-4a82-c1f9-c3115443585d"
      },
      "execution_count": 15,
      "outputs": [
        {
          "output_type": "stream",
          "name": "stdout",
          "text": [
            "1x^2+-3x+2=0\n"
          ]
        }
      ]
    },
    {
      "cell_type": "markdown",
      "source": [
        "## Arbitrary Arguments, *args\n",
        "If you do not know how many arguments that will be passed into your function, add a * before the parameter name in the function definition.\n",
        "This way the function will receive a tuple of arguments, and can access the items accordingly:\n",
        "## Example\n",
        "If the number of arguments is unknown, add a * before the parameter name:"
      ],
      "metadata": {
        "id": "5Kv3ij8whri1"
      }
    },
    {
      "cell_type": "code",
      "source": [
        "def my_function(*kids):\n",
        "  print(\"The youngest child is \" + kids[2])\n",
        "\n",
        "my_function(\"Emil\", \"Tobias\", \"Linus\")\n"
      ],
      "metadata": {
        "colab": {
          "base_uri": "https://localhost:8080/"
        },
        "id": "PkzWzBvwh7WP",
        "outputId": "6a12af99-f53e-4374-ddca-6ea2f8d4fab1"
      },
      "execution_count": 16,
      "outputs": [
        {
          "output_type": "stream",
          "name": "stdout",
          "text": [
            "The youngest child is Linus\n"
          ]
        }
      ]
    },
    {
      "cell_type": "markdown",
      "source": [
        "Arbitrary Arguments are often shortened to *args in Python documentations."
      ],
      "metadata": {
        "id": "vlg41ePOiKsK"
      }
    },
    {
      "cell_type": "markdown",
      "source": [
        "## Keyword Arguments\n",
        "You can also send arguments with the key = value syntax.\n",
        "This way the order of the arguments does not matter.\n",
        "## Example"
      ],
      "metadata": {
        "id": "5SpHEcVYijOB"
      }
    },
    {
      "cell_type": "code",
      "source": [
        "def my_function(child3, child2, child1):\n",
        "  print(\"The youngest child is \" + child3)\n",
        "\n",
        "my_function(child1 = \"Emil\", child2 = \"Tobias\", child3 = \"Linus\")"
      ],
      "metadata": {
        "colab": {
          "base_uri": "https://localhost:8080/"
        },
        "id": "pNyVtFgDi7P9",
        "outputId": "6ba0aba5-ad1c-4012-ca11-bed30e950238"
      },
      "execution_count": 17,
      "outputs": [
        {
          "output_type": "stream",
          "name": "stdout",
          "text": [
            "The youngest child is Linus\n"
          ]
        }
      ]
    },
    {
      "cell_type": "markdown",
      "source": [
        "The phrase Keyword Arguments are often shortened to kwargs in Python documentations.\n",
        "## Arbitrary Keyword Arguments, **kwargs\n",
        "If you do not know how many keyword arguments that will be passed into your function, add two asterisk: ** before the parameter name in the function definition.\n",
        "This way the function will receive a dictionary of arguments, and can access the items accordingly:\n",
        "## Example\n",
        "If the number of keyword arguments is unknown, add a double ** before the parameter name:"
      ],
      "metadata": {
        "id": "i2t3O84njU8C"
      }
    },
    {
      "cell_type": "code",
      "source": [
        "def my_function(**kid):\n",
        "  print(\"His last name is \" + kid[\"lname\"])\n",
        "\n",
        "my_function(fname = \"Tobias\", lname = \"Refsnes\")\n"
      ],
      "metadata": {
        "colab": {
          "base_uri": "https://localhost:8080/"
        },
        "id": "FZIgZsqHjd8d",
        "outputId": "8192680f-1c5a-48ee-a84d-bfec566e565a"
      },
      "execution_count": 18,
      "outputs": [
        {
          "output_type": "stream",
          "name": "stdout",
          "text": [
            "His last name is Refsnes\n"
          ]
        }
      ]
    },
    {
      "cell_type": "markdown",
      "source": [
        "Arbitrary Kword Arguments are often shortened to **kwargs in Python documentations.\n",
        "## Default Parameter Value\n",
        "The following example shows how to use a default parameter value.\n",
        "If we call the function without argument, it uses the default value:\n",
        "## Example"
      ],
      "metadata": {
        "id": "nHYzhXRLkSr5"
      }
    },
    {
      "cell_type": "code",
      "source": [
        "def my_function(country = \"Norway\"):\n",
        "  print(\"I am from \" + country)\n",
        "\n",
        "my_function(\"Sweden\")\n",
        "my_function(\"India\")\n",
        "my_function()\n",
        "my_function(\"Brazil\")"
      ],
      "metadata": {
        "colab": {
          "base_uri": "https://localhost:8080/"
        },
        "id": "dH-lvU9WkYV5",
        "outputId": "5598a66c-2db8-4547-cfe5-bfe7a9896c04"
      },
      "execution_count": 19,
      "outputs": [
        {
          "output_type": "stream",
          "name": "stdout",
          "text": [
            "I am from Sweden\n",
            "I am from India\n",
            "I am from Norway\n",
            "I am from Brazil\n"
          ]
        }
      ]
    },
    {
      "cell_type": "markdown",
      "source": [
        "## Passing a List as an Argument\n",
        "You can send any data types of argument to a function (string, number, list, dictionary etc.), and it will be treated as the same data type inside the function.\n",
        "E.g. if you send a List as an argument, it will still be a List when it reaches the function:\n",
        "## Example"
      ],
      "metadata": {
        "id": "Qy4OYyusky8A"
      }
    },
    {
      "cell_type": "code",
      "source": [
        "def my_function(food):\n",
        "  for x in food:\n",
        "    print(x)\n",
        "\n",
        "fruits = [\"apple\", \"banana\", \"cherry\"]\n",
        "\n",
        "my_function(fruits)"
      ],
      "metadata": {
        "colab": {
          "base_uri": "https://localhost:8080/"
        },
        "id": "OdvkJDElk4BD",
        "outputId": "1525a72f-81f0-4fe5-cb03-2bd2da5181ac"
      },
      "execution_count": 20,
      "outputs": [
        {
          "output_type": "stream",
          "name": "stdout",
          "text": [
            "apple\n",
            "banana\n",
            "cherry\n"
          ]
        }
      ]
    },
    {
      "cell_type": "markdown",
      "source": [
        "## Return Values\n",
        "To let a function return a value, use the return statement:\n",
        "## Example"
      ],
      "metadata": {
        "id": "b4-woikZld9v"
      }
    },
    {
      "cell_type": "code",
      "source": [
        "def my_function(x):\n",
        "  return 5 * x\n",
        "\n",
        "print(my_function(3))\n",
        "print(my_function(5))\n",
        "print(my_function(9))"
      ],
      "metadata": {
        "colab": {
          "base_uri": "https://localhost:8080/"
        },
        "id": "wOZgYmiymJkZ",
        "outputId": "a0967071-8375-4114-a01a-5e1b0214ad22"
      },
      "execution_count": 22,
      "outputs": [
        {
          "output_type": "stream",
          "name": "stdout",
          "text": [
            "15\n",
            "25\n",
            "45\n"
          ]
        }
      ]
    },
    {
      "cell_type": "markdown",
      "source": [
        "## The pass Statement\n",
        "function definitions cannot be empty, but if you for some reason have a function definition with no content, put in the pass statement to avoid getting an error.\n",
        "## Example"
      ],
      "metadata": {
        "id": "sbLe82-ymq79"
      }
    },
    {
      "cell_type": "code",
      "source": [
        "def myfunction():\n",
        "  pass"
      ],
      "metadata": {
        "id": "QgByhBpXmuwG"
      },
      "execution_count": 23,
      "outputs": []
    },
    {
      "cell_type": "markdown",
      "source": [
        "## Positional-Only Arguments\n",
        "You can specify that a function can have ONLY positional arguments, or ONLY keyword arguments.\n",
        "To specify that a function can have only positional arguments, add , / after the arguments:\n",
        "## Example"
      ],
      "metadata": {
        "id": "ivD4IY2OnF-r"
      }
    },
    {
      "cell_type": "code",
      "source": [
        "def my_function(x, /):\n",
        "  print(x)\n",
        "\n",
        "my_function(3)"
      ],
      "metadata": {
        "colab": {
          "base_uri": "https://localhost:8080/"
        },
        "id": "mA5ybgEonKHS",
        "outputId": "a17e811e-abdc-47b3-8283-bf3197d75712"
      },
      "execution_count": 24,
      "outputs": [
        {
          "output_type": "stream",
          "name": "stdout",
          "text": [
            "3\n"
          ]
        }
      ]
    },
    {
      "cell_type": "markdown",
      "source": [
        "Without the , / you are actually allowed to use keyword arguments even if the function expects positional arguments:\n",
        "## Example"
      ],
      "metadata": {
        "id": "SORUd0EungRz"
      }
    },
    {
      "cell_type": "code",
      "source": [
        "def my_function(x):\n",
        "  print(x)\n",
        "\n",
        "my_function(x = 3)"
      ],
      "metadata": {
        "colab": {
          "base_uri": "https://localhost:8080/"
        },
        "id": "5YUWIH_AnjMd",
        "outputId": "76728939-3966-4e7e-9e2b-f07c4f34ad16"
      },
      "execution_count": 25,
      "outputs": [
        {
          "output_type": "stream",
          "name": "stdout",
          "text": [
            "3\n"
          ]
        }
      ]
    }
  ]
}