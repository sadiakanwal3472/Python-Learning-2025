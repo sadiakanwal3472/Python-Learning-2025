{
  "cells": [
    {
      "cell_type": "markdown",
      "metadata": {
        "id": "view-in-github",
        "colab_type": "text"
      },
      "source": [
        "<a href=\"https://colab.research.google.com/github/sadiakanwal3472/Python-Learning-2025/blob/main/basic_python_program__04.ipynb\" target=\"_parent\"><img src=\"https://colab.research.google.com/assets/colab-badge.svg\" alt=\"Open In Colab\"/></a>"
      ]
    },
    {
      "cell_type": "markdown",
      "id": "a302daac-9d5f-440a-b233-e056fe91ed4c",
      "metadata": {
        "id": "a302daac-9d5f-440a-b233-e056fe91ed4c"
      },
      "source": [
        "## Program 61\n",
        "Write a Python program for removing 𝑖 character from a string."
      ]
    },
    {
      "cell_type": "code",
      "execution_count": 5,
      "id": "d7581da6-55c4-4d25-b06e-433399518f9c",
      "metadata": {
        "colab": {
          "base_uri": "https://localhost:8080/"
        },
        "id": "d7581da6-55c4-4d25-b06e-433399518f9c",
        "outputId": "26bbea99-9490-43b8-f194-bb708fb0d5fc"
      },
      "outputs": [
        {
          "output_type": "stream",
          "name": "stdout",
          "text": [
            "Original String: Hello, wWorld!\n",
            "String after removing 7th character : None\n"
          ]
        }
      ],
      "source": [
        "def remove_char(input_str, i):\n",
        "   # Check if i is a valid index\n",
        "   if i < 0 or i >= len(input_str):\n",
        "     print(f\"Invalid index {i}. The string remains unchanged.\")\n",
        "     return input_str\n",
        "\n",
        "   # Remove the i-th character using slicing\n",
        "     result_str = input_str[:i] + input_str[i + 1:]\n",
        "\n",
        "     return result_str\n",
        "\n",
        "# Input string\n",
        "input_str = \"Hello, wWorld!\"\n",
        "i = 7 # Index of the character to remove\n",
        "\n",
        "# Remove the i-th character\n",
        "new_str = remove_char(input_str, i)\n",
        "\n",
        "print(f\"Original String: {input_str}\")\n",
        "print(f\"String after removing {i}th character : {new_str}\")"
      ]
    },
    {
      "cell_type": "markdown",
      "id": "43827d36-e928-46cb-8960-a6788d135d84",
      "metadata": {
        "id": "43827d36-e928-46cb-8960-a6788d135d84"
      },
      "source": [
        "## Program 62\n",
        "Write a Python program to split and join a string."
      ]
    },
    {
      "cell_type": "code",
      "execution_count": null,
      "id": "a4f36fb7-760e-47d7-bc37-ed4227c6a6da",
      "metadata": {
        "id": "a4f36fb7-760e-47d7-bc37-ed4227c6a6da",
        "outputId": "e2b27344-18de-4695-9573-623aa1c3c885"
      },
      "outputs": [
        {
          "name": "stdout",
          "output_type": "stream",
          "text": [
            "Original String: Python program to split and join a string\n",
            "List of split Words: ['Python', 'program', 'to', 'split', 'and', 'join', 'a', 'string']\n",
            "Joined String: Python program to split and join a string\n"
          ]
        }
      ],
      "source": [
        "# Split a string into a list of words\n",
        "input_str = \"Python program to split and join a string\"\n",
        "word_list = input_str.split() # By default, split on whitespace\n",
        "# Join the list of words into a string\n",
        "separator = \" \" # specify the separator between words\n",
        "output_str = separator.join(word_list)\n",
        "# Print the results\n",
        "print(\"Original String:\", input_str)\n",
        "print(\"List of split Words:\", word_list)\n",
        "print(\"Joined String:\", output_str)"
      ]
    },
    {
      "cell_type": "markdown",
      "id": "e0fa589b-b93a-4b80-86b9-308ecb29cc99",
      "metadata": {
        "id": "e0fa589b-b93a-4b80-86b9-308ecb29cc99"
      },
      "source": [
        "## Program 63\n",
        "Write a Python program to check if a given string is binary string or not."
      ]
    },
    {
      "cell_type": "code",
      "execution_count": 6,
      "id": "2919067e-3c5b-4d01-9cb0-7cc063a9d022",
      "metadata": {
        "colab": {
          "base_uri": "https://localhost:8080/"
        },
        "id": "2919067e-3c5b-4d01-9cb0-7cc063a9d022",
        "outputId": "6225ea3d-fd99-433c-8b25-d9fe10d17795"
      },
      "outputs": [
        {
          "output_type": "stream",
          "name": "stdout",
          "text": [
            "'1001110' is a binary string.\n"
          ]
        }
      ],
      "source": [
        "def is_binary_str(input_str):\n",
        " # Iterate through each character in the input string\n",
        " for i in input_str:\n",
        "      # Check if the i is not '0' or '1'\n",
        "       if i not in '01':\n",
        "          return False # If any character is not '0' or '1', it's no\n",
        " return True # If all characters are '0' or '1', it's a binary stri\n",
        "# Input string to check\n",
        "input_str = \"1001110\"\n",
        "# Check if the input string is a binary string\n",
        "if is_binary_str(input_str):\n",
        " print(f\"'{input_str}' is a binary string.\")\n",
        "else:\n",
        " print(f\"'{input_str}' is not a binary string.\")"
      ]
    },
    {
      "cell_type": "markdown",
      "id": "aba99140-1ad8-4fb0-8a27-0ef15bd50255",
      "metadata": {
        "id": "aba99140-1ad8-4fb0-8a27-0ef15bd50255"
      },
      "source": [
        "## Program 64\n",
        "Write a Python program to find uncommon words from two Strings."
      ]
    },
    {
      "cell_type": "code",
      "execution_count": null,
      "id": "020fe04f-8c46-4140-be1c-7e221d62236b",
      "metadata": {
        "id": "020fe04f-8c46-4140-be1c-7e221d62236b",
        "outputId": "e544a37b-58df-4314-ecce-9a745b6bcb72"
      },
      "outputs": [
        {
          "name": "stdout",
          "output_type": "stream",
          "text": [
            "Uncommon words: ['first', 'second']\n"
          ]
        }
      ],
      "source": [
        "def uncommon_words(str1, str2):\n",
        " # Split the strings into words and convert them to sets\n",
        " words1 = set(str1.split())\n",
        " words2 = set(str2.split())\n",
        "\n",
        " # Find uncommon words by taking the set difference\n",
        " uncommon_words_set = words1.symmetric_difference(words2)\n",
        "\n",
        " # Convert the set of uncommon words back to a list\n",
        " uncommon_words_list = list(uncommon_words_set)\n",
        "\n",
        " return uncommon_words_list\n",
        "# Input two strings\n",
        "string1 = \"This is the first string\"\n",
        "string2 = \"This is the second string\"\n",
        "# Find uncommon words between the two strings\n",
        "uncommon = uncommon_words(string1, string2)\n",
        "# Print the uncommon words\n",
        "print(\"Uncommon words:\", uncommon)"
      ]
    },
    {
      "cell_type": "markdown",
      "id": "5a13bf85-e8c7-4fe1-9ab0-0a18126bc3c9",
      "metadata": {
        "id": "5a13bf85-e8c7-4fe1-9ab0-0a18126bc3c9"
      },
      "source": [
        "## Program 65\n",
        "Write a Python program to find all duplicate characters in string."
      ]
    },
    {
      "cell_type": "code",
      "execution_count": 8,
      "id": "f4033af7-b8d1-4e7d-b97d-96d0fdd289cc",
      "metadata": {
        "colab": {
          "base_uri": "https://localhost:8080/"
        },
        "id": "f4033af7-b8d1-4e7d-b97d-96d0fdd289cc",
        "outputId": "9eca92e9-82f7-458f-a4ee-117e0a34776d"
      },
      "outputs": [
        {
          "output_type": "stream",
          "name": "stdout",
          "text": [
            "Duplicate characters: []\n"
          ]
        }
      ],
      "source": [
        "def find_duplicates(input_str):\n",
        " # Create an empty dictionary to store character counts\n",
        " char_count = {}\n",
        "\n",
        " # Initialize a list to store duplicate characters\n",
        " duplicates = []\n",
        "\n",
        " # Iterate through each character in the input string\n",
        " for i in input_str:\n",
        " # If the character is already in the dictionary, increment its\n",
        "     if i in char_count:\n",
        "        char_count[i] += 1\n",
        " else:\n",
        "        char_count[i] = 1\n",
        "\n",
        " # Iterate through the dictionary and add characters with count > 1\n",
        " for i, count in char_count.items():\n",
        "     if count > 1:\n",
        "       duplicates.append(i)\n",
        "\n",
        " return duplicates\n",
        "# Input a string\n",
        "input_string = \"piyush sharma\"\n",
        "# Find duplicate characters in the string\n",
        "duplicate_chars = find_duplicates(input_string)\n",
        "# Print the list of duplicate characters\n",
        "print(\"Duplicate characters:\", duplicate_chars)"
      ]
    },
    {
      "cell_type": "markdown",
      "id": "492a6d7a-e6fc-4c15-ad1e-2bb6231543b0",
      "metadata": {
        "id": "492a6d7a-e6fc-4c15-ad1e-2bb6231543b0"
      },
      "source": [
        "## Program 66\n",
        "Write a Python Program to check if a string contains any special character."
      ]
    },
    {
      "cell_type": "code",
      "execution_count": 9,
      "id": "8e8d2b8d-0d70-4514-bbd2-f95efc10c921",
      "metadata": {
        "colab": {
          "base_uri": "https://localhost:8080/"
        },
        "id": "8e8d2b8d-0d70-4514-bbd2-f95efc10c921",
        "outputId": "9d1134d3-cead-4d18-d8cf-1d250646f570"
      },
      "outputs": [
        {
          "output_type": "stream",
          "name": "stdout",
          "text": [
            "Enter a string: \"Hello,World!\"\n",
            "The string contains special characters.\n"
          ]
        }
      ],
      "source": [
        "import re\n",
        "def check_special_char(in_str):\n",
        " # Define a regular expression pattern to match special characters\n",
        " pattern = r'[!@#$%^&*()_+{}\\[\\]:;<>,.?~\\\\\\/\\'\"\\-=]'\n",
        " # Use re.search to find a match in the input string\n",
        " if re.search(pattern, in_str):\n",
        "     return True\n",
        " else:\n",
        "     return False\n",
        "# Input a string\n",
        "input_string = str(input(\"Enter a string: \"))\n",
        "# Check if the string contains any special characters\n",
        "contains_special = check_special_char(input_string)\n",
        "# Print the result\n",
        "if contains_special:\n",
        " print(\"The string contains special characters.\")\n",
        "else:\n",
        " print(\"The string does not contain special characters.\")"
      ]
    },
    {
      "cell_type": "markdown",
      "id": "e8ee0bb1-9f98-4ba2-834c-bcb50454dc7d",
      "metadata": {
        "id": "e8ee0bb1-9f98-4ba2-834c-bcb50454dc7d"
      },
      "source": [
        "## Program 67\n",
        "Write a Python program to Extract Unique dictionary values.\n"
      ]
    },
    {
      "cell_type": "code",
      "execution_count": null,
      "id": "d5c01444-335a-4842-9d7d-38915a912ef3",
      "metadata": {
        "id": "d5c01444-335a-4842-9d7d-38915a912ef3",
        "outputId": "df25693f-a705-4327-e32a-050f90c65b23"
      },
      "outputs": [
        {
          "name": "stdout",
          "output_type": "stream",
          "text": [
            "Unique values in the dictionary: [10, 20, 30]\n"
          ]
        }
      ],
      "source": [
        "# Sample dictionary\n",
        "my_dict = {\n",
        " 'a': 10,\n",
        " 'b': 20,\n",
        " 'c': 10,\n",
        " 'd': 30,\n",
        " 'e': 20\n",
        "}\n",
        "# Initialize an empty set to store unique values\n",
        "uni_val = set()\n",
        "# Iterate through the values of the dictionary\n",
        "for i in my_dict.values():\n",
        " # Add each value to the set\n",
        " uni_val.add(i)\n",
        "# Convert the set of unique values back to a list (if needed)\n",
        "unique_values_list = list(uni_val)\n",
        "# Print the unique values\n",
        "print(\"Unique values in the dictionary:\", unique_values_list)"
      ]
    },
    {
      "cell_type": "markdown",
      "id": "c547e84a-f7ae-4ddf-867b-ad95645abfd8",
      "metadata": {
        "id": "c547e84a-f7ae-4ddf-867b-ad95645abfd8"
      },
      "source": [
        "## Program 68\n",
        "Write a Python program to find the sum of all items in a dictionary."
      ]
    },
    {
      "cell_type": "code",
      "execution_count": null,
      "id": "9d788325-d982-4f8d-9f1b-09c8096f34d2",
      "metadata": {
        "id": "9d788325-d982-4f8d-9f1b-09c8096f34d2",
        "outputId": "3bddcb04-2c6f-48bf-83e6-f864d19b5491"
      },
      "outputs": [
        {
          "name": "stdout",
          "output_type": "stream",
          "text": [
            "Sum of all items in the dictionary: 150\n"
          ]
        }
      ],
      "source": [
        "# Sample dictionary\n",
        "my_dict = {\n",
        " 'a': 10,\n",
        " 'b': 20,\n",
        " 'c': 30,\n",
        " 'd': 40,\n",
        " 'e': 50\n",
        "}\n",
        "# Initialize a variable to store the sum\n",
        "total_sum = 0\n",
        "# Iterate through the values of the dictionary and add them to the tota\n",
        "for i in my_dict.values():\n",
        " total_sum += i\n",
        "# Print the sum of all items in the dictionary\n",
        "print(\"Sum of all items in the dictionary:\", total_sum)"
      ]
    },
    {
      "cell_type": "markdown",
      "id": "9fcca3a1-f201-4b9e-b165-f2dc30e468f4",
      "metadata": {
        "id": "9fcca3a1-f201-4b9e-b165-f2dc30e468f4"
      },
      "source": [
        "## Program 69\n",
        "Write a Python program to Merging two Dictionaries."
      ]
    },
    {
      "cell_type": "code",
      "execution_count": null,
      "id": "e2a35c05-35f7-4208-abd3-a7035aeb4568",
      "metadata": {
        "id": "e2a35c05-35f7-4208-abd3-a7035aeb4568",
        "outputId": "6d6420f6-ee97-4fac-cadd-fae1e79857ec"
      },
      "outputs": [
        {
          "name": "stdout",
          "output_type": "stream",
          "text": [
            "Merged Dictionary (using update()): {'a': 1, 'b': 2, 'c': 3, 'd': 4}\n"
          ]
        }
      ],
      "source": [
        "# 1. Using the update() method:\n",
        "dict1 = {'a': 1, 'b': 2}\n",
        "dict2 = {'c': 3, 'd': 4}\n",
        "dict1.update(dict2)\n",
        "# The merged dictionary is now in dict1\n",
        "print(\"Merged Dictionary (using update()):\", dict1)"
      ]
    },
    {
      "cell_type": "code",
      "execution_count": null,
      "id": "9c6a1462-5eb2-404e-90e7-477b021b5db9",
      "metadata": {
        "id": "9c6a1462-5eb2-404e-90e7-477b021b5db9",
        "outputId": "a7a4e83f-5030-4b6c-9ff4-6054e0a96945"
      },
      "outputs": [
        {
          "name": "stdout",
          "output_type": "stream",
          "text": [
            "Merged Dictionary (using dictionary unpacking): {'a': 1, 'b': 2, 'c': 3, 'd': 4}\n"
          ]
        }
      ],
      "source": [
        "# 2. Using dictionary unpacking\n",
        "dict1 = {'a': 1, 'b': 2}\n",
        "dict2 = {'c': 3, 'd': 4}\n",
        "# Merge dict2 into dict1 using dictionary unpacking\n",
        "merged_dict = {**dict1, **dict2}\n",
        "# The merged dictionary is now in merged_dict\n",
        "print(\"Merged Dictionary (using dictionary unpacking):\", merged_dict)"
      ]
    },
    {
      "cell_type": "markdown",
      "id": "53e82625-21fc-40ce-9cab-964f03682487",
      "metadata": {
        "id": "53e82625-21fc-40ce-9cab-964f03682487"
      },
      "source": [
        "## Program 70\n",
        "Write a Python program to convert key-values list to flat dictionary.\n"
      ]
    },
    {
      "cell_type": "code",
      "execution_count": null,
      "id": "c677e8a8-cd94-4151-98e3-88442fa900d8",
      "metadata": {
        "id": "c677e8a8-cd94-4151-98e3-88442fa900d8",
        "outputId": "4afcbf44-0ba0-4e80-b5f5-8f8d2980a839"
      },
      "outputs": [
        {
          "name": "stdout",
          "output_type": "stream",
          "text": [
            "Flat Dictionary: {'a': 1, 'b': 2, 'c': 3, 'd': 4}\n"
          ]
        }
      ],
      "source": [
        "key_values_list = [('a', 1), ('b', 2), ('c', 3), ('d', 4)]\n",
        "# Initialize an empty dictionary\n",
        "flat_dict = {}\n",
        "# Iterate through the list and add key-value pairs to the dictionary\n",
        "for key, value in key_values_list:\n",
        " flat_dict[key] = value\n",
        "# Print the resulting flat dictionary\n",
        "print(\"Flat Dictionary:\", flat_dict)"
      ]
    },
    {
      "cell_type": "markdown",
      "id": "5e4543f4-3e6c-41c2-9e81-342d91486cb4",
      "metadata": {
        "id": "5e4543f4-3e6c-41c2-9e81-342d91486cb4"
      },
      "source": [
        "## Program 71\n",
        "Write a Python program to insertion at the beginning in OrderedDict."
      ]
    },
    {
      "cell_type": "code",
      "execution_count": null,
      "id": "6012ad11-a71d-4bef-866e-50f8f4afaa63",
      "metadata": {
        "id": "6012ad11-a71d-4bef-866e-50f8f4afaa63",
        "outputId": "b332f382-cfab-4f52-b12a-48607f14c6fa"
      },
      "outputs": [
        {
          "name": "stdout",
          "output_type": "stream",
          "text": [
            "Updated OrderedDict: OrderedDict({'a': 1, 'b': 2, 'c': 3, 'd': 4})\n"
          ]
        }
      ],
      "source": [
        "from collections import OrderedDict\n",
        "# Create an OrderedDict\n",
        "ordered_dict = OrderedDict([('b', 2), ('c', 3), ('d', 4)])\n",
        "# Item to insert at the beginning\n",
        "new_item = ('a', 1)\n",
        "# Create a new OrderedDict with the new item as the first element\n",
        "new_ordered_dict = OrderedDict([new_item])\n",
        "# Merge the new OrderedDict with the original OrderedDict\n",
        "new_ordered_dict.update(ordered_dict)\n",
        "# Print the updated OrderedDict\n",
        "print(\"Updated OrderedDict:\", new_ordered_dict)"
      ]
    },
    {
      "cell_type": "markdown",
      "id": "bd570964-5373-438f-bee9-7e83546d29d6",
      "metadata": {
        "id": "bd570964-5373-438f-bee9-7e83546d29d6"
      },
      "source": [
        "## Program 72\n",
        "Write a Python program to check order of character in string using OrderedDict()."
      ]
    },
    {
      "cell_type": "code",
      "execution_count": null,
      "id": "2acf7044-2314-4301-8596-2325212be8a4",
      "metadata": {
        "id": "2acf7044-2314-4301-8596-2325212be8a4",
        "outputId": "20afc30f-e5e4-4f4a-bad4-8e12d9c840e6"
      },
      "outputs": [
        {
          "name": "stdout",
          "output_type": "stream",
          "text": [
            "The order of characters in the input string matches the reference\n"
          ]
        }
      ],
      "source": [
        "from collections import OrderedDict\n",
        "def check_order(string, reference):\n",
        " # Create OrderedDicts for both strings\n",
        " string_dict = OrderedDict.fromkeys(string)\n",
        " reference_dict = OrderedDict.fromkeys(reference)\n",
        "\n",
        " # Check if the OrderedDict for the string matches the OrderedDict f\n",
        " return string_dict == reference_dict\n",
        "# Input strings\n",
        "input_string = \"hello world\"\n",
        "reference_string = \"helo wrd\"\n",
        "# Check if the order of characters in input_string matches reference_st\n",
        "if check_order(input_string, reference_string):\n",
        " print(\"The order of characters in the input string matches the reference\")\n",
        "else:\n",
        " print(\"The order of characters in the input string does not match t\")"
      ]
    },
    {
      "cell_type": "markdown",
      "id": "4b7c529b-d563-44ff-af46-2d1cf85874a1",
      "metadata": {
        "id": "4b7c529b-d563-44ff-af46-2d1cf85874a1"
      },
      "source": [
        "## Program 73\n",
        "Write a Python program to sort Python Dictionaries by Key or Value."
      ]
    },
    {
      "cell_type": "code",
      "execution_count": null,
      "id": "cebf89ae-cf48-48ab-8241-da5303f77976",
      "metadata": {
        "id": "cebf89ae-cf48-48ab-8241-da5303f77976",
        "outputId": "5c3c4c31-c35e-4a36-9001-21f5865ac483"
      },
      "outputs": [
        {
          "name": "stdout",
          "output_type": "stream",
          "text": [
            "Sorted by keys:\n",
            "apple: 3\n",
            "banana: 1\n",
            "cherry: 2\n",
            "date: 4\n"
          ]
        }
      ],
      "source": [
        "# Sort by Keys:\n",
        "sample_dict = {'apple': 3, 'banana': 1, 'cherry': 2, 'date': 4}\n",
        "sorted_dict_by_keys = dict(sorted(sample_dict.items()))\n",
        "print(\"Sorted by keys:\")\n",
        "for key, value in sorted_dict_by_keys.items():\n",
        "    print(f\"{key}: {value}\")\n"
      ]
    },
    {
      "cell_type": "code",
      "execution_count": 26,
      "id": "201e8ead-970f-450d-b04a-6f869e71a0c1",
      "metadata": {
        "colab": {
          "base_uri": "https://localhost:8080/"
        },
        "id": "201e8ead-970f-450d-b04a-6f869e71a0c1",
        "outputId": "d8a2474c-4f3a-4a91-e8bb-eecbe39eba7f"
      },
      "outputs": [
        {
          "output_type": "stream",
          "name": "stdout",
          "text": [
            "Sorted by values:\n",
            "apple: 3\n",
            "banana: 1\n",
            "cherry: 2\n",
            "date: 4\n"
          ]
        }
      ],
      "source": [
        "# Sort by values\n",
        "sample_dict = {'apple': 3, 'banana': 1, 'cherry': 2, 'date': 4}\n",
        "\n",
        "sorted_dict_by_values = dict(sorted(sample_dict.items()))\n",
        "print(\"Sorted by values:\")\n",
        "for key, value in sorted_dict_by_values.items():\n",
        " print(f\"{key}: {value}\")"
      ]
    },
    {
      "cell_type": "markdown",
      "id": "4739294e-e263-46c3-88f1-1905c86144f5",
      "metadata": {
        "id": "4739294e-e263-46c3-88f1-1905c86144f5"
      },
      "source": [
        "## Program 74\n",
        "Write a program that calculates and prints the value according to the given formula:\n",
        "𝑄 = Square root of 2𝐶D/H\n",
        "###### Following are the fixed values of C and H:\n",
        "C is 50. H is 30.\n",
        "D is the variable whose values should be input to your program in a comma\u0002separated sequence.\n",
        "## Example\n",
        "Let us assume the following comma separated input sequence is given to the\n",
        "program:\n",
        "###### 100,150,180\n",
        "The output of the program should be:\n",
        "18,22,24"
      ]
    },
    {
      "cell_type": "code",
      "execution_count": null,
      "id": "4f30e211-88da-41a5-aac0-f66a6a13c14e",
      "metadata": {
        "id": "4f30e211-88da-41a5-aac0-f66a6a13c14e",
        "outputId": "564dde1c-0371-4406-d927-fd8d014ff804"
      },
      "outputs": [
        {
          "name": "stdin",
          "output_type": "stream",
          "text": [
            "Enter comma-separated values of D:  100,150,180\n"
          ]
        },
        {
          "name": "stdout",
          "output_type": "stream",
          "text": [
            "18,22,24\n"
          ]
        }
      ],
      "source": [
        "import math\n",
        "# Fixed values\n",
        "C = 50\n",
        "H = 30\n",
        "# Function to calculate Q\n",
        "def calculate_Q(D):\n",
        " return int(math.sqrt((2 * C * D) / H))\n",
        "# Input comma-separated sequence of D values\n",
        "input_sequence = input(\"Enter comma-separated values of D: \")\n",
        "D_values = input_sequence.split(',')\n",
        "# Calculate and print Q for each D value\n",
        "result = [calculate_Q(int(D)) for D in D_values]\n",
        "print(','.join(map(str, result)))"
      ]
    },
    {
      "cell_type": "markdown",
      "id": "78fca8ef-e8f5-4d57-b9ba-3f0ec4708bfd",
      "metadata": {
        "id": "78fca8ef-e8f5-4d57-b9ba-3f0ec4708bfd"
      },
      "source": [
        "## Program 75\n",
        "Write a program which takes 2 digits, X,Y as input and generates a 2-dimensional\n",
        "array. The element value in the i-th row and j-th column of the array should be i*j.\n",
        "Note: i=0,1.., X-1; j=0,1,¡Y-1.\n",
        "## Example\n",
        "Suppose the following inputs are given to the program:\n",
        "3,5\n",
        "Then, the output of the program should be:\n",
        "[[0, 0, 0, 0, 0], [0, 1, 2, 3, 4], [0, 2, 4, 6, 8]]"
      ]
    },
    {
      "cell_type": "code",
      "execution_count": 13,
      "id": "c160ff7d-bad4-4364-b7ef-b7b4e9f01ecc",
      "metadata": {
        "colab": {
          "base_uri": "https://localhost:8080/"
        },
        "id": "c160ff7d-bad4-4364-b7ef-b7b4e9f01ecc",
        "outputId": "1597ae11-1c7a-4265-ec13-61d86c0c6701"
      },
      "outputs": [
        {
          "output_type": "stream",
          "name": "stdout",
          "text": [
            "Enter two digits (X, Y): 3,5\n",
            "[0, 0, 0, 0, 0]\n",
            "[0, 1, 2, 3, 4]\n",
            "[0, 2, 4, 6, 8]\n"
          ]
        }
      ],
      "source": [
        "# Input two digits, X and Y\n",
        "X, Y = map(int, input(\"Enter two digits (X, Y): \").split(','))\n",
        "# Initialize a 2D array filled with zeros\n",
        "array = [[0 for j in range(Y)] for i in range(X)]\n",
        "# Fill the array with values i * j\n",
        "for i in range(X):\n",
        " for j in range(Y):\n",
        "       array[i][j] = i * j\n",
        "    # Print the 2D array\n",
        "for row in array:\n",
        " print(row)\n"
      ]
    },
    {
      "cell_type": "markdown",
      "id": "508d906a-6bb1-4b4f-b3aa-1d2d65a1f19a",
      "metadata": {
        "id": "508d906a-6bb1-4b4f-b3aa-1d2d65a1f19a"
      },
      "source": [
        "## Program 76\n",
        "Write a program that accepts a comma separated sequence of words as input and\n",
        "prints the words in a comma-separated sequence after sorting them alphabetically.\n",
        "Suppose the following input is supplied to the program:\n",
        "without,hello,bag,world\n",
        "Then, the output should be:\n",
        "bag,hello,without,world"
      ]
    },
    {
      "cell_type": "code",
      "execution_count": null,
      "id": "e3c063e5-0aec-4dea-a69b-490e0616cd15",
      "metadata": {
        "id": "e3c063e5-0aec-4dea-a69b-490e0616cd15",
        "outputId": "70b9eef1-ca03-4ef2-ce69-50e85ca2ffef"
      },
      "outputs": [
        {
          "name": "stdin",
          "output_type": "stream",
          "text": [
            "Enter a comma-separated sequence of words:  Without,bag,hello\n"
          ]
        },
        {
          "name": "stdout",
          "output_type": "stream",
          "text": [
            "Sorted words: Without,bag,hello\n"
          ]
        }
      ],
      "source": [
        "# Accept input from the user\n",
        "input_sequence = input(\"Enter a comma-separated sequence of words: \")\n",
        "# Split the input into a list of words\n",
        "words = input_sequence.split(',')\n",
        "# Sort the words alphabetically\n",
        "sorted_words = sorted(words)\n",
        "# Join the sorted words into a comma-separated sequence\n",
        "sorted_sequence = ','.join(sorted_words)\n",
        "# Print the sorted sequence\n",
        "print(\"Sorted words:\", sorted_sequence)"
      ]
    },
    {
      "cell_type": "markdown",
      "id": "a96456c4-3fcb-45cb-bfde-98770ca994fa",
      "metadata": {
        "id": "a96456c4-3fcb-45cb-bfde-98770ca994fa"
      },
      "source": [
        "## Program 77\n",
        "Write a program that accepts a sequence of whitespace separated words as input\n",
        "and prints the words after removing all duplicate words and sorting them\n",
        "alphanumerically.\n",
        "Suppose the following input is supplied to the program:\n",
        "hello world and practice makes perfect and hello world again\n",
        "Then, the output should be:\n",
        "again and hello makes perfect practice world"
      ]
    },
    {
      "cell_type": "code",
      "execution_count": 14,
      "id": "097e645b-a78b-416a-b04d-b47420677dc6",
      "metadata": {
        "colab": {
          "base_uri": "https://localhost:8080/"
        },
        "id": "097e645b-a78b-416a-b04d-b47420677dc6",
        "outputId": "4e283e05-c432-4976-9a6c-35abbf49a9a5"
      },
      "outputs": [
        {
          "output_type": "stream",
          "name": "stdout",
          "text": [
            "Enter a sequence of whitespace-separated words:hello word\n",
            "Result: hello word\n"
          ]
        }
      ],
      "source": [
        "# Accept input from the user\n",
        "input_sequence = input(\"Enter a sequence of whitespace-separated words:\")\n",
        "# Split the input into words and convert it into a set to remove duplic\n",
        "words = set(input_sequence.split())\n",
        "# Sort the unique words alphanumerically\n",
        "sorted_words = sorted(words)\n",
        "# Join the sorted words into a string with whitespace separation\n",
        "result = ' '.join(sorted_words)\n",
        "# Print the result\n",
        "print(\"Result:\", result)"
      ]
    },
    {
      "cell_type": "markdown",
      "id": "cfc1cfc0-e229-427f-9184-b2bf6885fa6b",
      "metadata": {
        "id": "cfc1cfc0-e229-427f-9184-b2bf6885fa6b"
      },
      "source": [
        "## Program 79\n",
        "Write a program that accepts a sentence and calculate the number of letters and\n",
        "digits. Suppose the following input is supplied to the program:\n",
        "hello world! 123\n",
        "Then, the output should be:\n",
        "LETTERS 10\n",
        " DIGITS 3"
      ]
    },
    {
      "cell_type": "code",
      "execution_count": 15,
      "id": "61ce2d76-7a20-4a61-aeb7-a9ac7487a40f",
      "metadata": {
        "colab": {
          "base_uri": "https://localhost:8080/"
        },
        "id": "61ce2d76-7a20-4a61-aeb7-a9ac7487a40f",
        "outputId": "8381a043-842a-4d1d-9420-9ec4b2401c03"
      },
      "outputs": [
        {
          "output_type": "stream",
          "name": "stdout",
          "text": [
            "Enter a sentence: hello world 123\n",
            "LETTERS 10\n",
            "DIGITS 3\n"
          ]
        }
      ],
      "source": [
        "# Accept input from the user\n",
        "sentence = input(\"Enter a sentence: \")\n",
        "# Initialize counters for letters and digits\n",
        "letter_count = 0\n",
        "digit_count = 0\n",
        "# Iterate through each character in the sentence\n",
        "for char in sentence:\n",
        " if char.isalpha():\n",
        "    letter_count += 1\n",
        " elif char.isdigit():\n",
        "    digit_count += 1\n",
        "# Print the results\n",
        "print(\"LETTERS\", letter_count)\n",
        "print(\"DIGITS\", digit_count)\n"
      ]
    },
    {
      "cell_type": "markdown",
      "source": [
        "## Program 80\n",
        "A website requires the users to input username and password to register. Write a\n",
        "program to check the validity of password input by users. Following are the criteria\n",
        "for checking the password:\n",
        "1. At least 1 letter between [a-z]\n",
        "2. At least 1 number between [0-9]\n",
        "1. At least 1 letter between [A-Z]\n",
        "3. At least 1 character from [$#@]\n",
        "4. Minimum length of transaction password: 6\n",
        "5. Maximum length of transaction password: 12\n",
        "Your program should accept a sequence of comma separated passwords and will\n",
        "check them according to the above criteria. Passwords that match the criteria are to\n",
        "be printed, each separated by a comma.\n",
        "## Example\n",
        "If the following passwords are given as input to the program:\n",
        "ABd1234@1,a F1#,2w3E*,2We3345\n",
        "Then, the output of the program should be:"
      ],
      "metadata": {
        "id": "vMZKVEvqz2GE"
      },
      "id": "vMZKVEvqz2GE"
    },
    {
      "cell_type": "code",
      "source": [
        "import re\n",
        "# Function to check if a password is valid\n",
        "def is_valid_password(password):\n",
        " # Check the length of the password\n",
        " if 6 <= len(password) <= 12:\n",
        "      # Check if the password matches all the criteria using regular\n",
        "       if re.match (r\"^(?=.*[a-z])(?=.*[A-Z])(?=.*[0-9])(?=.*[$#@])\", p):\n",
        "         return True\n",
        " return False\n",
        "# Accept input from the user as comma-separated passwords\n",
        "passwords = input(\"Enter passwords separated by commas: \").split(',')\n",
        "# Initialize a list to store valid passwords\n",
        "valid_passwords = []\n",
        "# Iterate through the passwords and check their validity\n",
        "for psw in passwords:\n",
        " if is_valid_password(psw):\n",
        "      valid_passwords.append(psw)\n",
        "# Print the valid passwords separated by commas\n",
        " print(','.join(valid_passwords))"
      ],
      "metadata": {
        "colab": {
          "base_uri": "https://localhost:8080/"
        },
        "id": "Z1UC2ODC0Wrk",
        "outputId": "913b0616-aa0f-4fd2-abbf-0d6f8abeafd4"
      },
      "id": "Z1UC2ODC0Wrk",
      "execution_count": 25,
      "outputs": [
        {
          "output_type": "stream",
          "name": "stdout",
          "text": [
            "Enter passwords separated by commas: 1,2,3,4\n",
            "\n",
            "\n",
            "\n",
            "\n"
          ]
        }
      ]
    }
  ],
  "metadata": {
    "kernelspec": {
      "display_name": "Python 3 (ipykernel)",
      "language": "python",
      "name": "python3"
    },
    "language_info": {
      "codemirror_mode": {
        "name": "ipython",
        "version": 3
      },
      "file_extension": ".py",
      "mimetype": "text/x-python",
      "name": "python",
      "nbconvert_exporter": "python",
      "pygments_lexer": "ipython3",
      "version": "3.12.7"
    },
    "colab": {
      "provenance": [],
      "include_colab_link": true
    }
  },
  "nbformat": 4,
  "nbformat_minor": 5
}