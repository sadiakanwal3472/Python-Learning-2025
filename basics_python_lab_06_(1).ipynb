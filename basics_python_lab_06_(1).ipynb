{
  "cells": [
    {
      "cell_type": "markdown",
      "metadata": {
        "id": "view-in-github",
        "colab_type": "text"
      },
      "source": [
        "<a href=\"https://colab.research.google.com/github/sadiakanwal3472/Python-Learning-2025/blob/main/basics_python_lab_06_(1).ipynb\" target=\"_parent\"><img src=\"https://colab.research.google.com/assets/colab-badge.svg\" alt=\"Open In Colab\"/></a>"
      ]
    },
    {
      "cell_type": "markdown",
      "id": "4075ffbc-03a1-44f0-95eb-d07b3b0f225a",
      "metadata": {
        "id": "4075ffbc-03a1-44f0-95eb-d07b3b0f225a"
      },
      "source": [
        "# Python - Access List Items"
      ]
    },
    {
      "cell_type": "markdown",
      "id": "4ab49094-c4a6-4b9e-9415-6332e927192a",
      "metadata": {
        "id": "4ab49094-c4a6-4b9e-9415-6332e927192a"
      },
      "source": [
        "# Access Items\n",
        "List items are indexed and you can access them by referring to the index number:\n",
        "\n",
        "# Example:\n",
        "Print the second item of the list:"
      ]
    },
    {
      "cell_type": "code",
      "execution_count": null,
      "id": "14dfa71b-af70-4a7d-a3d3-1b03a23434a4",
      "metadata": {
        "id": "14dfa71b-af70-4a7d-a3d3-1b03a23434a4",
        "outputId": "9cf15289-f223-461c-943f-7250485e123d"
      },
      "outputs": [
        {
          "name": "stdout",
          "output_type": "stream",
          "text": [
            "banana\n"
          ]
        }
      ],
      "source": [
        "thislist=[\"apple\",\"banana\",\"cherry\"]\n",
        "print(thislist[1])"
      ]
    },
    {
      "cell_type": "code",
      "execution_count": null,
      "id": "be42c180-90df-4b3a-88e1-1a84726d4a25",
      "metadata": {
        "id": "be42c180-90df-4b3a-88e1-1a84726d4a25",
        "outputId": "4a189380-2cc7-4422-ba70-08512df8e2d1"
      },
      "outputs": [
        {
          "name": "stdout",
          "output_type": "stream",
          "text": [
            "3\n"
          ]
        }
      ],
      "source": [
        "print(len(thislist))"
      ]
    },
    {
      "cell_type": "markdown",
      "id": "d6784896-be6d-4071-ad3b-0ef642eebba2",
      "metadata": {
        "id": "d6784896-be6d-4071-ad3b-0ef642eebba2"
      },
      "source": [
        "Note: The first item has index 0."
      ]
    },
    {
      "cell_type": "code",
      "execution_count": null,
      "id": "47500550-ed11-4ed2-8c06-9b94959c2a67",
      "metadata": {
        "id": "47500550-ed11-4ed2-8c06-9b94959c2a67",
        "outputId": "e12ead5b-a0d7-47c3-f246-6e5c9b9409c0"
      },
      "outputs": [
        {
          "name": "stdout",
          "output_type": "stream",
          "text": [
            "banana\n"
          ]
        }
      ],
      "source": [
        "# how to access to items in list by using index\n",
        "thislist = [\"apple\", \"banana\", \"cherry\"]\n",
        "print(thislist[1])"
      ]
    },
    {
      "cell_type": "markdown",
      "id": "b5a85da3-3558-4c38-8e5d-9d17ac46a84c",
      "metadata": {
        "id": "b5a85da3-3558-4c38-8e5d-9d17ac46a84c"
      },
      "source": [
        "# Negative Indexing\n",
        "Negative indexing means start from the end\n",
        "-1 refers to the last item, -2 refers to the second last item etc.\n",
        "# Example\n",
        "Print the last item of the list:"
      ]
    },
    {
      "cell_type": "code",
      "execution_count": null,
      "id": "8f277d6d-b9ab-4696-b31d-899180dd7f1b",
      "metadata": {
        "id": "8f277d6d-b9ab-4696-b31d-899180dd7f1b",
        "outputId": "8ea78190-2ebe-43e4-b1b6-4a506ca56152"
      },
      "outputs": [
        {
          "name": "stdout",
          "output_type": "stream",
          "text": [
            "cherry\n"
          ]
        }
      ],
      "source": [
        "# how to access to items in list by using index\n",
        "thislist = [\"apple\", \"banana\", \"cherry\"]\n",
        "print(thislist[-1])\n"
      ]
    },
    {
      "cell_type": "markdown",
      "id": "5a8136fb-b100-4918-b82c-12c73443114a",
      "metadata": {
        "id": "5a8136fb-b100-4918-b82c-12c73443114a"
      },
      "source": [
        "# Range of Indexes\n",
        "You can specify a range of indexes by specifying where to start and where to end the range.\n",
        "When specifying a range, the return value will be a new list with the specified items.\n",
        "# Example\n",
        "Return the third, fourth, and fifth item:"
      ]
    },
    {
      "cell_type": "code",
      "execution_count": null,
      "id": "0506765a-4c32-4530-85c6-8ac3a6a01413",
      "metadata": {
        "id": "0506765a-4c32-4530-85c6-8ac3a6a01413",
        "outputId": "83fbf3b9-dfc6-4298-e67b-070e72deb1f0"
      },
      "outputs": [
        {
          "name": "stdout",
          "output_type": "stream",
          "text": [
            "['cherry', 'orange', 'kiwi']\n"
          ]
        }
      ],
      "source": [
        "thislist = [\"apple\", \"banana\", \"cherry\", \"orange\", \"kiwi\", \"melon\", \"mango\"]\n",
        "print(thislist[2:5])\n"
      ]
    },
    {
      "cell_type": "markdown",
      "id": "155baa31-ec8c-4988-b9b3-05289dbafacb",
      "metadata": {
        "id": "155baa31-ec8c-4988-b9b3-05289dbafacb"
      },
      "source": [
        "## Note: The search will start at index 2 (included) and end at index 5 (not included)."
      ]
    },
    {
      "cell_type": "markdown",
      "id": "2c0a7a1e-418a-4405-949c-d88ef996539f",
      "metadata": {
        "id": "2c0a7a1e-418a-4405-949c-d88ef996539f"
      },
      "source": [
        "Remember that the first item has index 0.\n",
        "By leaving out the start value, the range will start at the first item:\n",
        "# Example\n",
        "This example returns the items from the beginning to, but NOT including, \"kiwi\":"
      ]
    },
    {
      "cell_type": "code",
      "execution_count": null,
      "id": "5b449177-430d-447b-9b02-8bb49358c368",
      "metadata": {
        "id": "5b449177-430d-447b-9b02-8bb49358c368",
        "outputId": "d7e5f2b2-de9f-463a-86fa-e6dc65a50989"
      },
      "outputs": [
        {
          "name": "stdout",
          "output_type": "stream",
          "text": [
            "['apple', 'banana', 'cherry', 'orange']\n"
          ]
        }
      ],
      "source": [
        "thislist = [\"apple\", \"banana\", \"cherry\", \"orange\", \"kiwi\", \"melon\", \"mango\"]\n",
        "print(thislist[:4])\n"
      ]
    },
    {
      "cell_type": "code",
      "execution_count": null,
      "id": "700cbb8f-8fba-463f-97dd-7405a90832cb",
      "metadata": {
        "id": "700cbb8f-8fba-463f-97dd-7405a90832cb"
      },
      "outputs": [],
      "source": [
        "This example returns the items from the beginning to, but NOT including, \"mango\":"
      ]
    },
    {
      "cell_type": "code",
      "execution_count": null,
      "id": "70e10401-0628-4e5e-aec7-9885c4581cee",
      "metadata": {
        "id": "70e10401-0628-4e5e-aec7-9885c4581cee",
        "outputId": "c5f15dd2-003a-44e9-a32b-5a43d3781e47"
      },
      "outputs": [
        {
          "name": "stdout",
          "output_type": "stream",
          "text": [
            "['apple', 'banana', 'cherry', 'orange', 'kiwi', 'melon']\n"
          ]
        }
      ],
      "source": [
        "thislist = [\"apple\", \"banana\", \"cherry\", \"orange\", \"kiwi\", \"melon\", \"mango\"]\n",
        "print(thislist[:6])\n"
      ]
    },
    {
      "cell_type": "markdown",
      "id": "c5385917-fd3b-4f68-bc33-632f11a2b01a",
      "metadata": {
        "id": "c5385917-fd3b-4f68-bc33-632f11a2b01a"
      },
      "source": [
        "By leaving out the end value, the range will go on to the end of the list:\n",
        "# Example\n",
        "This example returns the items from \"cherry\" to the end:"
      ]
    },
    {
      "cell_type": "code",
      "execution_count": null,
      "id": "d1d80597-2ba9-49e4-967c-200d023f176b",
      "metadata": {
        "id": "d1d80597-2ba9-49e4-967c-200d023f176b",
        "outputId": "1ff077e5-cc0d-4c2b-9e2d-36abe80b38a4"
      },
      "outputs": [
        {
          "name": "stdout",
          "output_type": "stream",
          "text": [
            "['cherry', 'orange', 'kiwi', 'melon', 'mango']\n"
          ]
        }
      ],
      "source": [
        "thislist = [\"apple\", \"banana\", \"cherry\", \"orange\", \"kiwi\", \"melon\", \"mango\"]\n",
        "print(thislist[2:])\n"
      ]
    },
    {
      "cell_type": "markdown",
      "id": "a465f395-270d-4fe7-983c-35403a29a344",
      "metadata": {
        "id": "a465f395-270d-4fe7-983c-35403a29a344"
      },
      "source": [
        "This example returns the items from \"apple\" to the end:"
      ]
    },
    {
      "cell_type": "code",
      "execution_count": null,
      "id": "9575db45-1f5a-4f22-8a05-ff1f751a2223",
      "metadata": {
        "id": "9575db45-1f5a-4f22-8a05-ff1f751a2223",
        "outputId": "8b3fe261-f8ec-43e8-e5c1-d31280a0fc3f"
      },
      "outputs": [
        {
          "name": "stdout",
          "output_type": "stream",
          "text": [
            "['apple', 'banana', 'cherry', 'orange', 'kiwi', 'melon', 'mango']\n"
          ]
        }
      ],
      "source": [
        "thislist = [\"apple\", \"banana\", \"cherry\", \"orange\", \"kiwi\", \"melon\", \"mango\"]\n",
        "print(thislist[0:])\n"
      ]
    },
    {
      "cell_type": "markdown",
      "id": "3eb7c579-4218-4229-8438-53d1795f6c95",
      "metadata": {
        "id": "3eb7c579-4218-4229-8438-53d1795f6c95"
      },
      "source": [
        "# Range of Negative Indexes\n",
        "Specify negative indexes if you want to start the search from the end of the list:\n",
        "# Example\n",
        "This example returns the items from \"orange\" (-4) to, but NOT including \"mango\" (-1):"
      ]
    },
    {
      "cell_type": "code",
      "execution_count": null,
      "id": "df6f926a-5cae-451e-a740-5478b91cacfc",
      "metadata": {
        "id": "df6f926a-5cae-451e-a740-5478b91cacfc",
        "outputId": "c61b6b68-0b6d-415a-ade2-2b456d0ac2e3"
      },
      "outputs": [
        {
          "name": "stdout",
          "output_type": "stream",
          "text": [
            "['orange', 'kiwi', 'melon']\n"
          ]
        }
      ],
      "source": [
        "thislist = [\"apple\", \"banana\", \"cherry\", \"orange\", \"kiwi\", \"melon\", \"mango\"]\n",
        "print(thislist[-4:-1])"
      ]
    },
    {
      "cell_type": "code",
      "execution_count": null,
      "id": "16c870bc-beb9-4462-9912-0fcf7af024fe",
      "metadata": {
        "id": "16c870bc-beb9-4462-9912-0fcf7af024fe",
        "outputId": "d42147e3-1897-4e60-e597-06fcea7d0d8a"
      },
      "outputs": [
        {
          "name": "stdout",
          "output_type": "stream",
          "text": [
            "['apple', 'banana', 'cherry', 'orange', 'kiwi', 'melon']\n"
          ]
        }
      ],
      "source": [
        "thislist = [\"apple\", \"banana\", \"cherry\", \"orange\", \"kiwi\", \"melon\", \"mango\"]\n",
        "print(thislist[:-1])"
      ]
    },
    {
      "cell_type": "markdown",
      "id": "0b8a19d3-d40d-435c-88da-1ddf68ab40f0",
      "metadata": {
        "id": "0b8a19d3-d40d-435c-88da-1ddf68ab40f0"
      },
      "source": [
        "# Check if Item Exists\n",
        "To determine if a specified item is present in a list use the in keyword:\n",
        "# Example\n",
        "Check if \"apple\" is present in the list:"
      ]
    },
    {
      "cell_type": "code",
      "execution_count": null,
      "id": "141e3ac7-ea8e-46a1-89b2-64327a0812d5",
      "metadata": {
        "id": "141e3ac7-ea8e-46a1-89b2-64327a0812d5",
        "outputId": "becef8e5-f2f1-423d-fb13-642aa1a338d0"
      },
      "outputs": [
        {
          "name": "stdout",
          "output_type": "stream",
          "text": [
            "Yes, 'apple' is in the fruits list\n"
          ]
        }
      ],
      "source": [
        "thislist = [\"apple\", \"banana\", \"cherry\"]\n",
        "if \"apple\" in thislist:\n",
        "  print(\"Yes, 'apple' is in the fruits list\")"
      ]
    },
    {
      "cell_type": "code",
      "execution_count": null,
      "id": "77888120-55a6-40ed-9895-26f6ae431e96",
      "metadata": {
        "id": "77888120-55a6-40ed-9895-26f6ae431e96",
        "outputId": "246b78d9-9e52-4e7e-b18d-eeba292e497e"
      },
      "outputs": [
        {
          "name": "stdout",
          "output_type": "stream",
          "text": [
            "no, 'kivi' is in the fruits list\n"
          ]
        }
      ],
      "source": [
        "thislist = [\"apple\", \"banana\", \"cherry\"]\n",
        "if \"kivi\" in thislist:\n",
        "  print(\"yes, 'kivi' is in the fruits list\")\n",
        "else:\n",
        "    print(\"no, 'kivi' is in the fruits list\")\n",
        ""
      ]
    },
    {
      "cell_type": "markdown",
      "id": "287ccb7f-f5b5-4de7-8054-e71f49c7ddbd",
      "metadata": {
        "id": "287ccb7f-f5b5-4de7-8054-e71f49c7ddbd"
      },
      "source": [
        "# Test:"
      ]
    },
    {
      "cell_type": "code",
      "execution_count": null,
      "id": "9449837b-37b5-4580-bd07-2a623fa707e5",
      "metadata": {
        "id": "9449837b-37b5-4580-bd07-2a623fa707e5",
        "outputId": "c643acac-a1c4-4fb6-c1b9-730f74eb36ff"
      },
      "outputs": [
        {
          "name": "stdout",
          "output_type": "stream",
          "text": [
            "yes, 1 is in number list\n"
          ]
        }
      ],
      "source": [
        "mylist = [1,2,3,4,5,6,7,8,9,10]\n",
        "if 1 in mylist:\n",
        "    print(\"yes, 1 is in number list\")\n"
      ]
    },
    {
      "cell_type": "code",
      "execution_count": null,
      "id": "2ccb162f-eaf2-4051-abe4-15529099086f",
      "metadata": {
        "id": "2ccb162f-eaf2-4051-abe4-15529099086f",
        "outputId": "06410d2c-d155-4ec7-ae38-4c689ff51597"
      },
      "outputs": [
        {
          "name": "stdout",
          "output_type": "stream",
          "text": [
            "no, 11 is in number list\n"
          ]
        }
      ],
      "source": [
        "mylist = [1,2,3,4,5,6,7,8,9,10]\n",
        "if 11 in mylist:\n",
        "    print(\"yes, 11 is in number list\")\n",
        "else:\n",
        "    print(\"no, 11 is in number list\")"
      ]
    },
    {
      "cell_type": "markdown",
      "id": "9287dd01-f7ff-4489-b98d-3765845dfcb4",
      "metadata": {
        "id": "9287dd01-f7ff-4489-b98d-3765845dfcb4"
      },
      "source": [
        "# Python - Change List Items\n",
        "# Change Item Value\n",
        "To change the value of a specific item, refer to the index number:"
      ]
    },
    {
      "cell_type": "markdown",
      "id": "a6a3ddc7-f213-4dd9-8e94-c1c5d915f386",
      "metadata": {
        "id": "a6a3ddc7-f213-4dd9-8e94-c1c5d915f386"
      },
      "source": [
        "# Example:\n",
        "Change the second item:\n"
      ]
    },
    {
      "cell_type": "code",
      "execution_count": null,
      "id": "10b586cf-f5a9-4ac0-bec8-81a40ec3f1c7",
      "metadata": {
        "id": "10b586cf-f5a9-4ac0-bec8-81a40ec3f1c7",
        "outputId": "c1b89f71-e077-4fa8-b123-dc867404a687"
      },
      "outputs": [
        {
          "name": "stdout",
          "output_type": "stream",
          "text": [
            "['apple', 'blackcurrant', 'cherry']\n"
          ]
        }
      ],
      "source": [
        "thislist = [\"apple\", \"banana\", \"cherry\"]\n",
        "thislist[1] = \"blackcurrant\"\n",
        "print(thislist)\n"
      ]
    },
    {
      "cell_type": "code",
      "execution_count": null,
      "id": "854fbd87-90f3-4ed2-b217-7e43598c7f2f",
      "metadata": {
        "id": "854fbd87-90f3-4ed2-b217-7e43598c7f2f"
      },
      "outputs": [],
      "source": [
        "Change the second item:"
      ]
    },
    {
      "cell_type": "code",
      "execution_count": null,
      "id": "4240bc11-ac72-44c3-af93-8cd3500c9fb8",
      "metadata": {
        "id": "4240bc11-ac72-44c3-af93-8cd3500c9fb8",
        "outputId": "158656f3-042d-47c7-a64c-76d960758756"
      },
      "outputs": [
        {
          "name": "stdout",
          "output_type": "stream",
          "text": [
            "['apple', 'banana', 'mango']\n"
          ]
        }
      ],
      "source": [
        "thislist = [\"apple\", \"banana\", \"cherry\"]\n",
        "thislist[2] = \"mango\"\n",
        "print(thislist)"
      ]
    },
    {
      "cell_type": "markdown",
      "id": "20fccbfd-04da-4aac-ba99-5b93e29c7572",
      "metadata": {
        "id": "20fccbfd-04da-4aac-ba99-5b93e29c7572"
      },
      "source": [
        "# Change a Range of Item Values\n",
        "To change the value of items within a specific range, define a list with the new values, and refer to the range of index numbers where you want to insert the new values:\n",
        "# Example\n",
        "Change the values \"banana\" and \"cherry\" with the values \"blackcurrant\" and \"watermelon\"\n"
      ]
    },
    {
      "cell_type": "code",
      "execution_count": null,
      "id": "47ac6d9b-310d-40b2-89ad-c91116f51db9",
      "metadata": {
        "id": "47ac6d9b-310d-40b2-89ad-c91116f51db9",
        "outputId": "3b55b8c4-859e-43c9-c1d0-a54a90e5b3ef"
      },
      "outputs": [
        {
          "name": "stdout",
          "output_type": "stream",
          "text": [
            "['apple', 'blackcurrant', 'watermelon', 'orange', 'kiwi', 'mango']\n"
          ]
        }
      ],
      "source": [
        "thislist = [\"apple\", \"banana\", \"cherry\", \"orange\", \"kiwi\", \"mango\"]\n",
        "thislist[1:3] = [\"blackcurrant\", \"watermelon\"]\n",
        "print(thislist)\n"
      ]
    },
    {
      "cell_type": "code",
      "execution_count": null,
      "id": "fc360f6c-0c30-45f8-8bdf-26e79ee6e907",
      "metadata": {
        "id": "fc360f6c-0c30-45f8-8bdf-26e79ee6e907",
        "outputId": "44dd541e-99b5-44f9-b061-d36995730f86"
      },
      "outputs": [
        {
          "name": "stdout",
          "output_type": "stream",
          "text": [
            "['apple', 'banana', 'blackcurrant', 'watermelon', 'kiwi', 'mango']\n"
          ]
        }
      ],
      "source": [
        "thislist = [\"apple\", \"banana\", \"cherry\", \"orange\", \"kiwi\", \"mango\"]\n",
        "thislist[2:4] = [\"blackcurrant\", \"watermelon\"]\n",
        "print(thislist)"
      ]
    },
    {
      "cell_type": "markdown",
      "id": "53acdd74-9e32-43d5-ac58-2046437fb75a",
      "metadata": {
        "id": "53acdd74-9e32-43d5-ac58-2046437fb75a"
      },
      "source": [
        "If you insert more items than you replace, the new items will be inserted where you specified, and the remaining items will move accordingly:\n",
        "# Example:\n",
        "Change the second value by replacing it with two new values:"
      ]
    },
    {
      "cell_type": "code",
      "execution_count": null,
      "id": "34910e90-8e4b-49dd-bc6a-7abc7f71b86d",
      "metadata": {
        "id": "34910e90-8e4b-49dd-bc6a-7abc7f71b86d",
        "outputId": "04926432-9e53-46b7-9881-1c81df1d7746"
      },
      "outputs": [
        {
          "name": "stdout",
          "output_type": "stream",
          "text": [
            "['apple', 'blackcurrant', 'watermelon', 'cherry']\n"
          ]
        }
      ],
      "source": [
        "thislist = [\"apple\", \"banana\", \"cherry\"]\n",
        "thislist[1:2] = [\"blackcurrant\", \"watermelon\"]\n",
        "print(thislist)"
      ]
    },
    {
      "cell_type": "markdown",
      "id": "a393478a-279e-4408-8ae2-23dea14a5ffe",
      "metadata": {
        "id": "a393478a-279e-4408-8ae2-23dea14a5ffe"
      },
      "source": [
        "# Note:\n",
        "The length of the list will change when the number of items inserted does not match the number of items replaced.\n",
        "If you insert less items than you replace, the new items will be inserted where you specified, and the remaining items will move accordingly:\n",
        "# Example\n",
        "Change the second and third value by replacing it with one value:"
      ]
    },
    {
      "cell_type": "code",
      "execution_count": null,
      "id": "dcf1184f-c1f6-480b-ba1e-970d12c49767",
      "metadata": {
        "id": "dcf1184f-c1f6-480b-ba1e-970d12c49767",
        "outputId": "a59188e3-a911-4364-d031-4ea88bb1ef35"
      },
      "outputs": [
        {
          "name": "stdout",
          "output_type": "stream",
          "text": [
            "['apple', 'watermelon']\n"
          ]
        }
      ],
      "source": [
        "thislist = [\"apple\", \"banana\", \"cherry\"]\n",
        "thislist[1:3] = [\"watermelon\"]\n",
        "print(thislist)\n"
      ]
    },
    {
      "cell_type": "markdown",
      "id": "a92fcdaa-a733-4c7e-a320-f15ece32c7fa",
      "metadata": {
        "id": "a92fcdaa-a733-4c7e-a320-f15ece32c7fa"
      },
      "source": [
        "# Insert Items\n",
        "To insert a new list item, without replacing any of the existing values, we can use the insert() method.\n",
        "The insert() method inserts an item at the specified index:\n",
        "# Example\n",
        "Insert \"watermelon\" as the third item:"
      ]
    },
    {
      "cell_type": "code",
      "execution_count": null,
      "id": "e319f0a0-dd35-4571-af8b-0c0314a41696",
      "metadata": {
        "id": "e319f0a0-dd35-4571-af8b-0c0314a41696",
        "outputId": "2975bb8b-aaf6-4412-84da-19841c67eff8"
      },
      "outputs": [
        {
          "name": "stdout",
          "output_type": "stream",
          "text": [
            "['apple', 'banana', 'watermelon', 'cherry']\n"
          ]
        }
      ],
      "source": [
        "thislist = [\"apple\", \"banana\", \"cherry\"]\n",
        "thislist.insert(2, \"watermelon\")\n",
        "print(thislist)"
      ]
    },
    {
      "cell_type": "code",
      "execution_count": null,
      "id": "14834a05-6a15-413f-b228-c3028657b0dd",
      "metadata": {
        "id": "14834a05-6a15-413f-b228-c3028657b0dd",
        "outputId": "324d8481-cc24-46dc-b194-1793a234574d"
      },
      "outputs": [
        {
          "name": "stdout",
          "output_type": "stream",
          "text": [
            "['watermelon', 'apple', 'banana', 'cherry']\n"
          ]
        }
      ],
      "source": [
        "thislist = [\"apple\", \"banana\", \"cherry\"]\n",
        "thislist.insert(0, \"watermelon\")\n",
        "print(thislist)"
      ]
    },
    {
      "cell_type": "code",
      "execution_count": null,
      "id": "fd55bbbb-0fdd-4ec8-973a-4024b1e6034c",
      "metadata": {
        "id": "fd55bbbb-0fdd-4ec8-973a-4024b1e6034c",
        "outputId": "5b47a41e-3931-4099-c402-c19f7939db15"
      },
      "outputs": [
        {
          "name": "stdout",
          "output_type": "stream",
          "text": [
            "['apple', 'banana', 'cherry', 'watermelon']\n"
          ]
        }
      ],
      "source": [
        "thislist = [\"apple\", \"banana\", \"cherry\"]\n",
        "thislist.insert(3, \"watermelon\")\n",
        "print(thislist)"
      ]
    },
    {
      "cell_type": "code",
      "execution_count": null,
      "id": "3a64df3e-2d72-48c7-ab91-7f4b4ff89da3",
      "metadata": {
        "id": "3a64df3e-2d72-48c7-ab91-7f4b4ff89da3"
      },
      "outputs": [],
      "source": []
    }
  ],
  "metadata": {
    "kernelspec": {
      "display_name": "Python 3 (ipykernel)",
      "language": "python",
      "name": "python3"
    },
    "language_info": {
      "codemirror_mode": {
        "name": "ipython",
        "version": 3
      },
      "file_extension": ".py",
      "mimetype": "text/x-python",
      "name": "python",
      "nbconvert_exporter": "python",
      "pygments_lexer": "ipython3",
      "version": "3.12.7"
    },
    "colab": {
      "provenance": [],
      "include_colab_link": true
    }
  },
  "nbformat": 4,
  "nbformat_minor": 5
}