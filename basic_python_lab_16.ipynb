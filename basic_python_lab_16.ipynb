{
  "nbformat": 4,
  "nbformat_minor": 0,
  "metadata": {
    "colab": {
      "provenance": [],
      "authorship_tag": "ABX9TyONcQt2X9rAujQOthlV/JtN",
      "include_colab_link": true
    },
    "kernelspec": {
      "name": "python3",
      "display_name": "Python 3"
    },
    "language_info": {
      "name": "python"
    }
  },
  "cells": [
    {
      "cell_type": "markdown",
      "metadata": {
        "id": "view-in-github",
        "colab_type": "text"
      },
      "source": [
        "<a href=\"https://colab.research.google.com/github/sadiakanwal3472/Python-Learning-2025/blob/main/basic_python_lab_16.ipynb\" target=\"_parent\"><img src=\"https://colab.research.google.com/assets/colab-badge.svg\" alt=\"Open In Colab\"/></a>"
      ]
    },
    {
      "cell_type": "markdown",
      "source": [
        "# Python Datetime\n",
        "## Python Dates\n",
        "A date in Python is not a data type of its own, but we can import a module named datetime to work with dates as date objects.\n",
        "## Example:\n",
        "Import the datetime module and display the current date:"
      ],
      "metadata": {
        "id": "kT_456TSLI-g"
      }
    },
    {
      "cell_type": "code",
      "execution_count": 1,
      "metadata": {
        "colab": {
          "base_uri": "https://localhost:8080/"
        },
        "id": "ot_l8ZLOLIQ7",
        "outputId": "b4337ce8-daf8-4204-a11f-9a19a417ad86"
      },
      "outputs": [
        {
          "output_type": "stream",
          "name": "stdout",
          "text": [
            "2025-01-24 07:19:12.982106\n"
          ]
        }
      ],
      "source": [
        "import datetime\n",
        "\n",
        "x = datetime.datetime.now()\n",
        "print(x)"
      ]
    },
    {
      "cell_type": "markdown",
      "source": [
        "## Date Output\n",
        "When we execute the code from the example above the result will be:\n",
        "## 2025-01-23 23:17:00.733479\n",
        "The date contains year, month, day, hour, minute, second, and microsecond.\n",
        "The datetime module has many methods to return information about the date object.\n",
        "Here are a few examples, you will learn more about them later in this chapter:\n",
        "## Example\n",
        "Return the year and name of weekday:"
      ],
      "metadata": {
        "id": "7ZVJ_BVXLsWN"
      }
    },
    {
      "cell_type": "code",
      "source": [
        "import datetime\n",
        "\n",
        "x = datetime.datetime.now()\n",
        "\n",
        "print(x.year)\n",
        "print(x.strftime(\"%A\"))"
      ],
      "metadata": {
        "colab": {
          "base_uri": "https://localhost:8080/"
        },
        "id": "22iNT-tcL7MS",
        "outputId": "01048243-2d78-473c-c02b-8517cd2539f1"
      },
      "execution_count": 2,
      "outputs": [
        {
          "output_type": "stream",
          "name": "stdout",
          "text": [
            "2025\n",
            "Friday\n"
          ]
        }
      ]
    },
    {
      "cell_type": "markdown",
      "source": [
        "## Creating Date Objects\n",
        "To create a date, we can use the datetime() class (constructor) of the datetime module.The datetime() class requires three parameters to create a date: year, month, day.\n",
        "## Example\n",
        "Create a date object:"
      ],
      "metadata": {
        "id": "h3_dNG4-MISi"
      }
    },
    {
      "cell_type": "code",
      "source": [
        "import datetime\n",
        "\n",
        "x = datetime.datetime(2020, 5, 17)\n",
        "\n",
        "print(x)"
      ],
      "metadata": {
        "colab": {
          "base_uri": "https://localhost:8080/"
        },
        "id": "Gvlq2rXtMOlJ",
        "outputId": "0b512ac9-4417-4933-c834-c656bc9b54e4"
      },
      "execution_count": 3,
      "outputs": [
        {
          "output_type": "stream",
          "name": "stdout",
          "text": [
            "2020-05-17 00:00:00\n"
          ]
        }
      ]
    },
    {
      "cell_type": "markdown",
      "source": [
        "The datetime() class also takes parameters for time and timezone (hour, minute, second, microsecond, tzone), but they are optional, and has a default value of 0, (None for timezone).\n",
        "## The strftime() Method\n",
        "The datetime object has a method for formatting date objects into readable strings.\n",
        "The method is called strftime(), and takes one parameter, format, to specify the format of the returned string:\n",
        "## Example\n",
        "Display the name of the month:"
      ],
      "metadata": {
        "id": "RvrWf630MbD3"
      }
    },
    {
      "cell_type": "code",
      "source": [
        "import datetime\n",
        "\n",
        "x = datetime.datetime(2018, 6, 1)\n",
        "\n",
        "print(x.strftime(\"%B\"))"
      ],
      "metadata": {
        "colab": {
          "base_uri": "https://localhost:8080/"
        },
        "id": "YiABHo6nMjNH",
        "outputId": "06a30642-b42e-4ad5-d9f4-d766b8796909"
      },
      "execution_count": 4,
      "outputs": [
        {
          "output_type": "stream",
          "name": "stdout",
          "text": [
            "June\n"
          ]
        }
      ]
    }
  ]
}