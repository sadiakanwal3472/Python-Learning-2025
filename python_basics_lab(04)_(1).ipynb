{
  "cells": [
    {
      "cell_type": "markdown",
      "metadata": {
        "id": "view-in-github",
        "colab_type": "text"
      },
      "source": [
        "<a href=\"https://colab.research.google.com/github/sadiakanwal3472/Python-Learning-2025/blob/main/python_basics_lab(04)_(1).ipynb\" target=\"_parent\"><img src=\"https://colab.research.google.com/assets/colab-badge.svg\" alt=\"Open In Colab\"/></a>"
      ]
    },
    {
      "cell_type": "markdown",
      "id": "e4768f66-2b66-457c-aa35-67be520a59f5",
      "metadata": {
        "id": "e4768f66-2b66-457c-aa35-67be520a59f5"
      },
      "source": [
        "# Python Tuples"
      ]
    },
    {
      "cell_type": "markdown",
      "id": "42fa8fa7-cd3a-42ad-8ad5-2d47ec5a4420",
      "metadata": {
        "id": "42fa8fa7-cd3a-42ad-8ad5-2d47ec5a4420"
      },
      "source": [
        "# Tuple\n",
        "Tuples are used to store multiple items in a single variable.\n",
        "\n",
        "Tuple is one of 4 built-in data types in Python used to store collections of data, the other 3 are List, Set, and Dictionary, all with different qualities and usage.\n",
        "\n",
        "A tuple is a collection which is ordered and unchangeable.\n",
        "\n",
        "Tuples are written with round brackets."
      ]
    },
    {
      "cell_type": "markdown",
      "id": "8e59d5d4-e2d5-4dac-8787-2a38aa06736c",
      "metadata": {
        "id": "8e59d5d4-e2d5-4dac-8787-2a38aa06736c"
      },
      "source": [
        "# Example:\n",
        "Create a Tuple:"
      ]
    },
    {
      "cell_type": "code",
      "execution_count": null,
      "id": "d9dd2074-af99-4aa7-ac6a-6cde01f1b963",
      "metadata": {
        "id": "d9dd2074-af99-4aa7-ac6a-6cde01f1b963",
        "outputId": "2f3d2983-f9f8-4d85-d50c-54d056391b5b"
      },
      "outputs": [
        {
          "name": "stdout",
          "output_type": "stream",
          "text": [
            "('apple', 'banana', 'cherry')\n"
          ]
        }
      ],
      "source": [
        "mytuple1 = (\"apple\", \"banana\", \"cherry\")\n",
        "print(mytuple1)"
      ]
    },
    {
      "cell_type": "code",
      "execution_count": null,
      "id": "09036215-044f-410f-ae3e-ef537ffb94df",
      "metadata": {
        "id": "09036215-044f-410f-ae3e-ef537ffb94df",
        "outputId": "ee4d0c94-8293-4c71-d0c1-65d382ef23aa"
      },
      "outputs": [
        {
          "name": "stdout",
          "output_type": "stream",
          "text": [
            "(1, 2, 3, 4)\n"
          ]
        }
      ],
      "source": [
        "mytuple2=(1,2,3,4)\n",
        "print(mytuple2)"
      ]
    },
    {
      "cell_type": "code",
      "execution_count": null,
      "id": "f7832c57-036a-4bf1-ad20-6f67645322f7",
      "metadata": {
        "id": "f7832c57-036a-4bf1-ad20-6f67645322f7",
        "outputId": "153284d7-5cc5-43f8-9a8a-c5f06642d19d"
      },
      "outputs": [
        {
          "data": {
            "text/plain": [
              "('apple', 'banana', 'cherry', 1, 2, 3, 4)"
            ]
          },
          "execution_count": 7,
          "metadata": {},
          "output_type": "execute_result"
        }
      ],
      "source": [
        "# add cancatnation\n",
        "new_tuples=mytuple1+mytuple2\n",
        "new_tuples"
      ]
    },
    {
      "cell_type": "code",
      "execution_count": null,
      "id": "143af582-838d-4d4b-81fd-3597367a2f78",
      "metadata": {
        "id": "143af582-838d-4d4b-81fd-3597367a2f78",
        "outputId": "0fd510c0-5486-4ee7-8d2a-74e9ca9ad4cb"
      },
      "outputs": [
        {
          "data": {
            "text/plain": [
              "('apple', 'banana', 'cherry')"
            ]
          },
          "execution_count": 12,
          "metadata": {},
          "output_type": "execute_result"
        }
      ],
      "source": [
        "# slicing\n",
        "new_tuples[0:3]\n"
      ]
    },
    {
      "cell_type": "code",
      "execution_count": null,
      "id": "c7ca77fe-31b3-494c-a007-d053415d27dd",
      "metadata": {
        "id": "c7ca77fe-31b3-494c-a007-d053415d27dd",
        "outputId": "c616d734-fea6-40a8-ed6b-b98f1dbcf5d4"
      },
      "outputs": [
        {
          "data": {
            "text/plain": [
              "(1, 2, 3, 4)"
            ]
          },
          "execution_count": 15,
          "metadata": {},
          "output_type": "execute_result"
        }
      ],
      "source": [
        "# slicing\n",
        "new_tuples[3:7]"
      ]
    },
    {
      "cell_type": "code",
      "execution_count": null,
      "id": "9695a8e3-5bac-4f9e-9b9c-0fd9c01cefc1",
      "metadata": {
        "id": "9695a8e3-5bac-4f9e-9b9c-0fd9c01cefc1",
        "outputId": "832255b9-c92e-426b-eec6-c90a83c54b7f"
      },
      "outputs": [
        {
          "data": {
            "text/plain": [
              "('banana',)"
            ]
          },
          "execution_count": 16,
          "metadata": {},
          "output_type": "execute_result"
        }
      ],
      "source": [
        "new_tuples[1:2]"
      ]
    },
    {
      "cell_type": "code",
      "execution_count": null,
      "id": "2ffa553c-152a-4bfb-9503-42306db3c4a1",
      "metadata": {
        "id": "2ffa553c-152a-4bfb-9503-42306db3c4a1",
        "outputId": "090bcb42-dd34-4c2f-e908-d684d77cdc48"
      },
      "outputs": [
        {
          "data": {
            "text/plain": [
              "'banana'"
            ]
          },
          "execution_count": 18,
          "metadata": {},
          "output_type": "execute_result"
        }
      ],
      "source": [
        "new_tuples[1]"
      ]
    },
    {
      "cell_type": "code",
      "execution_count": null,
      "id": "ce25ba17-5e12-4d77-aac7-92d035b0cd0d",
      "metadata": {
        "id": "ce25ba17-5e12-4d77-aac7-92d035b0cd0d",
        "outputId": "3aa27488-cb2f-40c3-c0f6-85c17bd9eb8f"
      },
      "outputs": [
        {
          "data": {
            "text/plain": [
              "tuple"
            ]
          },
          "execution_count": 19,
          "metadata": {},
          "output_type": "execute_result"
        }
      ],
      "source": [
        "type(new_tuples[1:2])"
      ]
    },
    {
      "cell_type": "code",
      "execution_count": null,
      "id": "a706c31d-6598-40d4-9ff3-09a22d074906",
      "metadata": {
        "id": "a706c31d-6598-40d4-9ff3-09a22d074906",
        "outputId": "54c480dd-c7a3-45bd-cfae-a0a798946915"
      },
      "outputs": [
        {
          "name": "stdout",
          "output_type": "stream",
          "text": [
            "('banana',)\n"
          ]
        },
        {
          "data": {
            "text/plain": [
              "tuple"
            ]
          },
          "execution_count": 20,
          "metadata": {},
          "output_type": "execute_result"
        }
      ],
      "source": [
        "new_tuples[1:2]\n",
        "print(new_tuples[1:2])\n",
        "type(new_tuples[1:2])"
      ]
    },
    {
      "cell_type": "code",
      "execution_count": null,
      "id": "d3b6c83d-5c15-4947-8b68-085e19715345",
      "metadata": {
        "id": "d3b6c83d-5c15-4947-8b68-085e19715345",
        "outputId": "4b400b8e-f744-407e-decf-7c5a1f07c0bf"
      },
      "outputs": [
        {
          "name": "stdout",
          "output_type": "stream",
          "text": [
            "('apple', 'banana', 'cherry')\n"
          ]
        }
      ],
      "source": [
        "tuples_of_fruit=new_tuples[:3] # 3 is not include 3 is uper limit\n",
        "print(tuples_of_fruit)"
      ]
    },
    {
      "cell_type": "code",
      "execution_count": null,
      "id": "36d6476d-f3b3-48b6-a8e1-9145c6f1d9ca",
      "metadata": {
        "id": "36d6476d-f3b3-48b6-a8e1-9145c6f1d9ca",
        "outputId": "ca942cec-139a-4631-f08a-c7e4bd0cd8e0"
      },
      "outputs": [
        {
          "name": "stdout",
          "output_type": "stream",
          "text": [
            "(1, 2, 3, 4)\n"
          ]
        }
      ],
      "source": [
        "tuples_of_number=new_tuples[3:]  # 3 is include 3 is lower limit\n",
        "print(tuples_of_number)\n"
      ]
    },
    {
      "cell_type": "code",
      "execution_count": null,
      "id": "597e3d0a-1783-421c-a3b8-ec2013d6e779",
      "metadata": {
        "id": "597e3d0a-1783-421c-a3b8-ec2013d6e779",
        "outputId": "d49b8a88-1dc8-490b-df50-eb546f446b45"
      },
      "outputs": [
        {
          "name": "stdout",
          "output_type": "stream",
          "text": [
            "('apple', 'banana', 'cherry', 'apple', 'cherry')\n"
          ]
        }
      ],
      "source": [
        "thistuple = (\"apple\", \"banana\", \"cherry\", \"apple\", \"cherry\")\n",
        "print(thistuple)"
      ]
    },
    {
      "cell_type": "code",
      "execution_count": null,
      "id": "f97ba282-a38d-4e47-bdc7-56fb18e56103",
      "metadata": {
        "id": "f97ba282-a38d-4e47-bdc7-56fb18e56103",
        "outputId": "c8260b6c-b78e-49a4-fa60-d94c8785decc"
      },
      "outputs": [
        {
          "data": {
            "text/plain": [
              "7"
            ]
          },
          "execution_count": 23,
          "metadata": {},
          "output_type": "execute_result"
        }
      ],
      "source": [
        "# length of new_tuple\n",
        "len(new_tuples)"
      ]
    },
    {
      "cell_type": "code",
      "execution_count": null,
      "id": "13a01f3c-3417-475d-8dfc-0e199cc5ef5d",
      "metadata": {
        "id": "13a01f3c-3417-475d-8dfc-0e199cc5ef5d",
        "outputId": "fab8ec26-33cf-48e6-cd81-55606468018c"
      },
      "outputs": [
        {
          "data": {
            "text/plain": [
              "3"
            ]
          },
          "execution_count": 25,
          "metadata": {},
          "output_type": "execute_result"
        }
      ],
      "source": [
        "# length of tuples_of_fruit)\n",
        "len(tuples_of_fruit)"
      ]
    },
    {
      "cell_type": "code",
      "execution_count": null,
      "id": "50102a76-607c-4727-ad20-9e5264641fea",
      "metadata": {
        "id": "50102a76-607c-4727-ad20-9e5264641fea",
        "outputId": "d56c2589-ae52-452a-9864-de44f62919fd"
      },
      "outputs": [
        {
          "data": {
            "text/plain": [
              "4"
            ]
          },
          "execution_count": 26,
          "metadata": {},
          "output_type": "execute_result"
        }
      ],
      "source": [
        "# length of tuples_of_number)\n",
        "len(tuples_of_number)"
      ]
    },
    {
      "cell_type": "code",
      "execution_count": null,
      "id": "6523e908-b431-4ebd-a849-99b9e7c652b1",
      "metadata": {
        "id": "6523e908-b431-4ebd-a849-99b9e7c652b1",
        "outputId": "50f0cfaf-6bb8-4fc1-b1b3-3940521a0746"
      },
      "outputs": [
        {
          "name": "stdout",
          "output_type": "stream",
          "text": [
            "3\n"
          ]
        }
      ],
      "source": [
        "thistuple = (\"apple\", \"banana\", \"cherry\")\n",
        "print(len(thistuple))"
      ]
    },
    {
      "cell_type": "code",
      "execution_count": null,
      "id": "b255d035-a96e-4ccb-b393-681df9d2263b",
      "metadata": {
        "id": "b255d035-a96e-4ccb-b393-681df9d2263b",
        "outputId": "36be8d91-cf2a-4e23-c3f9-53ca8f60bc60"
      },
      "outputs": [
        {
          "data": {
            "text/plain": [
              "str"
            ]
          },
          "execution_count": 30,
          "metadata": {},
          "output_type": "execute_result"
        }
      ],
      "source": [
        "tuple=(\"apple\")\n",
        "type(tuple)"
      ]
    },
    {
      "cell_type": "markdown",
      "id": "76263739-6c0b-437e-b9ff-0a36ae3c5dd7",
      "metadata": {
        "id": "76263739-6c0b-437e-b9ff-0a36ae3c5dd7"
      },
      "source": [
        "# Example:\n",
        "String, int and boolean data types:"
      ]
    },
    {
      "cell_type": "code",
      "execution_count": null,
      "id": "12047863-0b95-4c21-b933-b8f119b3acf4",
      "metadata": {
        "id": "12047863-0b95-4c21-b933-b8f119b3acf4"
      },
      "outputs": [],
      "source": [
        "tuple1 = (\"apple\", \"banana\", \"cherry\")\n",
        "tuple2 = (1, 5, 7, 9, 3)\n",
        "tuple3 = (True, False, False)"
      ]
    },
    {
      "cell_type": "code",
      "execution_count": null,
      "id": "310f4138-328c-4353-87df-5081cd7c543a",
      "metadata": {
        "id": "310f4138-328c-4353-87df-5081cd7c543a",
        "outputId": "9fb51558-40d1-4f81-ca27-0036817499c7"
      },
      "outputs": [
        {
          "name": "stdout",
          "output_type": "stream",
          "text": [
            "<class 'tuple'>\n",
            "<class 'tuple'>\n",
            "<class 'tuple'>\n"
          ]
        }
      ],
      "source": [
        "print(type(tuple1))\n",
        "print(type(tuple2))\n",
        "print(type(tuple3))"
      ]
    },
    {
      "cell_type": "markdown",
      "id": "a568ecd5-c7ec-4676-a17f-9cbdbe6e160f",
      "metadata": {
        "id": "a568ecd5-c7ec-4676-a17f-9cbdbe6e160f"
      },
      "source": [
        "# Example\n",
        "A tuple with strings, integers and boolean values:"
      ]
    },
    {
      "cell_type": "code",
      "execution_count": null,
      "id": "cebc7ba7-6da4-4d52-b90b-059590054b10",
      "metadata": {
        "id": "cebc7ba7-6da4-4d52-b90b-059590054b10"
      },
      "outputs": [],
      "source": [
        "tuple1 = (\"abc\", 34, True, 40, \"male\")"
      ]
    },
    {
      "cell_type": "markdown",
      "id": "f478f8ac-7ede-49d4-bfea-2ffdad683293",
      "metadata": {
        "id": "f478f8ac-7ede-49d4-bfea-2ffdad683293"
      },
      "source": [
        "# type()\n",
        "From Python's perspective, tuples are defined as objects with the data type 'tuple':\n",
        "\n",
        "<class 'tuple'>"
      ]
    },
    {
      "cell_type": "markdown",
      "id": "bde7445b-a8ad-41ec-87b3-e0f613ca2985",
      "metadata": {
        "id": "bde7445b-a8ad-41ec-87b3-e0f613ca2985"
      },
      "source": [
        "# Example\n",
        "What is the data type of a tuple?"
      ]
    },
    {
      "cell_type": "code",
      "execution_count": null,
      "id": "34130005-48cb-4b1d-931b-d73419ad3e54",
      "metadata": {
        "id": "34130005-48cb-4b1d-931b-d73419ad3e54",
        "outputId": "c70a4f83-1999-4e0f-c5b6-5abcb6d26d48"
      },
      "outputs": [
        {
          "name": "stdout",
          "output_type": "stream",
          "text": [
            "<class 'tuple'>\n"
          ]
        }
      ],
      "source": [
        "mytuple = (\"apple\", \"banana\", \"cherry\")\n",
        "print(type(mytuple))"
      ]
    },
    {
      "cell_type": "markdown",
      "id": "283cd137-b00f-4255-9d43-8d6efdf8c3aa",
      "metadata": {
        "id": "283cd137-b00f-4255-9d43-8d6efdf8c3aa"
      },
      "source": [
        "# The tuple() Constructor\n",
        "It is also possible to use the tuple() constructor to make a tuple.\n",
        "\n",
        "# Example\n",
        "Using the tuple() method to make a tuple:"
      ]
    },
    {
      "cell_type": "code",
      "execution_count": null,
      "id": "89de39bc-cbf7-4eb6-9df3-a210d07ea0ed",
      "metadata": {
        "id": "89de39bc-cbf7-4eb6-9df3-a210d07ea0ed",
        "outputId": "41c67405-8c05-487d-84db-416da4ebc6ea"
      },
      "outputs": [
        {
          "ename": "TypeError",
          "evalue": "'str' object is not callable",
          "output_type": "error",
          "traceback": [
            "\u001b[1;31m---------------------------------------------------------------------------\u001b[0m",
            "\u001b[1;31mTypeError\u001b[0m                                 Traceback (most recent call last)",
            "Cell \u001b[1;32mIn[36], line 1\u001b[0m\n\u001b[1;32m----> 1\u001b[0m thistuple \u001b[38;5;241m=\u001b[39m \u001b[38;5;28mtuple\u001b[39m((\u001b[38;5;124m\"\u001b[39m\u001b[38;5;124mapple\u001b[39m\u001b[38;5;124m\"\u001b[39m, \u001b[38;5;124m\"\u001b[39m\u001b[38;5;124mbanana\u001b[39m\u001b[38;5;124m\"\u001b[39m, \u001b[38;5;124m\"\u001b[39m\u001b[38;5;124mcherry\u001b[39m\u001b[38;5;124m\"\u001b[39m)) \u001b[38;5;66;03m# note the double round-brackets\u001b[39;00m\n\u001b[0;32m      2\u001b[0m \u001b[38;5;28mprint\u001b[39m(thistuple)\n",
            "\u001b[1;31mTypeError\u001b[0m: 'str' object is not callable"
          ]
        }
      ],
      "source": [
        "thistuple = tuple((\"apple\", \"banana\", \"cherry\")) # note the double round-brackets\n",
        "print(thistuple)"
      ]
    },
    {
      "cell_type": "code",
      "execution_count": null,
      "id": "2dc43149-b9a3-4bd5-b304-959e9acfea64",
      "metadata": {
        "id": "2dc43149-b9a3-4bd5-b304-959e9acfea64"
      },
      "outputs": [],
      "source": [
        "tup=(1,2,3)\n",
        "tup.append("
      ]
    }
  ],
  "metadata": {
    "kernelspec": {
      "display_name": "Python 3 (ipykernel)",
      "language": "python",
      "name": "python3"
    },
    "language_info": {
      "codemirror_mode": {
        "name": "ipython",
        "version": 3
      },
      "file_extension": ".py",
      "mimetype": "text/x-python",
      "name": "python",
      "nbconvert_exporter": "python",
      "pygments_lexer": "ipython3",
      "version": "3.12.7"
    },
    "colab": {
      "provenance": [],
      "include_colab_link": true
    }
  },
  "nbformat": 4,
  "nbformat_minor": 5
}