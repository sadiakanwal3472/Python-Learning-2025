{
  "cells": [
    {
      "cell_type": "markdown",
      "metadata": {
        "id": "view-in-github",
        "colab_type": "text"
      },
      "source": [
        "<a href=\"https://colab.research.google.com/github/sadiakanwal3472/Python-Learning-2025/blob/main/basic_python_program_3.ipynb\" target=\"_parent\"><img src=\"https://colab.research.google.com/assets/colab-badge.svg\" alt=\"Open In Colab\"/></a>"
      ]
    },
    {
      "cell_type": "markdown",
      "id": "6ecaa1ce-65cc-4a2c-9e79-fc8f1245ec53",
      "metadata": {
        "id": "6ecaa1ce-65cc-4a2c-9e79-fc8f1245ec53"
      },
      "source": [
        "## Program 41\n",
        "Write a Python Program to Remove Punctuation From a String."
      ]
    },
    {
      "cell_type": "code",
      "execution_count": 1,
      "id": "39f7d065-304c-4805-8211-e9276e44ffac",
      "metadata": {
        "colab": {
          "base_uri": "https://localhost:8080/"
        },
        "id": "39f7d065-304c-4805-8211-e9276e44ffac",
        "outputId": "c21035ec-97d2-4d12-de37-a279e6204d31"
      },
      "outputs": [
        {
          "output_type": "stream",
          "name": "stdout",
          "text": [
            "Enter a string: Hello!!!, he said.\n",
            "Hello he said\n"
          ]
        }
      ],
      "source": [
        "# define punctuation\n",
        "punctuations = '''!()-[]{};:'\"\\,<>./?@#$%^&*_~'''\n",
        "# To take input from the user\n",
        "my_str = input(\"Enter a string: \")\n",
        "# remove punctuation from the string\n",
        "no_punct = \"\"\n",
        "for char in my_str:\n",
        "  if char not in punctuations:\n",
        "     no_punct = no_punct + char\n",
        "# display the unpunctuated string\n",
        "print(no_punct)\n"
      ]
    },
    {
      "cell_type": "markdown",
      "id": "7f9313e3-f980-432e-9bfe-81bc36d7a036",
      "metadata": {
        "id": "7f9313e3-f980-432e-9bfe-81bc36d7a036"
      },
      "source": [
        "## Program 43\n",
        "Write a Python program to check if the given number is a Disarium Number."
      ]
    },
    {
      "cell_type": "markdown",
      "id": "70e489b0-9e00-41e6-8583-81db66bf401d",
      "metadata": {
        "id": "70e489b0-9e00-41e6-8583-81db66bf401d"
      },
      "source": [
        "A Disarium number is a number that is equal to the sum of its digits each raised to the\n",
        "power of its respective position. For example, 89 is a Disarium number because\n",
        "8 + = 8 + 81 = 89."
      ]
    },
    {
      "cell_type": "code",
      "execution_count": 13,
      "id": "c6c1aa7a-3256-41ee-9f6c-7a31e2b16be9",
      "metadata": {
        "colab": {
          "base_uri": "https://localhost:8080/"
        },
        "id": "c6c1aa7a-3256-41ee-9f6c-7a31e2b16be9",
        "outputId": "c2610e04-d3f9-45ea-926c-9f2921c5e87e"
      },
      "outputs": [
        {
          "output_type": "stream",
          "name": "stdout",
          "text": [
            "Enter a number: 89\n",
            "89 is not a Disarium number.\n"
          ]
        }
      ],
      "source": [
        "def is_disarium(number):\n",
        " # Convert the number to a string to iterate over its digits\n",
        " num_str = str(number)\n",
        "\n",
        " # Calculate the sum of digits raised to their respective positions\n",
        " digit_sum = sum(int(i) ** (index + 1) for index, i in enumerate(numbers))\n",
        "\n",
        " # Check if the sum is equal to the original number\n",
        " return digit_sum == number\n",
        "# Input a number from the user\n",
        "try:\n",
        " num = int(input(\"Enter a number: \"))\n",
        "\n",
        " # Check if it's a Disarium number\n",
        " if is_disarium(num):\n",
        "  print(f\"{num} is a Disarium number.\")\n",
        " else:\n",
        "  print(f\"{num} is not a Disarium number.\")\n",
        "except ValueError:\n",
        " print(\"Invalid input. Please enter a valid number.\")"
      ]
    },
    {
      "cell_type": "markdown",
      "id": "ae692ca1-faf4-4457-a4b2-a79cbac58bc6",
      "metadata": {
        "id": "ae692ca1-faf4-4457-a4b2-a79cbac58bc6"
      },
      "source": [
        "## Program 44\n",
        "Write a Python program to print all disarium numbers between 1 to 100."
      ]
    },
    {
      "cell_type": "code",
      "execution_count": 14,
      "id": "0fdbe4c1-960c-4531-ad53-18bd64db698b",
      "metadata": {
        "colab": {
          "base_uri": "https://localhost:8080/"
        },
        "id": "0fdbe4c1-960c-4531-ad53-18bd64db698b",
        "outputId": "88b08607-54e8-4a76-bdc0-d53dbdac61be"
      },
      "outputs": [
        {
          "output_type": "stream",
          "name": "stdout",
          "text": [
            "Disarium numbers between 1 and 100:\n"
          ]
        }
      ],
      "source": [
        "def is_disarium(num):\n",
        " num_str = str(num)\n",
        " digit_sum = sum(int(i) ** (index + 1) for index, i in enumerate(numbers))\n",
        " return num == digit_sum\n",
        "disarium_numbers = [num for num in range(1, 101) if is_disarium(num)]\n",
        "print(\"Disarium numbers between 1 and 100:\")\n",
        "for num in disarium_numbers:\n",
        " print(num, end=\" | \")"
      ]
    },
    {
      "cell_type": "markdown",
      "id": "54278b3e-4351-4581-b4a6-d62553095c9f",
      "metadata": {
        "id": "54278b3e-4351-4581-b4a6-d62553095c9f"
      },
      "source": [
        "## Program 45\n",
        "##### Write a Python program to check if the given number is Happy Number.\n",
        "Happy Number: A Happy Number is a positive integer that, when you repeatedly replace\n",
        "the number by the sum of the squares of its digits and continue the process, eventually\n",
        "reaches 1. If the process never reaches 1 but instead loops endlessly in a cycle, the number\n",
        "is not a Happy Number."
      ]
    },
    {
      "cell_type": "code",
      "execution_count": 4,
      "id": "1be4495a-a19c-4322-bc8e-4431b5418edd",
      "metadata": {
        "colab": {
          "base_uri": "https://localhost:8080/"
        },
        "id": "1be4495a-a19c-4322-bc8e-4431b5418edd",
        "outputId": "31da95d4-7849-4601-d9df-c5e5f6a050d5"
      },
      "outputs": [
        {
          "output_type": "stream",
          "name": "stdout",
          "text": [
            "Enter a number: 23\n",
            "23 is a Happy Number\n"
          ]
        }
      ],
      "source": [
        "def is_happy_number(num):\n",
        " seen = set() # To store previously seen numbers\n",
        "\n",
        " while num != 1 and num not in seen:\n",
        "          seen.add(num)\n",
        "          num = sum(int(i) ** 2 for i in str(num))\n",
        " return num == 1\n",
        "# Test the function with a number\n",
        "num = int(input(\"Enter a number: \"))\n",
        "if is_happy_number(num):\n",
        "    print(f\"{num} is a Happy Number\")\n",
        "else:\n",
        " print(f\"{num} is not a Happy Number\")"
      ]
    },
    {
      "cell_type": "markdown",
      "id": "78224740-f630-48df-901c-043f931f4d54",
      "metadata": {
        "id": "78224740-f630-48df-901c-043f931f4d54"
      },
      "source": [
        "## Program 46\n",
        "Write a Python program to print all happy numbers between 1 and 100."
      ]
    },
    {
      "cell_type": "code",
      "execution_count": 5,
      "id": "4c31823f-8035-440c-9a4b-0d709ab5a13d",
      "metadata": {
        "colab": {
          "base_uri": "https://localhost:8080/"
        },
        "id": "4c31823f-8035-440c-9a4b-0d709ab5a13d",
        "outputId": "360f4f94-e85d-4402-83a3-82a36e79faaa"
      },
      "outputs": [
        {
          "output_type": "stream",
          "name": "stdout",
          "text": [
            "Happy Numbers between 1 and 100:\n",
            "[1, 7, 10, 13, 19, 23, 28, 31, 32, 44, 49, 68, 70, 79, 82, 86, 91, 94, 97, 100]\n"
          ]
        }
      ],
      "source": [
        "def is_happy_number(num):\n",
        " seen = set()\n",
        "\n",
        " while num != 1 and num not in seen:\n",
        "     seen.add(num)\n",
        "     num = sum(int(i) ** 2 for i in str(num))\n",
        "\n",
        " return num == 1\n",
        "happy_numbers = []\n",
        "for num in range(1, 101):\n",
        " if is_happy_number(num):\n",
        "       happy_numbers.append(num)\n",
        "print(\"Happy Numbers between 1 and 100:\")\n",
        "print(happy_numbers)"
      ]
    },
    {
      "cell_type": "markdown",
      "id": "5d323956-a985-4c92-8c30-5e2792e885a2",
      "metadata": {
        "id": "5d323956-a985-4c92-8c30-5e2792e885a2"
      },
      "source": [
        "## Program 47\n",
        "###### Write a Python program to determine whether the given number is a Harshad\n",
        "Number.\n",
        "A Harshad number (or Niven number) is an integer that is divisible by the sum of its digits.\n",
        "In other words, a number is considered a Harshad number if it can be evenly divided by the\n",
        "sum of its own digits.\n",
        "## For example:\n",
        "###### 18 is a Harshad number because , and 18 is divisible by 9\n",
        "###### 42 is not a Harshad number because , and 42 is not divisible by 6."
      ]
    },
    {
      "cell_type": "code",
      "execution_count": null,
      "id": "cb409cfe-90d5-4cd5-94ba-86442fd04f11",
      "metadata": {
        "id": "cb409cfe-90d5-4cd5-94ba-86442fd04f11",
        "outputId": "b4521d40-abfc-484e-8a13-2a6d3335a563"
      },
      "outputs": [
        {
          "name": "stdin",
          "output_type": "stream",
          "text": [
            "Enter a number:  18\n"
          ]
        },
        {
          "name": "stdout",
          "output_type": "stream",
          "text": [
            "18 is a Harshad Number.\n"
          ]
        }
      ],
      "source": [
        "def is_harshad_number(num):\n",
        " # Calculate the sum of the digits of the number\n",
        " digit_sum = sum(int(i) for i in str(num))\n",
        " # Check if the number is divisible by the sum of its digits\n",
        " return num % digit_sum == 0\n",
        "# Input a number\n",
        "num = int(input(\"Enter a number: \"))\n",
        "# Check if it's a Harshad Number\n",
        "if is_harshad_number(num):\n",
        " print(f\"{num} is a Harshad Number.\")\n",
        "else:\n",
        " print(f\"{num} is not a Harshad Number.\")"
      ]
    },
    {
      "cell_type": "markdown",
      "id": "9976bc02-1fb1-477f-9695-56fc57d0d069",
      "metadata": {
        "id": "9976bc02-1fb1-477f-9695-56fc57d0d069"
      },
      "source": [
        "## Program 48\n",
        "##### Write a Python program to print all pronic numbers between 1 and 100.\n",
        "A pronic number, also known as an oblong number or rectangular number, is a type of\n",
        "figurate number that represents a rectangle. It is the product of two consecutive integers, n\n",
        "and (n + 1). Mathematically, a pronic number can be expressed as:\n",
        "𝑃 = 𝑛 ∗ (𝑛 + 1)𝑃 = 𝑛 ∗ (𝑛 + 1)\n",
        "##### For example, the first few pronic numbers are:\n",
        "###### 𝑃 = 𝑛 ∗ (𝑛 + 1) 𝑛\n",
        "###### 𝑃1 = 1 ∗ (1 + 1) = 2\n",
        "###### 𝑃2 = 2 ∗ (2 + 1) = 6\n",
        "###### 𝑃3 = 3 ∗ (3 + 1) = 12\n",
        "𝑃4 = 4 ∗ (4 + 1) = 20\n"
      ]
    },
    {
      "cell_type": "code",
      "execution_count": 6,
      "id": "d5f681ad-1155-43f7-bfae-8297b79cff95",
      "metadata": {
        "colab": {
          "base_uri": "https://localhost:8080/"
        },
        "id": "d5f681ad-1155-43f7-bfae-8297b79cff95",
        "outputId": "c6bea314-a1a3-4c37-dd68-d42fccee2e62"
      },
      "outputs": [
        {
          "output_type": "stream",
          "name": "stdout",
          "text": [
            "Pronic numbers between 1 and 100 are:\n",
            "2 | "
          ]
        }
      ],
      "source": [
        "def is_pronic_number(num):\n",
        " for n in range(1, int(num**0.5) + 1):\n",
        "     if n * (n + 1) == num:\n",
        "           return True\n",
        "     return False\n",
        "print(\"Pronic numbers between 1 and 100 are:\")\n",
        "for i in range(1, 101):\n",
        " if is_pronic_number(i):\n",
        "       print(i, end=\" | \")"
      ]
    },
    {
      "cell_type": "markdown",
      "id": "01370ff5-7ccd-4089-9f73-4097909f6dc9",
      "metadata": {
        "id": "01370ff5-7ccd-4089-9f73-4097909f6dc9"
      },
      "source": [
        "## Program 49"
      ]
    },
    {
      "cell_type": "code",
      "execution_count": null,
      "id": "8a88faea-b355-44e1-969d-a6476c6805d1",
      "metadata": {
        "id": "8a88faea-b355-44e1-969d-a6476c6805d1",
        "outputId": "ba66d18d-90f1-4b4a-ffe5-53b43ac12b29"
      },
      "outputs": [
        {
          "name": "stdout",
          "output_type": "stream",
          "text": [
            "Sum of elements in the list: 150\n"
          ]
        }
      ],
      "source": [
        "# Sample list of numbers\n",
        "numbers = [10, 20, 30, 40, 50]\n",
        "# Initialize a variable to store the sum\n",
        "sum_of_numbers = 0\n",
        "# Iterate through the list and accumulate the sum\n",
        "for i in numbers:\n",
        " sum_of_numbers += i\n",
        "# Print the sum\n",
        "print(\"Sum of elements in the list:\", sum_of_numbers)"
      ]
    },
    {
      "cell_type": "markdown",
      "id": "0a1657a9-3d33-4994-91a8-b1aee24dd2b1",
      "metadata": {
        "id": "0a1657a9-3d33-4994-91a8-b1aee24dd2b1"
      },
      "source": [
        "## Program 50\n",
        "Write a Python program to Multiply all numbers in the list."
      ]
    },
    {
      "cell_type": "code",
      "execution_count": null,
      "id": "091e9e9f-c5b3-4708-bc7c-af530926cf8d",
      "metadata": {
        "id": "091e9e9f-c5b3-4708-bc7c-af530926cf8d",
        "outputId": "03ca45b0-1a1f-4341-c9aa-fca39da4af52"
      },
      "outputs": [
        {
          "name": "stdout",
          "output_type": "stream",
          "text": [
            "Product of elements in the list: 12000000\n"
          ]
        }
      ],
      "source": [
        "# Sample list of numbers\n",
        "numbers = [10, 20, 30, 40, 50]\n",
        "# Initialize a variable to store the product\n",
        "product_of_numbers = 1\n",
        "# Iterate through the list and accumulate the product\n",
        "for i in numbers:\n",
        " product_of_numbers *= i\n",
        "# Print the product\n",
        "print(\"Product of elements in the list:\", product_of_numbers)\n"
      ]
    },
    {
      "cell_type": "markdown",
      "id": "ba082805-90d5-4b26-90e9-9e502a767e3d",
      "metadata": {
        "id": "ba082805-90d5-4b26-90e9-9e502a767e3d"
      },
      "source": [
        "## Program 51\n",
        "Write a Python program to find smallest number in a list."
      ]
    },
    {
      "cell_type": "code",
      "execution_count": 7,
      "id": "5ac96e16-1e09-44e3-8cc1-3ec202b00dc8",
      "metadata": {
        "colab": {
          "base_uri": "https://localhost:8080/"
        },
        "id": "5ac96e16-1e09-44e3-8cc1-3ec202b00dc8",
        "outputId": "33a26d2f-45ef-4fd2-91b9-5a88a1cd5caa"
      },
      "outputs": [
        {
          "output_type": "stream",
          "name": "stdout",
          "text": [
            "The smallest number in the list is: -45\n"
          ]
        }
      ],
      "source": [
        "# Sample list of numbers\n",
        "numbers = [30, 10, -45, 5, 20]\n",
        "# Initialize a variable to store the minimum value, initially set to th\n",
        "minimum = numbers[0]\n",
        "# Iterate through the list and update the minimum value if a smaller nu\n",
        "for i in numbers:\n",
        " if i < minimum:\n",
        "          minimum = i\n",
        "# Print the minimum value\n",
        "print(\"The smallest number in the list is:\", minimum)"
      ]
    },
    {
      "cell_type": "markdown",
      "id": "040d1676-9b31-4557-93ac-e22511538552",
      "metadata": {
        "id": "040d1676-9b31-4557-93ac-e22511538552"
      },
      "source": [
        "## Program 52\n",
        "Write a Python program to find largest number in a list."
      ]
    },
    {
      "cell_type": "code",
      "execution_count": 8,
      "id": "7c616b5e-6d26-4f35-ae4c-9fe12161996c",
      "metadata": {
        "colab": {
          "base_uri": "https://localhost:8080/"
        },
        "id": "7c616b5e-6d26-4f35-ae4c-9fe12161996c",
        "outputId": "f2c60a38-baa3-4a0b-c928-fe2f5ad7b24c"
      },
      "outputs": [
        {
          "output_type": "stream",
          "name": "stdout",
          "text": [
            "The largest number in the list is: 30\n"
          ]
        }
      ],
      "source": [
        "# Sample list of numbers\n",
        "numbers = [30, 10, -45, 5, 20]\n",
        "# Initialize a variable to store the minimum value, initially set to th\n",
        "minimum = numbers[0]\n",
        "# Iterate through the list and update the minimum value if a smaller nu\n",
        "for i in numbers:\n",
        " if i > minimum:\n",
        "        minimum = i\n",
        "# Print the minimum value\n",
        "print(\"The largest number in the list is:\", minimum)"
      ]
    },
    {
      "cell_type": "markdown",
      "id": "2068429c-3421-4f68-bc19-e321d0f9d2e1",
      "metadata": {
        "id": "2068429c-3421-4f68-bc19-e321d0f9d2e1"
      },
      "source": [
        "## Program 53\n",
        "Write a Python program to find second largest number in a list."
      ]
    },
    {
      "cell_type": "code",
      "execution_count": null,
      "id": "33fac66f-61be-41d3-9431-0fbffba59fae",
      "metadata": {
        "id": "33fac66f-61be-41d3-9431-0fbffba59fae",
        "outputId": "84327db5-44f4-4dfe-a4bb-a520ded6ec39"
      },
      "outputs": [
        {
          "name": "stdout",
          "output_type": "stream",
          "text": [
            "The second largest number in the list is: 30\n"
          ]
        }
      ],
      "source": [
        "# Sample list of numbers\n",
        "numbers = [30, 10, 45, 5, 20]\n",
        "# Sort the list in descending order\n",
        "numbers.sort(reverse=True)\n",
        "# Check if there are at least two elements in the list\n",
        "if len(numbers) >= 2:\n",
        " second_largest = numbers[1]\n",
        " print(\"The second largest number in the list is:\", second_largest)\n",
        "else:\n",
        " print(\"The list does not contain a second largest number.\")"
      ]
    },
    {
      "cell_type": "markdown",
      "id": "2327893b-40d9-42ad-ba51-1e6736b7dbd0",
      "metadata": {
        "id": "2327893b-40d9-42ad-ba51-1e6736b7dbd0"
      },
      "source": [
        "## Program 54\n",
        "Write a Python program to find N largest elements from a list."
      ]
    },
    {
      "cell_type": "code",
      "execution_count": 9,
      "id": "22ba2411-f5c4-4c25-ace7-faf3e729ebbd",
      "metadata": {
        "colab": {
          "base_uri": "https://localhost:8080/"
        },
        "id": "22ba2411-f5c4-4c25-ace7-faf3e729ebbd",
        "outputId": "59075e25-52ae-4d53-a590-62e799fccc71"
      },
      "outputs": [
        {
          "output_type": "stream",
          "name": "stdout",
          "text": [
            "N = 3\n",
            "The 3 largest elements in the list are: [345, 100, 98]\n"
          ]
        }
      ],
      "source": [
        "def find_n_largest_elements(lst, n):\n",
        " # Sort the list in descending order\n",
        " sorted_lst = sorted(lst, reverse=True)\n",
        "\n",
        " # Get the first N elements\n",
        " largest_elements = sorted_lst[:n]\n",
        "\n",
        " return largest_elements\n",
        "# Sample list of numbers\n",
        "numbers = [30, 10, 45, 5, 20, 50, 15, 3, 345, 54, 67, 87, 98, 100, 34]\n",
        "# Number of largest elements to find\n",
        "N = int(input(\"N = \" ))\n",
        "# Find the N largest elements from the list\n",
        "result = find_n_largest_elements(numbers, N)\n",
        "# Print the N largest elements\n",
        "print(f\"The {N} largest elements in the list are:\", result)"
      ]
    },
    {
      "cell_type": "markdown",
      "id": "94d60250-34bd-427b-92c9-f9bdb5a654fa",
      "metadata": {
        "id": "94d60250-34bd-427b-92c9-f9bdb5a654fa"
      },
      "source": [
        "## Program 55\n",
        "Write a Python program to print even numbers in a list."
      ]
    },
    {
      "cell_type": "code",
      "execution_count": null,
      "id": "8b722461-182c-40c9-9a44-6e6e9374e18e",
      "metadata": {
        "id": "8b722461-182c-40c9-9a44-6e6e9374e18e",
        "outputId": "9530b874-5e68-400a-d9cf-6ddc46836e62"
      },
      "outputs": [
        {
          "name": "stdout",
          "output_type": "stream",
          "text": [
            "Even numbers in the list: [2, 4, 6, 8, 10]\n"
          ]
        }
      ],
      "source": [
        "# Sample list of numbers\n",
        "numbers = [1, 2, 3, 4, 5, 6, 7, 8, 9, 10]\n",
        "# Using a list comprehension to filter even numbers\n",
        "even_numbers = [num for num in numbers if num % 2 == 0]\n",
        "# Print the even numbers\n",
        "print(\"Even numbers in the list:\", even_numbers)\n"
      ]
    },
    {
      "cell_type": "markdown",
      "id": "5586a1c7-7560-4f53-be01-82513e280dcb",
      "metadata": {
        "id": "5586a1c7-7560-4f53-be01-82513e280dcb"
      },
      "source": [
        "## Program 56\n",
        "Write a Python program to print odd numbers in a List"
      ]
    },
    {
      "cell_type": "code",
      "execution_count": null,
      "id": "4ec31067-c1db-4381-9c2d-70d660a7e2e9",
      "metadata": {
        "id": "4ec31067-c1db-4381-9c2d-70d660a7e2e9",
        "outputId": "7864e13e-d27d-4e7c-f14c-f72b6d5278c0"
      },
      "outputs": [
        {
          "name": "stdout",
          "output_type": "stream",
          "text": [
            "Odd numbers in the list: [1, 3, 5, 7, 9]\n"
          ]
        }
      ],
      "source": [
        "# Sample list of numbers\n",
        "numbers = [1, 2, 3, 4, 5, 6, 7, 8, 9, 10]\n",
        "# Using a list comprehension to filter even numbers\n",
        "even_numbers = [num for num in numbers if num % 2 != 0]\n",
        "# Print the even numbers\n",
        "print(\"Odd numbers in the list:\", even_numbers)\n"
      ]
    },
    {
      "cell_type": "markdown",
      "id": "f083e676-bd0d-4c77-85b2-bf495171054e",
      "metadata": {
        "id": "f083e676-bd0d-4c77-85b2-bf495171054e"
      },
      "source": [
        "## Program 57\n",
        "Write a Python program to Remove empty List from List."
      ]
    },
    {
      "cell_type": "code",
      "execution_count": null,
      "id": "be516da6-6462-4622-8e8e-8c757a1d080a",
      "metadata": {
        "id": "be516da6-6462-4622-8e8e-8c757a1d080a",
        "outputId": "02885080-a7eb-4180-e4ad-82bd119a83fc"
      },
      "outputs": [
        {
          "name": "stdout",
          "output_type": "stream",
          "text": [
            "List after removing empty lists: [[1, 2, 3], [4, 5], [6, 7, 8]]\n"
          ]
        }
      ],
      "source": [
        "# Sample list containing lists\n",
        "list_of_lists = [[1, 2, 3], [], [4, 5], [], [6, 7, 8], []]\n",
        "# Using a list comprehension to remove empty lists\n",
        "filtered_list = [i for i in list_of_lists if i]\n",
        "# Print the filtered list\n",
        "print(\"List after removing empty lists:\", filtered_list)\n"
      ]
    },
    {
      "cell_type": "markdown",
      "id": "43b0f396-05da-492b-b5fc-dbf93585c1a7",
      "metadata": {
        "id": "43b0f396-05da-492b-b5fc-dbf93585c1a7"
      },
      "source": [
        "## Program 58\n",
        "Write a Python program to Cloning or Copying a list."
      ]
    },
    {
      "cell_type": "code",
      "execution_count": null,
      "id": "f0a7c67a-4bfe-41d9-8098-16c9ef451af9",
      "metadata": {
        "id": "f0a7c67a-4bfe-41d9-8098-16c9ef451af9",
        "outputId": "2efd908e-68f5-4314-ba59-98f01347f2ed"
      },
      "outputs": [
        {
          "name": "stdout",
          "output_type": "stream",
          "text": [
            "[1, 2, 3, 4, 5]\n"
          ]
        }
      ],
      "source": [
        "# 1. Using Using the Slice Operator\n",
        "original_list = [1, 2, 3, 4, 5]\n",
        "cloned_list = original_list[:]\n",
        "print(cloned_list)\n"
      ]
    },
    {
      "cell_type": "code",
      "execution_count": null,
      "id": "5102b7b7-ca13-4139-abb8-6d1d4d4fd986",
      "metadata": {
        "id": "5102b7b7-ca13-4139-abb8-6d1d4d4fd986",
        "outputId": "195aefe1-5f97-4f09-f758-98a75f8b5d43"
      },
      "outputs": [
        {
          "name": "stdout",
          "output_type": "stream",
          "text": [
            "[1, 2, 3, 4, 5]\n"
          ]
        }
      ],
      "source": [
        "# 2. Using the list() constructor\n",
        "original_list = [1, 2, 3, 4, 5]\n",
        "cloned_list = list(original_list)\n",
        "print(cloned_list)"
      ]
    },
    {
      "cell_type": "code",
      "execution_count": null,
      "id": "9113000f-b9c7-455c-87a5-29a135b7c901",
      "metadata": {
        "id": "9113000f-b9c7-455c-87a5-29a135b7c901",
        "outputId": "b74d2f17-c17a-4c50-d2eb-cabe20621f46"
      },
      "outputs": [
        {
          "name": "stdout",
          "output_type": "stream",
          "text": [
            "[1, 2, 3, 4, 5]\n"
          ]
        }
      ],
      "source": [
        "# 3. Using List Comprehension\n",
        "original_list = [1, 2, 3, 4, 5]\n",
        "cloned_list = [item for item in original_list]\n",
        "print(cloned_list)\n"
      ]
    },
    {
      "cell_type": "markdown",
      "id": "1ce9ab27-4a47-4c47-a61e-4b352bcbd1f4",
      "metadata": {
        "id": "1ce9ab27-4a47-4c47-a61e-4b352bcbd1f4"
      },
      "source": [
        "## Program 59\n",
        "Write a Python program to Count occurrences of an element in a list."
      ]
    },
    {
      "cell_type": "code",
      "execution_count": null,
      "id": "001859da-79fc-4c45-a221-945a0d71d7ca",
      "metadata": {
        "id": "001859da-79fc-4c45-a221-945a0d71d7ca",
        "outputId": "5e2a6eb0-8d19-4d36-ed89-7918187ab92e"
      },
      "outputs": [
        {
          "name": "stdout",
          "output_type": "stream",
          "text": [
            "The element 2 appears 3 times in t\n"
          ]
        }
      ],
      "source": [
        "def count_occurrences(l, element):\n",
        " count = l.count(element)\n",
        " return count\n",
        "# Example usage:\n",
        "my_list = [1, 2, 3, 4, 2, 5, 2, 3, 4, 6, 5]\n",
        "element_to_count = 2\n",
        "occurrences = count_occurrences(my_list, element_to_count)\n",
        "print(f\"The element {element_to_count} appears {occurrences} times in t\")"
      ]
    },
    {
      "cell_type": "markdown",
      "id": "8bfd5375-e082-4a01-8651-dea07d52eef7",
      "metadata": {
        "id": "8bfd5375-e082-4a01-8651-dea07d52eef7"
      },
      "source": [
        "## Program 60\n",
        "Write a Python program to find words which are greater than given length k.\n"
      ]
    },
    {
      "cell_type": "code",
      "execution_count": 10,
      "id": "a4a429e7-a06c-4d19-af46-898106d0916f",
      "metadata": {
        "colab": {
          "base_uri": "https://localhost:8080/"
        },
        "id": "a4a429e7-a06c-4d19-af46-898106d0916f",
        "outputId": "3ecc1c0b-2433-44ec-f22d-049a9b049914"
      },
      "outputs": [
        {
          "output_type": "stream",
          "name": "stdout",
          "text": [
            "Words longer than 5 characters: ['banana', 'cherry', 'elderberry', 'dragon']\n"
          ]
        }
      ],
      "source": [
        "def find_words(words, k):\n",
        " # Create an empty list to store words greater than k\n",
        " result = []\n",
        " # Iterate through each word in the list\n",
        " for i in words:\n",
        " # Check if the length of the i is greater than k\n",
        "     if len(i) > k:\n",
        "    # If yes, append it to the result list\n",
        "      result.append(i)\n",
        " return result\n",
        "# Example usage\n",
        "word_list = [\"apple\", \"banana\", \"cherry\", \"date\", \"elderberry\", \"dragon\"]\n",
        "k = 5\n",
        "long_words = find_words(word_list, k)\n",
        "print(f\"Words longer than {k} characters: {long_words}\")"
      ]
    }
  ],
  "metadata": {
    "kernelspec": {
      "display_name": "Python 3 (ipykernel)",
      "language": "python",
      "name": "python3"
    },
    "language_info": {
      "codemirror_mode": {
        "name": "ipython",
        "version": 3
      },
      "file_extension": ".py",
      "mimetype": "text/x-python",
      "name": "python",
      "nbconvert_exporter": "python",
      "pygments_lexer": "ipython3",
      "version": "3.12.7"
    },
    "colab": {
      "provenance": [],
      "include_colab_link": true
    }
  },
  "nbformat": 4,
  "nbformat_minor": 5
}