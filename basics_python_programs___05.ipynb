{
  "cells": [
    {
      "cell_type": "markdown",
      "metadata": {
        "id": "view-in-github",
        "colab_type": "text"
      },
      "source": [
        "<a href=\"https://colab.research.google.com/github/sadiakanwal3472/Python-Learning-2025/blob/main/basics_python_programs___05.ipynb\" target=\"_parent\"><img src=\"https://colab.research.google.com/assets/colab-badge.svg\" alt=\"Open In Colab\"/></a>"
      ]
    },
    {
      "cell_type": "markdown",
      "id": "713ad47e-b895-45b7-9aa0-e13fb67b285b",
      "metadata": {
        "id": "713ad47e-b895-45b7-9aa0-e13fb67b285b"
      },
      "source": [
        "## Program 81\n",
        "Define a class with a generator which can iterate the numbers, which are divisible by\n",
        "7, between a given range 0 and n."
      ]
    },
    {
      "cell_type": "code",
      "execution_count": null,
      "id": "6fdfc9e4-2c8e-4777-b60e-ce2fecf8693c",
      "metadata": {
        "id": "6fdfc9e4-2c8e-4777-b60e-ce2fecf8693c"
      },
      "outputs": [],
      "source": [
        "class DivisibleBySeven:\n",
        " def __init__(self,n):\n",
        "      self.n = n\n",
        "\n",
        " def generate_divisible_by_seven(self):\n",
        "    for num in range(self.n + 1):\n",
        "     if num%7 == 0:\n",
        "       yield num\n"
      ]
    },
    {
      "cell_type": "code",
      "source": [
        "n = int(input(\"Enter your desired range: \"))\n",
        "\n",
        "divisible_by_seven_generator = DivisibleBySeven(n).generate_divisible_by_seven()\n",
        "for num in divisible_by_seven_generator:\n",
        "    print(num)"
      ],
      "metadata": {
        "colab": {
          "base_uri": "https://localhost:8080/"
        },
        "id": "rOYPgiMeQvHx",
        "outputId": "687f670d-430e-4616-e771-9383759b81d3"
      },
      "id": "rOYPgiMeQvHx",
      "execution_count": null,
      "outputs": [
        {
          "output_type": "stream",
          "name": "stdout",
          "text": [
            "Enter your desired range: 50\n",
            "0\n",
            "7\n",
            "14\n",
            "21\n",
            "28\n",
            "35\n",
            "42\n",
            "49\n"
          ]
        }
      ]
    },
    {
      "cell_type": "markdown",
      "id": "148d541d-0020-4a58-8f12-f34134face05",
      "metadata": {
        "id": "148d541d-0020-4a58-8f12-f34134face05"
      },
      "source": [
        "## Program 82\n",
        "Write a program to compute the frequency of the words from the input. The output\n",
        "should output after sorting the key alphanumerically. Suppose the following input is\n",
        "supplied to the program:\n",
        "New to Python or choosing between Python 2 and Python 3? Read Python 2 or\n",
        "Python 3.\n",
        "Then, the output should be:\n",
        "###### 2:2\n",
        "###### 3.:1\n",
        "###### 3?:1\n",
        "###### New:1\n",
        "###### Python:5\n",
        "###### Read:1\n",
        "###### and:1\n",
        "###### between:1\n",
        "###### choosing:1\n",
        "###### or:2\n",
        "###### to:1"
      ]
    },
    {
      "cell_type": "code",
      "execution_count": null,
      "id": "c4f95527-663e-4ab1-9f3c-380c8187602d",
      "metadata": {
        "colab": {
          "base_uri": "https://localhost:8080/"
        },
        "id": "c4f95527-663e-4ab1-9f3c-380c8187602d",
        "outputId": "9b3eb75f-942b-4ea6-d8d1-2c5a7b01a45a"
      },
      "outputs": [
        {
          "output_type": "stream",
          "name": "stdout",
          "text": [
            "Enter a sentence: New to python or choosing between python 2 and python 3?\n",
            "2:1\n",
            "3:1\n",
            "and:1\n",
            "between:1\n",
            "choosing:1\n",
            "new:1\n",
            "or:1\n",
            "python:3\n",
            "to:1\n"
          ]
        }
      ],
      "source": [
        "input_sentence = input(\"Enter a sentence: \")\n",
        "# Split the sentence into words\n",
        "words = input_sentence.split()\n",
        "# Create a dictionary to store word frequencies\n",
        "word_freq = {}\n",
        "# Count word frequencies\n",
        "for word in words:\n",
        " # Remove punctuation (., ?) from the word\n",
        " word = word.strip('.,?')\n",
        " # Convert the word to lowercase to ensure case-insensitive counting\n",
        " word = word.lower()\n",
        " # Update the word frequency in the dictionary\n",
        " if word in word_freq:\n",
        "     word_freq[word] += 1\n",
        " else:\n",
        "    word_freq[word] = 1\n",
        "# Sort the words alphanumerically\n",
        "sorted_words = sorted(word_freq.items())\n",
        "# Print the word frequencies\n",
        "for word, frequency in sorted_words:\n",
        "    print(f\"{word}:{frequency}\")"
      ]
    },
    {
      "cell_type": "markdown",
      "id": "4781d530-4518-4535-8df1-eba1d916600f",
      "metadata": {
        "id": "4781d530-4518-4535-8df1-eba1d916600f"
      },
      "source": [
        "## Program 83\n",
        "Define a class Person and its two child classes: Male and Female. All classes have a\n",
        "method \"getGender\" which can print \"Male\" for Male class and \"Female\" for Female\n",
        "class."
      ]
    },
    {
      "cell_type": "code",
      "execution_count": null,
      "id": "fcdf3908-500b-47c4-85ad-8a739ede8744",
      "metadata": {
        "id": "fcdf3908-500b-47c4-85ad-8a739ede8744"
      },
      "outputs": [],
      "source": [
        "class Person:\n",
        " def getGender(self):\n",
        "    return \"Unknown\"\n",
        "class Male(Person):\n",
        " def getGender(self):\n",
        "    return \"Male\"\n",
        "class Female(Person):\n",
        " def getGender(self):\n",
        "     return \"Female\""
      ]
    },
    {
      "cell_type": "code",
      "execution_count": null,
      "id": "ac4b301a-8871-45d5-853d-77384c5658e3",
      "metadata": {
        "colab": {
          "base_uri": "https://localhost:8080/"
        },
        "id": "ac4b301a-8871-45d5-853d-77384c5658e3",
        "outputId": "08b64834-42dd-48d6-91d4-640d04c9fe43"
      },
      "outputs": [
        {
          "output_type": "stream",
          "name": "stdout",
          "text": [
            "Unknown\n",
            "Male\n",
            "Female\n"
          ]
        }
      ],
      "source": [
        "person = Person()\n",
        "male = Male()\n",
        "female = Female()\n",
        "\n",
        "print(person.getGender())\n",
        "print(male.getGender())\n",
        "print(female.getGender())"
      ]
    },
    {
      "cell_type": "markdown",
      "id": "da409f7c-82a0-47c0-a41f-218cbac77edc",
      "metadata": {
        "id": "da409f7c-82a0-47c0-a41f-218cbac77edc"
      },
      "source": [
        "## Program 84\n",
        "Please write a program to generate all sentences where subject is in [\"I\", \"You\"] and\n",
        "verb is in [\"Play\", \"Love\"] and the object is in [\"Hockey\",\"Football\"]"
      ]
    },
    {
      "cell_type": "code",
      "execution_count": null,
      "id": "b775153b-70ca-4983-91db-348c3ad8434d",
      "metadata": {
        "colab": {
          "base_uri": "https://localhost:8080/"
        },
        "id": "b775153b-70ca-4983-91db-348c3ad8434d",
        "outputId": "ff6f4ea7-d698-4bb5-aa8f-350751a69c07"
      },
      "outputs": [
        {
          "output_type": "stream",
          "name": "stdout",
          "text": [
            "I Play Football.\n",
            "I Love Football.\n",
            "I Play Football.\n",
            "I Love Football.\n",
            "You Play Football.\n",
            "You Love Football.\n"
          ]
        }
      ],
      "source": [
        "subjects = [\"I\", \"You\"]\n",
        "verbs = [\"Play\", \"Love\"]\n",
        "objects = [\"Hockey\", \"Football\"]\n",
        "sentences = []\n",
        "for sub in subjects:\n",
        " for vrb in verbs:\n",
        "     for obj in objects:\n",
        "      sentence = f\"{sub} {vrb} {obj}.\"\n",
        "     sentences.append(sentence)\n",
        " for sentence in sentences:\n",
        "    print(sentence)"
      ]
    },
    {
      "cell_type": "markdown",
      "id": "1f4ee688-b718-4484-9696-84a4d123bc67",
      "metadata": {
        "id": "1f4ee688-b718-4484-9696-84a4d123bc67"
      },
      "source": [
        "## Program 85\n",
        "Please write a program to compress and decompress the string \"hello world!hello\n",
        "world!hello world!hello world!\"."
      ]
    },
    {
      "cell_type": "code",
      "execution_count": null,
      "id": "a8fc6ffa-699c-4e85-b25b-83b803e5e804",
      "metadata": {
        "id": "a8fc6ffa-699c-4e85-b25b-83b803e5e804",
        "outputId": "e793e986-6dcf-4e73-a40c-070d65187ee3"
      },
      "outputs": [
        {
          "name": "stdout",
          "output_type": "stream",
          "text": [
            "Original String: hello world!hello world!hello world!hello world!\n",
            "Compressed String: b'x\\x9c\\xcbH\\xcd\\xc9\\xc9W(\\xcf/\\xcaIQ\\xcc \\x82\\r\\x00\\xbd[\\x11\\xf5'\n",
            "Decompressed String: hello world!hello world!hello world!hello world!\n"
          ]
        }
      ],
      "source": [
        "import zlib\n",
        "string = \"hello world!hello world!hello world!hello world!\"\n",
        "# Compress the string\n",
        "compressed_string = zlib.compress(string.encode())\n",
        "# Decompress the string\n",
        "decompressed_string = zlib.decompress(compressed_string).decode()\n",
        "print(\"Original String:\", string)\n",
        "print(\"Compressed String:\", compressed_string)\n",
        "print(\"Decompressed String:\", decompressed_string)"
      ]
    },
    {
      "cell_type": "markdown",
      "id": "54d19d20-12ea-4c2a-8e61-1981ccd3f29b",
      "metadata": {
        "id": "54d19d20-12ea-4c2a-8e61-1981ccd3f29b"
      },
      "source": [
        "## Program 86\n",
        "Please write a binary search function which searches an item in a sorted list. The\n",
        "function should return the index of element to be searched in the list."
      ]
    },
    {
      "cell_type": "code",
      "execution_count": null,
      "id": "fb5a0c71-6cf2-422e-8718-cae89ced4dfe",
      "metadata": {
        "colab": {
          "base_uri": "https://localhost:8080/"
        },
        "id": "fb5a0c71-6cf2-422e-8718-cae89ced4dfe",
        "outputId": "4328ace0-a34f-4eb3-903a-707f58ee74ca"
      },
      "outputs": [
        {
          "output_type": "stream",
          "name": "stdout",
          "text": [
            "Element 4 found at index 3\n"
          ]
        }
      ],
      "source": [
        "def binary_search(arr, target):\n",
        "     left, right = 0, len(arr) - 1\n",
        "     while left <= right:\n",
        "          mid = (left + right) // 2\n",
        "\n",
        "          if arr[mid] == target:\n",
        "            return mid # Element found, return its index\n",
        "          elif arr[mid] < target:\n",
        "            left = mid + 1 # Target is in the right half\n",
        "          else:\n",
        "             right = mid - 1 # Target is in the left half\n",
        "\n",
        "     return -1 # Element not found in the list\n",
        "# Example usage:\n",
        "sorted_list = [1, 2, 3, 4, 5, 6, 7, 8, 9]\n",
        "target_element = 4\n",
        "\n",
        "result = binary_search(sorted_list, target_element)\n",
        "if result != -1:\n",
        "    print(f\"Element {target_element} found at index {result}\")\n",
        "else:\n",
        "    print(f\"Element {target_element} not found in the list\")"
      ]
    },
    {
      "cell_type": "markdown",
      "id": "71173a4e-1c05-4054-9702-bc4c272929d3",
      "metadata": {
        "id": "71173a4e-1c05-4054-9702-bc4c272929d3"
      },
      "source": [
        "## Program 87\n",
        "Please write a program using generator to print the numbers which can be divisible\n",
        "by 5 and 7 between 0 and n in comma separated form while n is input by console.\n",
        "## Example:\n",
        "If the following n is given as input to the program:\n",
        "100\n",
        "Then, the output of the program should be:\n",
        "0,35,70"
      ]
    },
    {
      "cell_type": "code",
      "execution_count": null,
      "id": "c4ccb074-8f79-4cd7-85aa-9e3d9d283b93",
      "metadata": {
        "id": "c4ccb074-8f79-4cd7-85aa-9e3d9d283b93"
      },
      "outputs": [],
      "source": [
        "def divisible_by_5_and_7(n):\n",
        " for num in range(n + 1):\n",
        "   if num % 5 == 0 and num % 7 == 0:\n",
        "     yield num"
      ]
    },
    {
      "cell_type": "code",
      "execution_count": null,
      "id": "b5171fcd-a711-488d-a4f9-f9690651f841",
      "metadata": {
        "colab": {
          "base_uri": "https://localhost:8080/"
        },
        "id": "b5171fcd-a711-488d-a4f9-f9690651f841",
        "outputId": "dd9da3e9-72f3-4dde-87df-349fad1d60f9"
      },
      "outputs": [
        {
          "output_type": "stream",
          "name": "stdout",
          "text": [
            "Enter a value for n: 100\n",
            "0,35,70\n"
          ]
        }
      ],
      "source": [
        "try:\n",
        "   n = int(input(\"Enter a value for n: \"))\n",
        "   result = divisible_by_5_and_7(n)\n",
        "   print(','.join(map(str, result)))\n",
        "except ValueError:\n",
        "     print(\"Invalid input. Please enter a valid integer for n.\")"
      ]
    },
    {
      "cell_type": "markdown",
      "id": "ae73f222-a637-4a21-8adb-499afa03f26b",
      "metadata": {
        "id": "ae73f222-a637-4a21-8adb-499afa03f26b"
      },
      "source": [
        "## Program 88\n",
        "Please write a program using generator to print the even numbers between 0 and n in\n",
        "comma separated form while n is input by console.\n",
        "## Example:\n",
        "If the following n is given as input to the program:\n",
        "10\n",
        "Then, the output of the program should be:\n",
        "0,2,4,6,8,10"
      ]
    },
    {
      "cell_type": "code",
      "execution_count": null,
      "id": "429a503a-701f-4a01-b458-f11f301f40ab",
      "metadata": {
        "id": "429a503a-701f-4a01-b458-f11f301f40ab"
      },
      "outputs": [],
      "source": [
        "def even_numbers(n):\n",
        " for num in range(n + 1):\n",
        "    if num % 2 == 0:\n",
        "      yield num"
      ]
    },
    {
      "cell_type": "code",
      "execution_count": null,
      "id": "cbb59f42-6881-4f06-8ebe-e7b1f131516b",
      "metadata": {
        "colab": {
          "base_uri": "https://localhost:8080/",
          "height": 238
        },
        "id": "cbb59f42-6881-4f06-8ebe-e7b1f131516b",
        "outputId": "7d04dc5f-0a72-43df-9275-5f4e6e144d0f"
      },
      "outputs": [
        {
          "name": "stdout",
          "output_type": "stream",
          "text": [
            "Enter a value for n: 12\n"
          ]
        },
        {
          "output_type": "error",
          "ename": "NameError",
          "evalue": "name 'even_numbers' is not defined",
          "traceback": [
            "\u001b[0;31m---------------------------------------------------------------------------\u001b[0m",
            "\u001b[0;31mNameError\u001b[0m                                 Traceback (most recent call last)",
            "\u001b[0;32m<ipython-input-35-5a1534f4ed3e>\u001b[0m in \u001b[0;36m<cell line: 0>\u001b[0;34m()\u001b[0m\n\u001b[1;32m      2\u001b[0m      \u001b[0mn\u001b[0m \u001b[0;34m=\u001b[0m \u001b[0mint\u001b[0m\u001b[0;34m(\u001b[0m\u001b[0minput\u001b[0m\u001b[0;34m(\u001b[0m\u001b[0;34m\"Enter a value for n: \"\u001b[0m\u001b[0;34m)\u001b[0m\u001b[0;34m)\u001b[0m\u001b[0;34m\u001b[0m\u001b[0;34m\u001b[0m\u001b[0m\n\u001b[1;32m      3\u001b[0m      \u001b[0mn\u001b[0m \u001b[0;34m=\u001b[0m \u001b[0;36m10\u001b[0m\u001b[0;34m\u001b[0m\u001b[0;34m\u001b[0m\u001b[0m\n\u001b[0;32m----> 4\u001b[0;31m      \u001b[0mresult\u001b[0m \u001b[0;34m=\u001b[0m \u001b[0meven_numbers\u001b[0m\u001b[0;34m(\u001b[0m\u001b[0mn\u001b[0m\u001b[0;34m)\u001b[0m\u001b[0;34m\u001b[0m\u001b[0;34m\u001b[0m\u001b[0m\n\u001b[0m\u001b[1;32m      5\u001b[0m      \u001b[0mprint\u001b[0m\u001b[0;34m(\u001b[0m\u001b[0;34m','\u001b[0m\u001b[0;34m.\u001b[0m\u001b[0mjoin\u001b[0m\u001b[0;34m(\u001b[0m\u001b[0mmap\u001b[0m\u001b[0;34m(\u001b[0m\u001b[0mstr\u001b[0m\u001b[0;34m,\u001b[0m \u001b[0mresult\u001b[0m\u001b[0;34m)\u001b[0m\u001b[0;34m)\u001b[0m\u001b[0;34m)\u001b[0m\u001b[0;34m\u001b[0m\u001b[0;34m\u001b[0m\u001b[0m\n\u001b[1;32m      6\u001b[0m \u001b[0;32mexcept\u001b[0m \u001b[0mValueError\u001b[0m\u001b[0;34m:\u001b[0m\u001b[0;34m\u001b[0m\u001b[0;34m\u001b[0m\u001b[0m\n",
            "\u001b[0;31mNameError\u001b[0m: name 'even_numbers' is not defined"
          ]
        }
      ],
      "source": [
        "try:\n",
        "     n = int(input(\"Enter a value for n: \"))\n",
        "     n = 10\n",
        "     result = even_numbers(n)\n",
        "     print(','.join(map(str, result)))\n",
        "except ValueError:\n",
        "      print(\"Invalid input. Please enter a valid integer for n.\")"
      ]
    },
    {
      "cell_type": "markdown",
      "id": "0dc3b29c-2f0f-47d1-b172-3b4adb38bba0",
      "metadata": {
        "id": "0dc3b29c-2f0f-47d1-b172-3b4adb38bba0"
      },
      "source": [
        "## Program 89\n",
        "The Fibonacci Sequence is computed based on the following formula:\n",
        "###### f(n)=0 if n=0\n",
        "###### f(n)=1 if n=1\n",
        "###### f(n)=f(n-1)+f(n-2) if n>1\n",
        "###### Please write a program using list comprehension to print the Fibonacci Sequence in\n",
        "comma separated form with a given n input by console.\n",
        "## Example:\n",
        "If the following n is given as input to the program:\n",
        " ###### 8\n",
        "Then, the output of the program should be:\n",
        "###### 0,1,1,2,3,5,8,13"
      ]
    },
    {
      "cell_type": "code",
      "execution_count": null,
      "id": "47b1c417-49d8-4b58-ae5f-e5d0e4fbf6f1",
      "metadata": {
        "id": "47b1c417-49d8-4b58-ae5f-e5d0e4fbf6f1"
      },
      "outputs": [],
      "source": [
        "def fibonacci(n):\n",
        " sequence = [0, 1] # Initializing the sequence with the first two F\n",
        " [sequence.append(sequence[-1] + sequence[-2]) for _ in range(2, n)]\n",
        " return sequence"
      ]
    },
    {
      "cell_type": "code",
      "execution_count": null,
      "id": "8596e419-e5c0-48e3-8de5-03a2f425ad7c",
      "metadata": {
        "id": "8596e419-e5c0-48e3-8de5-03a2f425ad7c",
        "outputId": "c28c9c81-b89a-47e2-bb2b-f2337ef1739b"
      },
      "outputs": [
        {
          "name": "stdin",
          "output_type": "stream",
          "text": [
            "Enter a value for n:  8\n"
          ]
        },
        {
          "name": "stdout",
          "output_type": "stream",
          "text": [
            "0,1,1,2,3,5,8,13\n"
          ]
        }
      ],
      "source": [
        "try:\n",
        " n = int(input(\"Enter a value for n: \"))\n",
        " result = fibonacci(n)\n",
        " print(','.join(map(str, result)))\n",
        "except ValueError:\n",
        " print(\"Invalid input. Please enter a valid integer for n.\")"
      ]
    },
    {
      "cell_type": "markdown",
      "id": "b2c54c5c-68e7-4f0c-9559-fe8bd4da900b",
      "metadata": {
        "id": "b2c54c5c-68e7-4f0c-9559-fe8bd4da900b"
      },
      "source": [
        "## Program 90\n",
        "Assuming that we have some email addresses in the\n",
        "\"username@companyname.com (mailto:username@companyname.com)\" format,\n",
        "please write program to print the user name of a given email address. Both user\n",
        "names and company names are composed of letters only.\n",
        "## Example:\n",
        "If the following email address is given as input to the program:\n",
        "Then, the output of the program should be:\n",
        "john"
      ]
    },
    {
      "cell_type": "code",
      "execution_count": 1,
      "id": "33faa0db-23ab-451c-821d-14b468280a9d",
      "metadata": {
        "id": "33faa0db-23ab-451c-821d-14b468280a9d"
      },
      "outputs": [],
      "source": [
        "def extract_username(email):\n",
        "    # Split the email address at '@' to separate the username and domai\n",
        "    parts = email.split('@')\n",
        "\n",
        "    # Check if the email address has the expected format\n",
        "    if len(parts) == 2:\n",
        "         return parts[0] # The username is the first part\n",
        "    else:\n",
        "         return \"Invalid email format\"\n"
      ]
    },
    {
      "cell_type": "code",
      "execution_count": 2,
      "id": "54091439-e2a4-48fc-b46e-03ee0cfad99d",
      "metadata": {
        "id": "54091439-e2a4-48fc-b46e-03ee0cfad99d",
        "outputId": "061d71b5-925e-48ee-e4e8-e372293db2e4",
        "colab": {
          "base_uri": "https://localhost:8080/"
        }
      },
      "outputs": [
        {
          "output_type": "stream",
          "name": "stdout",
          "text": [
            "Enter an email address: k4638656@gmail.com\n",
            "k4638656\n"
          ]
        }
      ],
      "source": [
        "try:\n",
        "     email = input(\"Enter an email address: \")\n",
        "     username = extract_username(email)\n",
        "     print(username)\n",
        "except ValueError:\n",
        "     print(\"Invalid input. Please enter a valid email address.\")"
      ]
    },
    {
      "cell_type": "markdown",
      "id": "5152f08c-c5d4-4415-8c3a-d0ca3b8e74f9",
      "metadata": {
        "id": "5152f08c-c5d4-4415-8c3a-d0ca3b8e74f9"
      },
      "source": [
        "## Program 91\n",
        "Define a class named Shape and its subclass Square. The Square class has an init\n",
        "function which takes a length as argument. Both classes have an area function which\n",
        "can print the area of the shape where Shape's area is 0 by default."
      ]
    },
    {
      "cell_type": "code",
      "execution_count": 3,
      "id": "460d80ef-c11d-4c8d-803f-63b44b6cb856",
      "metadata": {
        "id": "460d80ef-c11d-4c8d-803f-63b44b6cb856"
      },
      "outputs": [],
      "source": [
        "class Shape:\n",
        " def __init__(self):\n",
        "     pass # Default constructor, no need to initialize anything\n",
        " def area(self):\n",
        "     return 0 # Shape's area is 0 by default\n",
        "class Square(Shape):\n",
        " def __init__(self, length):\n",
        "     super().__init__() # Call the constructor of the parent class\n",
        "     self.length = length\n",
        " def area(self):\n",
        "        return self.length ** 2 # Calculate the area of the square"
      ]
    },
    {
      "cell_type": "code",
      "execution_count": 4,
      "id": "d996eabc-9312-4809-846c-9081483188a0",
      "metadata": {
        "id": "d996eabc-9312-4809-846c-9081483188a0",
        "outputId": "f7a34a0f-0ed2-4b67-8400-42ea60e4dda7",
        "colab": {
          "base_uri": "https://localhost:8080/"
        }
      },
      "outputs": [
        {
          "output_type": "stream",
          "name": "stdout",
          "text": [
            "Enter the shape of the square: 5\n",
            "Shape's area by default: 0\n",
            "Area of the square: 25.0\n"
          ]
        }
      ],
      "source": [
        "# Create instances of the classes\n",
        "shape = Shape()\n",
        "square = Square(float(input(\"Enter the shape of the square: \")))\n",
        "\n",
        "# Calculate and print the areas\n",
        "print(\"Shape's area by default:\", shape.area())\n",
        "print(\"Area of the square:\", square.area())"
      ]
    },
    {
      "cell_type": "markdown",
      "id": "b3cda81e-729b-4826-8c8a-d1459b2f6eb9",
      "metadata": {
        "id": "b3cda81e-729b-4826-8c8a-d1459b2f6eb9"
      },
      "source": [
        "## Program 92\n",
        "Write a function that stutters a word as if someone is struggling to read it. The first\n",
        "two letters are repeated twice with an ellipsis ... and space after each, and then the\n",
        "word is pronounced with a question mark ?.\n",
        "## Examples\n",
        "###### stutter(\"incredible\") ➞ \"in... in... incredible?\"\n",
        "###### stutter(\"enthusiastic\") ➞ \"en... en... enthusiastic?\"\n",
        "###### stutter(\"outstanding\") ➞ \"ou... ou... outstanding?\"\n",
        "##### Hint :- Assume all input is in lower case and at least two characters long."
      ]
    },
    {
      "cell_type": "code",
      "execution_count": 5,
      "id": "5e7e4dcc-1771-4cf2-8053-d07b9f60f4f0",
      "metadata": {
        "id": "5e7e4dcc-1771-4cf2-8053-d07b9f60f4f0"
      },
      "outputs": [],
      "source": [
        "def stutter(word):\n",
        "      if len(word) < 2:\n",
        "        return \"Word must be at least two characters long.\"\n",
        "\n",
        "        stuttered_word = f\"{word[:2]}... {word[:2]}... {word}?\"\n",
        "        return stuttered_word"
      ]
    },
    {
      "cell_type": "code",
      "execution_count": 6,
      "id": "aab08454-b85a-4f48-9131-5f3c3201f905",
      "metadata": {
        "id": "aab08454-b85a-4f48-9131-5f3c3201f905",
        "outputId": "9f86ad73-5cb2-43f7-bd3e-e7e320a6e81a",
        "colab": {
          "base_uri": "https://localhost:8080/"
        }
      },
      "outputs": [
        {
          "output_type": "stream",
          "name": "stdout",
          "text": [
            "None\n",
            "None\n",
            "None\n"
          ]
        }
      ],
      "source": [
        "# Test cases\n",
        "print(stutter(\"incredible\"))\n",
        "print(stutter(\"enthusiastic\"))\n",
        "print(stutter(\"outstanding\"))\n"
      ]
    },
    {
      "cell_type": "markdown",
      "id": "f49fcb17-e9e3-447f-b7ec-1bbd71926220",
      "metadata": {
        "id": "f49fcb17-e9e3-447f-b7ec-1bbd71926220"
      },
      "source": [
        "## Program 93\n",
        "Create a function that takes an angle in radians and returns the corresponding angle\n",
        "in degrees rounded to one decimal place.\n",
        "## Examples\n",
        "##### radians_to_degrees(1) ➞ 57.3\n",
        "##### radians_to_degrees(20) ➞ 1145.9\n",
        "##### radians_to_degrees(50) ➞ 2864.8"
      ]
    },
    {
      "cell_type": "code",
      "execution_count": null,
      "id": "585693d7-6fbe-401a-bc5b-9ee4c15cdcd6",
      "metadata": {
        "id": "585693d7-6fbe-401a-bc5b-9ee4c15cdcd6"
      },
      "outputs": [],
      "source": [
        "import math\n",
        "def radians_to_degrees(radians):\n",
        " degrees = radians * (180 / math.pi)\n",
        " return round(degrees, 1)\n"
      ]
    },
    {
      "cell_type": "code",
      "execution_count": null,
      "id": "1b0ea172-1e3f-4496-8788-996a6da7508a",
      "metadata": {
        "id": "1b0ea172-1e3f-4496-8788-996a6da7508a",
        "outputId": "6aa8eb9f-4ee7-4fed-9e94-0909b3e35b22"
      },
      "outputs": [
        {
          "name": "stdout",
          "output_type": "stream",
          "text": [
            "57.3\n",
            "1145.9\n",
            "2864.8\n"
          ]
        }
      ],
      "source": [
        "# Test cases\n",
        "print(radians_to_degrees(1))\n",
        "print(radians_to_degrees(20))\n",
        "print(radians_to_degrees(50))"
      ]
    },
    {
      "cell_type": "markdown",
      "id": "1fb59635-ecca-4fcc-ba33-f0c35b7c923a",
      "metadata": {
        "id": "1fb59635-ecca-4fcc-ba33-f0c35b7c923a"
      },
      "source": [
        "## Program 94\n",
        "In this challenge, establish if a given integer num is a Curzon number. If 1 plus 2\n",
        "elevated to num is exactly divisible by 1 plus 2 multiplied by num, then num is a\n",
        "Curzon number.\n",
        "Given a non-negative integer num, implement a function that returns True if num is a\n",
        "Curzon number, or False otherwise.\n",
        "## Example\n",
        "    is_curzon(5) ➞ True\n",
        "#### 2 ** 5 + 1 = 33\n",
        "#### 2 * 5 + 1 = 11\n",
        "#### 33 is a multiple of 11\n",
        "is_curzon(10) ➞ False\n",
        "#### 2 ** 10 + 1 = 1025\n",
        "#### 2 * 10 + 1 = 21\n",
        "#### 1025 is not a multiple of 21\n",
        "is_curzon(14) ➞ True\n",
        "#### 2 ** 14 + 1 = 16385\n",
        "#### 2 * 14 + 1 = 29\n",
        "#### 16385 is a multiple of 29\n",
        "## Curzon Number:\n",
        "It is defined based on a specific mathematical relationship involving powers of 2. An integer\n",
        "'n' is considered a Curzon number if it satisfies the following condition:\n",
        "If (2^n + 1) is divisible by (2n + 1), then 'n' is a Curzon number.\n",
        "## For example:\n",
        "##### If n = 5: 2^5 + 1 = 33, and 2*5 + 1 = 11. Since 33 is divisible by 11 (33 % 11 = 0), 5 is a\n",
        "Curzon number.\n",
        "##### If n = 10: 2^10 + 1 = 1025, and 2*10 + 1 = 21. 1025 is not divisible by 21, so 10 is not a\n",
        "Curzon number.\n",
        "Curzon numbers are a specific subset of integers with this unique mathematical property."
      ]
    },
    {
      "cell_type": "code",
      "execution_count": null,
      "id": "bb006e52-a6eb-487d-b92b-11bfb0523099",
      "metadata": {
        "id": "bb006e52-a6eb-487d-b92b-11bfb0523099"
      },
      "outputs": [],
      "source": [
        "def is_curzon(num):\n",
        " numerator = 2 ** num + 1\n",
        " denominator = 2 * num + 1\n",
        " return numerator % denominator == 0"
      ]
    },
    {
      "cell_type": "code",
      "execution_count": null,
      "id": "66b0e00c-6e08-4d66-8979-2a4bcd99b4b4",
      "metadata": {
        "id": "66b0e00c-6e08-4d66-8979-2a4bcd99b4b4",
        "outputId": "d641ac10-609b-4349-c1e8-5f63e2b8517b"
      },
      "outputs": [
        {
          "name": "stdout",
          "output_type": "stream",
          "text": [
            "True\n",
            "False\n",
            "True\n"
          ]
        }
      ],
      "source": [
        "# Test cases\n",
        "print(is_curzon(5))\n",
        "print(is_curzon(10))\n",
        "print(is_curzon(14))"
      ]
    },
    {
      "cell_type": "markdown",
      "id": "10152eff-3ad2-43b4-8d23-92b134a316ed",
      "metadata": {
        "id": "10152eff-3ad2-43b4-8d23-92b134a316ed"
      },
      "source": [
        "## Program 95\n",
        "Given the side length x find the area of a hexagon.\n",
        "## Examples\n",
        "#### area_of_hexagon(1) ➞ 2.6\n",
        "#### area_of_hexagon(2) ➞ 10.4\n",
        "#### area_of_hexagon(3) ➞ 23.4"
      ]
    },
    {
      "cell_type": "code",
      "execution_count": null,
      "id": "91ca2e2b-cee0-4021-87f9-a3a9cd057184",
      "metadata": {
        "id": "91ca2e2b-cee0-4021-87f9-a3a9cd057184"
      },
      "outputs": [],
      "source": [
        "import math\n",
        "def area_of_hexagon(x):\n",
        " area = (3 * math.sqrt(3) * x**2) / 2\n",
        " return round(area, 1)"
      ]
    },
    {
      "cell_type": "code",
      "execution_count": null,
      "id": "75b8f968-676e-4662-9371-dc02e45a847a",
      "metadata": {
        "id": "75b8f968-676e-4662-9371-dc02e45a847a",
        "outputId": "cb080f02-8b15-41e7-f923-ea3739b6e073"
      },
      "outputs": [
        {
          "name": "stdout",
          "output_type": "stream",
          "text": [
            "2.6\n",
            "10.4\n",
            "23.4\n"
          ]
        }
      ],
      "source": [
        "# Example usage:\n",
        "print(area_of_hexagon(1))\n",
        "print(area_of_hexagon(2))\n",
        "print(area_of_hexagon(3))\n"
      ]
    },
    {
      "cell_type": "markdown",
      "id": "9b25e9b6-3e1a-49c8-a0a6-5ec8bc6d049a",
      "metadata": {
        "id": "9b25e9b6-3e1a-49c8-a0a6-5ec8bc6d049a"
      },
      "source": [
        "## Program 96\n",
        "Create a function that returns a base-2 (binary) representation of a base-10 (decimal)\n",
        "string number. To convert is simple: ((2) means base-2 and (10) means base-10)\n",
        "010101001(2) = 1 + 8 + 32 + 128.\n",
        "Going from right to left, the value of the most right bit is 1, now from that every bit to\n",
        "the left will be x2 the value, value of an 8 bit binary numbers are (256, 128, 64, 32, 16,\n",
        "8, 4, 2, 1).\n",
        "## Examples\n",
        "binary(1) ➞ \"1\"\n",
        "### 1*1 = 1\n",
        "binary(5) ➞ \"101\"\n",
        "### 1*1 + 1*4 = 5\n",
        "binary(10) ➞ 1010\n",
        "### 1*2 + 1*8 = 10"
      ]
    },
    {
      "cell_type": "code",
      "execution_count": 7,
      "id": "fd44142e-0894-48ec-acda-41ff3ab2a01b",
      "metadata": {
        "id": "fd44142e-0894-48ec-acda-41ff3ab2a01b"
      },
      "outputs": [],
      "source": [
        "def binary(decimal):\n",
        " binary_str = \"\"\n",
        " while decimal > 0:\n",
        "    remainder = decimal % 2\n",
        "    binary_str = str(remainder) + binary_str\n",
        "    decimal = decimal // 2\n",
        " return binary_str if binary_str else \"0\""
      ]
    },
    {
      "cell_type": "code",
      "execution_count": 9,
      "id": "ada00abb-4ff9-45d9-a241-e51aa473233c",
      "metadata": {
        "id": "ada00abb-4ff9-45d9-a241-e51aa473233c",
        "outputId": "86d8b4d5-a325-46de-d622-4dcaddf77257",
        "colab": {
          "base_uri": "https://localhost:8080/"
        }
      },
      "outputs": [
        {
          "output_type": "stream",
          "name": "stdout",
          "text": [
            "1\n",
            "101\n",
            "1010\n"
          ]
        }
      ],
      "source": [
        "print(binary(1))\n",
        "print(binary(5))\n",
        "print(binary(10))"
      ]
    },
    {
      "cell_type": "markdown",
      "id": "72358362-a9de-4066-8cfa-c0ec6ea3c96f",
      "metadata": {
        "id": "72358362-a9de-4066-8cfa-c0ec6ea3c96f"
      },
      "source": [
        "## Program 97\n",
        "Create a function that takes three arguments a, b, c and returns the sum of the\n",
        "numbers that are evenly divided by c from the range a, b inclusive.\n",
        "## Examples\n",
        "evenly_divisible(1, 10, 20) ➞ 0\n",
        "####  No number between 1 and 10 can be evenly divided by 20.\n",
        "evenly_divisible(1, 10, 2) ➞ 30\n",
        "#### 2 + 4 + 6 + 8 + 10 = 30\n",
        "evenly_divisible(1, 10, 3) ➞ 18\n",
        "####  3 + 6 + 9 = 1"
      ]
    },
    {
      "cell_type": "code",
      "execution_count": 10,
      "id": "5a7387af-4373-4386-affb-9bce745a1406",
      "metadata": {
        "id": "5a7387af-4373-4386-affb-9bce745a1406"
      },
      "outputs": [],
      "source": [
        "def evenly_divisible(a, b, c):\n",
        " total = 0\n",
        " for num in range(a, b + 1):\n",
        "      if num % c == 0:\n",
        "         total += num\n",
        " return total"
      ]
    },
    {
      "cell_type": "code",
      "execution_count": 11,
      "id": "b2ff6141-c9dc-423c-a7be-eca8425fb0c7",
      "metadata": {
        "id": "b2ff6141-c9dc-423c-a7be-eca8425fb0c7",
        "outputId": "cab19762-7d21-49ac-b1ab-032ae1f4b608",
        "colab": {
          "base_uri": "https://localhost:8080/"
        }
      },
      "outputs": [
        {
          "output_type": "stream",
          "name": "stdout",
          "text": [
            "0\n",
            "30\n",
            "18\n"
          ]
        }
      ],
      "source": [
        "print(evenly_divisible(1, 10, 20))\n",
        "print(evenly_divisible(1, 10, 2))\n",
        "print(evenly_divisible(1, 10, 3))"
      ]
    },
    {
      "cell_type": "markdown",
      "id": "d4a6a68d-4e16-47c5-9bd5-941d155a50bb",
      "metadata": {
        "id": "d4a6a68d-4e16-47c5-9bd5-941d155a50bb"
      },
      "source": [
        "## Program 98\n",
        "Create a function that returns True if a given inequality expression is correct and\n",
        "False otherwise.\n",
        "## Examples\n",
        "correct_signs(\"3 < 7 < 11\") ➞ True\n",
        "correct_signs(\"13 > 44 > 33 <1\") ➞ False\n",
        "correct_signs(\"1 < 2 < 6 < 9 > 3\") ➞ True"
      ]
    },
    {
      "cell_type": "code",
      "execution_count": 12,
      "id": "51f8d647-dd6c-4226-a0f7-c7cbbec02075",
      "metadata": {
        "id": "51f8d647-dd6c-4226-a0f7-c7cbbec02075"
      },
      "outputs": [],
      "source": [
        "def correct_signs(expression):\n",
        " try:\n",
        "    return eval(expression)\n",
        " except:\n",
        "    return False"
      ]
    },
    {
      "cell_type": "code",
      "execution_count": 13,
      "id": "b773e25e-6f39-43b0-9d2c-ed6476aa6e00",
      "metadata": {
        "id": "b773e25e-6f39-43b0-9d2c-ed6476aa6e00",
        "outputId": "00bf7e1a-9715-4bf7-9205-e558a67199a7",
        "colab": {
          "base_uri": "https://localhost:8080/"
        }
      },
      "outputs": [
        {
          "output_type": "stream",
          "name": "stdout",
          "text": [
            "True\n",
            "False\n",
            "True\n"
          ]
        }
      ],
      "source": [
        "print(correct_signs(\"3 < 7 < 11\"))\n",
        "print(correct_signs(\"13 > 44 > 33 < 1\"))\n",
        "print(correct_signs(\"1 < 2 < 6 < 9 > 3\"))\n"
      ]
    },
    {
      "cell_type": "markdown",
      "id": "3d485016-a587-4284-9db9-a8b2cb8991be",
      "metadata": {
        "id": "3d485016-a587-4284-9db9-a8b2cb8991be"
      },
      "source": [
        "## Program 99\n",
        "Create a function that replaces all the vowels in a string with a specified character.\n",
        "## Examples\n",
        "###### replace_vowels(\"the aardvark\", \"#\") ➞ \"th# ##rdv#rk\"\n",
        "###### replace_vowels(\"minnie mouse\", \"?\") ➞ \"m?nn?? m??s?\"\n",
        "###### replace_vowels(\"shakespeare\", \"*\") ➞ \"shkspr*\""
      ]
    },
    {
      "cell_type": "code",
      "execution_count": 14,
      "id": "57eaf012-1666-41d4-909f-b292e66021f8",
      "metadata": {
        "id": "57eaf012-1666-41d4-909f-b292e66021f8"
      },
      "outputs": [],
      "source": [
        "def replace_vowels(string, char):\n",
        " vowels = \"AEIOUaeiou\" # List of vowels to be replaced\n",
        " for vowel in vowels:\n",
        "    string = string.replace(vowel, char) # Replace each vowel with\n",
        " return string"
      ]
    },
    {
      "cell_type": "code",
      "execution_count": 15,
      "id": "9adc370d-7907-4cf8-8b40-4c59317cf992",
      "metadata": {
        "id": "9adc370d-7907-4cf8-8b40-4c59317cf992",
        "outputId": "42eb61b3-a807-4589-f8ce-99e2b1e80d70",
        "colab": {
          "base_uri": "https://localhost:8080/"
        }
      },
      "outputs": [
        {
          "output_type": "stream",
          "name": "stdout",
          "text": [
            "th# ##rdv#rk\n",
            "m?nn?? m??s?\n",
            "sh*k*sp**r*\n"
          ]
        }
      ],
      "source": [
        "print(replace_vowels(\"the aardvark\", \"#\"))\n",
        "print(replace_vowels(\"minnie mouse\", \"?\"))\n",
        "print(replace_vowels(\"shakespeare\", \"*\"))"
      ]
    },
    {
      "cell_type": "markdown",
      "source": [
        "## Program 100\n",
        "Write a function that calculates the factorial of a number recursively.\n",
        "## Examples\n",
        "##### factorial(5) ➞ 120\n",
        "##### factorial(3) ➞ 6\n",
        "##### factorial(1) ➞ 1\n",
        "##### factorial(0) ➞ 1"
      ],
      "metadata": {
        "id": "q1krQ35kOIGX"
      },
      "id": "q1krQ35kOIGX"
    },
    {
      "cell_type": "code",
      "source": [
        "def factorial(n):\n",
        "   if n == 0:\n",
        "        return 1  # Base case: factorial of 0 is 1\n",
        "   else:\n",
        "        return n* factorial(n-1)  # recursive case: n! = n*(n-1)!\n"
      ],
      "metadata": {
        "id": "9iLzmcLxOS3c"
      },
      "id": "9iLzmcLxOS3c",
      "execution_count": 17,
      "outputs": []
    },
    {
      "cell_type": "code",
      "source": [
        "print(factorial(5))\n",
        "print(factorial(3))\n",
        "print(factorial(1))\n",
        "print(factorial(0))"
      ],
      "metadata": {
        "colab": {
          "base_uri": "https://localhost:8080/"
        },
        "id": "vXtDc2wDPfih",
        "outputId": "1b1788df-3c7c-4b54-cadc-28a22b431b68"
      },
      "id": "vXtDc2wDPfih",
      "execution_count": 18,
      "outputs": [
        {
          "output_type": "stream",
          "name": "stdout",
          "text": [
            "120\n",
            "6\n",
            "1\n",
            "1\n"
          ]
        }
      ]
    }
  ],
  "metadata": {
    "kernelspec": {
      "display_name": "Python 3 (ipykernel)",
      "language": "python",
      "name": "python3"
    },
    "language_info": {
      "codemirror_mode": {
        "name": "ipython",
        "version": 3
      },
      "file_extension": ".py",
      "mimetype": "text/x-python",
      "name": "python",
      "nbconvert_exporter": "python",
      "pygments_lexer": "ipython3",
      "version": "3.12.7"
    },
    "colab": {
      "provenance": [],
      "include_colab_link": true
    }
  },
  "nbformat": 4,
  "nbformat_minor": 5
}