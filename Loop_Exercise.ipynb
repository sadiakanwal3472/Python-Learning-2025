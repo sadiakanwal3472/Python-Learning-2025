{
  "cells": [
    {
      "cell_type": "markdown",
      "metadata": {
        "id": "view-in-github",
        "colab_type": "text"
      },
      "source": [
        "<a href=\"https://colab.research.google.com/github/sadiakanwal3472/Python-Learning-2025/blob/main/Loop_Exercise.ipynb\" target=\"_parent\"><img src=\"https://colab.research.google.com/assets/colab-badge.svg\" alt=\"Open In Colab\"/></a>"
      ]
    },
    {
      "cell_type": "markdown",
      "id": "26fd21be-24ab-4639-a0c7-8d5625b77c70",
      "metadata": {
        "id": "26fd21be-24ab-4639-a0c7-8d5625b77c70"
      },
      "source": [
        "# Exercise: Python Loop Lists"
      ]
    },
    {
      "cell_type": "markdown",
      "id": "c8a7e63d-b822-49c7-baaa-1fa5e45b7ea2",
      "metadata": {
        "id": "c8a7e63d-b822-49c7-baaa-1fa5e45b7ea2"
      },
      "source": [
        "1.What is a correct syntax for looping through the items of a list?"
      ]
    },
    {
      "cell_type": "markdown",
      "id": "4ca840a6-56ed-4610-a5ec-abcd06b26d4a",
      "metadata": {
        "id": "4ca840a6-56ed-4610-a5ec-abcd06b26d4a"
      },
      "source": [
        "##### a.for x in ['apple', 'banana', 'cherry']:\n",
        "  print(x)\n",
        "##### b.for x in ['apple', 'banana', 'cherry']\n",
        "  print(x)\n",
        "##### c.foreach x in ['apple', 'banana', 'cherry']\n",
        "  print(x)\n",
        "   ### a"
      ]
    },
    {
      "cell_type": "markdown",
      "id": "f5bdd723-f3a8-438b-8f07-48e6a8125cf4",
      "metadata": {
        "id": "f5bdd723-f3a8-438b-8f07-48e6a8125cf4"
      },
      "source": [
        "2.Insert the missing part of the while loop below to loop through the items of a list."
      ]
    },
    {
      "cell_type": "code",
      "execution_count": null,
      "id": "1f7d25a0-19c3-49bc-86a9-c2aa1035b25e",
      "metadata": {
        "id": "1f7d25a0-19c3-49bc-86a9-c2aa1035b25e",
        "outputId": "23bafe89-f1f3-4c2c-b23b-86242eedc2f1"
      },
      "outputs": [
        {
          "name": "stdout",
          "output_type": "stream",
          "text": [
            "apply\n",
            "banana\n",
            "cherry\n"
          ]
        }
      ],
      "source": [
        "mylist=[\"apply\",\"banana\",\"cherry\"]\n",
        "i=0\n",
        "while i < len(mylist):\n",
        "  print(mylist[i])\n",
        "  i = i + 1"
      ]
    },
    {
      "cell_type": "markdown",
      "id": "911e93de-6c01-4d61-af6b-75e150124210",
      "metadata": {
        "id": "911e93de-6c01-4d61-af6b-75e150124210"
      },
      "source": [
        "3.What is a correct syntax for looping through the items of a list?\n",
        "#### a.print(x) for x in ['apple', 'banana', 'cherry']\n",
        "#### b.[print(x) for x in ['apple', 'banana', 'cherry']]\n",
        "#### c.for x in ['apple', 'banana', 'cherry'] print(x)\n",
        "  ### b"
      ]
    },
    {
      "cell_type": "markdown",
      "id": "8479e4ec-4b1a-421d-b87e-db6cd0d724d6",
      "metadata": {
        "id": "8479e4ec-4b1a-421d-b87e-db6cd0d724d6"
      },
      "source": [
        "# Exercise: Python Loop Tuples"
      ]
    },
    {
      "cell_type": "markdown",
      "id": "60d1ede5-e7f1-4d8b-afbb-3a7502252ce4",
      "metadata": {
        "id": "60d1ede5-e7f1-4d8b-afbb-3a7502252ce4"
      },
      "source": [
        "1.What is a correct syntax for looping through the items of a tuple?\n",
        "#### a.for x in ('apple', 'banana', 'cherry'):\n",
        "  print(x)\n",
        "#### b.for x in ('apple', 'banana', 'cherry')\n",
        "  print(x)\n",
        "#### c.foreach x in ('apple', 'banana', 'cherry')\n",
        "  print(x)\n",
        "   ### a"
      ]
    },
    {
      "cell_type": "markdown",
      "id": "94557445-ed2e-4f6b-8a02-5264b72f7ccb",
      "metadata": {
        "id": "94557445-ed2e-4f6b-8a02-5264b72f7ccb"
      },
      "source": [
        "2.Insert the missing part of the while loop below to loop through the items of a tuple."
      ]
    },
    {
      "cell_type": "code",
      "execution_count": null,
      "id": "c6e834e8-53cb-4a82-8d8d-91b4cbbdba9e",
      "metadata": {
        "id": "c6e834e8-53cb-4a82-8d8d-91b4cbbdba9e",
        "outputId": "75a7d7d5-4206-4221-d362-5367be44ae06"
      },
      "outputs": [
        {
          "name": "stdout",
          "output_type": "stream",
          "text": [
            "apple\n",
            "banana\n",
            "cherry\n"
          ]
        }
      ],
      "source": [
        "mytuple = ('apple', 'banana', 'cherry')\n",
        "i = 0\n",
        "while i < len(mytuple):\n",
        "  print(mytuple[i])\n",
        "  i = i + 1"
      ]
    },
    {
      "cell_type": "markdown",
      "id": "67052177-b4fb-4700-a84d-81785a531c96",
      "metadata": {
        "id": "67052177-b4fb-4700-a84d-81785a531c96"
      },
      "source": [
        "3.Insert the missing part of the for loop below to loop through the items of a tuple by using the range function to loop through the tuple's index numbers.\n"
      ]
    },
    {
      "cell_type": "code",
      "execution_count": null,
      "id": "4c572a7f-7c21-4ce9-967e-f293a5e7e70c",
      "metadata": {
        "id": "4c572a7f-7c21-4ce9-967e-f293a5e7e70c",
        "outputId": "3421b021-20ca-4bb7-fc6f-9eb1f742ccc6"
      },
      "outputs": [
        {
          "name": "stdout",
          "output_type": "stream",
          "text": [
            "apple\n",
            "banana\n",
            "cherry\n"
          ]
        }
      ],
      "source": [
        "thistuple = (\"apple\", \"banana\", \"cherry\")\n",
        "for i in range(len(thistuple)):\n",
        "  print(thistuple[i])"
      ]
    },
    {
      "cell_type": "markdown",
      "id": "52f455b1-1ba0-4e05-82fc-cff8fbc83a4d",
      "metadata": {
        "id": "52f455b1-1ba0-4e05-82fc-cff8fbc83a4d"
      },
      "source": [
        "# Exercise: Python Loop Sets"
      ]
    },
    {
      "cell_type": "markdown",
      "id": "273adc3f-d7a9-4d21-b51c-647392402c0e",
      "metadata": {
        "id": "273adc3f-d7a9-4d21-b51c-647392402c0e"
      },
      "source": [
        "1.What is a correct syntax for looping through the items of a set?\n",
        "#### a.for x in {'apple', 'banana', 'cherry'}:\n",
        "  print(x)\n",
        "#### b.for x in {'apple', 'banana', 'cherry'}\n",
        "  print(x)\n",
        "#### c.foreach x in {'apple', 'banana', 'cherry'}\n",
        "  print(x)\n",
        "   ### a"
      ]
    },
    {
      "cell_type": "markdown",
      "id": "1bb2c14b-0b58-4ecd-bfcc-cb248890f35f",
      "metadata": {
        "id": "1bb2c14b-0b58-4ecd-bfcc-cb248890f35f"
      },
      "source": [
        "2.Insert the missing part of the for loop below to loop through the items of a set."
      ]
    },
    {
      "cell_type": "code",
      "execution_count": null,
      "id": "908609ab-6c0c-498d-983d-dbac0a1a8de2",
      "metadata": {
        "id": "908609ab-6c0c-498d-983d-dbac0a1a8de2",
        "outputId": "cd1a0f94-c56b-4972-d87d-e800c85b0e33"
      },
      "outputs": [
        {
          "name": "stdout",
          "output_type": "stream",
          "text": [
            "apple\n",
            "banana\n",
            "cherry\n"
          ]
        }
      ],
      "source": [
        "myset = {'apple', 'banana', 'cherry'}\n",
        "for x in myset:\n",
        "  print(x)"
      ]
    },
    {
      "cell_type": "markdown",
      "id": "09d69025-dc08-448a-8551-9ee0fee342ac",
      "metadata": {
        "id": "09d69025-dc08-448a-8551-9ee0fee342ac"
      },
      "source": [
        "3.True or False. Sets are unordered, so when you loop through the items, the order will be totally random.\n",
        "###### True\n",
        "##### False\n",
        "### True"
      ]
    },
    {
      "cell_type": "markdown",
      "id": "c68fe64d-dd07-4476-8c88-8da4a7713fd6",
      "metadata": {
        "id": "c68fe64d-dd07-4476-8c88-8da4a7713fd6"
      },
      "source": [
        "# Exercise: Python Loop Dictionaries"
      ]
    },
    {
      "cell_type": "markdown",
      "id": "5764204a-8bdd-437c-b3ea-706f6dd9741f",
      "metadata": {
        "id": "5764204a-8bdd-437c-b3ea-706f6dd9741f"
      },
      "source": [
        "1.What is a correct syntax for looping through the values of this dictionary:\n",
        "x = {'type' : 'fruit', 'name' : 'apple'}\n",
        "#### a.for y in x.values():\n",
        "  print(y)\n",
        "#### b.for y in x:\n",
        "  print(y)\n",
        "#### c.for y in x:\n",
        "  print(y.value())\n",
        "### a"
      ]
    },
    {
      "cell_type": "markdown",
      "id": "a30e19b6-390d-401e-b43d-b56e68e19a66",
      "metadata": {
        "id": "a30e19b6-390d-401e-b43d-b56e68e19a66"
      },
      "source": [
        "2.What is a correct syntax for looping through the keys AND values of this dictionary:\n",
        "x = {'type' : 'fruit', 'name' : 'apple'}\n",
        "#### a.for y, z in x:\n",
        "  print(y, z)\n",
        "#### b.for y, z in x.items():\n",
        "  print(y, z)\n",
        "#### c.for (y, z) in x:\n",
        "  print(y, z)\n",
        " ### b"
      ]
    },
    {
      "cell_type": "markdown",
      "id": "ea809d71-a772-4a0c-aeb0-7c25d942dac8",
      "metadata": {
        "id": "ea809d71-a772-4a0c-aeb0-7c25d942dac8"
      },
      "source": [
        "3.Insert the missing part of the for loop below to loop through the items of a set."
      ]
    },
    {
      "cell_type": "code",
      "execution_count": null,
      "id": "1d430ae7-ed7b-47dc-a489-1d60e33aadb5",
      "metadata": {
        "id": "1d430ae7-ed7b-47dc-a489-1d60e33aadb5",
        "outputId": "ec257506-f5ab-4830-d284-2a88f1133f6b"
      },
      "outputs": [
        {
          "name": "stdout",
          "output_type": "stream",
          "text": [
            "apple\n",
            "banana\n",
            "cherry\n"
          ]
        }
      ],
      "source": [
        "myset = {'apple', 'banana', 'cherry'}\n",
        "for x in myset:\n",
        "  print(x)"
      ]
    },
    {
      "cell_type": "markdown",
      "id": "9b7987e2-4318-4e5e-b3aa-3a9e17c710d9",
      "metadata": {
        "id": "9b7987e2-4318-4e5e-b3aa-3a9e17c710d9"
      },
      "source": [
        "4.What is a correct syntax for looping through the keys of this dictionary:\n",
        "x = {'type' : 'fruit', 'name' : 'apple'}\n",
        "#### a.for y in x.names():\n",
        "  print(y)\n",
        "#### b.for y in x.keys():\n",
        "  print(y)\n",
        "#### c.for y in x.types():\n",
        "  print(y)\n",
        " ### b"
      ]
    },
    {
      "cell_type": "markdown",
      "id": "60343c29-a60c-4b19-b88a-a53a2e7691f4",
      "metadata": {
        "id": "60343c29-a60c-4b19-b88a-a53a2e7691f4"
      },
      "source": [
        "# Exercise: Python For Loops"
      ]
    },
    {
      "cell_type": "markdown",
      "id": "85223669-40ea-4445-ade2-ce7054c5989b",
      "metadata": {
        "id": "85223669-40ea-4445-ade2-ce7054c5989b"
      },
      "source": [
        "1.What will be the result of the following code:\n",
        "for x in range(3):\n",
        "  print(x)\n",
        "#### a.\n",
        "##### 0\n",
        "##### 1\n",
        "##### 2\n",
        "#### b.\n",
        "##### 0\n",
        "##### 1\n",
        "##### 2\n",
        "##### 3\n",
        "#### c.\n",
        "##### 1\n",
        "##### 2\n",
        "##### 3\n",
        "  ### a"
      ]
    },
    {
      "cell_type": "markdown",
      "id": "b02672e7-6c5b-4c44-b194-4485b4ad4c2f",
      "metadata": {
        "id": "b02672e7-6c5b-4c44-b194-4485b4ad4c2f"
      },
      "source": [
        "2.Loop through the items in the fruits list."
      ]
    },
    {
      "cell_type": "code",
      "execution_count": null,
      "id": "935f15a4-5bdc-4da1-a9c3-bc2a3f1aa693",
      "metadata": {
        "id": "935f15a4-5bdc-4da1-a9c3-bc2a3f1aa693",
        "outputId": "afe8b213-0a13-4a44-8649-09faabac2ab4"
      },
      "outputs": [
        {
          "name": "stdout",
          "output_type": "stream",
          "text": [
            "apple\n",
            "banana\n",
            "cherry\n"
          ]
        }
      ],
      "source": [
        "fruits = [\"apple\", \"banana\", \"cherry\"]\n",
        "for x in fruits:\n",
        " print(x)"
      ]
    },
    {
      "cell_type": "markdown",
      "id": "4eb2192c-3e80-4b6c-9527-b0c6ecfcea7e",
      "metadata": {
        "id": "4eb2192c-3e80-4b6c-9527-b0c6ecfcea7e"
      },
      "source": [
        "3.In the loop, when the item value is \"banana\", jump directly to the next item."
      ]
    },
    {
      "cell_type": "code",
      "execution_count": null,
      "id": "f744f1c9-2ea9-4fb0-bbbd-08fc4a551f8e",
      "metadata": {
        "id": "f744f1c9-2ea9-4fb0-bbbd-08fc4a551f8e"
      },
      "outputs": [],
      "source": [
        "fruits = [\"apple\", \"banana\", \"cherry\"]\n",
        "for x in fruits:\n",
        "    if x==\"banana\":\n",
        "        continue\n",
        "        print(x)"
      ]
    },
    {
      "cell_type": "markdown",
      "id": "9501c768-7506-4077-950f-6289f53a5aca",
      "metadata": {
        "id": "9501c768-7506-4077-950f-6289f53a5aca"
      },
      "source": [
        "4.Use the range function to loop through a code set 6 times."
      ]
    },
    {
      "cell_type": "code",
      "execution_count": null,
      "id": "21c791bc-9815-4582-9692-f5c63cd54c12",
      "metadata": {
        "id": "21c791bc-9815-4582-9692-f5c63cd54c12",
        "outputId": "98cb202e-5711-4a32-a5d4-d993083bd3a3"
      },
      "outputs": [
        {
          "name": "stdout",
          "output_type": "stream",
          "text": [
            "0\n",
            "1\n",
            "2\n",
            "3\n",
            "4\n",
            "5\n"
          ]
        }
      ],
      "source": [
        "for x in range(6):\n",
        "  print(x)"
      ]
    },
    {
      "cell_type": "markdown",
      "id": "c9cbdaec-c0e8-46dd-9ba3-87c3aa0d0a0e",
      "metadata": {
        "id": "c9cbdaec-c0e8-46dd-9ba3-87c3aa0d0a0e"
      },
      "source": [
        "5.Exit the loop when x is \"banana\"."
      ]
    },
    {
      "cell_type": "code",
      "execution_count": null,
      "id": "a3fad927-2595-4d32-8b94-c695b72da61a",
      "metadata": {
        "id": "a3fad927-2595-4d32-8b94-c695b72da61a"
      },
      "outputs": [],
      "source": [
        "fruits = [\"apple\", \"banana\", \"cherry\"]\n",
        "for x in fruits:\n",
        "  if x ==\"bannana\":\n",
        "      print(x)"
      ]
    },
    {
      "cell_type": "markdown",
      "id": "031ccec1-08d5-4097-970e-f67f4ae10a29",
      "metadata": {
        "id": "031ccec1-08d5-4097-970e-f67f4ae10a29"
      },
      "source": [
        "# Exercise: Python While Loops"
      ]
    },
    {
      "cell_type": "markdown",
      "id": "b41a521b-7374-4f1b-be43-6625d0b83a0a",
      "metadata": {
        "id": "b41a521b-7374-4f1b-be43-6625d0b83a0a"
      },
      "source": [
        "1.Which statement is a correct syntax to break out of a loop?\n",
        "#### a.end\n",
        "#### b.return\n",
        "#### c.break\n",
        " ### c"
      ]
    },
    {
      "cell_type": "markdown",
      "id": "48c663e8-7f33-4218-8ab5-69e66aac9804",
      "metadata": {
        "id": "48c663e8-7f33-4218-8ab5-69e66aac9804"
      },
      "source": [
        "2.Print i as long as i is less than 6."
      ]
    },
    {
      "cell_type": "code",
      "execution_count": null,
      "id": "f41b1243-0f49-4490-a5f7-467a16add277",
      "metadata": {
        "id": "f41b1243-0f49-4490-a5f7-467a16add277",
        "outputId": "ba1e6802-1f3b-4da4-fe89-1d30d41161c3"
      },
      "outputs": [
        {
          "name": "stdout",
          "output_type": "stream",
          "text": [
            "1\n",
            "2\n",
            "3\n",
            "4\n",
            "5\n"
          ]
        }
      ],
      "source": [
        "i = 1\n",
        "while i < 6:\n",
        "    print(i)\n",
        "    i+=1"
      ]
    },
    {
      "cell_type": "markdown",
      "id": "28ff9264-d4d5-45d3-86b7-945b4a549aae",
      "metadata": {
        "id": "28ff9264-d4d5-45d3-86b7-945b4a549aae"
      },
      "source": [
        "3.Stop the loop if i is 3."
      ]
    },
    {
      "cell_type": "code",
      "execution_count": null,
      "id": "8787a484-baf9-4247-a16a-ca20e3992204",
      "metadata": {
        "id": "8787a484-baf9-4247-a16a-ca20e3992204"
      },
      "outputs": [],
      "source": [
        "i = 1\n",
        "while i < 6:\n",
        "  if i == 3:\n",
        "      break\n",
        "      i+=1"
      ]
    },
    {
      "cell_type": "markdown",
      "id": "03a34c17-7cd1-4343-a492-70b902acc31e",
      "metadata": {
        "id": "03a34c17-7cd1-4343-a492-70b902acc31e"
      },
      "source": [
        "4.In the loop, when i is 3, jump directly to the next iteration."
      ]
    },
    {
      "cell_type": "code",
      "execution_count": null,
      "id": "0efbea8e-08f4-48ed-adce-ad5cc9b6dc4d",
      "metadata": {
        "id": "0efbea8e-08f4-48ed-adce-ad5cc9b6dc4d"
      },
      "outputs": [],
      "source": [
        "i =0\n",
        "while i<6:\n",
        "   i+=1\n",
        "if i==3:\n",
        "continue\n",
        "print(i)"
      ]
    },
    {
      "cell_type": "code",
      "execution_count": null,
      "id": "28f08cbc-09f3-417a-83de-4de38b5ceeb3",
      "metadata": {
        "id": "28f08cbc-09f3-417a-83de-4de38b5ceeb3"
      },
      "outputs": [],
      "source": []
    },
    {
      "cell_type": "code",
      "execution_count": null,
      "id": "5c9d9ec2-fe1c-4fba-b785-26bd732c651b",
      "metadata": {
        "id": "5c9d9ec2-fe1c-4fba-b785-26bd732c651b"
      },
      "outputs": [],
      "source": []
    },
    {
      "cell_type": "code",
      "execution_count": null,
      "id": "c451dfde-0098-4fc5-b988-2cae3943d5e9",
      "metadata": {
        "id": "c451dfde-0098-4fc5-b988-2cae3943d5e9"
      },
      "outputs": [],
      "source": []
    },
    {
      "cell_type": "code",
      "execution_count": null,
      "id": "84a037aa-8a71-4ed4-9417-245a15e2bae1",
      "metadata": {
        "id": "84a037aa-8a71-4ed4-9417-245a15e2bae1"
      },
      "outputs": [],
      "source": []
    }
  ],
  "metadata": {
    "kernelspec": {
      "display_name": "Python 3 (ipykernel)",
      "language": "python",
      "name": "python3"
    },
    "language_info": {
      "codemirror_mode": {
        "name": "ipython",
        "version": 3
      },
      "file_extension": ".py",
      "mimetype": "text/x-python",
      "name": "python",
      "nbconvert_exporter": "python",
      "pygments_lexer": "ipython3",
      "version": "3.12.7"
    },
    "colab": {
      "provenance": [],
      "include_colab_link": true
    }
  },
  "nbformat": 4,
  "nbformat_minor": 5
}