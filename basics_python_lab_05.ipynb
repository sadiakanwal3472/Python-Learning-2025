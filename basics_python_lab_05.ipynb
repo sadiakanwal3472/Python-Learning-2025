{
  "cells": [
    {
      "cell_type": "markdown",
      "metadata": {
        "id": "view-in-github",
        "colab_type": "text"
      },
      "source": [
        "<a href=\"https://colab.research.google.com/github/sadiakanwal3472/Python-Learning-2025/blob/main/basics_python_lab_05.ipynb\" target=\"_parent\"><img src=\"https://colab.research.google.com/assets/colab-badge.svg\" alt=\"Open In Colab\"/></a>"
      ]
    },
    {
      "cell_type": "markdown",
      "id": "13eeb48a-ef99-410d-9f12-25c46f1908d6",
      "metadata": {
        "id": "13eeb48a-ef99-410d-9f12-25c46f1908d6"
      },
      "source": [
        "# Python Set"
      ]
    },
    {
      "cell_type": "markdown",
      "id": "2da489ca-ad1a-4d9d-a73a-5bde433775fb",
      "metadata": {
        "id": "2da489ca-ad1a-4d9d-a73a-5bde433775fb"
      },
      "source": [
        "Python also includes a data type for sets. A set is an unordered collection with no duplicate elements. Basic uses include membership testing and eliminating duplicate entries. Set objects also support mathematical operations like union, intersection, difference, and symmetric difference.\n",
        "Curly braces or the set() function can be used to create sets. Note: to create an empty set you have to use set(), not {}; the latter creates an empty dictionary, a data structure that we discuss in the next section."
      ]
    },
    {
      "cell_type": "markdown",
      "id": "8c6cc623-112d-4aab-b225-1b376d5dba07",
      "metadata": {
        "id": "8c6cc623-112d-4aab-b225-1b376d5dba07"
      },
      "source": [
        "Here is a brief demonstration:"
      ]
    },
    {
      "cell_type": "code",
      "execution_count": null,
      "id": "ad9a78e8-1de4-4148-9897-8eed77a5d5e4",
      "metadata": {
        "id": "ad9a78e8-1de4-4148-9897-8eed77a5d5e4",
        "outputId": "7c5b5956-51d3-465c-a017-e96c6d1e53a6"
      },
      "outputs": [
        {
          "name": "stdout",
          "output_type": "stream",
          "text": [
            "{'pear', 'banana', 'apple', 'orange'}\n"
          ]
        }
      ],
      "source": [
        "name_of_set = {'apple', 'pear', 'orange', 'banana'}\n",
        "print(name_of_set)"
      ]
    },
    {
      "cell_type": "code",
      "execution_count": null,
      "id": "4173625d-ffe1-4b68-88bf-30f7dc689b2e",
      "metadata": {
        "id": "4173625d-ffe1-4b68-88bf-30f7dc689b2e",
        "outputId": "f2eb6c09-6d70-4317-bbb3-5d94867e4e79"
      },
      "outputs": [
        {
          "data": {
            "text/plain": [
              "True"
            ]
          },
          "execution_count": 2,
          "metadata": {},
          "output_type": "execute_result"
        }
      ],
      "source": [
        "'orange' in basket                 # fast membership testing"
      ]
    },
    {
      "cell_type": "code",
      "execution_count": null,
      "id": "b1c8dfa9-46c4-4d75-9e6b-4d942c6413b2",
      "metadata": {
        "id": "b1c8dfa9-46c4-4d75-9e6b-4d942c6413b2",
        "outputId": "e71b819e-faab-4cea-ea99-b88e294e346a"
      },
      "outputs": [
        {
          "name": "stdout",
          "output_type": "stream",
          "text": [
            "<class 'set'>\n"
          ]
        }
      ],
      "source": [
        "print(type(basket))"
      ]
    },
    {
      "cell_type": "code",
      "execution_count": null,
      "id": "dc233c1c-260d-41d4-9277-e82caf0d1f5b",
      "metadata": {
        "id": "dc233c1c-260d-41d4-9277-e82caf0d1f5b",
        "outputId": "8df7e318-2db6-4826-e6e0-9ebaa58c2fff"
      },
      "outputs": [
        {
          "data": {
            "text/plain": [
              "False"
            ]
          },
          "execution_count": 6,
          "metadata": {},
          "output_type": "execute_result"
        }
      ],
      "source": [
        "'crabgrass' in basket"
      ]
    },
    {
      "cell_type": "markdown",
      "id": "43e7e556-dccb-4ca3-9f89-b857de21fa84",
      "metadata": {
        "id": "43e7e556-dccb-4ca3-9f89-b857de21fa84"
      },
      "source": [
        "# Duplicates Not Allowed"
      ]
    },
    {
      "cell_type": "code",
      "execution_count": null,
      "id": "b109bca1-de9b-4843-8377-dad2c1bd4aa9",
      "metadata": {
        "id": "b109bca1-de9b-4843-8377-dad2c1bd4aa9",
        "outputId": "0668372f-f3f1-467d-bbd7-fda21989fdd8"
      },
      "outputs": [
        {
          "name": "stdout",
          "output_type": "stream",
          "text": [
            "{'pear', 'banana', 'apple', 'orange'}\n"
          ]
        }
      ],
      "source": [
        "name_of_set = {'apple', 'apple','pear','banana', 'orange', 'banana'}\n",
        "print(name_of_set)"
      ]
    },
    {
      "cell_type": "markdown",
      "id": "6da068e7-542b-4ec4-a78d-b8974df16c0c",
      "metadata": {
        "id": "6da068e7-542b-4ec4-a78d-b8974df16c0c"
      },
      "source": [
        "# Examples\n",
        "True and 1 is considered the same value:"
      ]
    },
    {
      "cell_type": "code",
      "execution_count": null,
      "id": "65b92600-c78a-4d2e-a882-d4cfecfc8ba3",
      "metadata": {
        "id": "65b92600-c78a-4d2e-a882-d4cfecfc8ba3",
        "outputId": "7efea628-8a39-448c-91cf-a39741bd7e86"
      },
      "outputs": [
        {
          "name": "stdout",
          "output_type": "stream",
          "text": [
            "{'cherry', True, 2, 'apple', 'banana'}\n"
          ]
        }
      ],
      "source": [
        "thisset = {\"apple\", \"banana\", \"cherry\", True, 1, 2}\n",
        "print(thisset)"
      ]
    },
    {
      "cell_type": "markdown",
      "id": "590abfa2-5583-4278-9802-e260cb8ac41d",
      "metadata": {
        "id": "590abfa2-5583-4278-9802-e260cb8ac41d"
      },
      "source": [
        "### Note: The values False and 0 are considered the same value in sets, and are treated as duplicates:"
      ]
    },
    {
      "cell_type": "markdown",
      "id": "383e1154-0d79-4150-84ad-65c96f14cf98",
      "metadata": {
        "id": "383e1154-0d79-4150-84ad-65c96f14cf98"
      },
      "source": [
        "# Examples\n",
        "False and 0 is considered the same value:"
      ]
    },
    {
      "cell_type": "code",
      "execution_count": null,
      "id": "44d7a571-f82a-40d3-9a73-5b6672a8c185",
      "metadata": {
        "id": "44d7a571-f82a-40d3-9a73-5b6672a8c185",
        "outputId": "ef7325e4-ac4b-4709-e254-1759144fdb19"
      },
      "outputs": [
        {
          "name": "stdout",
          "output_type": "stream",
          "text": [
            "{False, 'cherry', 2, 'apple', 'banana'}\n"
          ]
        }
      ],
      "source": [
        "thisset = {\"apple\", \"banana\", \"cherry\", False, 0, 2}\n",
        "print(thisset)\n"
      ]
    },
    {
      "cell_type": "markdown",
      "id": "5a80caa2-a7a5-4cbc-a1a4-c96d9b93bec3",
      "metadata": {
        "id": "5a80caa2-a7a5-4cbc-a1a4-c96d9b93bec3"
      },
      "source": [
        "# Get the Length of a Set\n",
        "To determine how many items a set has, use the len() function."
      ]
    },
    {
      "cell_type": "markdown",
      "id": "0aa20e93-c833-4853-8021-6d6bc6255ca4",
      "metadata": {
        "id": "0aa20e93-c833-4853-8021-6d6bc6255ca4"
      },
      "source": [
        "# Example\n",
        "Get the number of items in a set:"
      ]
    },
    {
      "cell_type": "code",
      "execution_count": null,
      "id": "b4cebcde-80aa-47e5-815e-246b79b5c61a",
      "metadata": {
        "id": "b4cebcde-80aa-47e5-815e-246b79b5c61a",
        "outputId": "58b36c87-cba0-442c-d77e-8026c7c78453"
      },
      "outputs": [
        {
          "name": "stdout",
          "output_type": "stream",
          "text": [
            "3\n"
          ]
        }
      ],
      "source": [
        "thisset = {\"apple\", \"banana\", \"cherry\"}\n",
        "\n",
        "print(len(thisset))"
      ]
    },
    {
      "cell_type": "markdown",
      "id": "55f155ec-d237-4183-ae52-185ee00a0fc2",
      "metadata": {
        "id": "55f155ec-d237-4183-ae52-185ee00a0fc2"
      },
      "source": [
        "# Set Items - Data Types\n",
        "Set items can be of any data type:\n",
        "# Example\n",
        "String, int and boolean data types:"
      ]
    },
    {
      "cell_type": "code",
      "execution_count": null,
      "id": "e66b153b-8ed3-4f39-87e2-fc0e110bf881",
      "metadata": {
        "id": "e66b153b-8ed3-4f39-87e2-fc0e110bf881",
        "outputId": "39428aa4-5ade-4b40-b410-c2b62cc09618"
      },
      "outputs": [
        {
          "name": "stdout",
          "output_type": "stream",
          "text": [
            "<class 'set'>\n",
            "<class 'set'>\n",
            "<class 'set'>\n"
          ]
        }
      ],
      "source": [
        "set1 = {\"apple\", \"banana\", \"cherry\"}\n",
        "set2 = {1, 5, 7, 9, 3}\n",
        "set3 = {True, False, False}\n",
        "print(type(set1))\n",
        "print(type(set2))\n",
        "print(type(set3))"
      ]
    },
    {
      "cell_type": "markdown",
      "id": "ed0e92bf-1514-4983-892f-220e8f22d63d",
      "metadata": {
        "id": "ed0e92bf-1514-4983-892f-220e8f22d63d"
      },
      "source": [
        "# Python Dictionaries"
      ]
    },
    {
      "cell_type": "markdown",
      "id": "fc16bb48-b665-4dd5-b05c-0e901046d3b0",
      "metadata": {
        "id": "fc16bb48-b665-4dd5-b05c-0e901046d3b0"
      },
      "source": [
        "# Dictionary\n",
        "Dictionaries are used to store data values in key:value pairs.\n",
        "\n",
        "A dictionary is a collection which is ordered*, changeable and do not allow duplicates.\n",
        "\n",
        "As of Python version 3.7, dictionaries are ordered. In Python 3.6 and earlier, dictionaries are unordered.\n",
        "\n",
        "Dictionaries are written with curly brackets, and have keys and values:\n",
        "\n",
        "# Example:\n",
        "Create and print a dictionary:"
      ]
    },
    {
      "cell_type": "code",
      "execution_count": null,
      "id": "142abf8d-6eab-4f78-9fc5-7631be7f9127",
      "metadata": {
        "id": "142abf8d-6eab-4f78-9fc5-7631be7f9127",
        "outputId": "0c8e01d6-f22f-439d-e0b1-3a187ffef18b"
      },
      "outputs": [
        {
          "name": "stdout",
          "output_type": "stream",
          "text": [
            "{'brand': 'Ford', 'model': 'Mustang', 'year': 1964}\n"
          ]
        }
      ],
      "source": [
        "thisdict = { \"brand\": \"Ford\", \"model\": \"Mustang\",\"year\": 1964}\n",
        "print(thisdict)\n"
      ]
    },
    {
      "cell_type": "markdown",
      "id": "b3aad521-da9d-40d7-a1c7-39d0b7dda596",
      "metadata": {
        "id": "b3aad521-da9d-40d7-a1c7-39d0b7dda596"
      },
      "source": [
        "# Dictionary Items\n",
        "Dictionary items are ordered, changeable, and do not allow duplicates.\n",
        "Dictionary items are presented in key:value pairs, and can be referred to by using the key name.\n",
        "# Example\n",
        "Print the \"brand\" value of the dictionary:"
      ]
    },
    {
      "cell_type": "code",
      "execution_count": null,
      "id": "23ce398a-8c44-4bc0-ae47-83b43a6088b8",
      "metadata": {
        "id": "23ce398a-8c44-4bc0-ae47-83b43a6088b8",
        "outputId": "3d6a74a8-d7ca-4ac7-f6ee-cf5c9addf672"
      },
      "outputs": [
        {
          "name": "stdout",
          "output_type": "stream",
          "text": [
            "Ford\n"
          ]
        }
      ],
      "source": [
        "thisdict = { \"brand\": \"Ford\", \"model\": \"Mustang\", \"year\": 1964}\n",
        "print(thisdict[\"brand\"])"
      ]
    },
    {
      "cell_type": "markdown",
      "id": "b0b45ec6-05bd-4fc4-85a4-fcfec3894cc7",
      "metadata": {
        "id": "b0b45ec6-05bd-4fc4-85a4-fcfec3894cc7"
      },
      "source": [
        "# Duplicates Not Allowed\n",
        "Dictionaries cannot have two items with the same key:\n",
        "# Example\n",
        "Duplicate values will overwrite existing values:"
      ]
    },
    {
      "cell_type": "code",
      "execution_count": null,
      "id": "7d8add94-fcf5-46e9-83c3-b1a0f839a41c",
      "metadata": {
        "id": "7d8add94-fcf5-46e9-83c3-b1a0f839a41c",
        "outputId": "822d2c2e-2ab4-45ff-8268-e8f633b53acd"
      },
      "outputs": [
        {
          "name": "stdout",
          "output_type": "stream",
          "text": [
            "{'brand': 'Ford', 'model': 'Mustang', 'year': 2020}\n"
          ]
        }
      ],
      "source": [
        "thisdict = {\"brand\": \"Ford\", \"model\": \"Mustang\",\"year\": 1964,\"year\": 2020}\n",
        "print(thisdict)"
      ]
    },
    {
      "cell_type": "markdown",
      "id": "a762f2f7-1106-4a1f-8dae-6eb14ad9d502",
      "metadata": {
        "id": "a762f2f7-1106-4a1f-8dae-6eb14ad9d502"
      },
      "source": [
        "# Dictionary Length\n",
        "To determine how many items a dictionary has, use the len() function:\n",
        "# Example\n",
        "Print the number of items in the dictionary:"
      ]
    },
    {
      "cell_type": "code",
      "execution_count": null,
      "id": "296fbe27-11e3-424e-97dd-43695bbf25bb",
      "metadata": {
        "id": "296fbe27-11e3-424e-97dd-43695bbf25bb",
        "outputId": "12357fb0-8cdb-4fd4-dc39-7484f1f437f1"
      },
      "outputs": [
        {
          "name": "stdout",
          "output_type": "stream",
          "text": [
            "3\n"
          ]
        }
      ],
      "source": [
        "print(len(thisdict))"
      ]
    },
    {
      "cell_type": "markdown",
      "id": "3a21d254-d7c3-459f-9123-193df17f7367",
      "metadata": {
        "id": "3a21d254-d7c3-459f-9123-193df17f7367"
      },
      "source": [
        "# Dictionary Items - Data Types\n",
        "The values in dictionary items can be of any data type:\n",
        "# Example\n",
        "String, int, boolean, and list data types:"
      ]
    },
    {
      "cell_type": "code",
      "execution_count": null,
      "id": "19b59512-5597-41f4-b370-45795a217db3",
      "metadata": {
        "id": "19b59512-5597-41f4-b370-45795a217db3",
        "outputId": "07744cad-1359-47de-815f-f807ef1f6687"
      },
      "outputs": [
        {
          "name": "stdout",
          "output_type": "stream",
          "text": [
            "<class 'dict'>\n"
          ]
        }
      ],
      "source": [
        "thisdict = {\"brand\": \"Ford\", \"electric\": False,\"year\": 1964, \"colors\": [\"red\", \"white\", \"blue\"]}\n",
        "print(type(thisdict))"
      ]
    },
    {
      "cell_type": "code",
      "execution_count": null,
      "id": "e03cdf53-c6a9-4f3e-8d17-0f63d1108dc9",
      "metadata": {
        "id": "e03cdf53-c6a9-4f3e-8d17-0f63d1108dc9",
        "outputId": "9d55216b-3557-4f3f-a481-96e2cc8e258b"
      },
      "outputs": [
        {
          "data": {
            "text/plain": [
              "1964"
            ]
          },
          "execution_count": 33,
          "metadata": {},
          "output_type": "execute_result"
        }
      ],
      "source": [
        "# find the keys name:\n",
        "thisdict [\"year\"]"
      ]
    },
    {
      "cell_type": "code",
      "execution_count": null,
      "id": "a39f2840-d17b-455e-873d-687fab0a818f",
      "metadata": {
        "id": "a39f2840-d17b-455e-873d-687fab0a818f",
        "outputId": "37845b61-7dff-422d-9da0-9d32da815484"
      },
      "outputs": [
        {
          "data": {
            "text/plain": [
              "dict_keys(['brand', 'electric', 'year', 'colors'])"
            ]
          },
          "execution_count": 34,
          "metadata": {},
          "output_type": "execute_result"
        }
      ],
      "source": [
        "thisdict.keys()"
      ]
    },
    {
      "cell_type": "code",
      "execution_count": null,
      "id": "37eb012a-6680-44fd-bb5e-1b1d5e026d6e",
      "metadata": {
        "id": "37eb012a-6680-44fd-bb5e-1b1d5e026d6e",
        "outputId": "785ddfbf-9615-4462-a17c-96b7880b177f"
      },
      "outputs": [
        {
          "data": {
            "text/plain": [
              "dict_values(['Ford', False, 1964, ['red', 'white', 'blue']])"
            ]
          },
          "execution_count": 35,
          "metadata": {},
          "output_type": "execute_result"
        }
      ],
      "source": [
        "thisdict.values()"
      ]
    },
    {
      "cell_type": "code",
      "execution_count": null,
      "id": "50be2802-2cbf-4120-9aa0-a093b372051d",
      "metadata": {
        "id": "50be2802-2cbf-4120-9aa0-a093b372051d",
        "outputId": "748ae1a3-2b4b-4d8d-9ac4-8ef5d29f6ff7"
      },
      "outputs": [
        {
          "data": {
            "text/plain": [
              "dict_items([('brand', 'Ford'), ('electric', False), ('year', 1964), ('colors', ['red', 'white', 'blue'])])"
            ]
          },
          "execution_count": 36,
          "metadata": {},
          "output_type": "execute_result"
        }
      ],
      "source": [
        "thisdict.items()"
      ]
    },
    {
      "cell_type": "code",
      "execution_count": null,
      "id": "fa0c50df-6ce0-4452-bf81-48723c865ddf",
      "metadata": {
        "id": "fa0c50df-6ce0-4452-bf81-48723c865ddf",
        "outputId": "b51b3210-16ab-40f0-850e-3be8ffd5c043"
      },
      "outputs": [
        {
          "data": {
            "text/plain": [
              "'Ford'"
            ]
          },
          "execution_count": 37,
          "metadata": {},
          "output_type": "execute_result"
        }
      ],
      "source": [
        "thisdict.get('brand')"
      ]
    },
    {
      "cell_type": "code",
      "execution_count": null,
      "id": "bbd555e2-ccdf-40a7-bcf7-fbca46abade2",
      "metadata": {
        "id": "bbd555e2-ccdf-40a7-bcf7-fbca46abade2",
        "outputId": "03dcb942-4ae1-4fc9-bfed-ca060309e59d"
      },
      "outputs": [
        {
          "data": {
            "text/plain": [
              "1964"
            ]
          },
          "execution_count": 38,
          "metadata": {},
          "output_type": "execute_result"
        }
      ],
      "source": [
        "thisdict.get('year')"
      ]
    },
    {
      "cell_type": "code",
      "execution_count": null,
      "id": "b18fabb6-3a8e-4f1a-904e-347f88edd4f2",
      "metadata": {
        "id": "b18fabb6-3a8e-4f1a-904e-347f88edd4f2",
        "outputId": "3e938834-40d0-4a61-bf58-030ea63c3e71"
      },
      "outputs": [
        {
          "name": "stdout",
          "output_type": "stream",
          "text": [
            "{'name': 'John', 'age': 36, 'country': 'Norway'}\n"
          ]
        }
      ],
      "source": [
        "thisdict = dict(name = \"John\", age = 36, country = \"Norway\")\n",
        "print(thisdict)"
      ]
    },
    {
      "cell_type": "code",
      "execution_count": null,
      "id": "44793d01-96fe-44de-8616-85fa4f286936",
      "metadata": {
        "id": "44793d01-96fe-44de-8616-85fa4f286936",
        "outputId": "0d619e37-989f-4e2c-99fd-d2119536d2e0"
      },
      "outputs": [
        {
          "data": {
            "text/plain": [
              "dict_keys(['name', 'age', 'country'])"
            ]
          },
          "execution_count": 42,
          "metadata": {},
          "output_type": "execute_result"
        }
      ],
      "source": [
        "thisdict.keys()"
      ]
    },
    {
      "cell_type": "code",
      "execution_count": null,
      "id": "cb7d2ab7-9764-4fe3-9d3a-fadf71441a8f",
      "metadata": {
        "id": "cb7d2ab7-9764-4fe3-9d3a-fadf71441a8f"
      },
      "outputs": [],
      "source": []
    }
  ],
  "metadata": {
    "kernelspec": {
      "display_name": "Python 3 (ipykernel)",
      "language": "python",
      "name": "python3"
    },
    "language_info": {
      "codemirror_mode": {
        "name": "ipython",
        "version": 3
      },
      "file_extension": ".py",
      "mimetype": "text/x-python",
      "name": "python",
      "nbconvert_exporter": "python",
      "pygments_lexer": "ipython3",
      "version": "3.12.7"
    },
    "colab": {
      "provenance": [],
      "include_colab_link": true
    }
  },
  "nbformat": 4,
  "nbformat_minor": 5
}