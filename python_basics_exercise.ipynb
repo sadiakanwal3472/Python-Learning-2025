{
  "cells": [
    {
      "cell_type": "markdown",
      "metadata": {
        "id": "view-in-github",
        "colab_type": "text"
      },
      "source": [
        "<a href=\"https://colab.research.google.com/github/sadiakanwal3472/Python-Learning-2025/blob/main/python_basics_exercise.ipynb\" target=\"_parent\"><img src=\"https://colab.research.google.com/assets/colab-badge.svg\" alt=\"Open In Colab\"/></a>"
      ]
    },
    {
      "cell_type": "markdown",
      "id": "f11c8178-80e4-4998-9845-2cf52aa2c127",
      "metadata": {
        "id": "f11c8178-80e4-4998-9845-2cf52aa2c127"
      },
      "source": [
        "# Python Lists"
      ]
    },
    {
      "cell_type": "markdown",
      "id": "be79a90d-99c9-4589-835b-bdc59b7fa46a",
      "metadata": {
        "id": "be79a90d-99c9-4589-835b-bdc59b7fa46a"
      },
      "source": [
        "1. What will be the result of the following syntax:"
      ]
    },
    {
      "cell_type": "code",
      "execution_count": null,
      "id": "be96b655-a493-49f2-a5c4-ee281794f415",
      "metadata": {
        "id": "be96b655-a493-49f2-a5c4-ee281794f415",
        "outputId": "4c6f1c59-8857-45af-e811-1642cb264e60"
      },
      "outputs": [
        {
          "name": "stdout",
          "output_type": "stream",
          "text": [
            "banana\n"
          ]
        }
      ],
      "source": [
        "mylist = ['apple', 'banana', 'cherry']\n",
        "print(mylist[1])"
      ]
    },
    {
      "cell_type": "markdown",
      "id": "bc016373-f5b6-430d-af01-506fb31efadb",
      "metadata": {
        "id": "bc016373-f5b6-430d-af01-506fb31efadb"
      },
      "source": [
        "2. What will be the result of the following syntax:"
      ]
    },
    {
      "cell_type": "code",
      "execution_count": null,
      "id": "d9c54f91-63c9-47f4-ae2f-d1058c7ab2d1",
      "metadata": {
        "id": "d9c54f91-63c9-47f4-ae2f-d1058c7ab2d1",
        "outputId": "b2010bfc-b00a-46ef-9c3b-ef47790cd67e"
      },
      "outputs": [
        {
          "name": "stdout",
          "output_type": "stream",
          "text": [
            "banana\n"
          ]
        }
      ],
      "source": [
        "mylist = ['apple', 'banana', 'banana', 'cherry']\n",
        "print(mylist[2])"
      ]
    },
    {
      "cell_type": "markdown",
      "id": "f183d0c5-2072-4f1e-98bc-34fc563aac17",
      "metadata": {
        "id": "f183d0c5-2072-4f1e-98bc-34fc563aac17"
      },
      "source": [
        "# . True or False.\n",
        "3. List items cannot be removed after the list has been created.\n",
        "###### . True\n",
        "###### . False\n",
        "  ##### False"
      ]
    },
    {
      "cell_type": "markdown",
      "id": "f0287d2d-1935-48a9-b9a4-02f310cee649",
      "metadata": {
        "id": "f0287d2d-1935-48a9-b9a4-02f310cee649"
      },
      "source": [
        "4. Elect the correct function for returning the number of items in a list:"
      ]
    },
    {
      "cell_type": "code",
      "execution_count": null,
      "id": "faa0703c-f361-461e-8cef-125bd06a9777",
      "metadata": {
        "id": "faa0703c-f361-461e-8cef-125bd06a9777",
        "outputId": "c325bf4b-c6db-41b0-e68b-dad074ea5c74"
      },
      "outputs": [
        {
          "name": "stdout",
          "output_type": "stream",
          "text": [
            "3\n"
          ]
        }
      ],
      "source": [
        "thislist = ['apple', 'banana', 'cherry']\n",
        "print(len(thislist))"
      ]
    },
    {
      "cell_type": "markdown",
      "id": "ea955c31-0162-40be-853f-810456d16155",
      "metadata": {
        "id": "ea955c31-0162-40be-853f-810456d16155"
      },
      "source": [
        "# Python Tuples"
      ]
    },
    {
      "cell_type": "markdown",
      "id": "399e5085-6c1b-4fad-b458-93e4dd1352bb",
      "metadata": {
        "id": "399e5085-6c1b-4fad-b458-93e4dd1352bb"
      },
      "source": [
        "1.Which one of these is a tuple?\n",
        "###### a.thistuple = ('apple', 'banana', 'cherry')\n",
        "###### b.thistuple = ['apple', 'banana', 'cherry']\n",
        "###### c.thistuple = {'apple', 'banana', 'cherry'}\n",
        " #### a"
      ]
    },
    {
      "cell_type": "markdown",
      "id": "65fc3e7c-d062-4781-8345-5e06708043b9",
      "metadata": {
        "id": "65fc3e7c-d062-4781-8345-5e06708043b9"
      },
      "source": [
        "2.Use the correct syntax to print the number of items in the fruits tuple."
      ]
    },
    {
      "cell_type": "code",
      "execution_count": null,
      "id": "2e3cb7e0-c9fa-4575-b290-86138155b94a",
      "metadata": {
        "id": "2e3cb7e0-c9fa-4575-b290-86138155b94a",
        "outputId": "218647ea-dd54-454b-d7df-60bb81d8f5a7"
      },
      "outputs": [
        {
          "name": "stdout",
          "output_type": "stream",
          "text": [
            "3\n"
          ]
        }
      ],
      "source": [
        "fruits = (\"apple\", \"banana\", \"cherry\")\n",
        "print(len(fruits))"
      ]
    },
    {
      "cell_type": "markdown",
      "id": "f57e07e0-b665-4557-b749-7813b28c75f7",
      "metadata": {
        "id": "f57e07e0-b665-4557-b749-7813b28c75f7"
      },
      "source": [
        "# True or False.\n",
        "3.Tuple items cannot be removed after the tuple has been created.\n",
        "###### True\n",
        "###### False\n",
        "  ####  True"
      ]
    },
    {
      "cell_type": "markdown",
      "id": "280ad2f3-7096-4088-b44e-4b9115050848",
      "metadata": {
        "id": "280ad2f3-7096-4088-b44e-4b9115050848"
      },
      "source": [
        "# Python Sets"
      ]
    },
    {
      "cell_type": "markdown",
      "id": "4014fde8-4f6a-480b-a03f-753269a1571f",
      "metadata": {
        "id": "4014fde8-4f6a-480b-a03f-753269a1571f"
      },
      "source": [
        "1.Which one of these is a set?\n",
        "###### a.myset = ('apple', 'banana', 'cherry')\n",
        "###### b.myset = ['apple', 'banana', 'cherry']\n",
        "###### c.myset = {'apple', 'banana', 'cherry'}\n",
        " #### c"
      ]
    },
    {
      "cell_type": "markdown",
      "id": "f94a9b1c-da5a-493f-bea1-4dc400af05ee",
      "metadata": {
        "id": "f94a9b1c-da5a-493f-bea1-4dc400af05ee"
      },
      "source": [
        "# True or False.\n",
        "2.Set items cannot be removed after the set has been created.\n",
        "##### True\n",
        "##### False\n",
        " ### False"
      ]
    },
    {
      "cell_type": "markdown",
      "id": "df0ab8e3-a9af-4e68-8be8-c2627ff82828",
      "metadata": {
        "id": "df0ab8e3-a9af-4e68-8be8-c2627ff82828"
      },
      "source": [
        "3.A set cannot have two items with the same value.\n",
        "##### True\n",
        "##### False\n",
        "  #### True"
      ]
    },
    {
      "cell_type": "markdown",
      "id": "b11215cb-f1e5-406e-9aed-186e395cceb2",
      "metadata": {
        "id": "b11215cb-f1e5-406e-9aed-186e395cceb2"
      },
      "source": [
        "4.Select the correct function for returning the number of items in fruits:"
      ]
    },
    {
      "cell_type": "code",
      "execution_count": null,
      "id": "5c74390b-c5f0-47c9-b197-f321580d0b1a",
      "metadata": {
        "id": "5c74390b-c5f0-47c9-b197-f321580d0b1a",
        "outputId": "db0eb9bd-dc73-462b-8095-b5e0eaa9507c"
      },
      "outputs": [
        {
          "name": "stdout",
          "output_type": "stream",
          "text": [
            "3\n"
          ]
        }
      ],
      "source": [
        "fruits = {'apple', 'banana', 'cherry'}\n",
        "print(len(fruits))"
      ]
    },
    {
      "cell_type": "markdown",
      "id": "b09384ef-fac1-4ccc-91cf-801cbb5941f0",
      "metadata": {
        "id": "b09384ef-fac1-4ccc-91cf-801cbb5941f0"
      },
      "source": [
        "# Python Dictionaries"
      ]
    },
    {
      "cell_type": "markdown",
      "id": "1e2e0ff7-5b58-4050-a4c5-1e161761a84f",
      "metadata": {
        "id": "1e2e0ff7-5b58-4050-a4c5-1e161761a84f"
      },
      "source": [
        "1.Whis one of theese is a dictionary?\n",
        "##### a. x = ('apple', 'banana', 'cherry')\n",
        "##### b. x = {'type' : 'fruit', 'name' : 'banana'}\n",
        "##### c. x = ['apple', 'banana', 'cherry']\n",
        "  ### b"
      ]
    },
    {
      "cell_type": "markdown",
      "id": "864e92d9-8c56-4d62-a96d-7df94c326006",
      "metadata": {
        "id": "864e92d9-8c56-4d62-a96d-7df94c326006"
      },
      "source": [
        "# True or False.\n",
        "2.Dictionary items cannot be removed after the dictionary has been created.\n",
        "##### True\n",
        "##### False\n",
        "  #### False"
      ]
    },
    {
      "cell_type": "markdown",
      "id": "3e9ce37c-17f1-41aa-bcf6-8c6127bb4af0",
      "metadata": {
        "id": "3e9ce37c-17f1-41aa-bcf6-8c6127bb4af0"
      },
      "source": [
        "3.A dictionary cannot have two keys with the same name.\n",
        "##### True\n",
        "##### False\n",
        "### True\n"
      ]
    },
    {
      "cell_type": "markdown",
      "id": "223798e2-2ba4-4197-bb8b-aa36e256cf3c",
      "metadata": {
        "id": "223798e2-2ba4-4197-bb8b-aa36e256cf3c"
      },
      "source": [
        "4.Select the correct function to print the number of key/value pairs in the dictionary:"
      ]
    },
    {
      "cell_type": "code",
      "execution_count": null,
      "id": "1b0e25f8-b34d-4281-896b-d47d827c8d59",
      "metadata": {
        "id": "1b0e25f8-b34d-4281-896b-d47d827c8d59",
        "outputId": "e171ae09-a140-4f53-a990-6fe57a9cbcd8"
      },
      "outputs": [
        {
          "name": "stdout",
          "output_type": "stream",
          "text": [
            "2\n"
          ]
        }
      ],
      "source": [
        "x = {'type' : 'fruit', 'name' : 'banana'}\n",
        "print(len(x))"
      ]
    },
    {
      "cell_type": "markdown",
      "id": "5490e4d9-9ac7-4edd-a713-e007623c1e63",
      "metadata": {
        "id": "5490e4d9-9ac7-4edd-a713-e007623c1e63"
      },
      "source": [
        "# Access List Items"
      ]
    },
    {
      "cell_type": "code",
      "execution_count": null,
      "id": "928162ea-b0db-419c-b38f-f979d3517fc6",
      "metadata": {
        "id": "928162ea-b0db-419c-b38f-f979d3517fc6"
      },
      "outputs": [],
      "source": [
        "1.What will be the result of the following syntax:"
      ]
    },
    {
      "cell_type": "code",
      "execution_count": null,
      "id": "d88a6058-7c5a-41fa-b350-8260efb82b99",
      "metadata": {
        "id": "d88a6058-7c5a-41fa-b350-8260efb82b99",
        "outputId": "444c3f03-b370-471c-cff2-56a1c0c0a345"
      },
      "outputs": [
        {
          "name": "stdout",
          "output_type": "stream",
          "text": [
            "cherry\n"
          ]
        }
      ],
      "source": [
        "mylist = ['apple', 'banana', 'cherry']\n",
        "print(mylist[-1])"
      ]
    },
    {
      "cell_type": "markdown",
      "id": "007998af-17d9-4b9a-a01b-42bff2b9f8a0",
      "metadata": {
        "id": "007998af-17d9-4b9a-a01b-42bff2b9f8a0"
      },
      "source": [
        "2.Print the second item in the fruits list."
      ]
    },
    {
      "cell_type": "code",
      "execution_count": null,
      "id": "add5713e-f670-4b29-8f31-f1a795e14d31",
      "metadata": {
        "id": "add5713e-f670-4b29-8f31-f1a795e14d31",
        "outputId": "bb7ffe22-73d1-42dd-b28b-0ee0c9a8eb62"
      },
      "outputs": [
        {
          "name": "stdout",
          "output_type": "stream",
          "text": [
            "banana\n"
          ]
        }
      ],
      "source": [
        "fruits = [\"apple\", \"banana\", \"cherry\"]\n",
        "print(fruits[1])"
      ]
    },
    {
      "cell_type": "markdown",
      "id": "2d974382-502c-428d-b8c9-6642552c6b17",
      "metadata": {
        "id": "2d974382-502c-428d-b8c9-6642552c6b17"
      },
      "source": [
        "3.What will be the result of the following syntax:"
      ]
    },
    {
      "cell_type": "code",
      "execution_count": null,
      "id": "9a807152-9e5b-4eca-ad6e-373f55c83517",
      "metadata": {
        "id": "9a807152-9e5b-4eca-ad6e-373f55c83517",
        "outputId": "4d28caeb-32e2-40e4-af6e-ff080af8080c"
      },
      "outputs": [
        {
          "name": "stdout",
          "output_type": "stream",
          "text": [
            "['banana', 'cherry', 'orange']\n"
          ]
        }
      ],
      "source": [
        "mylist = ['apple', 'banana', 'cherry', 'orange', 'kiwi']\n",
        "print(mylist[1:4])"
      ]
    },
    {
      "cell_type": "markdown",
      "id": "321965f8-d450-435b-90de-136619e1bbe6",
      "metadata": {
        "id": "321965f8-d450-435b-90de-136619e1bbe6"
      },
      "source": [
        "4.Use a range of indexes to print the third, fourth, and fifth item in the list."
      ]
    },
    {
      "cell_type": "code",
      "execution_count": null,
      "id": "1faa4b6f-e13a-41d8-88ce-2e0a0c193c81",
      "metadata": {
        "id": "1faa4b6f-e13a-41d8-88ce-2e0a0c193c81",
        "outputId": "be7e3376-c651-4002-affe-38dae3e2327b"
      },
      "outputs": [
        {
          "name": "stdout",
          "output_type": "stream",
          "text": [
            "['cherry', 'orange', 'kiwi']\n"
          ]
        }
      ],
      "source": [
        "fruits = [\"apple\", \"banana\", \"cherry\", \"orange\", \"kiwi\", \"melon\", \"mango\"]\n",
        "print(fruits[2:5])"
      ]
    },
    {
      "cell_type": "markdown",
      "id": "55a24094-2516-4f1e-a696-be517d8265c5",
      "metadata": {
        "id": "55a24094-2516-4f1e-a696-be517d8265c5"
      },
      "source": [
        "# Python Change Lists"
      ]
    },
    {
      "cell_type": "markdown",
      "id": "b2b87111-6c61-434e-8203-c3347c15be06",
      "metadata": {
        "id": "b2b87111-6c61-434e-8203-c3347c15be06"
      },
      "source": [
        "1.What will be the result of the following syntax:"
      ]
    },
    {
      "cell_type": "code",
      "execution_count": null,
      "id": "4c4d5f3e-452e-4323-90df-a4261de89d8b",
      "metadata": {
        "id": "4c4d5f3e-452e-4323-90df-a4261de89d8b",
        "outputId": "165bbee8-469c-4a3e-b3a0-66eec720609f"
      },
      "outputs": [
        {
          "name": "stdout",
          "output_type": "stream",
          "text": [
            "banana\n"
          ]
        }
      ],
      "source": [
        "mylist = ['apple', 'banana', 'cherry']\n",
        "mylist[0] = 'kiwi'\n",
        "print(mylist[1])"
      ]
    },
    {
      "cell_type": "markdown",
      "id": "1809bd50-dcc3-4f27-adc7-0b1a1cde37e3",
      "metadata": {
        "id": "1809bd50-dcc3-4f27-adc7-0b1a1cde37e3"
      },
      "source": [
        "2.Change the value from \"apple\" to \"kiwi\", in the fruits list."
      ]
    },
    {
      "cell_type": "code",
      "execution_count": null,
      "id": "4dc7d1f7-8ffe-40fa-bf8c-5dc9818da968",
      "metadata": {
        "id": "4dc7d1f7-8ffe-40fa-bf8c-5dc9818da968"
      },
      "outputs": [],
      "source": [
        "fruits = [\"apple\", \"banana\", \"cherry\"]\n",
        "fruits[0]= \"kiwi\"\n"
      ]
    },
    {
      "cell_type": "markdown",
      "id": "0f276055-2c9c-4697-98c0-cf71a0ea0301",
      "metadata": {
        "id": "0f276055-2c9c-4697-98c0-cf71a0ea0301"
      },
      "source": [
        "3.What will be the result of the following syntax:"
      ]
    },
    {
      "cell_type": "code",
      "execution_count": null,
      "id": "5fea3dc1-bba6-4d59-b50e-40ccf08f5a18",
      "metadata": {
        "id": "5fea3dc1-bba6-4d59-b50e-40ccf08f5a18",
        "outputId": "5052029e-03ae-493f-ebfe-e938470aa66f"
      },
      "outputs": [
        {
          "name": "stdout",
          "output_type": "stream",
          "text": [
            "mango\n"
          ]
        }
      ],
      "source": [
        "mylist = ['apple', 'banana', 'cherry']\n",
        "mylist[1:2] = ['kiwi', 'mango']\n",
        "print(mylist[2])"
      ]
    },
    {
      "cell_type": "markdown",
      "id": "32916273-03cf-4e96-b63d-82cccb9414e9",
      "metadata": {
        "id": "32916273-03cf-4e96-b63d-82cccb9414e9"
      },
      "source": [
        "# Python Add List Items"
      ]
    },
    {
      "cell_type": "markdown",
      "id": "33a0f68e-8da9-4c37-95fc-1c41484cb14c",
      "metadata": {
        "id": "33a0f68e-8da9-4c37-95fc-1c41484cb14c"
      },
      "source": [
        "1.What will be the result of the following syntax:"
      ]
    },
    {
      "cell_type": "code",
      "execution_count": null,
      "id": "d60a18e8-1cd1-4724-afc5-875810641711",
      "metadata": {
        "id": "d60a18e8-1cd1-4724-afc5-875810641711",
        "outputId": "60ded131-ec05-457f-b94a-803e1f828daa"
      },
      "outputs": [
        {
          "name": "stdout",
          "output_type": "stream",
          "text": [
            "apple\n"
          ]
        }
      ],
      "source": [
        "mylist = ['apple', 'banana', 'cherry']\n",
        "mylist.insert(0, 'orange')\n",
        "print(mylist[1])"
      ]
    },
    {
      "cell_type": "markdown",
      "id": "16ef101d-7c98-44f4-803d-d655e4393f96",
      "metadata": {
        "id": "16ef101d-7c98-44f4-803d-d655e4393f96"
      },
      "source": [
        "2.Use the append method to add \"orange\" to the fruits list.\n"
      ]
    },
    {
      "cell_type": "code",
      "execution_count": null,
      "id": "cc3465a3-0968-4f9e-a692-0f9af99d87c4",
      "metadata": {
        "id": "cc3465a3-0968-4f9e-a692-0f9af99d87c4"
      },
      "outputs": [],
      "source": [
        "fruits = [\"apple\", \"banana\", \"cherry\"]\n",
        "fruits.append(\"orange\")"
      ]
    },
    {
      "cell_type": "markdown",
      "id": "16712bfc-af77-4dc5-8d7c-4edd697a5577",
      "metadata": {
        "id": "16712bfc-af77-4dc5-8d7c-4edd697a5577"
      },
      "source": [
        "3.Use the insert method to add \"lemon\" as the second item in the fruits list."
      ]
    },
    {
      "cell_type": "code",
      "execution_count": null,
      "id": "ffc5f976-4780-463b-b94b-706b6422966d",
      "metadata": {
        "id": "ffc5f976-4780-463b-b94b-706b6422966d"
      },
      "outputs": [],
      "source": [
        "fruits = [\"apple\", \"banana\", \"cherry\"]\n",
        "fruits.insert(1,\"lemon\")"
      ]
    },
    {
      "cell_type": "code",
      "execution_count": null,
      "id": "8a6e1586-96e2-4e21-8737-24a0d9b39319",
      "metadata": {
        "id": "8a6e1586-96e2-4e21-8737-24a0d9b39319"
      },
      "outputs": [],
      "source": [
        "4.Select the missing parts to add the elements of tropical to fruits:"
      ]
    },
    {
      "cell_type": "code",
      "execution_count": null,
      "id": "bd1c32d6-f669-49e0-ad50-530139e6a28f",
      "metadata": {
        "id": "bd1c32d6-f669-49e0-ad50-530139e6a28f"
      },
      "outputs": [],
      "source": [
        "fruits = ['apple', 'banana', 'cherry']\n",
        "tropical = ['mango', 'pineapple', 'papaya']\n",
        "fruits.extend(tropical)"
      ]
    },
    {
      "cell_type": "markdown",
      "id": "1a261913-6c08-482f-8288-c7af3c5d583c",
      "metadata": {
        "id": "1a261913-6c08-482f-8288-c7af3c5d583c"
      },
      "source": [
        "# Python Remove List Items"
      ]
    },
    {
      "cell_type": "markdown",
      "id": "908848e2-3fc4-4567-bc6b-e73f5aede510",
      "metadata": {
        "id": "908848e2-3fc4-4567-bc6b-e73f5aede510"
      },
      "source": [
        "1.What is a List method for removing list items?\n",
        "##### a.pop()\n",
        "##### b.push()\n",
        "##### c.delete()\n",
        "  ### a"
      ]
    },
    {
      "cell_type": "markdown",
      "id": "32d5fc70-9647-44a9-86c8-690f8a66849b",
      "metadata": {
        "id": "32d5fc70-9647-44a9-86c8-690f8a66849b"
      },
      "source": [
        "2.Use the remove method to remove \"banana\" from the fruits list."
      ]
    },
    {
      "cell_type": "code",
      "execution_count": null,
      "id": "17baec27-87d5-482b-b865-d3580387677a",
      "metadata": {
        "id": "17baec27-87d5-482b-b865-d3580387677a"
      },
      "outputs": [],
      "source": [
        "fruits = [\"apple\", \"banana\", \"cherry\"]\n",
        "fruits.remove(\"banana\")\n"
      ]
    },
    {
      "cell_type": "markdown",
      "id": "1202a8ab-9fbd-42c5-8cc4-14edf628ec7c",
      "metadata": {
        "id": "1202a8ab-9fbd-42c5-8cc4-14edf628ec7c"
      },
      "source": [
        "3.What will be the result of the following syntax:"
      ]
    },
    {
      "cell_type": "code",
      "execution_count": null,
      "id": "aabb5616-8a06-4b52-ad8a-9a837a0ca97b",
      "metadata": {
        "id": "aabb5616-8a06-4b52-ad8a-9a837a0ca97b",
        "outputId": "50cc844f-d1c6-4699-e805-e4e788a5cef5"
      },
      "outputs": [
        {
          "name": "stdout",
          "output_type": "stream",
          "text": [
            "['apple', 'cherry']\n"
          ]
        }
      ],
      "source": [
        "mylist = ['apple', 'banana', 'cherry']\n",
        "mylist.pop(1)\n",
        "print(mylist)"
      ]
    },
    {
      "cell_type": "code",
      "execution_count": null,
      "id": "09c10d8d-7b43-4764-87b8-bc3fc74d25c1",
      "metadata": {
        "id": "09c10d8d-7b43-4764-87b8-bc3fc74d25c1"
      },
      "outputs": [],
      "source": []
    }
  ],
  "metadata": {
    "kernelspec": {
      "display_name": "Python 3 (ipykernel)",
      "language": "python",
      "name": "python3"
    },
    "language_info": {
      "codemirror_mode": {
        "name": "ipython",
        "version": 3
      },
      "file_extension": ".py",
      "mimetype": "text/x-python",
      "name": "python",
      "nbconvert_exporter": "python",
      "pygments_lexer": "ipython3",
      "version": "3.12.7"
    },
    "colab": {
      "provenance": [],
      "include_colab_link": true
    }
  },
  "nbformat": 4,
  "nbformat_minor": 5
}