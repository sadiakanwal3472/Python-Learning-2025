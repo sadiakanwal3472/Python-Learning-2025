{
  "cells": [
    {
      "cell_type": "markdown",
      "metadata": {
        "id": "view-in-github",
        "colab_type": "text"
      },
      "source": [
        "<a href=\"https://colab.research.google.com/github/sadiakanwal3472/Python-Learning-2025/blob/main/python_basics_lab_07.ipynb\" target=\"_parent\"><img src=\"https://colab.research.google.com/assets/colab-badge.svg\" alt=\"Open In Colab\"/></a>"
      ]
    },
    {
      "cell_type": "markdown",
      "id": "cc8bc812-babf-4b42-92f3-cc6c28e70ccb",
      "metadata": {
        "id": "cc8bc812-babf-4b42-92f3-cc6c28e70ccb"
      },
      "source": [
        "# Python - Add List Items"
      ]
    },
    {
      "cell_type": "markdown",
      "id": "e9e4ef59-a1bc-48cb-8f38-9f25056c4674",
      "metadata": {
        "id": "e9e4ef59-a1bc-48cb-8f38-9f25056c4674"
      },
      "source": [
        "# 1. Append Items\n",
        "To add an item to the end of the list, use the append() method:\n",
        "# Example:\n",
        "Using the append() method to append an item:"
      ]
    },
    {
      "cell_type": "code",
      "execution_count": null,
      "id": "a482550c-090d-4d0c-ba7f-10be5fcd40ce",
      "metadata": {
        "id": "a482550c-090d-4d0c-ba7f-10be5fcd40ce",
        "outputId": "5df6b46c-1c2e-4a1a-9df2-7703b55ed48f"
      },
      "outputs": [
        {
          "name": "stdout",
          "output_type": "stream",
          "text": [
            "['apple', 'banana', 'cherry', 'orange']\n"
          ]
        }
      ],
      "source": [
        "thislist = [\"apple\", \"banana\", \"cherry\"]\n",
        "thislist.append(\"orange\") # dot append method\n",
        "print(thislist)\n"
      ]
    },
    {
      "cell_type": "markdown",
      "id": "c4658e5c-51e5-4f4e-be1e-253a3a9dc95a",
      "metadata": {
        "id": "c4658e5c-51e5-4f4e-be1e-253a3a9dc95a"
      },
      "source": [
        "# 2.Insert Items\n",
        "To insert a list item at a specified index, use the insert() method.\n",
        "The insert() method inserts an item at the specified index:\n",
        "# Example\n",
        "Insert an item as the second position:"
      ]
    },
    {
      "cell_type": "code",
      "execution_count": null,
      "id": "5218865f-910e-49d6-b338-cf11dcac397f",
      "metadata": {
        "id": "5218865f-910e-49d6-b338-cf11dcac397f",
        "outputId": "78a455c8-5aed-4a62-e237-d3e9565f2762"
      },
      "outputs": [
        {
          "name": "stdout",
          "output_type": "stream",
          "text": [
            "['apple', 'orange', 'banana', 'cherry']\n"
          ]
        }
      ],
      "source": [
        "thislist = [\"apple\", \"banana\", \"cherry\"]\n",
        "thislist.insert(1, \"orange\") # dot insert method\n",
        "print(thislist)"
      ]
    },
    {
      "cell_type": "markdown",
      "id": "c1bb9a1e-e0c7-41f6-9da0-ae1a12807105",
      "metadata": {
        "id": "c1bb9a1e-e0c7-41f6-9da0-ae1a12807105"
      },
      "source": [
        "# Note: As a result of the examples above, the lists will now contain 4 items."
      ]
    },
    {
      "cell_type": "markdown",
      "id": "8d55bbee-956b-49e9-964d-b04739de1897",
      "metadata": {
        "id": "8d55bbee-956b-49e9-964d-b04739de1897"
      },
      "source": [
        "# Extend List\n",
        "To append elements from another list to the current list, use the extend() method.\n",
        "# Example\n",
        "Add the elements of tropical to thislist:"
      ]
    },
    {
      "cell_type": "code",
      "execution_count": null,
      "id": "fb2ae684-1799-4186-92c2-e02fa7443d63",
      "metadata": {
        "id": "fb2ae684-1799-4186-92c2-e02fa7443d63",
        "outputId": "0a5898d3-fa95-46a2-9716-817fe4355bef"
      },
      "outputs": [
        {
          "name": "stdout",
          "output_type": "stream",
          "text": [
            "['apple', 'banana', 'cherry', 'mango', 'pineapple', 'papaya']\n"
          ]
        }
      ],
      "source": [
        "thislist = [\"apple\", \"banana\", \"cherry\"]\n",
        "mylist = [\"mango\", \"pineapple\", \"papaya\"]\n",
        "thislist.extend(mylist)\n",
        "print(thislist)"
      ]
    },
    {
      "cell_type": "markdown",
      "id": "ae1917f9-3305-4d6d-b0b4-82b0678dd180",
      "metadata": {
        "id": "ae1917f9-3305-4d6d-b0b4-82b0678dd180"
      },
      "source": [
        "The elements will be added to the end of the list.\n",
        "# Add Any Iterable\n",
        "The extend() method does not have to append lists, you can add any iterable object (tuples, sets, dictionaries etc.).\n",
        "# Example\n",
        "Add elements of a tuple to a list:"
      ]
    },
    {
      "cell_type": "code",
      "execution_count": null,
      "id": "76c0211d-f1fb-448a-a1d6-e90cdeef86b6",
      "metadata": {
        "id": "76c0211d-f1fb-448a-a1d6-e90cdeef86b6",
        "outputId": "18665c1e-e44a-44d2-8f5a-99f8de334f7f"
      },
      "outputs": [
        {
          "name": "stdout",
          "output_type": "stream",
          "text": [
            "['apple', 'banana', 'cherry', 'kiwi', 'orange']\n"
          ]
        }
      ],
      "source": [
        "thislist = [\"apple\", \"banana\", \"cherry\"]\n",
        "thistuple = (\"kiwi\", \"orange\")\n",
        "thislist.extend(thistuple)\n",
        "print(thislist)"
      ]
    },
    {
      "cell_type": "markdown",
      "id": "1d78085b-12c1-4975-86ba-7753a286c8e3",
      "metadata": {
        "id": "1d78085b-12c1-4975-86ba-7753a286c8e3"
      },
      "source": [
        "# Python - Remove List Items\n",
        "## 1.Remove Specified Item\n",
        "The remove() method removes the specified item.\n",
        "## Example:\n",
        "Remove \"banana\":"
      ]
    },
    {
      "cell_type": "code",
      "execution_count": null,
      "id": "0e3c49ba-3da6-44bf-80c9-cf844bfbacb3",
      "metadata": {
        "id": "0e3c49ba-3da6-44bf-80c9-cf844bfbacb3",
        "outputId": "8c21ca27-91f9-4593-c6fd-fc0cdf5db992"
      },
      "outputs": [
        {
          "name": "stdout",
          "output_type": "stream",
          "text": [
            "['apple', 'cherry']\n"
          ]
        }
      ],
      "source": [
        "thislist = [\"apple\", \"banana\", \"cherry\"]\n",
        "thislist.remove(\"banana\")\n",
        "print(thislist)"
      ]
    },
    {
      "cell_type": "code",
      "execution_count": null,
      "id": "ec0520ea-cecb-44ff-a822-a0ba3a22ad57",
      "metadata": {
        "id": "ec0520ea-cecb-44ff-a822-a0ba3a22ad57",
        "outputId": "8d859e43-441e-41bb-9c03-c52c108a7db3"
      },
      "outputs": [
        {
          "name": "stdout",
          "output_type": "stream",
          "text": [
            "[1, 3, 4, 5, 6, 7, 8, 9, 10]\n"
          ]
        }
      ],
      "source": [
        "mylist=[1,2,3,4,5,6,7,8,9,10]\n",
        "mylist.remove(2)\n",
        "print(mylist)"
      ]
    },
    {
      "cell_type": "markdown",
      "id": "40cc4b42-065c-46cd-ace3-7cbb2d3df355",
      "metadata": {
        "id": "40cc4b42-065c-46cd-ace3-7cbb2d3df355"
      },
      "source": [
        "If there are more than one item with the specified value, the remove() method removes the first occurrence:\n",
        "# Example\n",
        "Remove the first occurrence of \"banana\":"
      ]
    },
    {
      "cell_type": "code",
      "execution_count": null,
      "id": "b6fadc09-c247-4b60-914c-e9d445067f11",
      "metadata": {
        "id": "b6fadc09-c247-4b60-914c-e9d445067f11",
        "outputId": "ed4d3d11-28d9-4843-e120-421d980478d7"
      },
      "outputs": [
        {
          "name": "stdout",
          "output_type": "stream",
          "text": [
            "['apple', 'cherry', 'banana', 'kiwi']\n"
          ]
        }
      ],
      "source": [
        "thislist = [\"apple\", \"banana\", \"cherry\", \"banana\", \"kiwi\"]\n",
        "thislist.remove(\"banana\")\n",
        "print(thislist)"
      ]
    },
    {
      "cell_type": "markdown",
      "id": "4fd8a4c5-b459-41a0-b9ce-7ecf2c1b17a9",
      "metadata": {
        "id": "4fd8a4c5-b459-41a0-b9ce-7ecf2c1b17a9"
      },
      "source": [
        "# 2. Remove Specified Index\n",
        "The pop() method removes the specified index.\n",
        "# Example\n",
        "Remove the second item:"
      ]
    },
    {
      "cell_type": "code",
      "execution_count": null,
      "id": "7f96d025-e783-42ec-8135-b159876cee75",
      "metadata": {
        "id": "7f96d025-e783-42ec-8135-b159876cee75",
        "outputId": "0f9fc597-1fcb-4dac-994d-c90735ea5097"
      },
      "outputs": [
        {
          "name": "stdout",
          "output_type": "stream",
          "text": [
            "['apple', 'cherry']\n"
          ]
        }
      ],
      "source": [
        "thislist = [\"apple\", \"banana\", \"cherry\"]\n",
        "thislist.pop(1)\n",
        "print(thislist)\n"
      ]
    },
    {
      "cell_type": "code",
      "execution_count": null,
      "id": "e9f8e824-ce9e-4f13-89fa-c12032890159",
      "metadata": {
        "id": "e9f8e824-ce9e-4f13-89fa-c12032890159",
        "outputId": "58171fd2-2e10-46b3-beb2-4144225c7463"
      },
      "outputs": [
        {
          "name": "stdout",
          "output_type": "stream",
          "text": [
            "['apple', 'banana']\n"
          ]
        }
      ],
      "source": [
        "thislist = [\"apple\", \"banana\", \"cherry\"]\n",
        "thislist.pop(2)\n",
        "print(thislist)\n"
      ]
    },
    {
      "cell_type": "markdown",
      "id": "fc7c2ab7-a94d-4f55-9c2d-a0bb4bc49030",
      "metadata": {
        "id": "fc7c2ab7-a94d-4f55-9c2d-a0bb4bc49030"
      },
      "source": [
        "If you do not specify the index, the pop() method removes the last item.\n",
        "# Example\n",
        "Remove the last item:"
      ]
    },
    {
      "cell_type": "code",
      "execution_count": null,
      "id": "d5ddef54-4a15-4ee5-8ece-38b7a358c140",
      "metadata": {
        "id": "d5ddef54-4a15-4ee5-8ece-38b7a358c140",
        "outputId": "96de368f-a92e-4115-f9e5-b964e9e94e8f"
      },
      "outputs": [
        {
          "name": "stdout",
          "output_type": "stream",
          "text": [
            "['apple', 'banana']\n"
          ]
        }
      ],
      "source": [
        "thislist = [\"apple\", \"banana\", \"cherry\"]\n",
        "thislist.pop()\n",
        "print(thislist)"
      ]
    },
    {
      "cell_type": "markdown",
      "id": "759b15e7-3160-467a-8290-f79e4f01f930",
      "metadata": {
        "id": "759b15e7-3160-467a-8290-f79e4f01f930"
      },
      "source": [
        "The del keyword also removes the specified index:\n",
        "# Example\n",
        "Remove the first item:"
      ]
    },
    {
      "cell_type": "code",
      "execution_count": null,
      "id": "1608bb30-4971-4ebb-9693-810fd2645be9",
      "metadata": {
        "id": "1608bb30-4971-4ebb-9693-810fd2645be9",
        "outputId": "0f4aed51-a5bb-4b9f-b7db-f383ae45e3b6"
      },
      "outputs": [
        {
          "name": "stdout",
          "output_type": "stream",
          "text": [
            "['banana', 'cherry']\n"
          ]
        }
      ],
      "source": [
        "thislist = [\"apple\", \"banana\", \"cherry\"]\n",
        "del thislist[0]\n",
        "print(thislist)"
      ]
    },
    {
      "cell_type": "markdown",
      "id": "c05101e1-2b0d-4fab-901b-7dfc39e5987c",
      "metadata": {
        "id": "c05101e1-2b0d-4fab-901b-7dfc39e5987c"
      },
      "source": [
        "The del keyword can also delete the list completely.\n",
        "# Example\n",
        "Delete the entire list:"
      ]
    },
    {
      "cell_type": "code",
      "execution_count": null,
      "id": "e3b0fe3a-05de-4f7c-a329-be595c5f8a5b",
      "metadata": {
        "id": "e3b0fe3a-05de-4f7c-a329-be595c5f8a5b"
      },
      "outputs": [],
      "source": [
        "thislist = [\"apple\", \"banana\", \"cherry\"]\n",
        "del thislist"
      ]
    },
    {
      "cell_type": "markdown",
      "id": "8870fb88-ef70-46ee-ab04-827d2df01215",
      "metadata": {
        "id": "8870fb88-ef70-46ee-ab04-827d2df01215"
      },
      "source": [
        "# Clear the List\n",
        "The clear() method empties the list.\n",
        "The list still remains, but it has no content.\n",
        "# Example\n",
        "Clear the list content:"
      ]
    },
    {
      "cell_type": "code",
      "execution_count": null,
      "id": "def074dc-0473-4941-a09b-4309e7917f2e",
      "metadata": {
        "id": "def074dc-0473-4941-a09b-4309e7917f2e",
        "outputId": "d73357aa-2b1f-4a05-eb51-ed061aea3ab5"
      },
      "outputs": [
        {
          "name": "stdout",
          "output_type": "stream",
          "text": [
            "[]\n"
          ]
        }
      ],
      "source": [
        "thislist = [\"apple\", \"banana\", \"cherry\"]\n",
        "thislist.clear()\n",
        "print(thislist)\n"
      ]
    },
    {
      "cell_type": "code",
      "execution_count": null,
      "id": "1f3102f8-e590-4947-ba3d-ea4adeee9e02",
      "metadata": {
        "id": "1f3102f8-e590-4947-ba3d-ea4adeee9e02"
      },
      "outputs": [],
      "source": []
    }
  ],
  "metadata": {
    "kernelspec": {
      "display_name": "Python 3 (ipykernel)",
      "language": "python",
      "name": "python3"
    },
    "language_info": {
      "codemirror_mode": {
        "name": "ipython",
        "version": 3
      },
      "file_extension": ".py",
      "mimetype": "text/x-python",
      "name": "python",
      "nbconvert_exporter": "python",
      "pygments_lexer": "ipython3",
      "version": "3.12.7"
    },
    "colab": {
      "provenance": [],
      "include_colab_link": true
    }
  },
  "nbformat": 4,
  "nbformat_minor": 5
}