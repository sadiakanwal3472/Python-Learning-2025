{
  "cells": [
    {
      "cell_type": "markdown",
      "metadata": {
        "id": "view-in-github",
        "colab_type": "text"
      },
      "source": [
        "<a href=\"https://colab.research.google.com/github/sadiakanwal3472/Python-Learning-2025/blob/main/Basics_Python_lab__10.ipynb\" target=\"_parent\"><img src=\"https://colab.research.google.com/assets/colab-badge.svg\" alt=\"Open In Colab\"/></a>"
      ]
    },
    {
      "cell_type": "markdown",
      "id": "aae65ef3-b0c4-4a37-b5fd-5628ae18b056",
      "metadata": {
        "id": "aae65ef3-b0c4-4a37-b5fd-5628ae18b056"
      },
      "source": [
        "# Python For Loops"
      ]
    },
    {
      "cell_type": "markdown",
      "id": "5e82ea8f-9fcf-4428-b971-72a8eb464f0e",
      "metadata": {
        "id": "5e82ea8f-9fcf-4428-b971-72a8eb464f0e"
      },
      "source": [
        "# Python For Loops\n",
        "A for loop is used for iterating over a sequence (that is either a list, a tuple, a dictionary, a set, or a string).\n",
        "This is less like the for keyword in other programming languages, and works more like an iterator method as found in other object-orientated programming languages.\n",
        "With the for loop we can execute a set of statements, once for each item in a list, tuple, set etc.\n",
        "## Example"
      ]
    },
    {
      "cell_type": "markdown",
      "id": "11d96d27-97d5-4df4-9142-b46210c4e354",
      "metadata": {
        "id": "11d96d27-97d5-4df4-9142-b46210c4e354"
      },
      "source": [
        "Print each fruit in a fruit list:"
      ]
    },
    {
      "cell_type": "code",
      "execution_count": null,
      "id": "5bebf232-2290-4293-91f9-f164bec2d3aa",
      "metadata": {
        "id": "5bebf232-2290-4293-91f9-f164bec2d3aa",
        "outputId": "ff355773-0025-47ff-94ee-e4d6b1a5f7c0"
      },
      "outputs": [
        {
          "name": "stdout",
          "output_type": "stream",
          "text": [
            "apple\n",
            "banana\n",
            "cherry\n"
          ]
        }
      ],
      "source": [
        "fruits = [\"apple\", \"banana\", \"cherry\"]\n",
        "for x in fruits:\n",
        "  print(x)"
      ]
    },
    {
      "cell_type": "markdown",
      "id": "f5d3bca3-fc1a-475c-a12d-8ee4f31ee71b",
      "metadata": {
        "id": "f5d3bca3-fc1a-475c-a12d-8ee4f31ee71b"
      },
      "source": [
        "The for loop does not require an indexing variable to set beforehand."
      ]
    },
    {
      "cell_type": "markdown",
      "id": "dd12c7c5-0476-4356-b406-896d337fa741",
      "metadata": {
        "id": "dd12c7c5-0476-4356-b406-896d337fa741"
      },
      "source": [
        "## Looping Through a String\n",
        "Even strings are iterable objects, they contain a sequence of characters:\n",
        "## Example\n",
        "Loop through the letters in the word \"banana\":"
      ]
    },
    {
      "cell_type": "code",
      "execution_count": null,
      "id": "53073b49-ffc5-417c-8487-83ed8c78723f",
      "metadata": {
        "id": "53073b49-ffc5-417c-8487-83ed8c78723f",
        "outputId": "25b549fa-0194-43b4-b8c9-339a320a6a5a"
      },
      "outputs": [
        {
          "name": "stdout",
          "output_type": "stream",
          "text": [
            "P\n",
            "a\n",
            "k\n",
            "i\n",
            "s\n",
            "t\n",
            "a\n",
            "n\n"
          ]
        }
      ],
      "source": [
        "for x in \"Pakistan\":\n",
        "    print(x)\n"
      ]
    },
    {
      "cell_type": "markdown",
      "id": "1a6551e9-9089-40dd-a510-7c8a5ba2e80c",
      "metadata": {
        "id": "1a6551e9-9089-40dd-a510-7c8a5ba2e80c"
      },
      "source": [
        "## The break Statement\n",
        "With the break statement we can stop the loop before it has looped through all the items:\n",
        "## Example\n",
        "Exit the loop when x is \"banana\":"
      ]
    },
    {
      "cell_type": "code",
      "execution_count": null,
      "id": "fadefe69-1a12-404e-8ed6-23ef503605c4",
      "metadata": {
        "id": "fadefe69-1a12-404e-8ed6-23ef503605c4",
        "outputId": "a540c98c-d2a9-48be-96ff-71bf572bbcca"
      },
      "outputs": [
        {
          "name": "stdout",
          "output_type": "stream",
          "text": [
            "apple\n",
            "banana\n"
          ]
        }
      ],
      "source": [
        "fruits = [\"apple\", \"banana\", \"cherry\"]\n",
        "for x in fruits:\n",
        "  print(x)\n",
        "  if x == \"banana\":\n",
        "    break"
      ]
    },
    {
      "cell_type": "code",
      "execution_count": null,
      "id": "70048267-2246-4d10-b238-331d0badc930",
      "metadata": {
        "id": "70048267-2246-4d10-b238-331d0badc930",
        "outputId": "264ece7b-7fea-4300-8ff3-1bc08b67ef23"
      },
      "outputs": [
        {
          "name": "stdout",
          "output_type": "stream",
          "text": [
            "apple\n",
            "banana\n",
            "cherry\n"
          ]
        }
      ],
      "source": [
        "fruits = [\"apple\", \"banana\", \"cherry\"]\n",
        "for x in fruits:\n",
        "  print(x)\n",
        "  if x == \"cherry\":\n",
        "    break"
      ]
    },
    {
      "cell_type": "code",
      "execution_count": null,
      "id": "c6513e56-c431-44be-aa1f-124280c54752",
      "metadata": {
        "id": "c6513e56-c431-44be-aa1f-124280c54752",
        "outputId": "122cd0ac-e5ae-45e4-9526-b40ac1c20bdb"
      },
      "outputs": [
        {
          "name": "stdout",
          "output_type": "stream",
          "text": [
            "1\n",
            "2\n",
            "3\n",
            "4\n",
            "5\n"
          ]
        }
      ],
      "source": [
        "numbers=[1,2,3,4,5,6,7,8,9,10]\n",
        "for x in numbers:\n",
        "  print(x)\n",
        "  if x == 5:\n",
        "    break\n"
      ]
    },
    {
      "cell_type": "markdown",
      "id": "37b15940-32fa-4794-8829-4714de1cd1f0",
      "metadata": {
        "id": "37b15940-32fa-4794-8829-4714de1cd1f0"
      },
      "source": [
        "## Example\n",
        "Exit the loop when x is \"banana\", but this time the break comes before the print:"
      ]
    },
    {
      "cell_type": "code",
      "execution_count": null,
      "id": "61546efc-c0da-4f2f-90a5-e906b9b897b0",
      "metadata": {
        "id": "61546efc-c0da-4f2f-90a5-e906b9b897b0",
        "outputId": "4fe14aa5-e6c9-4e2d-e87a-8e5d1463eafe"
      },
      "outputs": [
        {
          "name": "stdout",
          "output_type": "stream",
          "text": [
            "apple\n"
          ]
        }
      ],
      "source": [
        "fruits = [\"apple\", \"banana\", \"cherry\"]\n",
        "for x in fruits:\n",
        "  if x == \"banana\":\n",
        "    break\n",
        "  print(x)"
      ]
    },
    {
      "cell_type": "code",
      "execution_count": null,
      "id": "bc8542c4-1319-406a-b37f-47fdc2c35807",
      "metadata": {
        "id": "bc8542c4-1319-406a-b37f-47fdc2c35807",
        "outputId": "db0ce291-14e5-4d7e-f4fd-3f7e4b8fbdbf"
      },
      "outputs": [
        {
          "name": "stdout",
          "output_type": "stream",
          "text": [
            "5\n"
          ]
        }
      ],
      "source": [
        "numbers=[1,2,3,4,5,6,7,8,9,10] # print after break\n",
        "for x in numbers:\n",
        "  if x == 5:\n",
        "    break\n",
        "print(x)"
      ]
    },
    {
      "cell_type": "markdown",
      "id": "fc6ec967-7f35-4db0-a4b5-1a2acf2b0548",
      "metadata": {
        "id": "fc6ec967-7f35-4db0-a4b5-1a2acf2b0548"
      },
      "source": [
        "## The continue Statement\n",
        "With the continue statement we can stop the current iteration of the loop, and continue with the next:\n",
        "## Example\n",
        "Do not print banana:"
      ]
    },
    {
      "cell_type": "code",
      "execution_count": null,
      "id": "19a661cd-426b-4a1e-91e4-08640fb3d392",
      "metadata": {
        "id": "19a661cd-426b-4a1e-91e4-08640fb3d392",
        "outputId": "df4fc9f4-4f25-471e-a87c-945735dc115a"
      },
      "outputs": [
        {
          "name": "stdout",
          "output_type": "stream",
          "text": [
            "apple\n",
            "cherry\n"
          ]
        }
      ],
      "source": [
        "fruits = [\"apple\", \"banana\", \"cherry\"]\n",
        "for x in fruits:\n",
        "  if x == \"banana\":\n",
        "    continue\n",
        "  print(x)"
      ]
    },
    {
      "cell_type": "markdown",
      "id": "5af83ebb-5e10-4f54-8dd7-7d87d24bafc2",
      "metadata": {
        "id": "5af83ebb-5e10-4f54-8dd7-7d87d24bafc2"
      },
      "source": [
        "## The range() Function\n",
        "To loop through a set of code a specified number of times, we can use the range() function,\n",
        "The range() function returns a sequence of numbers, starting from 0 by default, and increments by 1 (by default), and ends at a specified number.\n",
        "## Example\n",
        "Using the range() function:"
      ]
    },
    {
      "cell_type": "code",
      "execution_count": null,
      "id": "e6e79e3a-b67a-47ad-b080-71557349f6f7",
      "metadata": {
        "id": "e6e79e3a-b67a-47ad-b080-71557349f6f7",
        "outputId": "2ae95231-9624-47f4-fc98-1e9553a3edb0"
      },
      "outputs": [
        {
          "name": "stdout",
          "output_type": "stream",
          "text": [
            "0\n",
            "1\n",
            "2\n",
            "3\n",
            "4\n",
            "5\n"
          ]
        }
      ],
      "source": [
        "for x in range(6):\n",
        "  print(x)"
      ]
    },
    {
      "cell_type": "code",
      "execution_count": null,
      "id": "c26af80f-d5de-445d-8d42-a34f9e24fa1d",
      "metadata": {
        "id": "c26af80f-d5de-445d-8d42-a34f9e24fa1d",
        "outputId": "b20f63b3-63a3-478d-aff1-2e110e5091f2"
      },
      "outputs": [
        {
          "name": "stdout",
          "output_type": "stream",
          "text": [
            "0\n",
            "1\n",
            "2\n",
            "3\n",
            "4\n",
            "5\n",
            "6\n",
            "7\n",
            "8\n",
            "9\n",
            "10\n",
            "11\n",
            "12\n",
            "13\n",
            "14\n",
            "15\n",
            "16\n",
            "17\n",
            "18\n",
            "19\n",
            "20\n",
            "21\n",
            "22\n",
            "23\n",
            "24\n",
            "25\n",
            "26\n",
            "27\n",
            "28\n",
            "29\n",
            "30\n",
            "31\n",
            "32\n",
            "33\n",
            "34\n",
            "35\n",
            "36\n",
            "37\n",
            "38\n",
            "39\n",
            "40\n",
            "41\n",
            "42\n",
            "43\n",
            "44\n",
            "45\n",
            "46\n",
            "47\n",
            "48\n",
            "49\n",
            "50\n",
            "51\n",
            "52\n",
            "53\n",
            "54\n",
            "55\n",
            "56\n",
            "57\n",
            "58\n",
            "59\n",
            "60\n",
            "61\n",
            "62\n",
            "63\n",
            "64\n",
            "65\n",
            "66\n",
            "67\n",
            "68\n",
            "69\n",
            "70\n",
            "71\n",
            "72\n",
            "73\n",
            "74\n",
            "75\n",
            "76\n",
            "77\n",
            "78\n",
            "79\n",
            "80\n",
            "81\n",
            "82\n",
            "83\n",
            "84\n",
            "85\n",
            "86\n",
            "87\n",
            "88\n",
            "89\n",
            "90\n",
            "91\n",
            "92\n",
            "93\n",
            "94\n",
            "95\n",
            "96\n",
            "97\n",
            "98\n",
            "99\n"
          ]
        }
      ],
      "source": [
        "for x in range(100):\n",
        "  print(x)"
      ]
    },
    {
      "cell_type": "markdown",
      "id": "8e8a9649-c445-476b-9513-82ed10a74f02",
      "metadata": {
        "id": "8e8a9649-c445-476b-9513-82ed10a74f02"
      },
      "source": [
        "##### Note that range(6) is not the values of 0 to 6, but the values 0 to 5.\n",
        "The range() function defaults to 0 as a starting value, however it is possible to specify the starting value by adding a parameter: range(2, 6), which means values from 2 to 6 (but not including 6):\n",
        "## Example\n",
        "Using the start parameter:"
      ]
    },
    {
      "cell_type": "code",
      "execution_count": null,
      "id": "d2f5a24d-132d-476c-b03e-1a15db953e56",
      "metadata": {
        "id": "d2f5a24d-132d-476c-b03e-1a15db953e56",
        "outputId": "fccc5750-51fe-431c-e090-b14b25862e51"
      },
      "outputs": [
        {
          "name": "stdout",
          "output_type": "stream",
          "text": [
            "2\n",
            "3\n",
            "4\n",
            "5\n"
          ]
        }
      ],
      "source": [
        "for x in range(2, 6):\n",
        "  print(x)"
      ]
    },
    {
      "cell_type": "markdown",
      "id": "0af917df-22dd-4bf7-9ba9-07f0b2f98efb",
      "metadata": {
        "id": "0af917df-22dd-4bf7-9ba9-07f0b2f98efb"
      },
      "source": [
        "The range() function defaults to increment the sequence by 1, however it is possible to specify the increment value by adding a third parameter: range(2, 30, 3):\n",
        "## Example\n",
        "Increment the sequence with 3 (default is 1):"
      ]
    },
    {
      "cell_type": "code",
      "execution_count": null,
      "id": "52e39def-eac9-464b-97eb-8a7ae71640d7",
      "metadata": {
        "id": "52e39def-eac9-464b-97eb-8a7ae71640d7",
        "outputId": "60ccc1c3-14be-4b68-9ea5-304b2a69cc8a"
      },
      "outputs": [
        {
          "name": "stdout",
          "output_type": "stream",
          "text": [
            "2\n",
            "5\n",
            "8\n",
            "11\n",
            "14\n",
            "17\n",
            "20\n",
            "23\n",
            "26\n",
            "29\n"
          ]
        }
      ],
      "source": [
        "for x in range(2, 30, 3):\n",
        "  print(x)"
      ]
    },
    {
      "cell_type": "code",
      "execution_count": null,
      "id": "d1470263-cdbc-4580-886a-aa9aec6086b7",
      "metadata": {
        "id": "d1470263-cdbc-4580-886a-aa9aec6086b7",
        "outputId": "e9477873-2ed6-4051-d6b7-63a6c888971b"
      },
      "outputs": [
        {
          "name": "stdout",
          "output_type": "stream",
          "text": [
            "2\n",
            "7\n",
            "12\n",
            "17\n",
            "22\n",
            "27\n",
            "32\n",
            "37\n"
          ]
        }
      ],
      "source": [
        "for x in range(2, 40, 5):\n",
        "  print(x)"
      ]
    },
    {
      "cell_type": "markdown",
      "id": "19fff252-409d-475a-af86-5b7b2ad3a7c4",
      "metadata": {
        "id": "19fff252-409d-475a-af86-5b7b2ad3a7c4"
      },
      "source": [
        "## Else in For Loop\n",
        "The else keyword in a for loop specifies a block of code to be executed when the loop is finished:\n",
        "## Example\n",
        "Print all numbers from 0 to 5, and print a message when the loop has ended:"
      ]
    },
    {
      "cell_type": "code",
      "execution_count": null,
      "id": "cc81d87f-421b-47d8-bc1b-7ddef907407d",
      "metadata": {
        "id": "cc81d87f-421b-47d8-bc1b-7ddef907407d",
        "outputId": "06749e7f-7cd0-4ec1-ae0c-6a107c124150"
      },
      "outputs": [
        {
          "name": "stdout",
          "output_type": "stream",
          "text": [
            "0\n",
            "1\n",
            "2\n",
            "3\n",
            "4\n",
            "5\n",
            "Finally finished!\n"
          ]
        }
      ],
      "source": [
        "for x in range(6):\n",
        "  print(x)\n",
        "else:\n",
        "  print(\"Finally finished!\")"
      ]
    },
    {
      "cell_type": "markdown",
      "id": "8c1dcd09-690f-4cd3-85b4-b06fd523cefb",
      "metadata": {
        "id": "8c1dcd09-690f-4cd3-85b4-b06fd523cefb"
      },
      "source": [
        "### Note: The else block will NOT be executed if the loop is stopped by a break statement."
      ]
    },
    {
      "cell_type": "markdown",
      "id": "475a22c6-3eaa-413a-94c6-8d8fde877ef3",
      "metadata": {
        "id": "475a22c6-3eaa-413a-94c6-8d8fde877ef3"
      },
      "source": [
        "## Example\n",
        "Break the loop when x is 3, and see what happens with the else block:"
      ]
    },
    {
      "cell_type": "code",
      "execution_count": null,
      "id": "de6f3dc7-bdae-48a1-a138-9425eb66042d",
      "metadata": {
        "id": "de6f3dc7-bdae-48a1-a138-9425eb66042d",
        "outputId": "2525aa32-46a7-44e9-aa71-ab85a12e7ea3"
      },
      "outputs": [
        {
          "name": "stdout",
          "output_type": "stream",
          "text": [
            "0\n",
            "1\n",
            "2\n"
          ]
        }
      ],
      "source": [
        "for x in range(6):\n",
        "  if x == 3: break\n",
        "  print(x)\n",
        "else:\n",
        "  print(\"Finally finished!\")"
      ]
    },
    {
      "cell_type": "markdown",
      "id": "d97452d0-a6ff-466c-b10f-000d3420d62d",
      "metadata": {
        "id": "d97452d0-a6ff-466c-b10f-000d3420d62d"
      },
      "source": [
        "## Nested Loops\n",
        "A nested loop is a loop inside a loop.\n",
        "The \"inner loop\" will be executed one time for each iteration of the \"outer loop\":\n",
        "## Example\n",
        "Print each adjective for every fruit:"
      ]
    },
    {
      "cell_type": "code",
      "execution_count": null,
      "id": "bca4dcc7-e289-4064-a21e-45f6635ef73b",
      "metadata": {
        "id": "bca4dcc7-e289-4064-a21e-45f6635ef73b",
        "outputId": "54857cdb-0cca-4839-c375-60bb0f39879d"
      },
      "outputs": [
        {
          "name": "stdout",
          "output_type": "stream",
          "text": [
            "red apple\n",
            "red banana\n",
            "red cherry\n",
            "big apple\n",
            "big banana\n",
            "big cherry\n",
            "tasty apple\n",
            "tasty banana\n",
            "tasty cherry\n"
          ]
        }
      ],
      "source": [
        "adj = [\"red\", \"big\", \"tasty\"]\n",
        "fruits = [\"apple\", \"banana\", \"cherry\"]\n",
        "\n",
        "for x in adj:\n",
        "  for y in fruits:\n",
        "    print(x, y)"
      ]
    },
    {
      "cell_type": "markdown",
      "id": "3a4aabe6-c471-433f-8515-6c9841a7cac9",
      "metadata": {
        "id": "3a4aabe6-c471-433f-8515-6c9841a7cac9"
      },
      "source": [
        "## The pass Statement\n",
        "for loops cannot be empty, but if you for some reason have a for loop with no content, put in the pass statement to avoid getting an error.\n",
        "## Example"
      ]
    },
    {
      "cell_type": "code",
      "execution_count": null,
      "id": "1f882be9-072c-4916-9166-57381f7714df",
      "metadata": {
        "id": "1f882be9-072c-4916-9166-57381f7714df"
      },
      "outputs": [],
      "source": [
        "for x in [0, 1, 2]:\n",
        "  pass"
      ]
    },
    {
      "cell_type": "markdown",
      "id": "f94b6f30-e2fd-421f-ac58-3c48dd161dba",
      "metadata": {
        "id": "f94b6f30-e2fd-421f-ac58-3c48dd161dba"
      },
      "source": [
        "# Python While Loops"
      ]
    },
    {
      "cell_type": "markdown",
      "id": "b01760ba-7c27-4d41-a892-d0dbc2601d07",
      "metadata": {
        "id": "b01760ba-7c27-4d41-a892-d0dbc2601d07"
      },
      "source": [
        "## Python Loops\n",
        "Python has two primitive loop commands:\n",
        "##### while loops\n",
        "##### for loops\n",
        "## The while Loop\n",
        "With the while loop we can execute a set of statements as long as a condition is true.\n",
        "## Example:\n",
        "Print i as long as i is less than 6:"
      ]
    },
    {
      "cell_type": "code",
      "execution_count": null,
      "id": "4e980b3a-18eb-4baf-95bf-07bebbf6b359",
      "metadata": {
        "id": "4e980b3a-18eb-4baf-95bf-07bebbf6b359",
        "outputId": "56e85d0e-20d3-4faa-9677-1a7bff5ab495"
      },
      "outputs": [
        {
          "name": "stdout",
          "output_type": "stream",
          "text": [
            "1\n",
            "2\n",
            "3\n",
            "4\n",
            "5\n"
          ]
        }
      ],
      "source": [
        "i = 1\n",
        "while i < 6:\n",
        "  print(i)\n",
        "  i += 1"
      ]
    },
    {
      "cell_type": "markdown",
      "id": "803ea81d-37ca-4823-9b9a-7f0c9278a967",
      "metadata": {
        "id": "803ea81d-37ca-4823-9b9a-7f0c9278a967"
      },
      "source": [
        "#### Note: remember to increment i, or else the loop will continue forever.\n",
        "The while loop requires relevant variables to be ready, in this example we need to define an indexing variable, i, which we set to 1.\n",
        "## The break Statement\n",
        "With the break statement we can stop the loop even if the while condition is true:\n",
        "## Example\n",
        "Exit the loop when i is 3:"
      ]
    },
    {
      "cell_type": "code",
      "execution_count": null,
      "id": "a69a9288-f354-48fe-aaeb-c898069ca8d6",
      "metadata": {
        "id": "a69a9288-f354-48fe-aaeb-c898069ca8d6",
        "outputId": "1c604eda-8ca7-4b02-a3c0-d05b7e4bd634"
      },
      "outputs": [
        {
          "name": "stdout",
          "output_type": "stream",
          "text": [
            "1\n",
            "2\n",
            "3\n"
          ]
        }
      ],
      "source": [
        "i = 1\n",
        "while i < 6:\n",
        "  print(i)\n",
        "  if i == 3:\n",
        "    break\n",
        "  i += 1"
      ]
    },
    {
      "cell_type": "markdown",
      "id": "852edef0-1c7f-4265-a15f-b5895a021ec3",
      "metadata": {
        "id": "852edef0-1c7f-4265-a15f-b5895a021ec3"
      },
      "source": [
        "## The continue Statement\n",
        "With the continue statement we can stop the current iteration, and continue with the next:\n",
        "## Example\n",
        "Continue to the next iteration if i is 3:"
      ]
    },
    {
      "cell_type": "code",
      "execution_count": null,
      "id": "f9acc280-f514-404b-affb-c00928f5171f",
      "metadata": {
        "id": "f9acc280-f514-404b-affb-c00928f5171f",
        "outputId": "d2ec5cd8-8904-4fc8-c0bf-e952c288009e"
      },
      "outputs": [
        {
          "name": "stdout",
          "output_type": "stream",
          "text": [
            "1\n",
            "2\n",
            "4\n",
            "5\n",
            "6\n"
          ]
        }
      ],
      "source": [
        "i = 0\n",
        "while i < 6:\n",
        "  i += 1\n",
        "  if i == 3:\n",
        "    continue\n",
        "  print(i)"
      ]
    },
    {
      "cell_type": "markdown",
      "id": "c29637a7-56a6-4443-9407-b3e7a15f8804",
      "metadata": {
        "id": "c29637a7-56a6-4443-9407-b3e7a15f8804"
      },
      "source": [
        "## The else Statement\n",
        "With the else statement we can run a block of code once when the condition no longer is true:\n",
        "## Example\n",
        "Print a message once the condition is false:"
      ]
    },
    {
      "cell_type": "code",
      "execution_count": null,
      "id": "ae3ae8d6-2cc6-418a-998e-95b4e9346272",
      "metadata": {
        "id": "ae3ae8d6-2cc6-418a-998e-95b4e9346272",
        "outputId": "2e5d65dc-2cf5-4d50-9f2c-4cf5b3f39fc6"
      },
      "outputs": [
        {
          "name": "stdout",
          "output_type": "stream",
          "text": [
            "1\n",
            "2\n",
            "3\n",
            "4\n",
            "5\n",
            "i is no longer less than 6\n"
          ]
        }
      ],
      "source": [
        "i = 1\n",
        "while i < 6:\n",
        "  print(i)\n",
        "  i += 1\n",
        "else:\n",
        "  print(\"i is no longer less than 6\")\n"
      ]
    },
    {
      "cell_type": "code",
      "execution_count": null,
      "id": "b03736c9-7466-4382-a5c3-37d9df8e9a80",
      "metadata": {
        "id": "b03736c9-7466-4382-a5c3-37d9df8e9a80"
      },
      "outputs": [],
      "source": []
    }
  ],
  "metadata": {
    "kernelspec": {
      "display_name": "Python 3 (ipykernel)",
      "language": "python",
      "name": "python3"
    },
    "language_info": {
      "codemirror_mode": {
        "name": "ipython",
        "version": 3
      },
      "file_extension": ".py",
      "mimetype": "text/x-python",
      "name": "python",
      "nbconvert_exporter": "python",
      "pygments_lexer": "ipython3",
      "version": "3.12.7"
    },
    "colab": {
      "provenance": [],
      "include_colab_link": true
    }
  },
  "nbformat": 4,
  "nbformat_minor": 5
}