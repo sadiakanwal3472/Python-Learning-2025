{
  "cells": [
    {
      "cell_type": "markdown",
      "metadata": {
        "id": "view-in-github",
        "colab_type": "text"
      },
      "source": [
        "<a href=\"https://colab.research.google.com/github/sadiakanwal3472/Python-Learning-2025/blob/main/Basic_Python_Programs_(1).ipynb\" target=\"_parent\"><img src=\"https://colab.research.google.com/assets/colab-badge.svg\" alt=\"Open In Colab\"/></a>"
      ]
    },
    {
      "cell_type": "markdown",
      "id": "143e3faf-0387-45b3-8a68-9b8d14b6c964",
      "metadata": {
        "id": "143e3faf-0387-45b3-8a68-9b8d14b6c964"
      },
      "source": [
        "# Basic Python Programs"
      ]
    },
    {
      "cell_type": "markdown",
      "id": "4fb34f52-80af-43d3-b1e7-a5d7b035a1c9",
      "metadata": {
        "id": "4fb34f52-80af-43d3-b1e7-a5d7b035a1c9"
      },
      "source": [
        "## Program 1\n",
        "Write a Python program to print \"Hello Python\"."
      ]
    },
    {
      "cell_type": "code",
      "execution_count": null,
      "id": "63ee2da8-a42c-43f5-927f-c3466f29b113",
      "metadata": {
        "id": "63ee2da8-a42c-43f5-927f-c3466f29b113",
        "outputId": "76f07edb-ace2-4cd2-c5c2-fad54bc37cc7"
      },
      "outputs": [
        {
          "name": "stdout",
          "output_type": "stream",
          "text": [
            "Hello Python\n"
          ]
        }
      ],
      "source": [
        "print(\"Hello Python\")"
      ]
    },
    {
      "cell_type": "markdown",
      "id": "caac3cb4-c58f-412c-94e3-c26bcbc2fe3e",
      "metadata": {
        "id": "caac3cb4-c58f-412c-94e3-c26bcbc2fe3e"
      },
      "source": [
        "## Program 2\n",
        "Write a Python program to do arithmetical operations addition and division."
      ]
    },
    {
      "cell_type": "code",
      "execution_count": null,
      "id": "d4274382-7ed3-443e-8a36-c90878a71a5c",
      "metadata": {
        "id": "d4274382-7ed3-443e-8a36-c90878a71a5c",
        "outputId": "33875c5e-e9bd-49ac-b295-1868ccaffac2"
      },
      "outputs": [
        {
          "name": "stdin",
          "output_type": "stream",
          "text": [
            "Enter the first number for addition:  5\n",
            "Enter the second number for addition:  6\n"
          ]
        },
        {
          "name": "stdout",
          "output_type": "stream",
          "text": [
            "sum: 5.0 + 6.0 = 11.0\n"
          ]
        }
      ],
      "source": [
        "# Addition\n",
        "num1 = float(input(\"Enter the first number for addition: \"))\n",
        "num2 = float(input(\"Enter the second number for addition: \"))\n",
        "sum_result = num1 + num2\n",
        "print(f\"sum: {num1} + {num2} = {sum_result}\")"
      ]
    },
    {
      "cell_type": "code",
      "execution_count": null,
      "id": "6de469d6-1d6a-4ee0-a04e-9aad722c28aa",
      "metadata": {
        "id": "6de469d6-1d6a-4ee0-a04e-9aad722c28aa",
        "outputId": "f549ce22-8ed7-47a3-e2a6-164221b28afe"
      },
      "outputs": [
        {
          "name": "stdin",
          "output_type": "stream",
          "text": [
            "Enter the dividend for division:  25\n",
            "Enter the divisor for division:  5\n"
          ]
        },
        {
          "name": "stdout",
          "output_type": "stream",
          "text": [
            "Division: 25.0 / 5.0 = 5.0\n"
          ]
        }
      ],
      "source": [
        "# Division\n",
        "num3 = float(input(\"Enter the dividend for division: \"))\n",
        "num4 = float(input(\"Enter the divisor for division: \"))\n",
        "if num4 == 0:\n",
        " print(\"Error: Division by zero is not allowed.\")\n",
        "else:\n",
        " div_result = num3 / num4\n",
        " print(f\"Division: {num3} / {num4} = {div_result}\")"
      ]
    },
    {
      "cell_type": "markdown",
      "id": "50ba3389-ac81-4e92-ba6f-bf5ba24ebac6",
      "metadata": {
        "id": "50ba3389-ac81-4e92-ba6f-bf5ba24ebac6"
      },
      "source": [
        "## Program 3\n",
        "Write a Python program to find the area of a triangle."
      ]
    },
    {
      "cell_type": "code",
      "execution_count": null,
      "id": "7f1285b5-33d4-485a-aade-fae84f572231",
      "metadata": {
        "id": "7f1285b5-33d4-485a-aade-fae84f572231",
        "outputId": "d5af58c5-98af-4601-9b02-d382189a97ff"
      },
      "outputs": [
        {
          "name": "stdin",
          "output_type": "stream",
          "text": [
            "Enter the length of the base of the triangle:  10\n",
            "Enter the height of the triangle:  15\n"
          ]
        },
        {
          "name": "stdout",
          "output_type": "stream",
          "text": [
            "The area of the triangle is: 75.0\n"
          ]
        }
      ],
      "source": [
        "# Input the base and height from the user\n",
        "base = float(input(\"Enter the length of the base of the triangle: \"))\n",
        "height = float(input(\"Enter the height of the triangle: \"))\n",
        "# Calculate the area of the triangle\n",
        "area = 0.5 * base * height\n",
        "# Display the result\n",
        "print(f\"The area of the triangle is: {area}\")"
      ]
    },
    {
      "cell_type": "markdown",
      "id": "ad84ef52-5df8-4078-bf03-aa933a4e283b",
      "metadata": {
        "id": "ad84ef52-5df8-4078-bf03-aa933a4e283b"
      },
      "source": [
        "## Program 4\n",
        "Write a Python program to swap two variables."
      ]
    },
    {
      "cell_type": "code",
      "execution_count": null,
      "id": "869863cd-8bdc-4cf8-a080-038d2552294d",
      "metadata": {
        "id": "869863cd-8bdc-4cf8-a080-038d2552294d",
        "outputId": "69936b51-adc6-470d-f909-17312fa21d59"
      },
      "outputs": [
        {
          "name": "stdin",
          "output_type": "stream",
          "text": [
            "Enter the value of the first variable (a):  5\n",
            "Enter the value of the second variable (b):  9\n"
          ]
        },
        {
          "name": "stdout",
          "output_type": "stream",
          "text": [
            "Original values: a = 5, b = 9\n",
            "Swapped values: a = 9, b = 5\n"
          ]
        }
      ],
      "source": [
        "# Input two variables\n",
        "a = input(\"Enter the value of the first variable (a): \")\n",
        "b = input(\"Enter the value of the second variable (b): \")\n",
        "# Display the original values\n",
        "print(f\"Original values: a = {a}, b = {b}\")\n",
        "# Swap the values using a temporary variable\n",
        "temp = a\n",
        "a = b\n",
        "b = temp\n",
        "# Display the swapped values\n",
        "print(f\"Swapped values: a = {a}, b = {b}\")"
      ]
    },
    {
      "cell_type": "markdown",
      "id": "e22632f8-444d-464f-a923-a50aa8829945",
      "metadata": {
        "id": "e22632f8-444d-464f-a923-a50aa8829945"
      },
      "source": [
        "## Program 5\n",
        "Write a Python program to generate a random number."
      ]
    },
    {
      "cell_type": "code",
      "execution_count": null,
      "id": "bb5ed271-2676-4167-812b-f6ac43cda595",
      "metadata": {
        "id": "bb5ed271-2676-4167-812b-f6ac43cda595",
        "outputId": "a0e6ba0b-992a-47d4-b84e-e69529761d3c"
      },
      "outputs": [
        {
          "name": "stdout",
          "output_type": "stream",
          "text": [
            "Random number: 56\n"
          ]
        }
      ],
      "source": [
        "import random\n",
        "print(f\"Random number: {random.randint(1, 100)}\")"
      ]
    },
    {
      "cell_type": "markdown",
      "id": "347a7723-5a84-4d24-970b-01dcfcae58c5",
      "metadata": {
        "id": "347a7723-5a84-4d24-970b-01dcfcae58c5"
      },
      "source": [
        "## Program 6\n",
        "Write a Python program to convert kilometers to miles."
      ]
    },
    {
      "cell_type": "code",
      "execution_count": null,
      "id": "0e4f663e-b791-442b-b455-5800bf72790b",
      "metadata": {
        "id": "0e4f663e-b791-442b-b455-5800bf72790b",
        "outputId": "87009e6f-834a-4307-eede-069badfbb5c3"
      },
      "outputs": [
        {
          "name": "stdin",
          "output_type": "stream",
          "text": [
            "Enter distance in kilometers:  100\n"
          ]
        },
        {
          "name": "stdout",
          "output_type": "stream",
          "text": [
            "100.0 kilometers is equal to 62.137100000000004 miles\n"
          ]
        }
      ],
      "source": [
        "kilometers = float(input(\"Enter distance in kilometers: \"))\n",
        "# Conversion factor: 1 kilometer = 0.621371 miles\n",
        "conversion_factor = 0.621371\n",
        "miles = kilometers * conversion_factor\n",
        "print(f\"{kilometers} kilometers is equal to {miles} miles\")"
      ]
    },
    {
      "cell_type": "markdown",
      "id": "0f6dbbf4-f753-4fc6-9109-41b1e530d7e6",
      "metadata": {
        "id": "0f6dbbf4-f753-4fc6-9109-41b1e530d7e6"
      },
      "source": [
        "## Program 7\n",
        "Write a Python program to convert Celsius to Fahrenheit."
      ]
    },
    {
      "cell_type": "code",
      "execution_count": null,
      "id": "7f4abaaf-fe7e-4e1c-9017-41aad5a2acc8",
      "metadata": {
        "id": "7f4abaaf-fe7e-4e1c-9017-41aad5a2acc8",
        "outputId": "b80aa1bc-21f2-4d21-f8f5-0aa7a35eb6ac"
      },
      "outputs": [
        {
          "name": "stdin",
          "output_type": "stream",
          "text": [
            "Enter temperature in Celsius:  37\n"
          ]
        },
        {
          "name": "stdout",
          "output_type": "stream",
          "text": [
            "37.0 degrees Celsius is equal to 98.6 degrees Fahr\n"
          ]
        }
      ],
      "source": [
        "celsius = float(input(\"Enter temperature in Celsius: \"))\n",
        "\n",
        "# Conversion formula: Fahrenheit = (Celsius * 9/5) + 32\n",
        "fahrenheit = (celsius * 9/5) + 32\n",
        "\n",
        "print(f\"{celsius} degrees Celsius is equal to {fahrenheit} degrees Fahr\")"
      ]
    },
    {
      "cell_type": "markdown",
      "id": "27ed996a-028e-469b-938a-b67fc4dd117b",
      "metadata": {
        "id": "27ed996a-028e-469b-938a-b67fc4dd117b"
      },
      "source": [
        "## Program 8\n",
        "Write a Python program to display calendar."
      ]
    },
    {
      "cell_type": "code",
      "execution_count": null,
      "id": "76e178eb-8c30-43e0-934a-c753afe25ecb",
      "metadata": {
        "id": "76e178eb-8c30-43e0-934a-c753afe25ecb",
        "outputId": "ac01390d-c746-4ebe-dbe3-13b8b1706569"
      },
      "outputs": [
        {
          "name": "stdin",
          "output_type": "stream",
          "text": [
            "Enter year:  2023\n",
            "Enter month:  11\n"
          ]
        },
        {
          "name": "stdout",
          "output_type": "stream",
          "text": [
            "   November 2023\n",
            "Mo Tu We Th Fr Sa Su\n",
            "       1  2  3  4  5\n",
            " 6  7  8  9 10 11 12\n",
            "13 14 15 16 17 18 19\n",
            "20 21 22 23 24 25 26\n",
            "27 28 29 30\n",
            "\n"
          ]
        }
      ],
      "source": [
        "import calendar\n",
        "year = int(input(\"Enter year: \"))\n",
        "month = int(input(\"Enter month: \"))\n",
        "cal = calendar.month(year, month)\n",
        "print(cal)"
      ]
    },
    {
      "cell_type": "markdown",
      "id": "04c74786-5f42-4d00-be72-993c7546810d",
      "metadata": {
        "id": "04c74786-5f42-4d00-be72-993c7546810d"
      },
      "source": [
        "## Program 9\n",
        "Write a Python program to solve quadratic equation."
      ]
    },
    {
      "cell_type": "markdown",
      "id": "b2995504-8edb-4bfa-b287-755e0c5b55a0",
      "metadata": {
        "id": "b2995504-8edb-4bfa-b287-755e0c5b55a0"
      },
      "source": [
        "The standard form of a quadratic equation is:\n",
        "where\n",
        "a, b and c are real numbers and\n",
        "The solutions of this quadratic equation is given by:\n",
        "𝑎𝑥 + 𝑏𝑥 + 𝑐 = 0\n",
        "2\n",
        "𝑎 ≠ 0\n",
        "(−𝑏 ± (𝑏 − 4𝑎𝑐 )/(2𝑎)\n"
      ]
    },
    {
      "cell_type": "code",
      "execution_count": null,
      "id": "9f6baad0-7bb6-450f-9806-fd20c3909ac1",
      "metadata": {
        "id": "9f6baad0-7bb6-450f-9806-fd20c3909ac1",
        "outputId": "4e5f046b-a9ee-4f99-984b-5850a90fa5f5"
      },
      "outputs": [
        {
          "name": "stdin",
          "output_type": "stream",
          "text": [
            "Enter coefficient a:  1\n",
            "Enter coefficient b:  4\n",
            "Enter coefficient c:  8\n"
          ]
        },
        {
          "name": "stdout",
          "output_type": "stream",
          "text": [
            "Root 1: -2.0 + 2.0i\n",
            "Root 2: -2.0 - 2.0i\n"
          ]
        }
      ],
      "source": [
        "import math\n",
        "# Input coefficients\n",
        "a = float(input(\"Enter coefficient a: \"))\n",
        "b = float(input(\"Enter coefficient b: \"))\n",
        "c = float(input(\"Enter coefficient c: \"))\n",
        "# Calculate the discriminant\n",
        "discriminant = b**2 - 4*a*c\n",
        "# Check if the discriminant is positive, negative, or zero\n",
        "if discriminant > 0:\n",
        " # Two real and distinct roots\n",
        " root1 = (-b + math.sqrt(discriminant)) / (2*a)\n",
        " root2 = (-b - math.sqrt(discriminant)) / (2*a)\n",
        " print(f\"Root 1: {root1}\")\n",
        " print(f\"Root 2: {root2}\")\n",
        "elif discriminant == 0:\n",
        " # One real root (repeated)\n",
        " root = -b / (2*a)\n",
        " print(f\"Root: {root}\")\n",
        "else:\n",
        " # Complex roots\n",
        " real_part = -b / (2*a)\n",
        " imaginary_part = math.sqrt(abs(discriminant)) / (2*a)\n",
        " print(f\"Root 1: {real_part} + {imaginary_part}i\")\n",
        " print(f\"Root 2: {real_part} - {imaginary_part}i\")"
      ]
    },
    {
      "cell_type": "markdown",
      "id": "3ee70b82-ee88-40e8-8e87-e6ce172ae44d",
      "metadata": {
        "id": "3ee70b82-ee88-40e8-8e87-e6ce172ae44d"
      },
      "source": [
        "## Program 10\n",
        "Write a Python program to swap two variables without temp variable."
      ]
    },
    {
      "cell_type": "code",
      "execution_count": null,
      "id": "4e30e137-c814-4a2c-8970-f1a089bdfa07",
      "metadata": {
        "id": "4e30e137-c814-4a2c-8970-f1a089bdfa07",
        "outputId": "87c5a068-a9a7-4b26-eb73-874e467b2bac"
      },
      "outputs": [
        {
          "name": "stdout",
          "output_type": "stream",
          "text": [
            "After swapping:\n",
            "a = 10\n",
            "b = 5\n"
          ]
        }
      ],
      "source": [
        "a = 5\n",
        "b = 10\n",
        "# Swapping without a temporary variable\n",
        "a, b = b, a\n",
        "print(\"After swapping:\")\n",
        "print(\"a =\", a)\n",
        "print(\"b =\", b)"
      ]
    },
    {
      "cell_type": "markdown",
      "id": "df733ab8-7fb9-4828-8032-9a707517d96f",
      "metadata": {
        "id": "df733ab8-7fb9-4828-8032-9a707517d96f"
      },
      "source": [
        "## Program 11\n",
        "Write a Python Program to Check if a Number is Positive, Negative or Zero."
      ]
    },
    {
      "cell_type": "code",
      "execution_count": null,
      "id": "343fcde1-059b-46dd-8579-3aeac342d144",
      "metadata": {
        "id": "343fcde1-059b-46dd-8579-3aeac342d144",
        "outputId": "8f052e88-7551-4842-905f-b5fe8e690413"
      },
      "outputs": [
        {
          "name": "stdin",
          "output_type": "stream",
          "text": [
            "Enter a number:  6.4\n"
          ]
        },
        {
          "name": "stdout",
          "output_type": "stream",
          "text": [
            "Positive number\n"
          ]
        }
      ],
      "source": [
        "num = float(input(\"Enter a number: \"))\n",
        "if num > 0:\n",
        " print(\"Positive number\")\n",
        "elif num == 0:\n",
        " print(\"Zero\")\n",
        "else:\n",
        " print(\"Negative number\")"
      ]
    },
    {
      "cell_type": "markdown",
      "id": "0d80c839-b5fa-4551-b86c-f4833b2d747a",
      "metadata": {
        "id": "0d80c839-b5fa-4551-b86c-f4833b2d747a"
      },
      "source": [
        "## Program 12\n",
        "Write a Python Program to Check if a Number is Odd or Even.\n"
      ]
    },
    {
      "cell_type": "code",
      "execution_count": null,
      "id": "af3d313c-9603-49df-8553-7d8f63c45337",
      "metadata": {
        "id": "af3d313c-9603-49df-8553-7d8f63c45337",
        "outputId": "157d2293-9a97-4e9f-9533-46dfc19095a8"
      },
      "outputs": [
        {
          "name": "stdin",
          "output_type": "stream",
          "text": [
            "Enter a number:  3\n"
          ]
        },
        {
          "name": "stdout",
          "output_type": "stream",
          "text": [
            "This is a odd number\n"
          ]
        }
      ],
      "source": [
        "num = int(input(\"Enter a number: \"))\n",
        "if num%2 == 0:\n",
        " print(\"This is a even number\")\n",
        "else:\n",
        " print(\"This is a odd number\")"
      ]
    },
    {
      "cell_type": "markdown",
      "id": "7003e3a9-7470-4232-8c04-2be9303f2415",
      "metadata": {
        "id": "7003e3a9-7470-4232-8c04-2be9303f2415"
      },
      "source": [
        "## Program 13\n",
        "Write a Python Program to Check Leap Year."
      ]
    },
    {
      "cell_type": "code",
      "execution_count": null,
      "id": "699f98ca-cfe8-4dba-9818-b3ace5dec22f",
      "metadata": {
        "id": "699f98ca-cfe8-4dba-9818-b3ace5dec22f",
        "outputId": "7ce0ac0c-4014-45f6-c389-2c2b4c371b6c"
      },
      "outputs": [
        {
          "name": "stdin",
          "output_type": "stream",
          "text": [
            "Enter a year:  2025\n"
          ]
        },
        {
          "name": "stdout",
          "output_type": "stream",
          "text": [
            "2025 is not a leap year\n"
          ]
        }
      ],
      "source": [
        "year = int(input(\"Enter a year: \"))\n",
        "# divided by 100 means century year (ending with 00)\n",
        "# century year divided by 400 is leap year\n",
        "if (year % 400 == 0) and (year % 100 == 0):\n",
        " print(\"{0} is a leap year\".format(year))\n",
        "# not divided by 100 means not a century year\n",
        "# year divided by 4 is a leap year\n",
        "elif (year % 4 ==0) and (year % 100 != 0):\n",
        " print(\"{0} is a leap year\".format(year))\n",
        "# if not divided by both 400 (century year) and 4 (not century year)\n",
        "# year is not leap year\n",
        "else:\n",
        " print(\"{0} is not a leap year\".format(year))"
      ]
    },
    {
      "cell_type": "markdown",
      "id": "cbd387e0-16a5-42fa-853b-0c7594512923",
      "metadata": {
        "id": "cbd387e0-16a5-42fa-853b-0c7594512923"
      },
      "source": [
        "## Program 14\n",
        "Write a Python Program to Display the multiplication Table."
      ]
    },
    {
      "cell_type": "code",
      "execution_count": null,
      "id": "d5264854-8d59-46df-98a3-21e6177038d8",
      "metadata": {
        "id": "d5264854-8d59-46df-98a3-21e6177038d8",
        "outputId": "196f7703-d002-4b4a-bc27-528b446c1850"
      },
      "outputs": [
        {
          "name": "stdin",
          "output_type": "stream",
          "text": [
            "Display multiplication table of:  19\n"
          ]
        },
        {
          "name": "stdout",
          "output_type": "stream",
          "text": [
            "19 X 1 = 19\n",
            "19 X 2 = 38\n",
            "19 X 3 = 57\n",
            "19 X 4 = 76\n",
            "19 X 5 = 95\n",
            "19 X 6 = 114\n",
            "19 X 7 = 133\n",
            "19 X 8 = 152\n",
            "19 X 9 = 171\n",
            "19 X 10 = 190\n"
          ]
        }
      ],
      "source": [
        "num = int(input(\"Display multiplication table of: \"))\n",
        "for i in range(1, 11):\n",
        " print(f\"{num} X {i} = {num*i}\")"
      ]
    },
    {
      "cell_type": "markdown",
      "id": "5baac5e7-59b7-483e-b1fe-d2e18ee6d328",
      "metadata": {
        "id": "5baac5e7-59b7-483e-b1fe-d2e18ee6d328"
      },
      "source": [
        "## Program 15\n",
        "Write a Python Program to Print the Fibonacci sequence."
      ]
    },
    {
      "cell_type": "markdown",
      "id": "8a7d4430-a918-4f30-806f-1ec869bab344",
      "metadata": {
        "id": "8a7d4430-a918-4f30-806f-1ec869bab344"
      },
      "source": [
        "### Fibonacci sequence:\n",
        "The Fibonacci sequence is a series of numbers where each number is the sum of the two\n",
        "preceding ones, typically starting with 0 and 1. So, the sequence begins with 0 and 1, and\n",
        "the next number is obtained by adding the previous two numbers. This pattern continues\n",
        "indefinitely, generating a sequence that looks like this:\n",
        "0, 1, 1, 2, 3, 5, 8, 13, 21, 34, 55, 89, 144, and so on.\n",
        "Mathematically, the Fibonacci sequence can be defined using the following recurrence\n",
        "relation:\n",
        "###### 𝐹(0) = 0 𝐹(1) = 1 𝐹(𝑛) = 𝐹(𝑛 − 1) + 𝐹(𝑛 − 2)𝑓𝑜𝑟𝑛 > 1"
      ]
    },
    {
      "cell_type": "code",
      "execution_count": null,
      "id": "28064e81-45e1-4e78-9b7a-39cb6178f21f",
      "metadata": {
        "id": "28064e81-45e1-4e78-9b7a-39cb6178f21f",
        "outputId": "4a07522e-3d3c-4270-a1b9-5eb1ea82a132"
      },
      "outputs": [
        {
          "name": "stdin",
          "output_type": "stream",
          "text": [
            "Enter the limit:  10\n"
          ]
        },
        {
          "name": "stdout",
          "output_type": "stream",
          "text": [
            "The sum of natural numbers up to 10 is: 55\n"
          ]
        }
      ],
      "source": [
        "limit = int(input(\"Enter the limit: \"))\n",
        "# Initialize the sum\n",
        "sum = 0\n",
        "# Use a for loop to calculate the sum of natural numbers\n",
        "for i in range(1, limit + 1):\n",
        " sum += i\n",
        "# Print the sum\n",
        "print(\"The sum of natural numbers up to\", limit, \"is:\", sum)"
      ]
    },
    {
      "cell_type": "code",
      "execution_count": null,
      "id": "fdcdd84d-fb88-4a89-a062-b64e8c18dabb",
      "metadata": {
        "id": "fdcdd84d-fb88-4a89-a062-b64e8c18dabb"
      },
      "outputs": [],
      "source": []
    }
  ],
  "metadata": {
    "kernelspec": {
      "display_name": "Python 3 (ipykernel)",
      "language": "python",
      "name": "python3"
    },
    "language_info": {
      "codemirror_mode": {
        "name": "ipython",
        "version": 3
      },
      "file_extension": ".py",
      "mimetype": "text/x-python",
      "name": "python",
      "nbconvert_exporter": "python",
      "pygments_lexer": "ipython3",
      "version": "3.12.7"
    },
    "colab": {
      "provenance": [],
      "include_colab_link": true
    }
  },
  "nbformat": 4,
  "nbformat_minor": 5
}