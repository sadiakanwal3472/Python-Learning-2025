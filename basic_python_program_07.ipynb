{
  "nbformat": 4,
  "nbformat_minor": 0,
  "metadata": {
    "colab": {
      "provenance": [],
      "authorship_tag": "ABX9TyOG17eiSi9ayfT753PEXoBB",
      "include_colab_link": true
    },
    "kernelspec": {
      "name": "python3",
      "display_name": "Python 3"
    },
    "language_info": {
      "name": "python"
    }
  },
  "cells": [
    {
      "cell_type": "markdown",
      "metadata": {
        "id": "view-in-github",
        "colab_type": "text"
      },
      "source": [
        "<a href=\"https://colab.research.google.com/github/sadiakanwal3472/Python-Learning-2025/blob/main/basic_python_program_07.ipynb\" target=\"_parent\"><img src=\"https://colab.research.google.com/assets/colab-badge.svg\" alt=\"Open In Colab\"/></a>"
      ]
    },
    {
      "cell_type": "markdown",
      "source": [
        "## Program 121\n",
        "Write a function that takes a list of elements and returns only the integers.\n",
        "## Examples\n",
        "#### return_only_integer([9, 2, \"space\", \"car\", \"lion\", 16]) ➞ [9, 2, 16]\n",
        "#### return_only_integer([\"hello\", 81, \"basketball\", 123, \"fox\"]) ➞ [81, 123]\n",
        "#### return_only_integer([10, \"121\", 56, 20, \"car\", 3, \"lion\"]) ➞ [10, 56, 20,3]\n",
        "#### return_only_integer([\"String\", True, 3.3, 1]) ➞ [1]"
      ],
      "metadata": {
        "id": "o3cbwlE1_USt"
      }
    },
    {
      "cell_type": "code",
      "execution_count": 1,
      "metadata": {
        "id": "xlnQhsQO_KpX"
      },
      "outputs": [],
      "source": [
        "def return_only_integer(lst):\n",
        " # Use list comprehension to filter out integers\n",
        " return [x for x in lst if isinstance(x, int) and not isinstance(x, int)]"
      ]
    },
    {
      "cell_type": "code",
      "source": [
        "return_only_integer([9, 2, \"space\", \"car\", \"lion\", 16])\n"
      ],
      "metadata": {
        "colab": {
          "base_uri": "https://localhost:8080/"
        },
        "id": "TIGDorRO_zhJ",
        "outputId": "bbbae2bd-49ad-47fb-dc37-d072c2ba85da"
      },
      "execution_count": 2,
      "outputs": [
        {
          "output_type": "execute_result",
          "data": {
            "text/plain": [
              "[]"
            ]
          },
          "metadata": {},
          "execution_count": 2
        }
      ]
    },
    {
      "cell_type": "code",
      "source": [
        "return_only_integer([\"hello\", 81, \"basketball\", 123, \"fox\"])"
      ],
      "metadata": {
        "colab": {
          "base_uri": "https://localhost:8080/"
        },
        "id": "YojUXewz_6Su",
        "outputId": "915e048b-55e5-431f-ec28-6b2ae802c52e"
      },
      "execution_count": 3,
      "outputs": [
        {
          "output_type": "execute_result",
          "data": {
            "text/plain": [
              "[]"
            ]
          },
          "metadata": {},
          "execution_count": 3
        }
      ]
    },
    {
      "cell_type": "code",
      "source": [
        "return_only_integer([10, \"121\", 56, 20, \"car\", 3, \"lion\"])"
      ],
      "metadata": {
        "colab": {
          "base_uri": "https://localhost:8080/"
        },
        "id": "LCnaBfY-_6p_",
        "outputId": "7dc08330-ad19-4429-8bf9-2ccc903c0b31"
      },
      "execution_count": 4,
      "outputs": [
        {
          "output_type": "execute_result",
          "data": {
            "text/plain": [
              "[]"
            ]
          },
          "metadata": {},
          "execution_count": 4
        }
      ]
    },
    {
      "cell_type": "markdown",
      "source": [
        "## Program 122\n",
        "Create a function that takes three parameters where:\n",
        "#### x is the start of the range (inclusive).\n",
        "#### y is the end of the range (inclusive).\n",
        "#### n is the divisor to be checked against.\n",
        "#### Return an ordered list with numbers in the range that are divisible by the third parameter n\n",
        "Return an empty list if there are no numbers that are divisible by n.\n",
        "Examples\n",
        "#### list_operation(1, 10, 3) ➞ [3, 6, 9]\n",
        "#### list_operation(7, 9, 2) ➞ [8]\n",
        "#### list_operation(15, 20, 7) ➞ []"
      ],
      "metadata": {
        "id": "fsvt81ohACFe"
      }
    },
    {
      "cell_type": "code",
      "source": [
        "def list_operation(x, y, n):\n",
        " # Use list comprehension to generate the list of numbers divisible\n",
        " return [num for num in range(x, y + 1) if num % n == 0]"
      ],
      "metadata": {
        "id": "7kmkl6TnAmXn"
      },
      "execution_count": 5,
      "outputs": []
    },
    {
      "cell_type": "code",
      "source": [
        "list_operation(1, 10, 3)\n"
      ],
      "metadata": {
        "colab": {
          "base_uri": "https://localhost:8080/"
        },
        "id": "8PrAE-3UAZKt",
        "outputId": "98523a95-4876-445c-a921-5461d254f2cf"
      },
      "execution_count": 6,
      "outputs": [
        {
          "output_type": "execute_result",
          "data": {
            "text/plain": [
              "[3, 6, 9]"
            ]
          },
          "metadata": {},
          "execution_count": 6
        }
      ]
    },
    {
      "cell_type": "code",
      "source": [
        "list_operation(7, 9, 2)"
      ],
      "metadata": {
        "colab": {
          "base_uri": "https://localhost:8080/"
        },
        "id": "Cp7gR7DhAyPe",
        "outputId": "1aa179ec-3846-4637-9120-9b6a301fc90e"
      },
      "execution_count": 7,
      "outputs": [
        {
          "output_type": "execute_result",
          "data": {
            "text/plain": [
              "[8]"
            ]
          },
          "metadata": {},
          "execution_count": 7
        }
      ]
    },
    {
      "cell_type": "markdown",
      "source": [
        "## Program 123\n",
        "Create a function that takes in two lists and returns True if the second list follows the first list by one element, and False otherwise. In other words, determine if the second list is the first list shifted to the right by 1.\n",
        "## Examples\n",
        "##### simon_says([1, 2], [5, 1]) ➞ True\n",
        "##### simon_says([1, 2], [5, 5]) ➞ False\n",
        "##### simon_says([1, 2, 3, 4, 5], [0, 1, 2, 3, 4]) ➞ True\n",
        "##### simon_says([1, 2, 3, 4, 5], [5, 5, 1, 2, 3]) ➞ False\n",
        "## Notes:\n",
        "##### Both input lists will be of the same length, and will have a minimum length of 2.\n",
        "##### The values of the 0-indexed element in the second list and the n-1th indexed element in the first list do not matter."
      ],
      "metadata": {
        "id": "hTXxIbLFA4Y6"
      }
    },
    {
      "cell_type": "code",
      "source": [
        "def simon_says(list1, list2):\n",
        " # Check if the second list is the first list shifted to the right b\n",
        " return list1[:-1] == list2[1:]"
      ],
      "metadata": {
        "id": "Yis6NnFVBegT"
      },
      "execution_count": 8,
      "outputs": []
    },
    {
      "cell_type": "code",
      "source": [
        "simon_says([1, 2], [5, 1])"
      ],
      "metadata": {
        "colab": {
          "base_uri": "https://localhost:8080/"
        },
        "id": "Pl0bX0vgBw5e",
        "outputId": "34de7224-0992-44ab-c5ed-9b5baa936994"
      },
      "execution_count": 9,
      "outputs": [
        {
          "output_type": "execute_result",
          "data": {
            "text/plain": [
              "True"
            ]
          },
          "metadata": {},
          "execution_count": 9
        }
      ]
    },
    {
      "cell_type": "code",
      "source": [
        "simon_says([1, 2], [5, 5])"
      ],
      "metadata": {
        "colab": {
          "base_uri": "https://localhost:8080/"
        },
        "id": "uzUp3EYnBxLR",
        "outputId": "4a2a95aa-60aa-4aa7-c0bd-64c2f6081161"
      },
      "execution_count": 10,
      "outputs": [
        {
          "output_type": "execute_result",
          "data": {
            "text/plain": [
              "False"
            ]
          },
          "metadata": {},
          "execution_count": 10
        }
      ]
    },
    {
      "cell_type": "markdown",
      "source": [
        "## Program 124\n",
        "A group of friends have decided to start a secret society. The name will be the first letter of each of their names, sorted in alphabetical order. Create a function that takes in a list of names and returns the name of the secret society.\n",
        "## Examples\n",
        "#### society_name([\"Adam\", \"Sarah\", \"Malcolm\"]) ➞ \"AMS\"\n",
        "#### society_name([\"Harry\", \"Newt\", \"Luna\", \"Cho\"]) ➞ \"CHLN\"\n",
        "#### society_name([\"Phoebe\", \"Chandler\", \"Rachel\", \"Ross\", \"Monica\", \"Joey\"])\n"
      ],
      "metadata": {
        "id": "7dHekLhFCChl"
      }
    },
    {
      "cell_type": "code",
      "source": [
        "def society_name(names):\n",
        " # Extract the first letter of each name, sort them, and join into a\n",
        " secret_name = ''.join(sorted([name[0] for name in names]))\n",
        " return secret_name\n"
      ],
      "metadata": {
        "id": "EKrkMW8DCRCL"
      },
      "execution_count": 12,
      "outputs": []
    },
    {
      "cell_type": "code",
      "source": [
        "society_name([\"Adam\", \"Sarah\", \"Malcolm\"])"
      ],
      "metadata": {
        "colab": {
          "base_uri": "https://localhost:8080/",
          "height": 35
        },
        "id": "GAOXS55QB_yD",
        "outputId": "9fb704a1-bbb8-48ab-f4e5-f833fa107423"
      },
      "execution_count": 13,
      "outputs": [
        {
          "output_type": "execute_result",
          "data": {
            "text/plain": [
              "'AMS'"
            ],
            "application/vnd.google.colaboratory.intrinsic+json": {
              "type": "string"
            }
          },
          "metadata": {},
          "execution_count": 13
        }
      ]
    },
    {
      "cell_type": "code",
      "source": [
        "society_name([\"Phoebe\", \"Chandler\", \"Rachel\", \"Ross\", \"Monica\", \"Joey\"])\n"
      ],
      "metadata": {
        "colab": {
          "base_uri": "https://localhost:8080/",
          "height": 35
        },
        "id": "O6oIt_wrCotX",
        "outputId": "cc6a8ac1-df24-4b7a-cb22-09cd8f84bd7b"
      },
      "execution_count": 15,
      "outputs": [
        {
          "output_type": "execute_result",
          "data": {
            "text/plain": [
              "'CJMPRR'"
            ],
            "application/vnd.google.colaboratory.intrinsic+json": {
              "type": "string"
            }
          },
          "metadata": {},
          "execution_count": 15
        }
      ]
    },
    {
      "cell_type": "markdown",
      "source": [
        "## Program 125\n",
        "An isogram is a word that has no duplicate letters. Create a function that takes a string and returns either True or False depending on whether or not it's an \"isogram\".\n",
        "## Examples\n",
        "#### is_isogram(\"Algorism\") ➞ True\n",
        "#### is_isogram(\"PasSword\") ➞ False\n",
        "#### Not case sensitive.\n",
        "#### is_isogram(\"Consecutive\") ➞ False\n",
        "## Notes\n",
        "#### Ignore letter case (should not be case sensitive).\n",
        "#### All test cases contain valid one word strings."
      ],
      "metadata": {
        "id": "FtnoO3I0C-pk"
      }
    },
    {
      "cell_type": "code",
      "source": [
        "def is_isogram(word):\n",
        "\n",
        " word = word.lower()\n",
        "\n",
        " # Create a set to store unique letters in the word\n",
        " unique_letters = set()\n",
        "\n",
        " for letter in word:\n",
        " # If the letter is already in the set, it's not an isogram\n",
        "  if letter in unique_letters:\n",
        "    return False\n",
        " # Otherwise, add it to the set\n",
        " unique_letters.add(letter)"
      ],
      "metadata": {
        "id": "X1QymwJDD7Ra"
      },
      "execution_count": 16,
      "outputs": []
    },
    {
      "cell_type": "code",
      "source": [
        "is_isogram(\"Algorism\")\n"
      ],
      "metadata": {
        "id": "8ZAVCiM9Ehc0"
      },
      "execution_count": 17,
      "outputs": []
    },
    {
      "cell_type": "code",
      "source": [
        "is_isogram(\"PasSword\")"
      ],
      "metadata": {
        "id": "xxJQMjwFEl73"
      },
      "execution_count": 18,
      "outputs": []
    },
    {
      "cell_type": "code",
      "source": [
        "is_isogram(\"Consecutive\")"
      ],
      "metadata": {
        "id": "EpzTqmt_Er0K"
      },
      "execution_count": 19,
      "outputs": []
    },
    {
      "cell_type": "markdown",
      "source": [
        "## Program 126\n",
        "Create a function that takes a string and returns True or False, depending on whether\n",
        "the characters are in order or not.\n",
        "## Examples\n",
        "#### is_in_order(\"abc\") ➞ True\n",
        "#### is_in_order(\"edabit\") ➞ False\n",
        "#### is_in_order(\"123\") ➞ True\n",
        "#### is_in_order(\"xyzz\") ➞ True is_in_order(\"abc\") ➞ True\n",
        "#### is_in_order(\"edabit\") ➞ False\n",
        "#### is_in_order(\"123\") ➞ True\n",
        "#### is_in_order(\"xyzz\") ➞ True\n",
        "## Notes\n",
        "You don't have to handle empty strings.\n"
      ],
      "metadata": {
        "id": "bzLbeM-3E8sC"
      }
    },
    {
      "cell_type": "code",
      "source": [
        "def is_in_order(s):\n",
        "\n",
        " return s == ''.join(sorted(s))"
      ],
      "metadata": {
        "id": "bcTh83j_FdsF"
      },
      "execution_count": 20,
      "outputs": []
    },
    {
      "cell_type": "code",
      "source": [
        "is_in_order(\"abc\")\n"
      ],
      "metadata": {
        "colab": {
          "base_uri": "https://localhost:8080/"
        },
        "id": "fIhQdeFQFnv8",
        "outputId": "419a5bbc-63c2-4c6a-cb57-51f6d0118ba3"
      },
      "execution_count": 21,
      "outputs": [
        {
          "output_type": "execute_result",
          "data": {
            "text/plain": [
              "True"
            ]
          },
          "metadata": {},
          "execution_count": 21
        }
      ]
    },
    {
      "cell_type": "code",
      "source": [
        "is_in_order(\"adfettr\")\n"
      ],
      "metadata": {
        "colab": {
          "base_uri": "https://localhost:8080/"
        },
        "id": "8lYo3D6LFn78",
        "outputId": "b545e623-3016-4f83-92c4-f01f53667c18"
      },
      "execution_count": 22,
      "outputs": [
        {
          "output_type": "execute_result",
          "data": {
            "text/plain": [
              "False"
            ]
          },
          "metadata": {},
          "execution_count": 22
        }
      ]
    },
    {
      "cell_type": "code",
      "source": [
        "is_in_order(\"123\")"
      ],
      "metadata": {
        "colab": {
          "base_uri": "https://localhost:8080/"
        },
        "id": "hn1li0NHF0wW",
        "outputId": "8524b669-450a-49ab-c42f-0fc9a56e230f"
      },
      "execution_count": 23,
      "outputs": [
        {
          "output_type": "execute_result",
          "data": {
            "text/plain": [
              "True"
            ]
          },
          "metadata": {},
          "execution_count": 23
        }
      ]
    },
    {
      "cell_type": "markdown",
      "source": [
        "## Program 127\n",
        "Create a function that takes a number as an argument and returns True or False\n",
        "depending on whether the number is symmetrical or not. A number is symmetrical\n",
        "when it is the same as its reverse.\n",
        "## Examples\n",
        "#### is_symmetrical(7227) ➞ True\n",
        "#### is_symmetrical(12567) ➞ False\n",
        "#### is_symmetrical(44444444) ➞ True\n",
        "#### is_symmetrical(9939) ➞ False\n",
        "#### is_symmetrical(1112111) ➞ True\n"
      ],
      "metadata": {
        "id": "PYqTt72UGQ7U"
      }
    },
    {
      "cell_type": "code",
      "source": [
        "def is_symmetrical(num):\n",
        " # Convert the number to a string\n",
        " num_str = str(num)\n",
        "\n",
        " # Check if the string is equal to its reverse\n",
        " return num_str == num_str[::-1]"
      ],
      "metadata": {
        "id": "JaDoDRwlGdOI"
      },
      "execution_count": 24,
      "outputs": []
    },
    {
      "cell_type": "code",
      "source": [
        "is_symmetrical(7227)"
      ],
      "metadata": {
        "colab": {
          "base_uri": "https://localhost:8080/"
        },
        "id": "lt9qrIWhGnZw",
        "outputId": "e31057af-88c3-454f-9ca8-2546556ccc4a"
      },
      "execution_count": 25,
      "outputs": [
        {
          "output_type": "execute_result",
          "data": {
            "text/plain": [
              "True"
            ]
          },
          "metadata": {},
          "execution_count": 25
        }
      ]
    },
    {
      "cell_type": "code",
      "source": [
        "is_symmetrical(12567)\n"
      ],
      "metadata": {
        "colab": {
          "base_uri": "https://localhost:8080/"
        },
        "id": "jKoK4SkUGzjP",
        "outputId": "4752968e-37dc-4b66-bfcb-2ef6a60aee86"
      },
      "execution_count": 26,
      "outputs": [
        {
          "output_type": "execute_result",
          "data": {
            "text/plain": [
              "False"
            ]
          },
          "metadata": {},
          "execution_count": 26
        }
      ]
    },
    {
      "cell_type": "code",
      "source": [
        "is_symmetrical(4444444)\n"
      ],
      "metadata": {
        "colab": {
          "base_uri": "https://localhost:8080/"
        },
        "id": "5NX4ymjhG4B9",
        "outputId": "c3bb9c26-bccc-49e8-f977-85bf96e5e4cd"
      },
      "execution_count": 27,
      "outputs": [
        {
          "output_type": "execute_result",
          "data": {
            "text/plain": [
              "True"
            ]
          },
          "metadata": {},
          "execution_count": 27
        }
      ]
    },
    {
      "cell_type": "markdown",
      "source": [
        "## Program 128\n",
        "Given a string of numbers separated by a comma and space, return the product of\n",
        "the numbers.\n",
        "Program 128\n",
        "Given a string of numbers separated by a comma and space, return the product of\n",
        "the numbers.\n",
        "## Examples\n",
        "#### multiply_nums(\"2, 3\") ➞ 6\n",
        "#### multiply_nums(\"1, 2, 3, 4\") ➞ 24\n",
        "#### multiply_nums(\"54, 75, 453, 0\") ➞ 0\n",
        "#### multiply_nums(\"10, -2\") ➞ -20"
      ],
      "metadata": {
        "id": "OnA-ZqbUGysU"
      }
    },
    {
      "cell_type": "code",
      "source": [
        "def multiply_nums(nums_str):\n",
        " # Split the input string by comma and space, then convert to intege\n",
        " nums = [int(num) for num in nums_str.split(\", \")]\n",
        "\n",
        " # Initialize the result with 1\n",
        " result = 1\n",
        "\n",
        " # Multiply all the numbers together\n",
        " for num in nums:\n",
        "   result *= num\n",
        "\n",
        " return result"
      ],
      "metadata": {
        "id": "4P6hkyiCHUzo"
      },
      "execution_count": 28,
      "outputs": []
    },
    {
      "cell_type": "code",
      "source": [
        "multiply_nums(\"2, 3\")"
      ],
      "metadata": {
        "colab": {
          "base_uri": "https://localhost:8080/"
        },
        "id": "6h4rHRbGHgpL",
        "outputId": "7f595bf7-12ab-4c8d-fced-ac5591ec75b0"
      },
      "execution_count": 29,
      "outputs": [
        {
          "output_type": "execute_result",
          "data": {
            "text/plain": [
              "6"
            ]
          },
          "metadata": {},
          "execution_count": 29
        }
      ]
    },
    {
      "cell_type": "code",
      "source": [
        "multiply_nums(\"1, 2, 3, 4\")"
      ],
      "metadata": {
        "colab": {
          "base_uri": "https://localhost:8080/"
        },
        "id": "DAHyZvryHg4H",
        "outputId": "fb44f012-7df7-423a-9b2e-65dfc6f50284"
      },
      "execution_count": 30,
      "outputs": [
        {
          "output_type": "execute_result",
          "data": {
            "text/plain": [
              "24"
            ]
          },
          "metadata": {},
          "execution_count": 30
        }
      ]
    },
    {
      "cell_type": "markdown",
      "source": [
        "## Program 129\n",
        "Create a function that squares every digit of a number.\n",
        "## Examples\n",
        "#### square_digits(9119) ➞ 811181\n",
        "#### square_digits(2483) ➞ 416649\n",
        "#### square_digits(3212) ➞ 9414\n",
        "## Notes\n",
        "#### The function receives an integer and must return an integer."
      ],
      "metadata": {
        "id": "qA0xzgziHu7A"
      }
    },
    {
      "cell_type": "code",
      "source": [
        "def square_digits(n):\n",
        " # Convert the number to a string to iterate through its digits\n",
        " num_str = str(n)\n",
        "\n",
        " # Initialize an empty string to store the squared digits\n",
        " result_str = \"\"\n",
        "\n",
        " # Iterate through the digits\n",
        " for digit in num_str:\n",
        " # Square the digit and convert it back to an integer\n",
        "    squared_digit = int(digit) ** 2\n",
        "\n",
        " # Append the squared digit to the result string\n",
        " result_str += str(squared_digit)\n",
        "\n",
        "\n",
        " return int(result_str)\n"
      ],
      "metadata": {
        "id": "hkYyeOFgH-UK"
      },
      "execution_count": 31,
      "outputs": []
    },
    {
      "cell_type": "code",
      "source": [
        "square_digits(9119)"
      ],
      "metadata": {
        "colab": {
          "base_uri": "https://localhost:8080/"
        },
        "id": "MgXJdefSIOWn",
        "outputId": "5321f95c-c67c-49ed-d7b8-80fe9d015a39"
      },
      "execution_count": 32,
      "outputs": [
        {
          "output_type": "execute_result",
          "data": {
            "text/plain": [
              "81"
            ]
          },
          "metadata": {},
          "execution_count": 32
        }
      ]
    },
    {
      "cell_type": "code",
      "source": [
        "square_digits(2483)"
      ],
      "metadata": {
        "colab": {
          "base_uri": "https://localhost:8080/"
        },
        "id": "3vCUzx4gIOmH",
        "outputId": "ea6a1732-72f3-463b-b91e-ff8570d3e87f"
      },
      "execution_count": 33,
      "outputs": [
        {
          "output_type": "execute_result",
          "data": {
            "text/plain": [
              "9"
            ]
          },
          "metadata": {},
          "execution_count": 33
        }
      ]
    },
    {
      "cell_type": "markdown",
      "source": [
        "## Program 130\n",
        "Create a function that sorts a list and removes all duplicate items from it.\n",
        "## Examples\n",
        "#### setify([1, 3, 3, 5, 5]) ➞ [1, 3, 5]\n",
        "#### setify([4, 4, 4, 4]) ➞ [4]\n",
        "#### setify([5, 7, 8, 9, 10, 15]) ➞ [5, 7, 8, 9, 10, 15]\n",
        "#### setify([3, 3, 3, 2, 1]) ➞ [1, 2, 3]"
      ],
      "metadata": {
        "id": "gopW69bzIaf9"
      }
    },
    {
      "cell_type": "code",
      "source": [
        "def setify(lst):\n",
        " unique_set = set(sorted(lst))\n",
        "\n",
        " # Convert the set back to a list and return it\n",
        " return list(unique_set)"
      ],
      "metadata": {
        "id": "XClbr3VIIilW"
      },
      "execution_count": 34,
      "outputs": []
    },
    {
      "cell_type": "code",
      "source": [
        "setify([1, 3, 3, 5, 5])"
      ],
      "metadata": {
        "colab": {
          "base_uri": "https://localhost:8080/"
        },
        "id": "lhUPEMXPIp1Q",
        "outputId": "1e0cc6c4-4db7-48de-f306-e445ff78716f"
      },
      "execution_count": 35,
      "outputs": [
        {
          "output_type": "execute_result",
          "data": {
            "text/plain": [
              "[1, 3, 5]"
            ]
          },
          "metadata": {},
          "execution_count": 35
        }
      ]
    },
    {
      "cell_type": "code",
      "source": [
        "setify([4, 4, 4, 4])"
      ],
      "metadata": {
        "colab": {
          "base_uri": "https://localhost:8080/"
        },
        "id": "yj7cbNEZIv66",
        "outputId": "43f31f7a-54c8-4bcf-9527-e531ec7fdc83"
      },
      "execution_count": 36,
      "outputs": [
        {
          "output_type": "execute_result",
          "data": {
            "text/plain": [
              "[4]"
            ]
          },
          "metadata": {},
          "execution_count": 36
        }
      ]
    },
    {
      "cell_type": "markdown",
      "source": [
        "## Program 131\n",
        "Create a function that returns the mean of all digits.\n",
        "## Examples\n",
        "#### mean(42) ➞ 3\n",
        "#### mean(12345) ➞ 3\n",
        "#### mean(666) ➞ 6\n",
        "## Notes\n",
        "#### The mean of all digits is the sum of digits / how many digits there are (e.g. mean of digits in 512 is (5+1+2)/3(number of digits) = 8/3=2).\n",
        "#### The mean will always be an integer.\n"
      ],
      "metadata": {
        "id": "GXLOB9VuI8lB"
      }
    },
    {
      "cell_type": "code",
      "source": [
        "def mean(n):\n",
        " # Convert the number to a string to iterate through its digits\n",
        " n_str = str(n)\n",
        "\n",
        " # Calculate the sum of digits\n",
        " digit_sum = sum(int(digit) for digit in n_str)\n",
        "\n",
        " # Calculate the mean by dividing the sum by the number of digits\n",
        " digit_count = len(n_str)\n",
        " digit_mean = digit_sum / digit_count\n",
        "\n",
        " return int(digit_mean)"
      ],
      "metadata": {
        "id": "mtWIu0SSJM6n"
      },
      "execution_count": 37,
      "outputs": []
    },
    {
      "cell_type": "code",
      "source": [
        "mean(42)"
      ],
      "metadata": {
        "colab": {
          "base_uri": "https://localhost:8080/"
        },
        "id": "-1iYH1qdJX6C",
        "outputId": "e865fb80-d633-4cfb-ab2c-1ab7d5198835"
      },
      "execution_count": 38,
      "outputs": [
        {
          "output_type": "execute_result",
          "data": {
            "text/plain": [
              "3"
            ]
          },
          "metadata": {},
          "execution_count": 38
        }
      ]
    },
    {
      "cell_type": "code",
      "source": [
        "mean(123)"
      ],
      "metadata": {
        "colab": {
          "base_uri": "https://localhost:8080/"
        },
        "id": "Wyndl0PPJZXK",
        "outputId": "358f96c5-8e00-42ad-9549-7a33c4452eca"
      },
      "execution_count": 39,
      "outputs": [
        {
          "output_type": "execute_result",
          "data": {
            "text/plain": [
              "2"
            ]
          },
          "metadata": {},
          "execution_count": 39
        }
      ]
    },
    {
      "cell_type": "code",
      "source": [
        "mean(12345)"
      ],
      "metadata": {
        "colab": {
          "base_uri": "https://localhost:8080/"
        },
        "id": "VFq4vzI-JjWn",
        "outputId": "24f6be9b-4cbc-426f-82c0-d4d5d99d2b34"
      },
      "execution_count": 40,
      "outputs": [
        {
          "output_type": "execute_result",
          "data": {
            "text/plain": [
              "3"
            ]
          },
          "metadata": {},
          "execution_count": 40
        }
      ]
    },
    {
      "cell_type": "markdown",
      "source": [
        "## Program 132\n",
        "Create a function that takes an integer and returns a list from 1 to the given number,\n",
        "where:\n",
        "##### 1. If the number can be divided evenly by 4, amplify it by 10 (i.e. return 10 times the\n",
        "number).\n",
        "##### 2. If the number cannot be divided evenly by 4, simply return the number.\n",
        "## Examples\n",
        "##### amplify(4) ➞ [1, 2, 3, 40]\n",
        "##### amplify(3) ➞ [1, 2, 3]\n",
        "##### amplify(25) ➞ [1, 2, 3, 40, 5, 6, 7, 80, 9, 10, 11, 120, 13, 14, 15, 160, 17, 18, 19, 200, 21,\n",
        "22, 23, 240, 25]\n",
        "### Notes\n",
        "##### The given integer will always be equal to or greater than 1.\n",
        "Include the number (see example above).\n",
        "##### To perform this problem with its intended purpose, try doing it with list\n",
        "comprehensions. If that's too difficult, just solve the challenge any way you can."
      ],
      "metadata": {
        "id": "JPFY-R-9Jkae"
      }
    },
    {
      "cell_type": "code",
      "source": [
        "def amplify(num):\n",
        " # Use a list comprehension to generate the list\n",
        " return [n * 10 if n % 4 == 0 else n for n in range(1, num + 1)]"
      ],
      "metadata": {
        "id": "yTlJd57RKELN"
      },
      "execution_count": 41,
      "outputs": []
    },
    {
      "cell_type": "code",
      "source": [
        "amplify(4)"
      ],
      "metadata": {
        "colab": {
          "base_uri": "https://localhost:8080/"
        },
        "id": "N7aV_hMBKJgq",
        "outputId": "da01d3a5-6219-422c-b94b-e21f93e2bf96"
      },
      "execution_count": 42,
      "outputs": [
        {
          "output_type": "execute_result",
          "data": {
            "text/plain": [
              "[1, 2, 3, 40]"
            ]
          },
          "metadata": {},
          "execution_count": 42
        }
      ]
    },
    {
      "cell_type": "code",
      "source": [
        "amplify(56)"
      ],
      "metadata": {
        "colab": {
          "base_uri": "https://localhost:8080/"
        },
        "id": "L1uc4gC3KJtz",
        "outputId": "e55105c3-3deb-47e2-a9d2-b515bf44678e"
      },
      "execution_count": 43,
      "outputs": [
        {
          "output_type": "execute_result",
          "data": {
            "text/plain": [
              "[1,\n",
              " 2,\n",
              " 3,\n",
              " 40,\n",
              " 5,\n",
              " 6,\n",
              " 7,\n",
              " 80,\n",
              " 9,\n",
              " 10,\n",
              " 11,\n",
              " 120,\n",
              " 13,\n",
              " 14,\n",
              " 15,\n",
              " 160,\n",
              " 17,\n",
              " 18,\n",
              " 19,\n",
              " 200,\n",
              " 21,\n",
              " 22,\n",
              " 23,\n",
              " 240,\n",
              " 25,\n",
              " 26,\n",
              " 27,\n",
              " 280,\n",
              " 29,\n",
              " 30,\n",
              " 31,\n",
              " 320,\n",
              " 33,\n",
              " 34,\n",
              " 35,\n",
              " 360,\n",
              " 37,\n",
              " 38,\n",
              " 39,\n",
              " 400,\n",
              " 41,\n",
              " 42,\n",
              " 43,\n",
              " 440,\n",
              " 45,\n",
              " 46,\n",
              " 47,\n",
              " 480,\n",
              " 49,\n",
              " 50,\n",
              " 51,\n",
              " 520,\n",
              " 53,\n",
              " 54,\n",
              " 55,\n",
              " 560]"
            ]
          },
          "metadata": {},
          "execution_count": 43
        }
      ]
    },
    {
      "cell_type": "markdown",
      "source": [
        "## Program 133\n",
        "Create a function that takes a list of numbers and return the number that's unique.\n",
        "## Examples\n",
        "#### unique([3, 3, 3, 7, 3, 3]) ➞ 7\n",
        "#### unique([0, 0, 0.77, 0, 0]) ➞ 0.77\n",
        "#### unique([0, 1, 1, 1, 1, 1, 1, 1]) ➞ 0\n",
        "### Notes\n",
        "#### Test cases will always have exactly one unique number while all others are the same.\n"
      ],
      "metadata": {
        "id": "OFgbaJ2RKXKQ"
      }
    },
    {
      "cell_type": "code",
      "source": [
        "def unique(numbers):\n",
        " # Use a dictionary to count occurrences of each number\n",
        " count_dict = {}\n",
        "\n",
        " # Count occurrences of each number in the list\n",
        " for num in numbers:\n",
        "   if num in count_dict:\n",
        "      count_dict[num] += 1\n",
        " else:\n",
        "   count_dict[num] = 1\n",
        "\n",
        " # Find the unique number (occurs only once)\n",
        " for num, count in count_dict.items():\n",
        "   if count == 1:\n",
        "      return num\n"
      ],
      "metadata": {
        "id": "2JwlSKPEKrMO"
      },
      "execution_count": 2,
      "outputs": []
    },
    {
      "cell_type": "code",
      "source": [
        "unique([3, 3, 3, 7, 3, 3])\n"
      ],
      "metadata": {
        "colab": {
          "base_uri": "https://localhost:8080/"
        },
        "id": "8SwPhWdDLV9I",
        "outputId": "58107401-dbcb-4f70-ab85-b2c4c459023d"
      },
      "execution_count": 3,
      "outputs": [
        {
          "output_type": "execute_result",
          "data": {
            "text/plain": [
              "3"
            ]
          },
          "metadata": {},
          "execution_count": 3
        }
      ]
    },
    {
      "cell_type": "code",
      "source": [
        "unique([0, 0, 0.77, 0, 0])"
      ],
      "metadata": {
        "colab": {
          "base_uri": "https://localhost:8080/"
        },
        "id": "BWCg1i2NLipw",
        "outputId": "14086b29-df0d-44b2-8db5-6f50d72a3c59"
      },
      "execution_count": 4,
      "outputs": [
        {
          "output_type": "execute_result",
          "data": {
            "text/plain": [
              "0"
            ]
          },
          "metadata": {},
          "execution_count": 4
        }
      ]
    },
    {
      "cell_type": "markdown",
      "source": [
        "## Program 134\n",
        "Your task is to create a Circle constructor that creates a circle with a radius provided by an argument. The circles constructed must have two getters getArea() (PIr^2) and getPerimeter() (2PI*r) which give both respective areas and perimeter\n",
        "(circumference). For help with this class, I have provided you with a Rectangle constructor which you can use as a base example.\n",
        "## Examples\n",
        "#### circy = Circle(11)\n",
        "#### circy.getArea()\n",
        "#### Should return 380.132711084365\n",
        "#### circy = Circle(4.44)\n",
        "#### circy.getPerimeter()\n",
        "#### Should return 27.897342763877365\n",
        "## Notes\n",
        "#### Round results up to the nearest integer.\n"
      ],
      "metadata": {
        "id": "kPfDexnWLlII"
      }
    },
    {
      "cell_type": "code",
      "source": [
        "import math\n",
        "class Circle:\n",
        " def __init__(self, radius):\n",
        "    self.radius = radius\n",
        "\n",
        " def getArea(self):\n",
        " # Calculate and return the area of the circle\n",
        "   return round(math.pi * self.radius**2)\n",
        "\n",
        " def getPerimeter(self):\n",
        " # Calculate and return the perimeter (circumference) of the cir\n",
        "    return round(2 * math.pi * self.radius)\n"
      ],
      "metadata": {
        "id": "ZfPNSksMMRAd"
      },
      "execution_count": 6,
      "outputs": []
    },
    {
      "cell_type": "code",
      "source": [
        "# Test cases\n",
        "circy = Circle(11)\n",
        "print(circy.getArea())\n",
        "print(circy.getPerimeter())\n"
      ],
      "metadata": {
        "colab": {
          "base_uri": "https://localhost:8080/"
        },
        "id": "631H_ji_L6Rx",
        "outputId": "fb89971a-1bd4-4eec-f7cf-f8aa907edc1a"
      },
      "execution_count": 7,
      "outputs": [
        {
          "output_type": "stream",
          "name": "stdout",
          "text": [
            "380\n",
            "69\n"
          ]
        }
      ]
    },
    {
      "cell_type": "markdown",
      "source": [
        "## Program 135\n",
        "Create a function that takes a list of strings and return a list, sorted from shortest to\n",
        "longest.\n",
        "## Examples\n",
        "sort_by_length([\"Google\", \"Apple\", \"Microsoft\"]) ➞ [\"Apple\", \"Google\", \"Microsoft\"]\n",
        "sort_by_length([\"Leonardo\", \"Michelangelo\", \"Raphael\", \"Donatello\"]) ➞ [\"Raphael\",\n",
        "\"Leonardo\", \"Donatello\", \"Michelangelo\"]\n",
        "sort_by_length([\"Turing\", \"Einstein\", \"Jung\"]) ➞ [\"Jung\", \"Turing\", \"Einstein\"]\n",
        "## Notes\n",
        "All test cases contain lists with strings of different lengths, so you won't have to deal\n"
      ],
      "metadata": {
        "id": "Az6S3VEdMluF"
      }
    },
    {
      "cell_type": "code",
      "source": [
        "def sort_by_length(lst):\n",
        "\n",
        " return sorted(lst, key=len) # Using sorted() function"
      ],
      "metadata": {
        "id": "ZHB2NCUjLi0e"
      },
      "execution_count": 8,
      "outputs": []
    },
    {
      "cell_type": "code",
      "source": [
        "sort_by_length([\"Google\", \"Apple\", \"Microsoft\"])\n"
      ],
      "metadata": {
        "colab": {
          "base_uri": "https://localhost:8080/"
        },
        "id": "6iAFYWnJNIQI",
        "outputId": "3971fc44-d39b-4651-df2e-34ebd3feb91b"
      },
      "execution_count": 9,
      "outputs": [
        {
          "output_type": "execute_result",
          "data": {
            "text/plain": [
              "['Apple', 'Google', 'Microsoft']"
            ]
          },
          "metadata": {},
          "execution_count": 9
        }
      ]
    },
    {
      "cell_type": "code",
      "source": [
        "sort_by_length([\"Leonardo\", \"Michelangelo\", \"Raphael\", \"Donatello\"])\n"
      ],
      "metadata": {
        "colab": {
          "base_uri": "https://localhost:8080/"
        },
        "id": "s0iylyITNNYN",
        "outputId": "db4bb54a-ab5b-4674-8cd5-6fc12f9a4059"
      },
      "execution_count": 10,
      "outputs": [
        {
          "output_type": "execute_result",
          "data": {
            "text/plain": [
              "['Raphael', 'Leonardo', 'Donatello', 'Michelangelo']"
            ]
          },
          "metadata": {},
          "execution_count": 10
        }
      ]
    },
    {
      "cell_type": "markdown",
      "source": [
        "## Program 136\n",
        "Create a function that validates whether three given integers form a Pythagorean\n",
        "triplet. The sum of the squares of the two smallest integers must equal the square of\n",
        "the largest number to be validated.\n",
        "## Examples\n",
        "#### is_triplet(3, 4, 5) ➞ True\n",
        "#### 3² + 4² = 25\n",
        "#### 5² = 25\n",
        "#### is_triplet(13, 5, 12) ➞ True\n",
        "#### 5² + 12² = 169\n",
        "#### 13² = 169\n",
        "#### is_triplet(1, 2, 3) ➞ False\n",
        "#### 1² + 2² = 5\n",
        "#### 3² = 9\n",
        "## Notes\n",
        "#### Numbers may not be given in a sorted order.\n"
      ],
      "metadata": {
        "id": "r7ayY-W2NVee"
      }
    },
    {
      "cell_type": "code",
      "source": [
        "def is_triplet(a, b, c):\n",
        " # Sort the numbers in ascending order\n",
        " sorted_numbers = sorted([a, b, c])\n",
        " # Check if the sum of squares of the two smaller numbers equals the\n",
        " return sorted_numbers[0] ** 2 + sorted_numbers[1] ** 2 == sorted_numbers"
      ],
      "metadata": {
        "id": "KFwfbgEwNktB"
      },
      "execution_count": 11,
      "outputs": []
    },
    {
      "cell_type": "code",
      "source": [
        "is_triplet(3, 4, 5)"
      ],
      "metadata": {
        "colab": {
          "base_uri": "https://localhost:8080/"
        },
        "id": "dvNlpc_QN0rx",
        "outputId": "ddeca5e0-c7a7-4808-cbdd-1efd7380a2df"
      },
      "execution_count": 12,
      "outputs": [
        {
          "output_type": "execute_result",
          "data": {
            "text/plain": [
              "False"
            ]
          },
          "metadata": {},
          "execution_count": 12
        }
      ]
    },
    {
      "cell_type": "code",
      "source": [
        "is_triplet(3, 4, 5)"
      ],
      "metadata": {
        "colab": {
          "base_uri": "https://localhost:8080/"
        },
        "id": "iTbCTPuiN84I",
        "outputId": "d63da3b9-940e-4710-e217-37f7ecac81d6"
      },
      "execution_count": 13,
      "outputs": [
        {
          "output_type": "execute_result",
          "data": {
            "text/plain": [
              "False"
            ]
          },
          "metadata": {},
          "execution_count": 13
        }
      ]
    },
    {
      "cell_type": "code",
      "source": [
        "is_triplet(13, 5, 12)\n"
      ],
      "metadata": {
        "colab": {
          "base_uri": "https://localhost:8080/"
        },
        "id": "o-JQfQWYODFn",
        "outputId": "5415e141-756a-4e34-87ef-0b230db23382"
      },
      "execution_count": 14,
      "outputs": [
        {
          "output_type": "execute_result",
          "data": {
            "text/plain": [
              "False"
            ]
          },
          "metadata": {},
          "execution_count": 14
        }
      ]
    },
    {
      "cell_type": "markdown",
      "source": [
        "## Program 137\n",
        "Create a function that takes three integer arguments (a, b, c) and returns the amount of integers which are of equal value.\n",
        "## Examples\n",
        "#### equal(3, 4, 3) ➞ 2\n",
        "#### equal(1, 1, 1) ➞ 3\n",
        "#### equal(3, 4, 1) ➞ 0\n",
        "### Notes\n",
        "#### Your function must return 0, 2 or 3.\n"
      ],
      "metadata": {
        "id": "D0qrdqoqObWO"
      }
    },
    {
      "cell_type": "code",
      "source": [
        "def equal(a, b, c):\n",
        " if a == b == c:\n",
        "    return 3\n",
        " elif a == b or b == c or a == c:\n",
        "    return 2\n",
        " else:\n",
        "   return 0\n"
      ],
      "metadata": {
        "id": "sQU_y174OtzE"
      },
      "execution_count": 15,
      "outputs": []
    },
    {
      "cell_type": "code",
      "source": [
        "equal(3, 4, 3)\n"
      ],
      "metadata": {
        "colab": {
          "base_uri": "https://localhost:8080/"
        },
        "id": "B1d7bi-wO1bh",
        "outputId": "bd9293f1-06b9-44ed-e25d-c26cccd8de7d"
      },
      "execution_count": 16,
      "outputs": [
        {
          "output_type": "execute_result",
          "data": {
            "text/plain": [
              "2"
            ]
          },
          "metadata": {},
          "execution_count": 16
        }
      ]
    },
    {
      "cell_type": "markdown",
      "source": [
        "## Program 138\n",
        "Write a function that converts a dictionary into a list of keys-values tuples.\n",
        "## Examples\n",
        "dict_to_list({\"D\": 1,\"B\": 2\n",
        "\"C\": 3\n",
        "}) ➞ [(\"B\", 2), (\"C\", 3), (\"D\", 1)]\n",
        "dict_to_list({\n",
        "\"likes\": 2,\n",
        "\"dislikes\": 3,\n",
        "\"followers\": 10\n",
        "}) ➞ [(\"dislikes\", 3), (\"followers\", 10), (\"likes\", 2)]\n",
        "## Notes\n",
        "Return the elements in the list in alphabetical order.\n"
      ],
      "metadata": {
        "id": "PPNBmViBO32j"
      }
    },
    {
      "cell_type": "code",
      "source": [
        "def dict_to_list(input_dict):\n",
        " # Sort the dictionary by keys in alphabetical order\n",
        " sorted_dict = sorted(input_dict.items())\n",
        "\n",
        " # Convert the sorted dictionary to a list of tuples\n",
        " result = [(key, value) for key, value in sorted_dict]\n",
        "\n",
        " return result"
      ],
      "metadata": {
        "id": "jHM7mvtCPQkG"
      },
      "execution_count": 17,
      "outputs": []
    },
    {
      "cell_type": "code",
      "source": [
        "dict_to_list({ \"D\": 1,  \"B\": 2, \"C\": 3})\n"
      ],
      "metadata": {
        "colab": {
          "base_uri": "https://localhost:8080/"
        },
        "id": "GCs0jHjMPW6A",
        "outputId": "ee97341b-92f5-4e83-aaab-04b21c166d1f"
      },
      "execution_count": 18,
      "outputs": [
        {
          "output_type": "execute_result",
          "data": {
            "text/plain": [
              "[('B', 2), ('C', 3), ('D', 1)]"
            ]
          },
          "metadata": {},
          "execution_count": 18
        }
      ]
    },
    {
      "cell_type": "code",
      "source": [
        "dict_to_list({\"likes\": 2,\"dislikes\": 3,\"followers\": 10})"
      ],
      "metadata": {
        "colab": {
          "base_uri": "https://localhost:8080/"
        },
        "id": "OR7TMqmePXHT",
        "outputId": "758cded3-4239-4630-bb0e-6e9d5f7dd334"
      },
      "execution_count": 19,
      "outputs": [
        {
          "output_type": "execute_result",
          "data": {
            "text/plain": [
              "[('dislikes', 3), ('followers', 10), ('likes', 2)]"
            ]
          },
          "metadata": {},
          "execution_count": 19
        }
      ]
    },
    {
      "cell_type": "markdown",
      "source": [
        "## Program 139\n",
        "Write a function that creates a dictionary with each (key, value) pair being the (lower case, upper case) versions of a letter, respectively.\n",
        "## Examples\n",
        "mapping([\"p\", \"s\"]) ➞ { \"p\": \"P\", \"s\": \"S\" } mapping([\"a\", \"b\", \"c\"]) ➞ { \"a\": \"A\", \"b\": \"B\", \"c\": \"C\" }\n",
        "mapping([\"a\", \"v\", \"y\", \"z\"]) ➞ { \"a\": \"A\", \"v\": \"V\", \"y\": \"Y\", \"z\": \"Z\" }\n",
        "## Notes\n",
        "All of the letters in the input list will always be lowercase."
      ],
      "metadata": {
        "id": "sv2ScmUPP_eL"
      }
    },
    {
      "cell_type": "code",
      "source": [
        "def mapping(letters):\n",
        " result = {}\n",
        " for letter in letters:\n",
        "  result[letter] = letter.upper()\n",
        " return result"
      ],
      "metadata": {
        "id": "3NZv77_4QKlW"
      },
      "execution_count": 20,
      "outputs": []
    },
    {
      "cell_type": "code",
      "source": [
        "mapping([\"p\", \"s\"])\n"
      ],
      "metadata": {
        "colab": {
          "base_uri": "https://localhost:8080/"
        },
        "id": "A3WpuYyyQbu5",
        "outputId": "6c224734-0af9-47f7-f547-9f9fe77c1e92"
      },
      "execution_count": 21,
      "outputs": [
        {
          "output_type": "execute_result",
          "data": {
            "text/plain": [
              "{'p': 'P', 's': 'S'}"
            ]
          },
          "metadata": {},
          "execution_count": 21
        }
      ]
    },
    {
      "cell_type": "code",
      "source": [
        "mapping([\"a\", \"b\", \"c\"])\n"
      ],
      "metadata": {
        "colab": {
          "base_uri": "https://localhost:8080/"
        },
        "id": "H7viUDgSQmTh",
        "outputId": "ca3888ec-328c-4bf8-a5e2-082146b2d945"
      },
      "execution_count": 22,
      "outputs": [
        {
          "output_type": "execute_result",
          "data": {
            "text/plain": [
              "{'a': 'A', 'b': 'B', 'c': 'C'}"
            ]
          },
          "metadata": {},
          "execution_count": 22
        }
      ]
    },
    {
      "cell_type": "markdown",
      "source": [
        "## Program 140\n",
        "Write a function, that replaces all vowels in a string with a specified vowel.\n",
        "## Examples\n",
        "##### vow_replace(\"apples and bananas\", \"u\") ➞ \"upplus und bununus\"\n",
        "##### vow_replace(\"cheese casserole\", \"o\") ➞ \"chooso cossorolo\"\n",
        "##### vow_replace(\"stuffed jalapeno poppers\", \"e\") ➞ \"steffed jelepene peppers\"\n",
        "## Notes\n",
        "All words will be lowercase. Y is not considered a vowel."
      ],
      "metadata": {
        "id": "r77_epZGQvGh"
      }
    },
    {
      "cell_type": "code",
      "source": [
        "def vow_replace(string, vowel):\n",
        " vowels = \"aeiou\"\n",
        " result = \"\"\n",
        "\n",
        " for char in string:\n",
        "  if char in vowels:\n",
        "   result += vowel\n",
        " else:\n",
        "    result += char\n",
        "\n",
        " return result"
      ],
      "metadata": {
        "id": "uoflPvk0Q21g"
      },
      "execution_count": 23,
      "outputs": []
    },
    {
      "cell_type": "code",
      "source": [
        "vow_replace(\"apples and bananas\", \"u\")"
      ],
      "metadata": {
        "colab": {
          "base_uri": "https://localhost:8080/",
          "height": 35
        },
        "id": "pulWNp7lRN6f",
        "outputId": "1ad7badc-1df3-4c7d-f56b-fc8dd4daf351"
      },
      "execution_count": 24,
      "outputs": [
        {
          "output_type": "execute_result",
          "data": {
            "text/plain": [
              "'uuuuuus'"
            ],
            "application/vnd.google.colaboratory.intrinsic+json": {
              "type": "string"
            }
          },
          "metadata": {},
          "execution_count": 24
        }
      ]
    },
    {
      "cell_type": "code",
      "source": [
        "vow_replace(\"cheese casserole\", \"o\")"
      ],
      "metadata": {
        "colab": {
          "base_uri": "https://localhost:8080/",
          "height": 35
        },
        "id": "fFXg31SfRUbB",
        "outputId": "fb90f080-1d56-48e7-e42c-2d320ffe80b7"
      },
      "execution_count": 25,
      "outputs": [
        {
          "output_type": "execute_result",
          "data": {
            "text/plain": [
              "'oooooooe'"
            ],
            "application/vnd.google.colaboratory.intrinsic+json": {
              "type": "string"
            }
          },
          "metadata": {},
          "execution_count": 25
        }
      ]
    },
    {
      "cell_type": "markdown",
      "source": [
        "## Program 141\n",
        "Create a function that takes a string as input and capitalizes a letter if its ASCII code is even and returns its lower case version if its ASCII code is odd.\n",
        "## Examples\n",
        "#### ascii_capitalize(\"to be or not to be!\") ➞ \"To Be oR NoT To Be!\"\n",
        "#### ascii_capitalize(\"THE LITTLE MERMAID\") ➞ \"THe LiTTLe meRmaiD\"\n",
        "#### ascii_capitalize(\"Oh what a beautiful morning.\") ➞ \"oH wHaT a BeauTiFuL\n",
        "moRNiNg.\""
      ],
      "metadata": {
        "id": "0EFCwwDnRbEe"
      }
    },
    {
      "cell_type": "code",
      "source": [
        "def ascii_capitalize(input_str):\n",
        " result = \"\"\n",
        "\n",
        " for char in input_str:\n",
        "  if ord(char) % 2 == 0:\n",
        "    result += char.upper()\n",
        " else:\n",
        "   result += char.lower()\n",
        "\n",
        " return result"
      ],
      "metadata": {
        "id": "ztyBYSYKRtE-"
      },
      "execution_count": 26,
      "outputs": []
    },
    {
      "cell_type": "code",
      "source": [
        "ascii_capitalize(\"to be or not to be!\")"
      ],
      "metadata": {
        "colab": {
          "base_uri": "https://localhost:8080/",
          "height": 35
        },
        "id": "Uz4Gwak3R4wt",
        "outputId": "675c4d03-e82b-4805-bd8b-c98f559b28ab"
      },
      "execution_count": 27,
      "outputs": [
        {
          "output_type": "execute_result",
          "data": {
            "text/plain": [
              "'T B R NT T B!'"
            ],
            "application/vnd.google.colaboratory.intrinsic+json": {
              "type": "string"
            }
          },
          "metadata": {},
          "execution_count": 27
        }
      ]
    },
    {
      "cell_type": "code",
      "source": [
        "ascii_capitalize(\"Oh what a beautiful morning.\")\n"
      ],
      "metadata": {
        "colab": {
          "base_uri": "https://localhost:8080/",
          "height": 35
        },
        "id": "6nz6r_A2SBfq",
        "outputId": "e448777a-9375-419f-b02d-56d51c77a11c"
      },
      "execution_count": 28,
      "outputs": [
        {
          "output_type": "execute_result",
          "data": {
            "text/plain": [
              "'H HT  BTFL RNN..'"
            ],
            "application/vnd.google.colaboratory.intrinsic+json": {
              "type": "string"
            }
          },
          "metadata": {},
          "execution_count": 28
        }
      ]
    }
  ]
}