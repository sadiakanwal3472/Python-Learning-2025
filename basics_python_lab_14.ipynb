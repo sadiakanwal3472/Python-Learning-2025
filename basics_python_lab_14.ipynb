{
  "nbformat": 4,
  "nbformat_minor": 0,
  "metadata": {
    "colab": {
      "provenance": [],
      "authorship_tag": "ABX9TyP5UbO7TFHpFKbBKJuZLBUD",
      "include_colab_link": true
    },
    "kernelspec": {
      "name": "python3",
      "display_name": "Python 3"
    },
    "language_info": {
      "name": "python"
    }
  },
  "cells": [
    {
      "cell_type": "markdown",
      "metadata": {
        "id": "view-in-github",
        "colab_type": "text"
      },
      "source": [
        "<a href=\"https://colab.research.google.com/github/sadiakanwal3472/Python-Learning-2025/blob/main/basics_python_lab_14.ipynb\" target=\"_parent\"><img src=\"https://colab.research.google.com/assets/colab-badge.svg\" alt=\"Open In Colab\"/></a>"
      ]
    },
    {
      "cell_type": "markdown",
      "source": [
        "## More on Defining Functions\n",
        "It is also possible to define functions with a variable number of arguments. There are three forms, which can be combined.\n",
        "##  Default Argument Values\n",
        "The most useful form is to specify a default value for one or more arguments. This creates a function that can be called with fewer arguments than it is defined to allow. For example:"
      ],
      "metadata": {
        "id": "40r8eb-kAGsA"
      }
    },
    {
      "cell_type": "code",
      "source": [
        "def ask_ok(prompt, retries=4, reminder='Please try again!'):\n",
        "    while True:\n",
        "        reply = input(prompt)\n",
        "        if reply in {'y', 'ye', 'yes'}:\n",
        "            return True\n",
        "        if reply in {'n', 'no', 'nop', 'nope'}:\n",
        "            return False\n",
        "        retries = retries - 1\n",
        "        if retries < 0:\n",
        "            raise ValueError('invalid user response')\n",
        "        print(reminder)"
      ],
      "metadata": {
        "id": "mtwbx_-nASyY"
      },
      "execution_count": 1,
      "outputs": []
    },
    {
      "cell_type": "markdown",
      "source": [
        "##### This function can be called in several ways:\n",
        "#### 1. giving only the mandatory argument: ask_ok('Do you really want to quit?')\n",
        "#### 2. giving one of the optional arguments: ask_ok('OK to overwrite the file?', 2)\n",
        "#### 3. or even giving all arguments: ask_ok('OK to overwrite the file?', 2, 'Come on, only yes or no!')\n",
        "#### 4. This example also introduces the in keyword. This tests whether or not a sequence contains a certain value.\n",
        "#### 5. The default values are evaluated at the point of function definition in the defining scope, so that will print 5."
      ],
      "metadata": {
        "id": "6mE8TocVAnHm"
      }
    },
    {
      "cell_type": "code",
      "source": [
        "i = 5\n",
        "\n",
        "def f(arg=i):\n",
        "    print(arg)\n",
        "\n",
        "i = 6\n",
        "f()"
      ],
      "metadata": {
        "colab": {
          "base_uri": "https://localhost:8080/"
        },
        "id": "borfMtvBBI4T",
        "outputId": "50d55408-e5a4-4442-de74-06267f512866"
      },
      "execution_count": 2,
      "outputs": [
        {
          "output_type": "stream",
          "name": "stdout",
          "text": [
            "5\n"
          ]
        }
      ]
    },
    {
      "cell_type": "markdown",
      "source": [
        "Important warning: The default value is evaluated only once. This makes a difference when the default is a mutable object such as a list, dictionary, or instances of most classes. For example, the following function accumulates the arguments passed to it on subsequent calls:"
      ],
      "metadata": {
        "id": "baI2y5lABTli"
      }
    },
    {
      "cell_type": "code",
      "execution_count": 3,
      "metadata": {
        "colab": {
          "base_uri": "https://localhost:8080/"
        },
        "id": "LudBAQZmADzk",
        "outputId": "4fb95f3d-9817-46e3-c6d7-f1b7b07f6e07"
      },
      "outputs": [
        {
          "output_type": "stream",
          "name": "stdout",
          "text": [
            "[1]\n",
            "[1, 2]\n",
            "[1, 2, 3]\n"
          ]
        }
      ],
      "source": [
        "def f(a, L=[]):\n",
        "    L.append(a)\n",
        "    return L\n",
        "\n",
        "print(f(1))\n",
        "print(f(2))\n",
        "print(f(3))"
      ]
    },
    {
      "cell_type": "markdown",
      "source": [
        "If you don’t want the default to be shared between subsequent calls, you can write the function like this instead:"
      ],
      "metadata": {
        "id": "6FWLjLsgBrgF"
      }
    },
    {
      "cell_type": "code",
      "source": [
        "def f(a, L=None):\n",
        "    if L is None:\n",
        "        L = []\n",
        "    L.append(a)\n",
        "    return L"
      ],
      "metadata": {
        "id": "aXh7beuBBs1f"
      },
      "execution_count": 4,
      "outputs": []
    },
    {
      "cell_type": "markdown",
      "source": [
        "## Keyword Arguments\n",
        "Functions can also be called using keyword arguments of the form kwarg=value. For instance, the following function:"
      ],
      "metadata": {
        "id": "ceMBTOvsByNY"
      }
    },
    {
      "cell_type": "code",
      "source": [
        "def parrot(voltage, state='a stiff', action='voom', type='Norwegian Blue'):\n",
        "    print(\"-- This parrot wouldn't\", action, end=' ')\n",
        "    print(\"if you put\", voltage, \"volts through it.\")\n",
        "    print(\"-- Lovely plumage, the\", type)\n",
        "    print(\"-- It's\", state, \"!\")"
      ],
      "metadata": {
        "id": "D6E5WlhbB8lN"
      },
      "execution_count": 5,
      "outputs": []
    },
    {
      "cell_type": "markdown",
      "source": [
        "accepts one required argument (voltage) and three optional arguments (state, action, and type). This function can be called in any of the following ways:"
      ],
      "metadata": {
        "id": "1jWWtaMRCB9p"
      }
    },
    {
      "cell_type": "code",
      "source": [
        "parrot(1000)                                          # 1 positional argument\n",
        "parrot(voltage=1000)                                  # 1 keyword argument\n",
        "parrot(voltage=1000000, action='VOOOOOM')             # 2 keyword arguments\n",
        "parrot(action='VOOOOOM', voltage=1000000)             # 2 keyword arguments\n",
        "parrot('a million', 'bereft of life', 'jump')         # 3 positional arguments\n",
        "parrot('a thousand', state='pushing up the daisies')  # 1 positional, 1 keyword"
      ],
      "metadata": {
        "colab": {
          "base_uri": "https://localhost:8080/"
        },
        "id": "9HLfKWb7CERS",
        "outputId": "bd89416b-f819-4556-c1d5-ead3a42251da"
      },
      "execution_count": 6,
      "outputs": [
        {
          "output_type": "stream",
          "name": "stdout",
          "text": [
            "-- This parrot wouldn't voom if you put 1000 volts through it.\n",
            "-- Lovely plumage, the Norwegian Blue\n",
            "-- It's a stiff !\n",
            "-- This parrot wouldn't voom if you put 1000 volts through it.\n",
            "-- Lovely plumage, the Norwegian Blue\n",
            "-- It's a stiff !\n",
            "-- This parrot wouldn't VOOOOOM if you put 1000000 volts through it.\n",
            "-- Lovely plumage, the Norwegian Blue\n",
            "-- It's a stiff !\n",
            "-- This parrot wouldn't VOOOOOM if you put 1000000 volts through it.\n",
            "-- Lovely plumage, the Norwegian Blue\n",
            "-- It's a stiff !\n",
            "-- This parrot wouldn't jump if you put a million volts through it.\n",
            "-- Lovely plumage, the Norwegian Blue\n",
            "-- It's bereft of life !\n",
            "-- This parrot wouldn't voom if you put a thousand volts through it.\n",
            "-- Lovely plumage, the Norwegian Blue\n",
            "-- It's pushing up the daisies !\n"
          ]
        }
      ]
    },
    {
      "cell_type": "markdown",
      "source": [
        "but all the following calls would be invalid:"
      ],
      "metadata": {
        "id": "Ib_OzX_2COkH"
      }
    },
    {
      "cell_type": "code",
      "source": [
        "parrot() # required argument missing\n",
        "parrot(voltage=5.0, 'dead') # non-keyword argument after a keyword argument\n",
        "parrot(110, voltage=220) # duplicate value for the same argument\n",
        "parrot(actor='John Cleese') # unknown keyword argument"
      ],
      "metadata": {
        "id": "gh7RseKrFKmZ"
      },
      "execution_count": null,
      "outputs": []
    },
    {
      "cell_type": "markdown",
      "source": [
        "In a function call, keyword arguments must follow positional arguments. All the keyword arguments passed must match one of the arguments accepted by the function (e.g. actor is not a valid argument for the parrot function), and their order is not important. This also includes non-optional arguments (e.g. parrot(voltage=1000) is valid too). No argument may receive a value more than once. Here’s an example that fails due to this restriction:"
      ],
      "metadata": {
        "id": "9XENV96TDKY7"
      }
    },
    {
      "cell_type": "markdown",
      "source": [
        "def function(a):\n",
        "    pass\n",
        "\n",
        "function(0, a=0)\n",
        "  Traceback (most recent call last):\n",
        " File \"<stdin>\", line 1, in <module>\n",
        "TypeError: function() got multiple values for argument 'a'"
      ],
      "metadata": {
        "id": "YmL5BerxEYcf"
      }
    },
    {
      "cell_type": "markdown",
      "source": [
        "When a final formal parameter of the form **name is present, it receives a dictionary (see Mapping Types — dict) containing all keyword arguments except for those corresponding to a formal parameter. This may be combined with a formal parameter of the form *name (described in the next subsection) which receives a tuple containing the positional arguments beyond the formal parameter list. (*name must occur before **name.) For example, if we define a function like this:"
      ],
      "metadata": {
        "id": "bMwz4lhPDf6a"
      }
    },
    {
      "cell_type": "code",
      "source": [
        "def cheeseshop(kind, *arguments, **keywords):\n",
        "    print(\"-- Do you have any\", kind, \"?\")\n",
        "    print(\"-- I'm sorry, we're all out of\", kind)\n",
        "    for arg in arguments:\n",
        "        print(arg)\n",
        "    print(\"-\" * 40)\n",
        "    for kw in keywords:\n",
        "        print(kw, \":\", keywords[kw])"
      ],
      "metadata": {
        "id": "uVx1k0FPDhUU"
      },
      "execution_count": 16,
      "outputs": []
    },
    {
      "cell_type": "code",
      "source": [
        "cheeseshop(\"Limburger\", \"It's very runny, sir.\",\n",
        "           \"It's really very, VERY runny, sir.\",\n",
        "           shopkeeper=\"Michael Palin\",\n",
        "           client=\"John Cleese\",\n",
        "           sketch=\"Cheese Shop Sketch\")"
      ],
      "metadata": {
        "colab": {
          "base_uri": "https://localhost:8080/"
        },
        "id": "lnqB3hErDsjm",
        "outputId": "73c0a96f-2681-4c88-8e30-41ee0b6216bb"
      },
      "execution_count": 17,
      "outputs": [
        {
          "output_type": "stream",
          "name": "stdout",
          "text": [
            "-- Do you have any Limburger ?\n",
            "-- I'm sorry, we're all out of Limburger\n",
            "It's very runny, sir.\n",
            "It's really very, VERY runny, sir.\n",
            "----------------------------------------\n",
            "shopkeeper : Michael Palin\n",
            "client : John Cleese\n",
            "sketch : Cheese Shop Sketch\n"
          ]
        }
      ]
    },
    {
      "cell_type": "markdown",
      "source": [
        "Note that the order in which the keyword arguments are printed is guaranteed to match the order in which they were provided in the function call."
      ],
      "metadata": {
        "id": "oLpNZFdxEEJK"
      }
    },
    {
      "cell_type": "markdown",
      "source": [],
      "metadata": {
        "id": "baqLLH-WEOV2"
      }
    }
  ]
}