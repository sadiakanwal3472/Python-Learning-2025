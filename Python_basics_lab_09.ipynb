{
  "cells": [
    {
      "cell_type": "markdown",
      "metadata": {
        "id": "view-in-github",
        "colab_type": "text"
      },
      "source": [
        "<a href=\"https://colab.research.google.com/github/sadiakanwal3472/Python-Learning-2025/blob/main/Python_basics_lab_09.ipynb\" target=\"_parent\"><img src=\"https://colab.research.google.com/assets/colab-badge.svg\" alt=\"Open In Colab\"/></a>"
      ]
    },
    {
      "cell_type": "markdown",
      "id": "e72b960e-bf88-4fe5-9faf-799f1df9d803",
      "metadata": {
        "id": "e72b960e-bf88-4fe5-9faf-799f1df9d803"
      },
      "source": [
        "# Python - Loop Sets"
      ]
    },
    {
      "cell_type": "markdown",
      "id": "62e3fb07-7f0d-4a17-95a9-2dd4c9cf22b1",
      "metadata": {
        "id": "62e3fb07-7f0d-4a17-95a9-2dd4c9cf22b1"
      },
      "source": [
        "## Loop Items\n",
        "You can loop through the set items by using a for loop:\n",
        "## Example:\n",
        "Loop through the set, and print the values:"
      ]
    },
    {
      "cell_type": "code",
      "execution_count": null,
      "id": "f1e6d6c2-e7c8-4af4-9394-9e7e90a7e380",
      "metadata": {
        "id": "f1e6d6c2-e7c8-4af4-9394-9e7e90a7e380",
        "outputId": "295534b8-0b35-4ad3-a832-ad7caafef9b4"
      },
      "outputs": [
        {
          "name": "stdout",
          "output_type": "stream",
          "text": [
            "cherry\n",
            "banana\n",
            "apple\n"
          ]
        }
      ],
      "source": [
        "thisset = {\"apple\", \"banana\", \"cherry\"}\n",
        "\n",
        "for x in thisset:\n",
        "  print(x)"
      ]
    },
    {
      "cell_type": "markdown",
      "id": "1514db46-bb0b-4ba2-95e6-8c994782c685",
      "metadata": {
        "id": "1514db46-bb0b-4ba2-95e6-8c994782c685"
      },
      "source": [
        "# Python - Loop Dictionaries\n"
      ]
    },
    {
      "cell_type": "markdown",
      "id": "74f39ff4-b804-4fea-bfd4-c61d1e7f22ec",
      "metadata": {
        "id": "74f39ff4-b804-4fea-bfd4-c61d1e7f22ec"
      },
      "source": [
        "## Loop Through a Dictionary\n",
        "### You can loop through a dictionary by using a for loop.\n",
        "When looping through a dictionary, the return value are the keys of the dictionary, but there are methods to return the values as well.\n",
        "## Example:\n",
        "Print all key names in the dictionary, one by one:"
      ]
    },
    {
      "cell_type": "code",
      "execution_count": 2,
      "id": "a705f8c6-93f9-4bdb-9414-20bcae6d32a4",
      "metadata": {
        "colab": {
          "base_uri": "https://localhost:8080/"
        },
        "id": "a705f8c6-93f9-4bdb-9414-20bcae6d32a4",
        "outputId": "53a544cb-c8dc-44a1-b5d3-83f5ffd16aba"
      },
      "outputs": [
        {
          "output_type": "stream",
          "name": "stdout",
          "text": [
            "brand\n",
            "model\n",
            "year\n"
          ]
        }
      ],
      "source": [
        "thisdict = { \"brand\": \"Ford\",\"model\": \"Mustang\", \"year\": \"1964\"}\n",
        "for x in thisdict:\n",
        "  print(x)"
      ]
    },
    {
      "cell_type": "markdown",
      "id": "330f0954-2966-4e53-9dde-8c4798121a5b",
      "metadata": {
        "id": "330f0954-2966-4e53-9dde-8c4798121a5b"
      },
      "source": [
        "## Example\n",
        "Print all values in the dictionary, one by one:"
      ]
    },
    {
      "cell_type": "code",
      "execution_count": 3,
      "id": "0d58e7c4-685f-47a8-85fc-65ab00e11994",
      "metadata": {
        "colab": {
          "base_uri": "https://localhost:8080/"
        },
        "id": "0d58e7c4-685f-47a8-85fc-65ab00e11994",
        "outputId": "84df9565-585d-4480-c2f4-5822e68d3a45"
      },
      "outputs": [
        {
          "output_type": "stream",
          "name": "stdout",
          "text": [
            "Ford\n",
            "Mustang\n",
            "1964\n"
          ]
        }
      ],
      "source": [
        "for x in thisdict:\n",
        "  print(thisdict[x])"
      ]
    },
    {
      "cell_type": "markdown",
      "id": "ae79ed02-1829-456a-a7c3-76315788b44d",
      "metadata": {
        "id": "ae79ed02-1829-456a-a7c3-76315788b44d"
      },
      "source": [
        "## Example\n",
        "You can also use the values() method to return values of a dictionary:"
      ]
    },
    {
      "cell_type": "code",
      "execution_count": 4,
      "id": "be5d207e-794c-4d84-8edd-41788c862d6f",
      "metadata": {
        "colab": {
          "base_uri": "https://localhost:8080/"
        },
        "id": "be5d207e-794c-4d84-8edd-41788c862d6f",
        "outputId": "c9f0c564-36f2-4430-f6af-03de5b99cd7b"
      },
      "outputs": [
        {
          "output_type": "stream",
          "name": "stdout",
          "text": [
            "Ford\n",
            "Mustang\n",
            "1964\n"
          ]
        }
      ],
      "source": [
        "for x in thisdict.values():\n",
        "  print(x)"
      ]
    },
    {
      "cell_type": "markdown",
      "id": "2c347542-45b9-47ed-a8fd-2f5bdfe19d4a",
      "metadata": {
        "id": "2c347542-45b9-47ed-a8fd-2f5bdfe19d4a"
      },
      "source": [
        "## Example\n",
        "You can use the keys() method to return the keys of a dictionary:"
      ]
    },
    {
      "cell_type": "code",
      "execution_count": 5,
      "id": "f29a88ee-9f3b-43d6-a977-2041dc82a96e",
      "metadata": {
        "colab": {
          "base_uri": "https://localhost:8080/"
        },
        "id": "f29a88ee-9f3b-43d6-a977-2041dc82a96e",
        "outputId": "f35acf64-1c92-4fea-82ae-13ce83b8546e"
      },
      "outputs": [
        {
          "output_type": "stream",
          "name": "stdout",
          "text": [
            "brand\n",
            "model\n",
            "year\n"
          ]
        }
      ],
      "source": [
        "for x in thisdict.keys():\n",
        "  print(x)"
      ]
    },
    {
      "cell_type": "markdown",
      "id": "606d0095-9f60-4297-a1d2-6e117e495866",
      "metadata": {
        "id": "606d0095-9f60-4297-a1d2-6e117e495866"
      },
      "source": [
        "## Example\n",
        "Loop through both keys and values, by using the items() method:"
      ]
    },
    {
      "cell_type": "code",
      "execution_count": 6,
      "id": "d5284e40-c98d-4c96-b5bb-d0a47623008d",
      "metadata": {
        "colab": {
          "base_uri": "https://localhost:8080/"
        },
        "id": "d5284e40-c98d-4c96-b5bb-d0a47623008d",
        "outputId": "30afada0-c02f-43a5-fd70-f625a6ae8e96"
      },
      "outputs": [
        {
          "output_type": "stream",
          "name": "stdout",
          "text": [
            "brand Ford\n",
            "model Mustang\n",
            "year 1964\n"
          ]
        }
      ],
      "source": [
        "for x, y in thisdict.items():\n",
        "  print(x, y)\n"
      ]
    },
    {
      "cell_type": "code",
      "execution_count": null,
      "id": "db4efb37-52b8-4d54-9a75-25c964f37a4c",
      "metadata": {
        "id": "db4efb37-52b8-4d54-9a75-25c964f37a4c"
      },
      "outputs": [],
      "source": []
    },
    {
      "cell_type": "code",
      "execution_count": null,
      "id": "d36d515c-7eec-4413-853d-ff5b324c786f",
      "metadata": {
        "id": "d36d515c-7eec-4413-853d-ff5b324c786f"
      },
      "outputs": [],
      "source": []
    }
  ],
  "metadata": {
    "kernelspec": {
      "display_name": "Python 3 (ipykernel)",
      "language": "python",
      "name": "python3"
    },
    "language_info": {
      "codemirror_mode": {
        "name": "ipython",
        "version": 3
      },
      "file_extension": ".py",
      "mimetype": "text/x-python",
      "name": "python",
      "nbconvert_exporter": "python",
      "pygments_lexer": "ipython3",
      "version": "3.12.7"
    },
    "colab": {
      "provenance": [],
      "include_colab_link": true
    }
  },
  "nbformat": 4,
  "nbformat_minor": 5
}