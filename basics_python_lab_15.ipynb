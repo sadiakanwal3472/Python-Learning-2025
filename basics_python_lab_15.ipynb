{
  "nbformat": 4,
  "nbformat_minor": 0,
  "metadata": {
    "colab": {
      "provenance": [],
      "authorship_tag": "ABX9TyOIXs/RkxG17lElaZTW+0Iy",
      "include_colab_link": true
    },
    "kernelspec": {
      "name": "python3",
      "display_name": "Python 3"
    },
    "language_info": {
      "name": "python"
    }
  },
  "cells": [
    {
      "cell_type": "markdown",
      "metadata": {
        "id": "view-in-github",
        "colab_type": "text"
      },
      "source": [
        "<a href=\"https://colab.research.google.com/github/sadiakanwal3472/Python-Learning-2025/blob/main/basics_python_lab_15.ipynb\" target=\"_parent\"><img src=\"https://colab.research.google.com/assets/colab-badge.svg\" alt=\"Open In Colab\"/></a>"
      ]
    },
    {
      "cell_type": "markdown",
      "source": [
        "## Python Math\n",
        "Python has a set of built-in math functions, including an extensive math module, that allows you to perform mathematical tasks on numbers.\n",
        "## Built-in Math Functions\n",
        "The min() and max() functions can be used to find the lowest or highest value in an iterable:\n",
        "## Example"
      ],
      "metadata": {
        "id": "oobvE85s6QV1"
      }
    },
    {
      "cell_type": "code",
      "execution_count": 1,
      "metadata": {
        "colab": {
          "base_uri": "https://localhost:8080/"
        },
        "id": "SSnqPiK-6PkR",
        "outputId": "b7404ad4-4002-480e-969a-32456ea5a797"
      },
      "outputs": [
        {
          "output_type": "stream",
          "name": "stdout",
          "text": [
            "5\n",
            "25\n"
          ]
        }
      ],
      "source": [
        "x = min(5, 10, 25)\n",
        "y = max(5, 10, 25)\n",
        "\n",
        "print(x)\n",
        "print(y)"
      ]
    },
    {
      "cell_type": "code",
      "source": [
        "a = min(9.8,10)\n",
        "b = max(13,44,100)\n",
        "\n",
        "print(a)\n",
        "print(b)\n"
      ],
      "metadata": {
        "colab": {
          "base_uri": "https://localhost:8080/"
        },
        "id": "6Pb1ammPG6pg",
        "outputId": "896cfe9d-82c7-4b7c-fb1c-83dd6b41955e"
      },
      "execution_count": 9,
      "outputs": [
        {
          "output_type": "stream",
          "name": "stdout",
          "text": [
            "9.8\n",
            "100\n"
          ]
        }
      ]
    },
    {
      "cell_type": "markdown",
      "source": [
        "The abs() function returns the absolute (positive) value of the specified number:\n",
        "## Example"
      ],
      "metadata": {
        "id": "q0cKE8W66nmp"
      }
    },
    {
      "cell_type": "code",
      "source": [
        "x = abs(-7.25)\n",
        "\n",
        "print(x)"
      ],
      "metadata": {
        "colab": {
          "base_uri": "https://localhost:8080/"
        },
        "id": "0KOW7TMa6vXi",
        "outputId": "a07fd324-a2dd-4457-8697-2944f06fa834"
      },
      "execution_count": 2,
      "outputs": [
        {
          "output_type": "stream",
          "name": "stdout",
          "text": [
            "7.25\n"
          ]
        }
      ]
    },
    {
      "cell_type": "code",
      "source": [
        "x = abs(-6.95)\n",
        "print(x)"
      ],
      "metadata": {
        "colab": {
          "base_uri": "https://localhost:8080/"
        },
        "id": "S8KWWcS0IDHg",
        "outputId": "742226ec-d81a-43d8-8bca-b7a71fc60c1d"
      },
      "execution_count": 10,
      "outputs": [
        {
          "output_type": "stream",
          "name": "stdout",
          "text": [
            "6.95\n"
          ]
        }
      ]
    },
    {
      "cell_type": "markdown",
      "source": [
        "The pow(x, y) function returns the value of x to the power of y (xy).\n",
        "## Example\n",
        "Return the value of 4 to the power of 3 (same as 4 * 4 * 4):"
      ],
      "metadata": {
        "id": "8dAahGW-63aT"
      }
    },
    {
      "cell_type": "code",
      "source": [
        "x = pow(4, 3)\n",
        "\n",
        "print(x)\n"
      ],
      "metadata": {
        "colab": {
          "base_uri": "https://localhost:8080/"
        },
        "id": "Al-XRBZ66_Xo",
        "outputId": "6d1c97ce-06af-4d3c-ab7e-14485f8ccb7e"
      },
      "execution_count": 3,
      "outputs": [
        {
          "output_type": "stream",
          "name": "stdout",
          "text": [
            "64\n"
          ]
        }
      ]
    },
    {
      "cell_type": "code",
      "source": [
        "y = pow(9, 3)\n",
        "\n",
        "print(y)\n"
      ],
      "metadata": {
        "colab": {
          "base_uri": "https://localhost:8080/"
        },
        "id": "H2jtX5m5IYD0",
        "outputId": "2c295e9a-698b-4118-c78f-46541c49abde"
      },
      "execution_count": 1,
      "outputs": [
        {
          "output_type": "stream",
          "name": "stdout",
          "text": [
            "729\n"
          ]
        }
      ]
    },
    {
      "cell_type": "code",
      "source": [
        "z= pow(4, 3,2)\n",
        "\n",
        "print(z)\n"
      ],
      "metadata": {
        "colab": {
          "base_uri": "https://localhost:8080/"
        },
        "id": "TF5P_bU1ItDC",
        "outputId": "17a82d80-3645-4dc7-ed60-48fd6ee23b0d"
      },
      "execution_count": 3,
      "outputs": [
        {
          "output_type": "stream",
          "name": "stdout",
          "text": [
            "0\n"
          ]
        }
      ]
    },
    {
      "cell_type": "markdown",
      "source": [
        "## The Math Module\n",
        "Python has also a built-in module called math, which extends the list of mathematical functions.\n",
        "#### To use it, you must import the math module:"
      ],
      "metadata": {
        "id": "v98AUUUU7NIX"
      }
    },
    {
      "cell_type": "code",
      "source": [
        "import math"
      ],
      "metadata": {
        "id": "5FtXDB5Y7R64"
      },
      "execution_count": 4,
      "outputs": []
    },
    {
      "cell_type": "markdown",
      "source": [
        "When you have imported the math module, you can start using methods and constants of the module.The math.sqrt() method for example, returns the square root of a number:\n",
        "## Example"
      ],
      "metadata": {
        "id": "DaDEk5UO7c_H"
      }
    },
    {
      "cell_type": "code",
      "source": [
        "import math\n",
        "\n",
        "x = math.sqrt(64)\n",
        "\n",
        "print(x)"
      ],
      "metadata": {
        "colab": {
          "base_uri": "https://localhost:8080/"
        },
        "id": "ysLJTZSc7hiB",
        "outputId": "5e1e6c3f-e1d5-4185-8f01-e58b4c3d0b90"
      },
      "execution_count": 5,
      "outputs": [
        {
          "output_type": "stream",
          "name": "stdout",
          "text": [
            "8.0\n"
          ]
        }
      ]
    },
    {
      "cell_type": "markdown",
      "source": [
        "The math.ceil() method rounds a number upwards to its nearest integer, and the math.floor() method rounds a number downwards to its nearest integer, and returns the result:\n",
        "## Example"
      ],
      "metadata": {
        "id": "0awLV8SA7nq4"
      }
    },
    {
      "cell_type": "code",
      "source": [
        "import math\n",
        "\n",
        "x = math.ceil(1.4)\n",
        "y = math.floor(1.4)\n",
        "\n",
        "print(x) # returns 2\n",
        "print(y) # returns 1"
      ],
      "metadata": {
        "colab": {
          "base_uri": "https://localhost:8080/"
        },
        "id": "hyak4cj47vY4",
        "outputId": "5ba4fa90-0af6-4d42-e2c6-6671ad3c7139"
      },
      "execution_count": 6,
      "outputs": [
        {
          "output_type": "stream",
          "name": "stdout",
          "text": [
            "2\n",
            "1\n"
          ]
        }
      ]
    },
    {
      "cell_type": "code",
      "source": [
        "x = math.floor(3.14)\n",
        "y = math.ceil(3.14)\n",
        "print(x)\n",
        "print(y)"
      ],
      "metadata": {
        "colab": {
          "base_uri": "https://localhost:8080/"
        },
        "id": "-I09xUtsKTLw",
        "outputId": "4c167ea1-4319-483a-bc17-d567dc253e62"
      },
      "execution_count": 6,
      "outputs": [
        {
          "output_type": "stream",
          "name": "stdout",
          "text": [
            "3\n",
            "4\n"
          ]
        }
      ]
    },
    {
      "cell_type": "markdown",
      "source": [
        "The math.pi constant, returns the value of PI (3.14...):\n",
        "## Example"
      ],
      "metadata": {
        "id": "XRZNpGs474ei"
      }
    },
    {
      "cell_type": "code",
      "source": [
        "import math\n",
        "\n",
        "x = math.pi\n",
        "\n",
        "print(x)"
      ],
      "metadata": {
        "colab": {
          "base_uri": "https://localhost:8080/"
        },
        "id": "aXAqhbWN77Ra",
        "outputId": "2893304d-0666-4b38-955f-2a15d8198835"
      },
      "execution_count": 7,
      "outputs": [
        {
          "output_type": "stream",
          "name": "stdout",
          "text": [
            "3.141592653589793\n"
          ]
        }
      ]
    }
  ]
}