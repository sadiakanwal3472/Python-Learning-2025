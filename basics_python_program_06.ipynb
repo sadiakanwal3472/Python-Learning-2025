{
  "nbformat": 4,
  "nbformat_minor": 0,
  "metadata": {
    "colab": {
      "provenance": [],
      "authorship_tag": "ABX9TyPB4eX3jSj9ERzatZrG5i1Y",
      "include_colab_link": true
    },
    "kernelspec": {
      "name": "python3",
      "display_name": "Python 3"
    },
    "language_info": {
      "name": "python"
    }
  },
  "cells": [
    {
      "cell_type": "markdown",
      "metadata": {
        "id": "view-in-github",
        "colab_type": "text"
      },
      "source": [
        "<a href=\"https://colab.research.google.com/github/sadiakanwal3472/Python-Learning-2025/blob/main/basics_python_program_06.ipynb\" target=\"_parent\"><img src=\"https://colab.research.google.com/assets/colab-badge.svg\" alt=\"Open In Colab\"/></a>"
      ]
    },
    {
      "cell_type": "markdown",
      "source": [
        "## Program 101\n",
        "Hamming distance is the number of characters that differ between two strings.\n",
        "###### To illustrate:\n",
        "###### String1: \"abcbba\"\n",
        "###### String2: \"abcbda\"\n",
        "###### Hamming Distance: 1 - \"b\" vs. \"d\" is the only difference.\n",
        "##### Create a function that computes the hamming distance between two strings.\n",
        "## Examples\n",
        "##### hamming_distance(\"abcde\", \"bcdef\") ➞ 5\n",
        "##### hamming_distance(\"abcde\", \"abcde\") ➞ 0\n",
        "##### hamming_distance(\"strong\", \"strung\") ➞ 1"
      ],
      "metadata": {
        "id": "LSp1eNSvgxPS"
      }
    },
    {
      "cell_type": "code",
      "source": [
        "def hamming_distance(str1, str2):\n",
        " # Check if the strings have the same length\n",
        " if len(str1) != len(str2):\n",
        "    raise ValueError(\"Input strings must have the same length\")\n",
        " # Initialize a counter to keep track of differences\n",
        " distance = 0\n",
        " # Iterate through the characters of both strings\n",
        " for i in range(len(str1)):\n",
        "   if str1[i] != str2[i]:\n",
        "     distance += 1 # Increment the counter for differences\n",
        "   return distance\n"
      ],
      "metadata": {
        "id": "t9i31YHhhUzd"
      },
      "execution_count": 2,
      "outputs": []
    },
    {
      "cell_type": "code",
      "source": [
        "print(hamming_distance(\"abcde\", \"bcdef\"))\n",
        "print(hamming_distance(\"abcde\", \"abcde\"))\n",
        "print(hamming_distance(\"strong\", \"strung\"))"
      ],
      "metadata": {
        "colab": {
          "base_uri": "https://localhost:8080/"
        },
        "id": "KZ08qt6rhC8D",
        "outputId": "38315999-c9ca-42cb-f140-6524bacaef53"
      },
      "execution_count": 3,
      "outputs": [
        {
          "output_type": "stream",
          "name": "stdout",
          "text": [
            "1\n",
            "0\n",
            "0\n"
          ]
        }
      ]
    },
    {
      "cell_type": "markdown",
      "source": [
        "## Program 102\n",
        "Create a function that takes a list of non-negative integers and strings and return a\n",
        "new list without the strings.\n",
        "## Examples\n",
        "#### filter_list([1, 2, \"a\", \"b\"]) ➞ [1, 2]\n",
        "#### filter_list([1, \"a\", \"b\", 0, 15]) ➞ [1, 0, 15]\n",
        "#### filter_list([1, 2, \"aasf\", \"1\", \"123\", 123]) ➞ [1, 2, 123]"
      ],
      "metadata": {
        "id": "RpMd-hkshxcs"
      }
    },
    {
      "cell_type": "code",
      "execution_count": 4,
      "metadata": {
        "id": "XNG-bT9WgqI0"
      },
      "outputs": [],
      "source": [
        "def filter_list(lst):\n",
        " # Initialize an empty list to store non-string elements\n",
        " result = []\n",
        "\n",
        " # Iterate through the elements in the input list\n",
        " for element in lst:\n",
        " # Check if the element is a non-negative integer (not a string)\n",
        "    if isinstance(element, int) and element >= 0:\n",
        "     result.append(element)\n",
        "\n",
        " return result"
      ]
    },
    {
      "cell_type": "code",
      "source": [
        "filter_list([1, 2, \"a\", \"b\"])"
      ],
      "metadata": {
        "colab": {
          "base_uri": "https://localhost:8080/"
        },
        "id": "6gK3XAMRiLGQ",
        "outputId": "11705ef4-f75d-47c3-ba18-264c61b69c55"
      },
      "execution_count": 5,
      "outputs": [
        {
          "output_type": "execute_result",
          "data": {
            "text/plain": [
              "[1, 2]"
            ]
          },
          "metadata": {},
          "execution_count": 5
        }
      ]
    },
    {
      "cell_type": "code",
      "source": [
        "filter_list([1, \"a\", \"b\", 0, 15])\n"
      ],
      "metadata": {
        "colab": {
          "base_uri": "https://localhost:8080/"
        },
        "id": "6m0kd-SxiQBH",
        "outputId": "12ddcba1-82e6-44e5-f155-39dac4c0fc4b"
      },
      "execution_count": 6,
      "outputs": [
        {
          "output_type": "execute_result",
          "data": {
            "text/plain": [
              "[1, 0, 15]"
            ]
          },
          "metadata": {},
          "execution_count": 6
        }
      ]
    },
    {
      "cell_type": "code",
      "source": [
        "filter_list([1, 2, \"aasf\", \"1\", \"123\", 123])"
      ],
      "metadata": {
        "colab": {
          "base_uri": "https://localhost:8080/"
        },
        "id": "ZVQkM34gicFM",
        "outputId": "214a895e-4eca-477b-de09-d3072a4bc5dc"
      },
      "execution_count": 7,
      "outputs": [
        {
          "output_type": "execute_result",
          "data": {
            "text/plain": [
              "[1, 2, 123]"
            ]
          },
          "metadata": {},
          "execution_count": 7
        }
      ]
    },
    {
      "cell_type": "markdown",
      "source": [
        "## Program 103\n",
        "The \"Reverser\" takes a string as input and returns that string in reverse order, with\n",
        "the opposite case.\n",
        "## Examples\n",
        "#### reverse(\"Hello World\") ➞ \"DLROw OLLEh\"\n",
        "#### reverse(\"ReVeRsE\") ➞ \"eSrEvEr\"\n",
        "#### reverse(\"Radar\") ➞ \"RADAr\""
      ],
      "metadata": {
        "id": "JO5YDpFJiV5o"
      }
    },
    {
      "cell_type": "code",
      "source": [
        "def reverse(input_str):\n",
        " # Reverse the string and swap the case of characters\n",
        " reversed_str = input_str[::-1].swapcase()\n",
        "\n",
        " return reversed_str"
      ],
      "metadata": {
        "id": "XG0PEm_6iwWW"
      },
      "execution_count": 8,
      "outputs": []
    },
    {
      "cell_type": "code",
      "source": [
        "reverse(\"Hello World\")"
      ],
      "metadata": {
        "colab": {
          "base_uri": "https://localhost:8080/",
          "height": 35
        },
        "id": "PFLLZgSMi5DN",
        "outputId": "74a2741a-1147-4299-fec3-0d171b7eda92"
      },
      "execution_count": 9,
      "outputs": [
        {
          "output_type": "execute_result",
          "data": {
            "text/plain": [
              "'DLROw OLLEh'"
            ],
            "application/vnd.google.colaboratory.intrinsic+json": {
              "type": "string"
            }
          },
          "metadata": {},
          "execution_count": 9
        }
      ]
    },
    {
      "cell_type": "code",
      "source": [
        "reverse(\"ReVeRsE\")"
      ],
      "metadata": {
        "colab": {
          "base_uri": "https://localhost:8080/",
          "height": 35
        },
        "id": "8D_1tMJTjAoK",
        "outputId": "141a218b-9662-4535-bff3-40386d2a9713"
      },
      "execution_count": 10,
      "outputs": [
        {
          "output_type": "execute_result",
          "data": {
            "text/plain": [
              "'eSrEvEr'"
            ],
            "application/vnd.google.colaboratory.intrinsic+json": {
              "type": "string"
            }
          },
          "metadata": {},
          "execution_count": 10
        }
      ]
    },
    {
      "cell_type": "code",
      "source": [
        "reverse(\"Radar\")"
      ],
      "metadata": {
        "colab": {
          "base_uri": "https://localhost:8080/",
          "height": 35
        },
        "id": "0SGlIGhxjHPy",
        "outputId": "b591d923-9d78-49bf-8eaf-a79f8b61dfca"
      },
      "execution_count": 11,
      "outputs": [
        {
          "output_type": "execute_result",
          "data": {
            "text/plain": [
              "'RADAr'"
            ],
            "application/vnd.google.colaboratory.intrinsic+json": {
              "type": "string"
            }
          },
          "metadata": {},
          "execution_count": 11
        }
      ]
    },
    {
      "cell_type": "markdown",
      "source": [
        "## Program 104\n",
        "### You can assign variables from lists like this:\n",
        "#### lst = [1, 2, 3, 4, 5, 6]\n",
        "#### first = lst[0]\n",
        "#### middle = lst[1:-1]\n",
        "#### last = lst[-1]\n",
        "#### print(first) ➞ outputs 1\n",
        "#### print(middle) ➞ outputs [2, 3, 4, 5]\n",
        "### With Python 3, you can assign variables from lists in a much more succinct way.\n",
        "Create variables first, middle and last from the given list using destructuring\n",
        "assignment (check the Resources tab for some examples), where:\n",
        "#### first ➞ 1\n",
        "#### middle ➞ [2, 3, 4, 5]\n",
        "#### last ➞ 6\n",
        "#### Your task is to unpack the list writeyourcodehere into three variables, bein print(last) ➞ outputs 6\n"
      ],
      "metadata": {
        "id": "4RqoLRd7jXos"
      }
    },
    {
      "cell_type": "code",
      "source": [
        "writeyourcodehere = [1, 2, 3, 4, 5, 6]\n",
        "# Unpack the list into variables\n",
        "first, *middle, last = writeyourcodehere"
      ],
      "metadata": {
        "id": "8yf0rrCmj7hC"
      },
      "execution_count": 12,
      "outputs": []
    },
    {
      "cell_type": "code",
      "source": [
        "first"
      ],
      "metadata": {
        "colab": {
          "base_uri": "https://localhost:8080/"
        },
        "id": "_0me19Q0kEF0",
        "outputId": "1f8237d1-39b3-461d-d304-f426390a56f4"
      },
      "execution_count": 13,
      "outputs": [
        {
          "output_type": "execute_result",
          "data": {
            "text/plain": [
              "1"
            ]
          },
          "metadata": {},
          "execution_count": 13
        }
      ]
    },
    {
      "cell_type": "code",
      "source": [
        "middle"
      ],
      "metadata": {
        "colab": {
          "base_uri": "https://localhost:8080/"
        },
        "id": "k6kwQAOGkLqo",
        "outputId": "3ba87417-617a-4d69-9783-8fdf6c8ac792"
      },
      "execution_count": 14,
      "outputs": [
        {
          "output_type": "execute_result",
          "data": {
            "text/plain": [
              "[2, 3, 4, 5]"
            ]
          },
          "metadata": {},
          "execution_count": 14
        }
      ]
    },
    {
      "cell_type": "code",
      "source": [
        "last"
      ],
      "metadata": {
        "colab": {
          "base_uri": "https://localhost:8080/"
        },
        "id": "qsb7sfDSkL3K",
        "outputId": "a27e01f5-36b3-4b90-aae6-817abd0cc575"
      },
      "execution_count": 15,
      "outputs": [
        {
          "output_type": "execute_result",
          "data": {
            "text/plain": [
              "6"
            ]
          },
          "metadata": {},
          "execution_count": 15
        }
      ]
    },
    {
      "cell_type": "markdown",
      "source": [
        "## Program 105\n",
        "Write a function that calculates the factorial of a number recursively.\n",
        "## Examples\n",
        "#### factorial(5) ➞ 120\n",
        "#### factorial(3) ➞ 6\n",
        "#### factorial(1) ➞ 1\n",
        "#### factorial(0) ➞ 1"
      ],
      "metadata": {
        "id": "tXXNDjLTkXWj"
      }
    },
    {
      "cell_type": "code",
      "source": [
        "def factorial(n):\n",
        " if n == 0:\n",
        "     return 1 # Base case: factorial of 0 is 1\n",
        " else:\n",
        "     return n * factorial(n - 1) # Recursive case: n! = n * (n-1)!"
      ],
      "metadata": {
        "id": "JAHo08R5keWP"
      },
      "execution_count": 16,
      "outputs": []
    },
    {
      "cell_type": "code",
      "source": [
        "factorial(5)"
      ],
      "metadata": {
        "colab": {
          "base_uri": "https://localhost:8080/"
        },
        "id": "LvbzjGuJkw1E",
        "outputId": "a65434f3-940e-4d82-b86b-30844808316f"
      },
      "execution_count": 17,
      "outputs": [
        {
          "output_type": "execute_result",
          "data": {
            "text/plain": [
              "120"
            ]
          },
          "metadata": {},
          "execution_count": 17
        }
      ]
    },
    {
      "cell_type": "code",
      "source": [
        "factorial(3)"
      ],
      "metadata": {
        "colab": {
          "base_uri": "https://localhost:8080/"
        },
        "id": "hQs7U_b7kxA8",
        "outputId": "6ee911ca-0428-4cc1-85a4-41a0a18f1e75"
      },
      "execution_count": 18,
      "outputs": [
        {
          "output_type": "execute_result",
          "data": {
            "text/plain": [
              "6"
            ]
          },
          "metadata": {},
          "execution_count": 18
        }
      ]
    },
    {
      "cell_type": "code",
      "source": [
        "factorial(1)"
      ],
      "metadata": {
        "colab": {
          "base_uri": "https://localhost:8080/"
        },
        "id": "ge6wpwb_kxD8",
        "outputId": "f884328f-2351-41db-e6d6-52935ee80f7d"
      },
      "execution_count": 19,
      "outputs": [
        {
          "output_type": "execute_result",
          "data": {
            "text/plain": [
              "1"
            ]
          },
          "metadata": {},
          "execution_count": 19
        }
      ]
    },
    {
      "cell_type": "code",
      "source": [
        "factorial(0)"
      ],
      "metadata": {
        "colab": {
          "base_uri": "https://localhost:8080/"
        },
        "id": "datAuf1jk6od",
        "outputId": "0fffb219-6649-44a2-f390-4479618e6ae8"
      },
      "execution_count": 20,
      "outputs": [
        {
          "output_type": "execute_result",
          "data": {
            "text/plain": [
              "1"
            ]
          },
          "metadata": {},
          "execution_count": 20
        }
      ]
    },
    {
      "cell_type": "markdown",
      "source": [
        "## Program 106\n",
        "Write a function that moves all elements of one type to the end of the list.\n",
        "## Examples\n",
        "#### move_to_end([1, 3, 2, 4, 4, 1], 1) ➞ [3, 2, 4, 4, 1, 1]\n",
        "#### Move all the 1s to the end of the array.\n",
        "#### move_to_end([7, 8, 9, 1, 2, 3, 4], 9) ➞ [7, 8, 1, 2, 3, 4, 9]\n",
        "#### move_to_end([\"a\", \"a\", \"a\", \"b\"], \"a\") ➞ [\"b\", \"a\", \"a\", \"a\"]"
      ],
      "metadata": {
        "id": "Z3rVd2_EkeuN"
      }
    },
    {
      "cell_type": "code",
      "source": [
        "def move_to_end(lst, element):\n",
        "      # Initialize a count for the specified element\n",
        "      count = lst.count(element)\n",
        "\n",
        "      # Remove all occurrences of the element from the list\n",
        "      lst = [x for x in lst if x != element]\n",
        "\n",
        "     # Append the element to the end of the list count times\n",
        "      lst.extend([element] * count)\n",
        "\n",
        "      return lst"
      ],
      "metadata": {
        "id": "MNs17ljnlQRN"
      },
      "execution_count": 23,
      "outputs": []
    },
    {
      "cell_type": "code",
      "source": [
        "move_to_end([1, 3, 2, 4, 4, 1], 1)"
      ],
      "metadata": {
        "colab": {
          "base_uri": "https://localhost:8080/"
        },
        "id": "e18tEKEcmTbv",
        "outputId": "acb6dc71-832e-44d6-e62b-6eed6fb866e9"
      },
      "execution_count": 24,
      "outputs": [
        {
          "output_type": "execute_result",
          "data": {
            "text/plain": [
              "[3, 2, 4, 4, 1, 1]"
            ]
          },
          "metadata": {},
          "execution_count": 24
        }
      ]
    },
    {
      "cell_type": "code",
      "source": [
        "move_to_end([7, 8, 9, 1, 2, 3, 4], 9)"
      ],
      "metadata": {
        "colab": {
          "base_uri": "https://localhost:8080/"
        },
        "id": "D9WDDus4mVAq",
        "outputId": "fb755aeb-63dd-4eca-fa6b-5a647ac49d91"
      },
      "execution_count": 25,
      "outputs": [
        {
          "output_type": "execute_result",
          "data": {
            "text/plain": [
              "[7, 8, 1, 2, 3, 4, 9]"
            ]
          },
          "metadata": {},
          "execution_count": 25
        }
      ]
    },
    {
      "cell_type": "code",
      "source": [
        "move_to_end([\"a\", \"a\", \"a\", \"b\"], \"a\")\n"
      ],
      "metadata": {
        "colab": {
          "base_uri": "https://localhost:8080/"
        },
        "id": "m3FeGb9ematd",
        "outputId": "072fec90-c8df-4e03-b6c5-5603b193c3bd"
      },
      "execution_count": 26,
      "outputs": [
        {
          "output_type": "execute_result",
          "data": {
            "text/plain": [
              "['b', 'a', 'a', 'a']"
            ]
          },
          "metadata": {},
          "execution_count": 26
        }
      ]
    },
    {
      "cell_type": "markdown",
      "source": [
        "## Program 107\n",
        "### Question1\n",
        "#### Create a function that takes a string and returns a string in which each character is\n",
        "repeated once.\n",
        "## Examples\n",
        "#### double_char(\"String\") ➞ \"SSttrriinngg\"\n",
        "#### double_char(\"Hello World!\") ➞ \"HHeelllloo WWoorrlldd!!\"\n",
        "#### double char(\"1234! \") ➞ \"11223344!!\n"
      ],
      "metadata": {
        "id": "OMr9fm5HmwNJ"
      }
    },
    {
      "cell_type": "code",
      "source": [
        "def double_char(input_str):\n",
        " doubled_str = \"\"\n",
        "\n",
        " for char in input_str:\n",
        "    doubled_str += char * 2\n",
        "\n",
        " return doubled_str"
      ],
      "metadata": {
        "id": "mkszZRtznAm7"
      },
      "execution_count": 27,
      "outputs": []
    },
    {
      "cell_type": "code",
      "source": [
        "double_char(\"String\")"
      ],
      "metadata": {
        "colab": {
          "base_uri": "https://localhost:8080/",
          "height": 35
        },
        "id": "K54xWzgYnJNo",
        "outputId": "9cccb142-62c0-4d76-9491-1ecdca6c23ed"
      },
      "execution_count": 28,
      "outputs": [
        {
          "output_type": "execute_result",
          "data": {
            "text/plain": [
              "'SSttrriinngg'"
            ],
            "application/vnd.google.colaboratory.intrinsic+json": {
              "type": "string"
            }
          },
          "metadata": {},
          "execution_count": 28
        }
      ]
    },
    {
      "cell_type": "code",
      "source": [
        "double_char(\"Hello World!\")\n"
      ],
      "metadata": {
        "colab": {
          "base_uri": "https://localhost:8080/",
          "height": 35
        },
        "id": "JyhMqJjfnQ0X",
        "outputId": "a8d97f3f-dae9-422d-9c49-89b4418d264e"
      },
      "execution_count": 29,
      "outputs": [
        {
          "output_type": "execute_result",
          "data": {
            "text/plain": [
              "'HHeelllloo  WWoorrlldd!!'"
            ],
            "application/vnd.google.colaboratory.intrinsic+json": {
              "type": "string"
            }
          },
          "metadata": {},
          "execution_count": 29
        }
      ]
    },
    {
      "cell_type": "code",
      "source": [
        "double_char(\"1234!_ \")\n"
      ],
      "metadata": {
        "colab": {
          "base_uri": "https://localhost:8080/",
          "height": 35
        },
        "id": "9vjCpxQQnVu4",
        "outputId": "9f4046c0-9a8b-4609-abc6-bdf359205260"
      },
      "execution_count": 30,
      "outputs": [
        {
          "output_type": "execute_result",
          "data": {
            "text/plain": [
              "'11223344!!__  '"
            ],
            "application/vnd.google.colaboratory.intrinsic+json": {
              "type": "string"
            }
          },
          "metadata": {},
          "execution_count": 30
        }
      ]
    },
    {
      "cell_type": "markdown",
      "source": [
        "## Program 108\n",
        "Create a function that reverses a boolean value and returns the string \"boolean\n",
        "expected\" if another variable type is given.\n",
        "## Examples\n",
        "#### reverse(True) ➞ False\n",
        "#### reverse(False) ➞ True\n",
        "#### reverse(0) ➞ \"boolean expected\"\n",
        "#### reverse(None) ➞ \"boolean expected\""
      ],
      "metadata": {
        "id": "bD1vYSVjndBc"
      }
    },
    {
      "cell_type": "code",
      "source": [
        "def reverse(value):\n",
        " if isinstance(value, bool):\n",
        "   return not value\n",
        " else:\n",
        "   return \"boolean expected\"\n"
      ],
      "metadata": {
        "id": "mkfQyKMVnngE"
      },
      "execution_count": 31,
      "outputs": []
    },
    {
      "cell_type": "code",
      "source": [
        "reverse(True)"
      ],
      "metadata": {
        "colab": {
          "base_uri": "https://localhost:8080/"
        },
        "id": "IczHas2gnwoj",
        "outputId": "3bac42d1-2c59-4f39-f3a9-044246b3ffc9"
      },
      "execution_count": 32,
      "outputs": [
        {
          "output_type": "execute_result",
          "data": {
            "text/plain": [
              "False"
            ]
          },
          "metadata": {},
          "execution_count": 32
        }
      ]
    },
    {
      "cell_type": "code",
      "source": [
        "reverse(False)"
      ],
      "metadata": {
        "colab": {
          "base_uri": "https://localhost:8080/"
        },
        "id": "b-O3BIdMnw5x",
        "outputId": "8dddb8c9-e476-47bb-e151-7995f02c3963"
      },
      "execution_count": 33,
      "outputs": [
        {
          "output_type": "execute_result",
          "data": {
            "text/plain": [
              "True"
            ]
          },
          "metadata": {},
          "execution_count": 33
        }
      ]
    },
    {
      "cell_type": "code",
      "source": [
        "reverse(0)"
      ],
      "metadata": {
        "colab": {
          "base_uri": "https://localhost:8080/",
          "height": 35
        },
        "id": "X9tnt_3xn6Un",
        "outputId": "c6004c21-f22a-4452-b444-f11f3be1e06a"
      },
      "execution_count": 34,
      "outputs": [
        {
          "output_type": "execute_result",
          "data": {
            "text/plain": [
              "'boolean expected'"
            ],
            "application/vnd.google.colaboratory.intrinsic+json": {
              "type": "string"
            }
          },
          "metadata": {},
          "execution_count": 34
        }
      ]
    },
    {
      "cell_type": "code",
      "source": [
        "reverse(None)"
      ],
      "metadata": {
        "colab": {
          "base_uri": "https://localhost:8080/",
          "height": 35
        },
        "id": "OLOxaRMmoC0F",
        "outputId": "d5ae1562-dde6-41ef-8ac3-68a1d12b6607"
      },
      "execution_count": 36,
      "outputs": [
        {
          "output_type": "execute_result",
          "data": {
            "text/plain": [
              "'boolean expected'"
            ],
            "application/vnd.google.colaboratory.intrinsic+json": {
              "type": "string"
            }
          },
          "metadata": {},
          "execution_count": 36
        }
      ]
    },
    {
      "cell_type": "markdown",
      "source": [
        "## Program 109\n",
        "Create a function that returns the thickness (in meters) of a piece of paper after\n",
        "folding it n number of times. The paper starts off with a thickness of 0.5mm.\n",
        "## Examples\n",
        "#### num_layers(1) ➞ \"0.001m\"\n",
        "#### Paper folded once is 1mm (equal to 0.001m)\n",
        "num_layers(4) ➞ \"0.008m\"\n",
        "#### Paper folded 4 times is 8mm (equal to 0.008m)\n",
        "num_layers(21) ➞ \"1048.576m\"\n",
        "#### Paper folded 21 times is 1048576mm (equal to 1048.576m)\n"
      ],
      "metadata": {
        "id": "Ljvpybn8oET0"
      }
    },
    {
      "cell_type": "code",
      "source": [
        "def num_layers(n):\n",
        " initial_thickness_mm = 0.5 # Initial thickness in millimeters\n",
        " final_thickness_mm = initial_thickness_mm * (2 ** n)\n",
        " final_thickness_m = final_thickness_mm / 1000 # Convert millimeter\n",
        " return f\"{final_thickness_m:.3f}m\""
      ],
      "metadata": {
        "id": "Kgu9qiiCoYQI"
      },
      "execution_count": 37,
      "outputs": []
    },
    {
      "cell_type": "code",
      "source": [
        "num_layers(1)\n"
      ],
      "metadata": {
        "colab": {
          "base_uri": "https://localhost:8080/",
          "height": 35
        },
        "id": "msWrXDtrohH9",
        "outputId": "a4b71140-8a5d-4e85-bd45-1afce14ef505"
      },
      "execution_count": 38,
      "outputs": [
        {
          "output_type": "execute_result",
          "data": {
            "text/plain": [
              "'0.001m'"
            ],
            "application/vnd.google.colaboratory.intrinsic+json": {
              "type": "string"
            }
          },
          "metadata": {},
          "execution_count": 38
        }
      ]
    },
    {
      "cell_type": "code",
      "source": [
        "num_layers(4)\n"
      ],
      "metadata": {
        "colab": {
          "base_uri": "https://localhost:8080/",
          "height": 35
        },
        "id": "4SA3dNW6ohLq",
        "outputId": "1fa0d713-b94d-489f-bc2e-e2297eb72f0f"
      },
      "execution_count": 39,
      "outputs": [
        {
          "output_type": "execute_result",
          "data": {
            "text/plain": [
              "'0.008m'"
            ],
            "application/vnd.google.colaboratory.intrinsic+json": {
              "type": "string"
            }
          },
          "metadata": {},
          "execution_count": 39
        }
      ]
    },
    {
      "cell_type": "code",
      "source": [
        "num_layers(21)\n"
      ],
      "metadata": {
        "colab": {
          "base_uri": "https://localhost:8080/",
          "height": 35
        },
        "id": "6p1K6VYTohif",
        "outputId": "6e40d74a-f11c-4bc2-aea3-2272f30acb6d"
      },
      "execution_count": 40,
      "outputs": [
        {
          "output_type": "execute_result",
          "data": {
            "text/plain": [
              "'1048.576m'"
            ],
            "application/vnd.google.colaboratory.intrinsic+json": {
              "type": "string"
            }
          },
          "metadata": {},
          "execution_count": 40
        }
      ]
    },
    {
      "cell_type": "markdown",
      "source": [
        "## Program 110\n",
        "#### Create a function that takes a single string as argument and returns an ordered list\n",
        "#### containing the indices of all capital letters in the string.\n",
        "## Examples\n",
        "#### index_of_caps(\"eDaBiT\") ➞ [1, 3, 5]\n",
        "#### index_of_caps(\"eQuINoX\") ➞ [1, 3, 4, 6]\n",
        "#### index_of_caps(\"determine\") ➞ []\n",
        "#### index_of_caps(\"STRIKE\") ➞ [0, 1, 2, 3, 4, 5]\n",
        "#### index_of_caps(\"sUn\") ➞ [1\n"
      ],
      "metadata": {
        "id": "qmJaTg7Voosa"
      }
    },
    {
      "cell_type": "code",
      "source": [
        "def index_of_caps(word):\n",
        " # Use list comprehension to find indices of capital letters\n",
        " return [i for i, char in enumerate(word) if char.isupper()]"
      ],
      "metadata": {
        "id": "egObs_aHo_Rj"
      },
      "execution_count": 41,
      "outputs": []
    },
    {
      "cell_type": "code",
      "source": [
        "index_of_caps(\"eDaBiT\")\n"
      ],
      "metadata": {
        "colab": {
          "base_uri": "https://localhost:8080/"
        },
        "id": "Ik9Fu0OepEsS",
        "outputId": "7b678bac-b766-444b-8660-94bdc9fe9a38"
      },
      "execution_count": 42,
      "outputs": [
        {
          "output_type": "execute_result",
          "data": {
            "text/plain": [
              "[1, 3, 5]"
            ]
          },
          "metadata": {},
          "execution_count": 42
        }
      ]
    },
    {
      "cell_type": "code",
      "source": [
        "index_of_caps(\"eQuINoX\")"
      ],
      "metadata": {
        "colab": {
          "base_uri": "https://localhost:8080/"
        },
        "id": "LJheh506pEvS",
        "outputId": "981d9383-301a-48b6-a084-9b63a1e4e5e1"
      },
      "execution_count": 43,
      "outputs": [
        {
          "output_type": "execute_result",
          "data": {
            "text/plain": [
              "[1, 3, 4, 6]"
            ]
          },
          "metadata": {},
          "execution_count": 43
        }
      ]
    },
    {
      "cell_type": "code",
      "source": [
        "index_of_caps(\"determine\")\n"
      ],
      "metadata": {
        "colab": {
          "base_uri": "https://localhost:8080/"
        },
        "id": "SE1-dCm7pQ4F",
        "outputId": "4d92d05c-10d7-487c-8218-aa8bc04dbc97"
      },
      "execution_count": 44,
      "outputs": [
        {
          "output_type": "execute_result",
          "data": {
            "text/plain": [
              "[]"
            ]
          },
          "metadata": {},
          "execution_count": 44
        }
      ]
    },
    {
      "cell_type": "code",
      "source": [
        "index_of_caps(\"STRIKE\")\n"
      ],
      "metadata": {
        "colab": {
          "base_uri": "https://localhost:8080/"
        },
        "id": "TgUEj5UWpafH",
        "outputId": "e64f3beb-3c47-42b0-d6b2-32d9801304ec"
      },
      "execution_count": 45,
      "outputs": [
        {
          "output_type": "execute_result",
          "data": {
            "text/plain": [
              "[0, 1, 2, 3, 4, 5]"
            ]
          },
          "metadata": {},
          "execution_count": 45
        }
      ]
    },
    {
      "cell_type": "code",
      "source": [
        "index_of_caps(\"sUn\")"
      ],
      "metadata": {
        "colab": {
          "base_uri": "https://localhost:8080/"
        },
        "id": "aFZLek2aphIj",
        "outputId": "6a26f51d-3485-424e-f97c-95ef41495ac2"
      },
      "execution_count": 46,
      "outputs": [
        {
          "output_type": "execute_result",
          "data": {
            "text/plain": [
              "[1]"
            ]
          },
          "metadata": {},
          "execution_count": 46
        }
      ]
    },
    {
      "cell_type": "markdown",
      "source": [
        "## Program 111\n",
        "Using list comprehensions, create a function that finds all even numbers from 1 to\n",
        "the given number.\n",
        "## Examples\n",
        "#### find_even_nums(8) ➞ [2, 4, 6, 8]\n",
        "#### find_even_nums(4) ➞ [2, 4]\n",
        "#### find_even_nums(2) ➞ [2"
      ],
      "metadata": {
        "id": "KXrnPcrBpo7y"
      }
    },
    {
      "cell_type": "code",
      "source": [
        "def find_even_nums(num):\n",
        " # Use a list comprehension to generate even numbers from 1 to num\n",
        " return [x for x in range(1, num + 1) if x % 2 == 0]"
      ],
      "metadata": {
        "id": "6sByx1_cpuXT"
      },
      "execution_count": 47,
      "outputs": []
    },
    {
      "cell_type": "code",
      "source": [
        "find_even_nums(8)"
      ],
      "metadata": {
        "colab": {
          "base_uri": "https://localhost:8080/"
        },
        "id": "fVfVGhFfp20O",
        "outputId": "d450d8ac-ad43-44a4-fc54-cd8777d841f2"
      },
      "execution_count": 48,
      "outputs": [
        {
          "output_type": "execute_result",
          "data": {
            "text/plain": [
              "[2, 4, 6, 8]"
            ]
          },
          "metadata": {},
          "execution_count": 48
        }
      ]
    },
    {
      "cell_type": "code",
      "source": [
        "find_even_nums(4)"
      ],
      "metadata": {
        "colab": {
          "base_uri": "https://localhost:8080/"
        },
        "id": "yrGcDf7ap7h1",
        "outputId": "33b0189c-bad8-45a8-a41d-17c7faf4c35f"
      },
      "execution_count": 49,
      "outputs": [
        {
          "output_type": "execute_result",
          "data": {
            "text/plain": [
              "[2, 4]"
            ]
          },
          "metadata": {},
          "execution_count": 49
        }
      ]
    },
    {
      "cell_type": "code",
      "source": [
        "find_even_nums(2)"
      ],
      "metadata": {
        "colab": {
          "base_uri": "https://localhost:8080/"
        },
        "id": "tikQJM8bp_UC",
        "outputId": "69cce87f-6f0a-48b9-e4aa-25b0281912c9"
      },
      "execution_count": 50,
      "outputs": [
        {
          "output_type": "execute_result",
          "data": {
            "text/plain": [
              "[2]"
            ]
          },
          "metadata": {},
          "execution_count": 50
        }
      ]
    },
    {
      "cell_type": "markdown",
      "source": [
        "## Program 112\n",
        "Create a function that takes a list of strings and integers, and filters out the list so\n",
        "that it returns a list of integers only.\n",
        "## Examples\n",
        "#### filter_list([1, 2, 3, \"a\", \"b\", 4]) ➞ [1, 2, 3, 4]\n",
        "#### filter_list([\"A\", 0, \"Edabit\", 1729, \"Python\", 1729]) ➞ [0, 1729]\n",
        "#### filter_list([\"Nothing\", \"here\"]) ➞ []\n"
      ],
      "metadata": {
        "id": "-QWl1wS7qFSD"
      }
    },
    {
      "cell_type": "code",
      "source": [
        "def filter_list(lst):\n",
        " # Use a list comprehension to filter out integers\n",
        " return [x for x in lst if isinstance(x, int)]"
      ],
      "metadata": {
        "id": "Pq9i8jziqLvr"
      },
      "execution_count": 53,
      "outputs": []
    },
    {
      "cell_type": "code",
      "source": [
        "filter_list([1, 2, 3, \"a\", \"b\", 4])"
      ],
      "metadata": {
        "colab": {
          "base_uri": "https://localhost:8080/"
        },
        "id": "NSn4sF-3qfC1",
        "outputId": "bd051665-54db-459b-bbe4-fbc4318594bf"
      },
      "execution_count": 54,
      "outputs": [
        {
          "output_type": "execute_result",
          "data": {
            "text/plain": [
              "[1, 2, 3, 4]"
            ]
          },
          "metadata": {},
          "execution_count": 54
        }
      ]
    },
    {
      "cell_type": "code",
      "source": [
        "filter_list([\"A\", 0, \"Edabit\", 1729, \"Python\", 1729])"
      ],
      "metadata": {
        "colab": {
          "base_uri": "https://localhost:8080/"
        },
        "id": "J0kfVK8QqjQ6",
        "outputId": "28b36286-50d5-4339-df97-3d10f6677fde"
      },
      "execution_count": 55,
      "outputs": [
        {
          "output_type": "execute_result",
          "data": {
            "text/plain": [
              "[0, 1729, 1729]"
            ]
          },
          "metadata": {},
          "execution_count": 55
        }
      ]
    },
    {
      "cell_type": "code",
      "source": [
        "filter_list([\"A\", 0, \"Edabit\", 1729, \"Python\", 1729])"
      ],
      "metadata": {
        "colab": {
          "base_uri": "https://localhost:8080/"
        },
        "id": "rKAyzjjGqnzz",
        "outputId": "db73edac-fd9a-4fe7-a948-17b19f7381c8"
      },
      "execution_count": 56,
      "outputs": [
        {
          "output_type": "execute_result",
          "data": {
            "text/plain": [
              "[0, 1729, 1729]"
            ]
          },
          "metadata": {},
          "execution_count": 56
        }
      ]
    },
    {
      "cell_type": "markdown",
      "source": [
        "## Program 113\n",
        "Given a list of numbers, create a function which returns the list but with each\n",
        "element's index in the list added to itself. This means you add 0 to the number at index 0, add 1 to the number at index 1, etc...\n",
        "## Examples\n",
        "#### add_indexes([0, 0, 0, 0, 0]) ➞ [0, 1, 2, 3, 4]\n",
        "#### add_indexes([1, 2, 3, 4, 5]) ➞ [1, 3, 5, 7, 9]\n",
        "#### add_indexes([5, 4, 3, 2, 1]) ➞ [5, 5, 5, 5, 5"
      ],
      "metadata": {
        "id": "8xnF8uO8qr7Q"
      }
    },
    {
      "cell_type": "code",
      "source": [
        "def add_indexes(lst):\n",
        " # Use list comprehension to add index to each element\n",
        " return [i + val for i, val in enumerate(lst)]"
      ],
      "metadata": {
        "id": "zz-bMzZzq7Zl"
      },
      "execution_count": 57,
      "outputs": []
    },
    {
      "cell_type": "code",
      "source": [
        "add_indexes([0, 0, 0, 0, 0])"
      ],
      "metadata": {
        "colab": {
          "base_uri": "https://localhost:8080/"
        },
        "id": "rVgQZu62rBQ5",
        "outputId": "83685289-39b7-4ce1-8ca0-8d1169199db6"
      },
      "execution_count": 58,
      "outputs": [
        {
          "output_type": "execute_result",
          "data": {
            "text/plain": [
              "[0, 1, 2, 3, 4]"
            ]
          },
          "metadata": {},
          "execution_count": 58
        }
      ]
    },
    {
      "cell_type": "code",
      "source": [
        "add_indexes([1, 2, 3, 4, 5])"
      ],
      "metadata": {
        "colab": {
          "base_uri": "https://localhost:8080/"
        },
        "id": "JRbEB5ZCrBfz",
        "outputId": "f0f8cb8e-6021-4df4-f1bf-adc013006b44"
      },
      "execution_count": 59,
      "outputs": [
        {
          "output_type": "execute_result",
          "data": {
            "text/plain": [
              "[1, 3, 5, 7, 9]"
            ]
          },
          "metadata": {},
          "execution_count": 59
        }
      ]
    },
    {
      "cell_type": "markdown",
      "source": [
        "## Program 114\n",
        "Create a function that takes the height and radius of a cone as arguments and returns the volume of the cone rounded to the nearest hundredth. See the resources tab for the formula.\n",
        "## Examples\n",
        "#### cone_volume(3, 2) ➞ 12.57\n",
        "#### cone_volume(15, 6) ➞ 565.49\n",
        "#### cone_volume(18, 0) ➞ 0"
      ],
      "metadata": {
        "id": "8DHqbUsnrk1w"
      }
    },
    {
      "cell_type": "code",
      "source": [
        "import math\n",
        "def cone_volume(height, radius):\n",
        " if radius == 0:\n",
        "    return 0\n",
        " volume = (1/3) * math.pi * (radius**2) * height\n",
        " return round(volume, 2)"
      ],
      "metadata": {
        "id": "z4_us7zqrywI"
      },
      "execution_count": 60,
      "outputs": []
    },
    {
      "cell_type": "code",
      "source": [
        "cone_volume(3, 2)\n"
      ],
      "metadata": {
        "colab": {
          "base_uri": "https://localhost:8080/"
        },
        "id": "a379fPR6r51b",
        "outputId": "1b9a0d4c-c064-4e6b-d458-6e20e26e6f41"
      },
      "execution_count": 61,
      "outputs": [
        {
          "output_type": "execute_result",
          "data": {
            "text/plain": [
              "12.57"
            ]
          },
          "metadata": {},
          "execution_count": 61
        }
      ]
    },
    {
      "cell_type": "code",
      "source": [
        "cone_volume(15, 6)\n"
      ],
      "metadata": {
        "colab": {
          "base_uri": "https://localhost:8080/"
        },
        "id": "8xKgHcqjr_Fs",
        "outputId": "e5795895-b430-4b64-88bc-35238f33a7f9"
      },
      "execution_count": 62,
      "outputs": [
        {
          "output_type": "execute_result",
          "data": {
            "text/plain": [
              "565.49"
            ]
          },
          "metadata": {},
          "execution_count": 62
        }
      ]
    },
    {
      "cell_type": "markdown",
      "source": [
        "## Program 115\n",
        "This Triangular Number Sequence is generated from a pattern of dots that form a\n",
        "triangle. The first 5 numbers of the sequence, or dots, are:\n",
        "1, 3, 6, 10, 15\n",
        "##### This means that the first triangle has just one dot, the second one has three dots, the\n",
        "third one has 6 dots and so on.\n",
        "Write a function that gives the number of dots with its corresponding triangle number of the sequence.\n",
        "## Examples\n",
        "#### triangle(1) ➞ 1\n",
        "#### triangle(6) ➞ 21\n",
        "#### triangle(215) ➞ 23220"
      ],
      "metadata": {
        "id": "DdM0uRTbsLUR"
      }
    },
    {
      "cell_type": "code",
      "source": [
        "def triangle(n):\n",
        " if n < 1:\n",
        "   return 0\n",
        " return n * (n + 1) // 2"
      ],
      "metadata": {
        "id": "9pDd2s2KsX9i"
      },
      "execution_count": 63,
      "outputs": []
    },
    {
      "cell_type": "code",
      "source": [
        "triangle(1)"
      ],
      "metadata": {
        "colab": {
          "base_uri": "https://localhost:8080/"
        },
        "id": "JOM-U1hhseef",
        "outputId": "a46b0e0a-8e20-4ee3-f4bb-4aa8be939396"
      },
      "execution_count": 64,
      "outputs": [
        {
          "output_type": "execute_result",
          "data": {
            "text/plain": [
              "1"
            ]
          },
          "metadata": {},
          "execution_count": 64
        }
      ]
    },
    {
      "cell_type": "code",
      "source": [
        "triangle(6)"
      ],
      "metadata": {
        "colab": {
          "base_uri": "https://localhost:8080/"
        },
        "id": "Pj3aKvobseu5",
        "outputId": "a1e9de41-8231-4614-b9c5-7754a7a8bdfb"
      },
      "execution_count": 65,
      "outputs": [
        {
          "output_type": "execute_result",
          "data": {
            "text/plain": [
              "21"
            ]
          },
          "metadata": {},
          "execution_count": 65
        }
      ]
    },
    {
      "cell_type": "code",
      "source": [
        "triangle(215)"
      ],
      "metadata": {
        "colab": {
          "base_uri": "https://localhost:8080/"
        },
        "id": "ge4KY7YcsnuQ",
        "outputId": "9b0186cb-8ab9-4241-8fc1-64e7d3bdb2d5"
      },
      "execution_count": 66,
      "outputs": [
        {
          "output_type": "execute_result",
          "data": {
            "text/plain": [
              "23220"
            ]
          },
          "metadata": {},
          "execution_count": 66
        }
      ]
    },
    {
      "cell_type": "markdown",
      "source": [
        "## Program 116\n",
        "Create a function that takes a list of numbers between 1 and 10 (excluding one\n",
        "number) and returns the missing number.\n",
        "## Examples\n",
        "#### missing_num([1, 2, 3, 4, 6, 7, 8, 9, 10]) ➞ 5\n",
        "#### missing_num([7, 2, 3, 6, 5, 9, 1, 4, 8]) ➞ 10\n",
        "#### missing_num([10, 5, 1, 2, 4, 6, 8, 3, 9]) ➞ 7"
      ],
      "metadata": {
        "id": "IwNePN5Ms-hM"
      }
    },
    {
      "cell_type": "code",
      "source": [
        "def missing_num(lst):\n",
        " total_sum = sum(range(1, 11)) # Sum of numbers from 1 to 10\n",
        " given_sum = sum(lst) # Sum of the given list of numbers\n",
        " missing = total_sum - given_sum\n",
        " return missing"
      ],
      "metadata": {
        "id": "Jgt8HKAJtGSw"
      },
      "execution_count": 67,
      "outputs": []
    },
    {
      "cell_type": "code",
      "source": [
        "missing_num([1, 2, 3, 4, 6, 7, 8, 9, 10])\n"
      ],
      "metadata": {
        "colab": {
          "base_uri": "https://localhost:8080/"
        },
        "id": "T_-mXDg4tQEY",
        "outputId": "b9030306-43da-4d36-b03e-3a5f71c85497"
      },
      "execution_count": 68,
      "outputs": [
        {
          "output_type": "execute_result",
          "data": {
            "text/plain": [
              "5"
            ]
          },
          "metadata": {},
          "execution_count": 68
        }
      ]
    },
    {
      "cell_type": "code",
      "source": [
        "missing_num([10, 5, 1, 2, 4, 6, 8, 3, 9])\n"
      ],
      "metadata": {
        "colab": {
          "base_uri": "https://localhost:8080/"
        },
        "id": "CVGPwkI4tQRN",
        "outputId": "805f8bd4-b928-4a54-838e-5c0b266786f7"
      },
      "execution_count": 69,
      "outputs": [
        {
          "output_type": "execute_result",
          "data": {
            "text/plain": [
              "7"
            ]
          },
          "metadata": {},
          "execution_count": 69
        }
      ]
    },
    {
      "cell_type": "markdown",
      "source": [
        "## Program 117\n",
        "Write a function that takes a list and a number as arguments. Add the number to the\n",
        "end of the list, then remove the first element of the list. The function should then\n",
        "return the updated list.\n",
        "## Examples\n",
        "#### next_in_line([5, 6, 7, 8, 9], 1) ➞ [6, 7, 8, 9, 1]\n",
        "#### next_in_line([7, 6, 3, 23, 17], 10) ➞ [6, 3, 23, 17, 10]\n",
        "#### next_in_line([1, 10, 20, 42 ], 6) ➞ [10, 20, 42, 6]\n",
        "#### next_in_line([], 6) ➞ \"No list has been selected\""
      ],
      "metadata": {
        "id": "AP3ohi0AtqNI"
      }
    },
    {
      "cell_type": "code",
      "source": [
        "def next_in_line(lst, num):\n",
        " if lst:\n",
        "    lst.pop(0) # Remove the first element\n",
        "    lst.append(num) # Add the number to the end\n",
        "    return lst\n",
        " else:\n",
        "   return \"No list has been selected\"\n"
      ],
      "metadata": {
        "id": "kHOox-crt0FI"
      },
      "execution_count": 70,
      "outputs": []
    },
    {
      "cell_type": "code",
      "source": [
        "next_in_line([5, 6, 7, 8, 9], 1)\n"
      ],
      "metadata": {
        "colab": {
          "base_uri": "https://localhost:8080/"
        },
        "id": "rqOCQ8-IuCQJ",
        "outputId": "7b307326-9afd-4bce-9af6-5d0e0c89322b"
      },
      "execution_count": 71,
      "outputs": [
        {
          "output_type": "execute_result",
          "data": {
            "text/plain": [
              "[6, 7, 8, 9, 1]"
            ]
          },
          "metadata": {},
          "execution_count": 71
        }
      ]
    },
    {
      "cell_type": "code",
      "source": [
        "next_in_line([1, 10, 20, 42 ], 6)"
      ],
      "metadata": {
        "colab": {
          "base_uri": "https://localhost:8080/"
        },
        "id": "fZNrh9BauCTl",
        "outputId": "d5d5690e-99c7-4e0a-c253-2c7bb0cb4302"
      },
      "execution_count": 72,
      "outputs": [
        {
          "output_type": "execute_result",
          "data": {
            "text/plain": [
              "[10, 20, 42, 6]"
            ]
          },
          "metadata": {},
          "execution_count": 72
        }
      ]
    },
    {
      "cell_type": "markdown",
      "source": [
        "## Program 118\n",
        "Create the function that takes a list of dictionaries and returns the sum of people's\n",
        "budgets.\n",
        "## Examples\n",
        "#### get_budgets\n",
        "#### ([{ 'name': 'John', 'age': 21, 'budget': 23000 },\n",
        "#### { 'name': 'Steve', 'age': 32, 'budget': 40000 },\n",
        "#### { 'name': 'Martin', 'age': 16, 'budget': 2700 }]) ➞ 65700\n",
        "#### get_budgets([{ 'name': 'John', 'age': 21, 'budget': 29000 },\n",
        "#### { 'name': 'Steve', 'age': 32, 'budget': 32000 },\n",
        "#### { 'name': 'Martin', 'age': 16, 'budget': 1600 }]) ➞ 62600"
      ],
      "metadata": {
        "id": "T1CbcT1JuJIY"
      }
    },
    {
      "cell_type": "code",
      "source": [
        "def get_budgets(lst):\n",
        " total_budget = sum(person['budget'] for person in lst)\n",
        " return total_budget\n",
        "# Test cases\n",
        "budgets1 = [\n",
        " {'name': 'John', 'age': 21, 'budget': 23000},\n",
        " {'name': 'Steve', 'age': 32, 'budget': 40000},\n",
        " {'name': 'Martin', 'age': 16, 'budget': 2700}\n",
        "]\n",
        "budgets2 = [\n",
        " {'name': 'John', 'age': 21, 'budget': 29000},\n",
        " {'name': 'Steve', 'age': 32, 'budget': 32000},\n",
        " {'name': 'Martin', 'age': 16, 'budget': 1600}]\n"
      ],
      "metadata": {
        "id": "ngAZ5Lzouv26"
      },
      "execution_count": 1,
      "outputs": []
    },
    {
      "cell_type": "code",
      "source": [
        "get_budgets(budgets1)"
      ],
      "metadata": {
        "colab": {
          "base_uri": "https://localhost:8080/"
        },
        "id": "OzFphEzOuCWy",
        "outputId": "6edd07ba-cf3d-4619-e407-2c09b5566a88"
      },
      "execution_count": 2,
      "outputs": [
        {
          "output_type": "execute_result",
          "data": {
            "text/plain": [
              "65700"
            ]
          },
          "metadata": {},
          "execution_count": 2
        }
      ]
    },
    {
      "cell_type": "code",
      "source": [
        "get_budgets(budgets2)"
      ],
      "metadata": {
        "colab": {
          "base_uri": "https://localhost:8080/"
        },
        "id": "mwIPRvWGvCfx",
        "outputId": "8d4eacdc-3cbe-482e-eaef-c2dbde1461ec"
      },
      "execution_count": 4,
      "outputs": [
        {
          "output_type": "execute_result",
          "data": {
            "text/plain": [
              "62600"
            ]
          },
          "metadata": {},
          "execution_count": 4
        }
      ]
    },
    {
      "cell_type": "markdown",
      "source": [
        "## Program 119\n",
        "Create a function that takes a string and returns a string with its letters in\n",
        "alphabetical order.\n",
        "## Examples\n",
        "#### alphabet_soup(\"hello\") ➞ \"ehllo\"\n",
        "#### alphabet_soup(\"edabit\") ➞ \"abdeit\"\n",
        "#### alphabet_soup(\"hacker\") ➞ \"acehkr\"\n",
        "#### alphabet_soup(\"geek\") ➞ \"eegk\"\n",
        "#### alphabet_soup(\"javascript\") ➞ \"aacijprstv\"\n"
      ],
      "metadata": {
        "id": "vyxJMEP5vHu9"
      }
    },
    {
      "cell_type": "code",
      "source": [
        "def alphabet_soup(txt):\n",
        " return ''.join(sorted(txt))"
      ],
      "metadata": {
        "id": "PdbgyYfkvR-N"
      },
      "execution_count": 3,
      "outputs": []
    },
    {
      "cell_type": "code",
      "source": [
        "alphabet_soup(\"hello\")\n"
      ],
      "metadata": {
        "colab": {
          "base_uri": "https://localhost:8080/",
          "height": 35
        },
        "id": "yP-K90RPvwyW",
        "outputId": "18f99328-0d5d-419e-9bf9-80afcd3a7727"
      },
      "execution_count": 5,
      "outputs": [
        {
          "output_type": "execute_result",
          "data": {
            "text/plain": [
              "'ehllo'"
            ],
            "application/vnd.google.colaboratory.intrinsic+json": {
              "type": "string"
            }
          },
          "metadata": {},
          "execution_count": 5
        }
      ]
    },
    {
      "cell_type": "markdown",
      "source": [
        "## Program 120\n",
        "Suppose that you invest $10,000 for 10 years at an interest rate of 6% compounded\n",
        "monthly. What will be the value of your investment at the end of the 10 year period?\n",
        "Create a function that accepts the principal p, the term in years t, the interest rate r,\n",
        "and the number of compounding periods per year n. The function returns the value at\n",
        "the end of term rounded to the nearest cent.\n",
        "## For the example:\n",
        "compound_interest(10000, 10, 0.06, 12) ➞ 18193.97\n",
        "Note that the interest rate is given as a decimal and n=12 because with monthly\n",
        "compounding there are 12 periods per year. Compounding can also be done\n",
        "annually, quarterly, weekly, or daily.\n",
        "## Examples\n",
        "#### compound_interest(100, 1, 0.05, 1) ➞ 105.0\n",
        "#### compound_interest(3500, 15, 0.1, 4) ➞ 15399.26\n",
        "#### compound_interest(100000, 20, 0.15, 365) ➞ 2007316.26"
      ],
      "metadata": {
        "id": "xd7tttIDv59d"
      }
    },
    {
      "cell_type": "code",
      "source": [
        "def compound_interest(p, t, r, n):\n",
        " # Calculate the compound interest using the formula\n",
        " a = p * (1 + (r / n)) ** (n * t)\n",
        " # Round the result to the nearest cent\n",
        " return round(a, 2)"
      ],
      "metadata": {
        "id": "NO-sfY0FwB6w"
      },
      "execution_count": 6,
      "outputs": []
    },
    {
      "cell_type": "code",
      "source": [
        "compound_interest(100, 1, 0.05, 1)"
      ],
      "metadata": {
        "colab": {
          "base_uri": "https://localhost:8080/"
        },
        "id": "7RQup3NQwQTj",
        "outputId": "28b65fdb-1402-4fb4-aa29-d9a5539a74d1"
      },
      "execution_count": 7,
      "outputs": [
        {
          "output_type": "execute_result",
          "data": {
            "text/plain": [
              "105.0"
            ]
          },
          "metadata": {},
          "execution_count": 7
        }
      ]
    },
    {
      "cell_type": "code",
      "source": [
        "compound_interest(10000, 10, 0.06, 12)"
      ],
      "metadata": {
        "colab": {
          "base_uri": "https://localhost:8080/"
        },
        "id": "oGV2j9jgwMCM",
        "outputId": "4421e888-b13d-4edf-ac4c-a3a7d8457699"
      },
      "execution_count": 8,
      "outputs": [
        {
          "output_type": "execute_result",
          "data": {
            "text/plain": [
              "18193.97"
            ]
          },
          "metadata": {},
          "execution_count": 8
        }
      ]
    },
    {
      "cell_type": "code",
      "source": [
        "compound_interest(3500, 15, 0.1, 4)\n"
      ],
      "metadata": {
        "id": "MCX7PPSewaX-",
        "outputId": "f22ba365-315b-4952-8b24-4e78e7a4a6b8",
        "colab": {
          "base_uri": "https://localhost:8080/"
        }
      },
      "execution_count": 9,
      "outputs": [
        {
          "output_type": "execute_result",
          "data": {
            "text/plain": [
              "15399.26"
            ]
          },
          "metadata": {},
          "execution_count": 9
        }
      ]
    }
  ]
}