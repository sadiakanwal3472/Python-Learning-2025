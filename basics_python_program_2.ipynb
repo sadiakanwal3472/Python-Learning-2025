{
  "cells": [
    {
      "cell_type": "markdown",
      "metadata": {
        "id": "view-in-github",
        "colab_type": "text"
      },
      "source": [
        "<a href=\"https://colab.research.google.com/github/sadiakanwal3472/Python-Learning-2025/blob/main/basics_python_program_2.ipynb\" target=\"_parent\"><img src=\"https://colab.research.google.com/assets/colab-badge.svg\" alt=\"Open In Colab\"/></a>"
      ]
    },
    {
      "cell_type": "markdown",
      "id": "4de2b744-c73f-4e6c-956b-8fc20e9cd726",
      "metadata": {
        "id": "4de2b744-c73f-4e6c-956b-8fc20e9cd726"
      },
      "source": [
        "# Basic Python Programs"
      ]
    },
    {
      "cell_type": "markdown",
      "id": "cf9792fd-d442-4e66-b0e0-38d8d0145cd4",
      "metadata": {
        "id": "cf9792fd-d442-4e66-b0e0-38d8d0145cd4"
      },
      "source": [
        "## Program 22\n",
        "### Write a Python Program to Find LCM.\n",
        "### Least Common Multiple (LCM):\n",
        "#### LCM, or Least Common Multiple, is the smallest multiple that is exactly divisible by two or\n",
        "more numbers."
      ]
    },
    {
      "cell_type": "code",
      "execution_count": 2,
      "id": "94d1ee6d-be43-4045-a3aa-9f1b0c43957c",
      "metadata": {
        "colab": {
          "base_uri": "https://localhost:8080/"
        },
        "id": "94d1ee6d-be43-4045-a3aa-9f1b0c43957c",
        "outputId": "da85d668-5202-4c2e-d203-fcbc1840c852"
      },
      "outputs": [
        {
          "output_type": "stream",
          "name": "stdout",
          "text": [
            "Enter the number: 54\n",
            "Enter the number: 24\n",
            "The L.C.M. is 216\n"
          ]
        }
      ],
      "source": [
        "# Python Program to find the L.C.M. of two input number\n",
        "\n",
        "def compute_lcm(x, y):\n",
        " if x > y: # choose the greater number\n",
        "     greater = x\n",
        " else:\n",
        "     greater = y\n",
        " while(True):\n",
        "     if((greater % x == 0) and (greater % y == 0)):\n",
        "      lcm = greater\n",
        "      break\n",
        "     greater += 1\n",
        " return lcm\n",
        "\n",
        "num1 = int(input('Enter the number: '))\n",
        "num2 = int(input('Enter the number: '))\n",
        "\n",
        "print(\"The L.C.M. is\", compute_lcm(num1, num2))\n"
      ]
    },
    {
      "cell_type": "markdown",
      "id": "d4db6f7f-70a3-453c-b151-58c5247485a9",
      "metadata": {
        "id": "d4db6f7f-70a3-453c-b151-58c5247485a9"
      },
      "source": [
        "## Program 23\n",
        "#### Write a Python Program to Find HCF.\n",
        "#### Highest Common Factor(HCF):\n",
        "#### HCF, or Highest Common Factor, is the largest positive integer that divides two or more numbers without leaving a remainder."
      ]
    },
    {
      "cell_type": "code",
      "execution_count": 3,
      "id": "7f601519-f7cd-4de3-8f08-c528f3e5a988",
      "metadata": {
        "colab": {
          "base_uri": "https://localhost:8080/"
        },
        "id": "7f601519-f7cd-4de3-8f08-c528f3e5a988",
        "outputId": "04640522-e2e5-4b38-cbfb-cc0a5643dcab"
      },
      "outputs": [
        {
          "output_type": "stream",
          "name": "stdout",
          "text": [
            "Enter the number: 54\n",
            "Enter the number: 24\n",
            "The H.C.F. is 6\n"
          ]
        }
      ],
      "source": [
        "# Python program to find H.C.F of two numbers\n",
        "\n",
        "# define a function\n",
        "def compute_hcf(x, y):\n",
        "\n",
        "# choose the smaller number\n",
        " if x > y:\n",
        "   smaller = y\n",
        " else:\n",
        "   smaller = x\n",
        " for i in range(1, smaller+1):\n",
        "   if((x % i == 0) and (y % i == 0)):\n",
        "     hcf = i\n",
        " return hcf\n",
        "\n",
        "num1 = int(input('Enter the number: '))\n",
        "num2 = int(input('Enter the number: '))\n",
        "\n",
        "print(\"The H.C.F. is\", compute_hcf(num1, num2))"
      ]
    },
    {
      "cell_type": "markdown",
      "id": "df76e058-be7f-47fc-bd0e-f52b25fd67d0",
      "metadata": {
        "id": "df76e058-be7f-47fc-bd0e-f52b25fd67d0"
      },
      "source": [
        "## Program 24\n",
        "#### Write a Python Program to Convert Decimal to Binary, Octal and Hexadecimal.\n",
        "#### How can we manually convert a decimal number to binary, octal and hexadecimal?\n",
        "Converting a decimal number to binary, octal, and hexadecimal involves dividing the\n",
        "decimal number by the base repeatedly and noting the remainders at each step. Here's a\n",
        "simple example:\n",
        "## Let's convert the decimal number 27 to binary, octal, and hexadecimal.\n",
        "## 1. Binary:\n",
        "Divide 27 by 2. Quotient is 13, remainder is 1. Note the remainder.\n",
        "Divide 13 by 2. Quotient is 6, remainder is 1. Note the remainder.\n",
        "Divide 6 by 2. Quotient is 3, remainder is 0. Note the remainder.\n",
        "Divide 3 by 2. Quotient is 1, remainder is 1. Note the remainder.\n",
        "Divide 1 by 2. Quotient is 0, remainder is 1. Note the remainder.\n",
        "Reading the remainders from bottom to top, the binary representation of 27 is 11011.\n",
        "## 2. Octal:\n",
        "##### Divide 27 by 8. Quotient is 3, remainder is 3. Note the remainder.\n",
        "##### Divide 3 by 8. Quotient is 0, remainder is 3. Note the remainder.\n",
        "##### Reading the remainders from bottom to top, the octal representation of 27 is 33.\n",
        "## 3. Hexadecimal:\n",
        "##### Divide 27 by 16. Quotient is 1, remainder is 11 (B in hexadecimal). Note the\n",
        "remainder.\n",
        "##### Reading the remainders, the hexadecimal representation of 27 is 1B.\n",
        "#### So, in summary:\n",
        "##### Binary: 27 in decimal is 11011 in binary.\n",
        "##### Octal: 27 in decimal is 33 in octal.\n",
        "##### Hexadecimal: 27 in decimal is 1B in hexadecimal."
      ]
    },
    {
      "cell_type": "code",
      "execution_count": null,
      "id": "80ae2f0b-82b1-41f7-9c3b-ca233d72ee05",
      "metadata": {
        "id": "80ae2f0b-82b1-41f7-9c3b-ca233d72ee05",
        "outputId": "2a3c5e6e-8d65-4841-b73d-5ab6e417cfed"
      },
      "outputs": [
        {
          "name": "stdin",
          "output_type": "stream",
          "text": [
            "Enter a decimal number:  27\n"
          ]
        },
        {
          "name": "stdout",
          "output_type": "stream",
          "text": [
            "The decimal value of 27 is:\n",
            "0b11011 in binary.\n",
            "0o33 in octal.\n",
            "0x1b in hexadecimal.\n"
          ]
        }
      ],
      "source": [
        "dec_num = int(input('Enter a decimal number: '))\n",
        "print(\"The decimal value of\", dec_num, \"is:\")\n",
        "print(bin(dec_num), \"in binary.\")\n",
        "print(oct(dec_num), \"in octal.\")\n",
        "print(hex(dec_num), \"in hexadecimal.\")"
      ]
    },
    {
      "cell_type": "markdown",
      "id": "cd274585-6101-469a-844a-e4c3e7c40791",
      "metadata": {
        "id": "cd274585-6101-469a-844a-e4c3e7c40791"
      },
      "source": [
        "## Program 25\n",
        "#### Write a Python Program To Find ASCII value of a character.\n",
        "## ASCII value:\n",
        "ASCII, or American Standard Code for Information Interchange, is a character encoding\n",
        "standard that uses numeric values to represent characters. Each ASCII character is\n",
        "assigned a unique 7-bit or 8-bit binary number, allowing computers to exchange information\n",
        "and display text in a consistent way. The ASCII values range from 0 to 127 (for 7-bit ASCII)\n",
        "or 0 to 255 (for 8-bit ASCII), with each value corresponding to a specific character, such as\n",
        "letters, digits, punctuation marks, and control characters."
      ]
    },
    {
      "cell_type": "code",
      "execution_count": null,
      "id": "19e4e013-fbb8-4652-9f38-f93dea253a9f",
      "metadata": {
        "id": "19e4e013-fbb8-4652-9f38-f93dea253a9f",
        "outputId": "3352012a-0c9e-4e49-b812-09a5a0c43e77"
      },
      "outputs": [
        {
          "name": "stdin",
          "output_type": "stream",
          "text": [
            "Enter the character:  P\n"
          ]
        },
        {
          "name": "stdout",
          "output_type": "stream",
          "text": [
            "The ASCII value of 'P' is 80\n"
          ]
        }
      ],
      "source": [
        "char = str(input(\"Enter the character: \"))\n",
        "print(\"The ASCII value of '\" + char + \"' is\", ord(char))\n"
      ]
    },
    {
      "cell_type": "markdown",
      "id": "0c9404d7-b408-495f-820e-ec85224664c3",
      "metadata": {
        "id": "0c9404d7-b408-495f-820e-ec85224664c3"
      },
      "source": [
        "## Program 26\n",
        "### Write a Python Program to Make a Simple Calculator with 4 basic mathematical\n",
        "operations."
      ]
    },
    {
      "cell_type": "code",
      "execution_count": 27,
      "id": "cdacd802-ae64-43c0-9e88-c2f66af0d083",
      "metadata": {
        "colab": {
          "base_uri": "https://localhost:8080/",
          "height": 106
        },
        "id": "cdacd802-ae64-43c0-9e88-c2f66af0d083",
        "outputId": "683d62b9-e30f-4892-a4c3-d31120034f9d"
      },
      "outputs": [
        {
          "output_type": "error",
          "ename": "IndentationError",
          "evalue": "expected an indented block after function definition on line 5 (<ipython-input-27-45e0c832f5ff>, line 6)",
          "traceback": [
            "\u001b[0;36m  File \u001b[0;32m\"<ipython-input-27-45e0c832f5ff>\"\u001b[0;36m, line \u001b[0;32m6\u001b[0m\n\u001b[0;31m    return x - y\u001b[0m\n\u001b[0m    ^\u001b[0m\n\u001b[0;31mIndentationError\u001b[0m\u001b[0;31m:\u001b[0m expected an indented block after function definition on line 5\n"
          ]
        }
      ],
      "source": [
        " # This function adds two numbers\n",
        "def add(x, y):\n",
        "   return x + y\n",
        "# This function subtracts two numbers\n",
        "def subtract(x, y):\n",
        " return x - y\n",
        "\n",
        "# This function multiplies two numbers\n",
        "def multiply(x, y):\n",
        " return x * y\n",
        "\n",
        "# This function divides two numbers\n",
        "def divide(x, y):\n",
        " return x / y\n",
        "print(\"Select operation.\")\n",
        "print(\"1.Add\")\n",
        "print(\"2.Subtract\")\n",
        "print(\"3.Multiply\")\n",
        "print(\"4.Divide\")\n",
        "while True:\n",
        " # take input from the user\n",
        " choice = input(\"Enter choice(1/2/3/4): \")\n",
        " # check if choice is one of the four options\n",
        " if choice in ('1', '2', '3', '4'):\n",
        "    try:\n",
        "               num1 = float(input(\"Enter first number: \"))\n",
        "               num2 = float(input(\"Enter second number: \"))\n",
        "    except ValueError:\n",
        "      print(\"Invalid input. Please enter a number.\")\n",
        " continue\n",
        " if choice == '1':\n",
        "    print(num1, \"+\", num2, \"=\", add(num1, num2))\n",
        " elif choice == '2':\n",
        "    print(num1, \"-\", num2, \"=\", subtract(num1, num2))\n",
        " elif choice == '3':\n",
        "     print(num1, \"*\", num2, \"=\", multiply(num1, num2))\n",
        " elif choice == '4':\n",
        "      print(num1, \"/\", num2, \"=\", divide(num1, num2))\n",
        "\n",
        " # check if user wants another calculation\n",
        " # break the while loop if answer is no\n",
        " next_calculation = input(\"Let's do next calculation? (yes/no)\"):\n",
        "if next_calculation == \"no\":\n",
        "    break\n",
        "else:\n",
        " print(\"Invalid Input\")\n"
      ]
    },
    {
      "cell_type": "markdown",
      "id": "c8b70fcc-8df4-49fe-873f-26d9933620ee",
      "metadata": {
        "id": "c8b70fcc-8df4-49fe-873f-26d9933620ee"
      },
      "source": [
        "## Program 27\n",
        "#### Write a Python Program to Display Fibonacci Sequence Using Recursion.\n",
        "## Fibonacci sequence:\n",
        "The Fibonacci sequence is a series of numbers in which each number is the sum of the two\n",
        "preceding ones, usually starting with 0 and 1. In mathematical terms, it is defined by the\n",
        "recurrence relation ( F(n) = F(n-1) + F(n-2) ), with initial conditions ( F(0) = 0 ) and ( F(1) = 1). The sequence begins: 0, 1, 1, 2, 3, 5, 8, 13, 21, and so on. The Fibonacci sequence has\n",
        "widespread applications in mathematics, computer science, nature, and art."
      ]
    },
    {
      "cell_type": "code",
      "execution_count": 6,
      "id": "a3377aaa-9be7-46ac-9256-82aea3d9c362",
      "metadata": {
        "colab": {
          "base_uri": "https://localhost:8080/"
        },
        "id": "a3377aaa-9be7-46ac-9256-82aea3d9c362",
        "outputId": "60d524d8-b4c2-4825-8c81-7b6f7b9056d0"
      },
      "outputs": [
        {
          "output_type": "stream",
          "name": "stdout",
          "text": [
            "Enter the number of terms (greater than 0): 8\n",
            "Fibonacci sequence:\n",
            "0\n",
            "1\n",
            "1\n",
            "2\n",
            "3\n",
            "5\n",
            "8\n",
            "13\n"
          ]
        }
      ],
      "source": [
        "# Python program to display the Fibonacci sequence\n",
        "\n",
        "def recur_fibo(n):\n",
        "    if n <= 1:\n",
        "       return n\n",
        "    else:\n",
        "       return(recur_fibo(n-1) + recur_fibo(n-2))\n",
        "nterms = int(input(\"Enter the number of terms (greater than 0): \"))\n",
        "\n",
        "# check if the number of terms is valid\n",
        "if nterms <= 0:\n",
        " print(\"Plese enter a positive integer\")\n",
        "else:\n",
        " print(\"Fibonacci sequence:\")\n",
        " for i in range(nterms):\n",
        "   print(recur_fibo(i))"
      ]
    },
    {
      "cell_type": "markdown",
      "id": "25f30587-91e0-4ee0-92b2-a1696db48f24",
      "metadata": {
        "id": "25f30587-91e0-4ee0-92b2-a1696db48f24"
      },
      "source": [
        "## Program 28\n",
        "### Write a Python Program to Find Factorial of Number Using Recursion.\n",
        "#### The factorial of a non-negative integer ( n ) is the product of all positive integers less than or\n",
        "equal to ( n ). It is denoted by ( n! ) and is defined as:\n",
        "  𝑛! = 𝑛 × (𝑛 − 1) × (𝑛 − 2) × … × 3 × 2 × 1\n",
        "##### For example:\n",
        "###### 5! = 5 × 4 × 3 × 2 × 1 = 120\n",
        "######  0!  is defined to be 1.\n",
        "##### Factorials are commonly used in mathematics, especially in combinatorics and probability,\n",
        "to count the number of ways a set of elements can be arranged or selected.\n"
      ]
    },
    {
      "cell_type": "code",
      "execution_count": 7,
      "id": "362ffa25-4fda-4c9a-b98a-4d3f5ae5ec54",
      "metadata": {
        "colab": {
          "base_uri": "https://localhost:8080/"
        },
        "id": "362ffa25-4fda-4c9a-b98a-4d3f5ae5ec54",
        "outputId": "b600865e-ad39-48e2-db05-a9d0095ce57e"
      },
      "outputs": [
        {
          "output_type": "stream",
          "name": "stdout",
          "text": [
            "Enter the number: 7\n",
            "The factorial of 7 is 5040\n"
          ]
        }
      ],
      "source": [
        "# Factorial of a number using recursion\n",
        "\n",
        "def recur_factorial(n):\n",
        " if n == 1:\n",
        "     return n\n",
        " else:\n",
        "     return n*recur_factorial(n-1)\n",
        "\n",
        "num = int(input(\"Enter the number: \"))\n",
        "# check if the number is negative\n",
        "if num < 0:\n",
        " print(\"Sorry, factorial does not exist for negative numbers\")\n",
        "elif num == 0:\n",
        " print(\"The factorial of 0 is 1\")\n",
        "else:\n",
        " print(\"The factorial of\", num, \"is\", recur_factorial(num))"
      ]
    },
    {
      "cell_type": "markdown",
      "id": "e31f9172-49d9-4557-8316-3375c66b52c6",
      "metadata": {
        "id": "e31f9172-49d9-4557-8316-3375c66b52c6"
      },
      "source": [
        "## Program 29\n",
        "##### Write a Python Program to calculate your Body Mass Index.\n",
        "##### Body Mass Index (BMI) is a measure of body fat based on an individual's weight and\n",
        "height. It is commonly used as a screening tool to categorize individuals into different weight\n",
        "status categories, such as underweight, normal weight, overweight, and obesity."
      ]
    },
    {
      "cell_type": "code",
      "execution_count": null,
      "id": "feb8571c-0a43-4447-8e58-6e76daed654c",
      "metadata": {
        "id": "feb8571c-0a43-4447-8e58-6e76daed654c",
        "outputId": "62e9afc5-8f72-4daa-93b2-b00d9dcda5fd"
      },
      "outputs": [
        {
          "name": "stdin",
          "output_type": "stream",
          "text": [
            "Enter your height in meters:  1.8\n",
            "Enter your weight in kg:  70\n"
          ]
        },
        {
          "name": "stdout",
          "output_type": "stream",
          "text": [
            "Welcome to the BMI calculator.\n",
            "Your BMI is:  21.6\n",
            "Your weight is normal.\n"
          ]
        }
      ],
      "source": [
        "def bodymassindex(height, weight):\n",
        " return round((weight / height**2),2)\n",
        "h = float(input(\"Enter your height in meters: \"))\n",
        "w = float(input(\"Enter your weight in kg: \"))\n",
        "print(\"Welcome to the BMI calculator.\")\n",
        "bmi = bodymassindex(h, w)\n",
        "print(\"Your BMI is: \", bmi)\n",
        "if bmi <= 18.5:\n",
        " print(\"You are underweight.\")\n",
        "elif 18.5 < bmi <= 24.9:\n",
        " print(\"Your weight is normal.\")\n",
        "elif 25 < bmi <= 29.29:\n",
        " print(\"You are overweight.\")\n",
        "else:\n",
        " print(\"You are obese.\")"
      ]
    },
    {
      "cell_type": "markdown",
      "id": "0564bfd2-8d67-4de4-a649-432ecc7a730c",
      "metadata": {
        "id": "0564bfd2-8d67-4de4-a649-432ecc7a730c"
      },
      "source": [
        "## Program 30\n",
        "### Write a Python Program to calculate the natural logarithm of any number.\n",
        "#### The natural logarithm, often denoted as , is a mathematical function that represents the\n",
        "logarithm to the base , where is the mathematical constant approximately equal to\n",
        ". In other words, for a positive number , the natural logarithm of is the exponent\n",
        " that satisfies the equation .\n",
        "Mathematically, the natural logarithm is expressed as:\n",
        "    ln(X)\n",
        "###### It is commonly used in various branches of mathematics, especially in calculus and\n",
        "mathematical analysis, as well as in fields such as physics, economics, and engineering.\n",
        "The natural logarithm has properties that make it particularly useful in situations involving\n",
        "exponential growth or decay."
      ]
    },
    {
      "cell_type": "code",
      "execution_count": null,
      "id": "d225ca9a-d29d-4b08-a84e-eca515b51fc7",
      "metadata": {
        "id": "d225ca9a-d29d-4b08-a84e-eca515b51fc7",
        "outputId": "150f8868-906f-4bc1-8bca-a5d4accd19bf"
      },
      "outputs": [
        {
          "name": "stdin",
          "output_type": "stream",
          "text": [
            "Enter a number:  1.4\n"
          ]
        },
        {
          "name": "stdout",
          "output_type": "stream",
          "text": [
            "The natural logarithm of 1.4 is: 0.3364722366212129\n"
          ]
        }
      ],
      "source": [
        "import math\n",
        "num = float(input(\"Enter a number: \"))\n",
        "if num <= 0:\n",
        " print(\"Please enter a positive number.\")\n",
        "else:\n",
        " # Calculate the natural logarithm (base e) of the number\n",
        " result = math.log(num)\n",
        " print(f\"The natural logarithm of {num} is: {result}\")\n"
      ]
    },
    {
      "cell_type": "markdown",
      "id": "1bc2ee0c-07ba-4506-9bb2-8906a175d71c",
      "metadata": {
        "id": "1bc2ee0c-07ba-4506-9bb2-8906a175d71c"
      },
      "source": [
        "## Program 31\n",
        "##### Write a Python Program for cube sum of first n natural numbers?"
      ]
    },
    {
      "cell_type": "code",
      "execution_count": 10,
      "id": "82297a03-f6b2-45ba-aa51-1489eaaa19f2",
      "metadata": {
        "colab": {
          "base_uri": "https://localhost:8080/"
        },
        "id": "82297a03-f6b2-45ba-aa51-1489eaaa19f2",
        "outputId": "6998ef7d-deeb-4623-9b8e-f3b9001526f0"
      },
      "outputs": [
        {
          "output_type": "stream",
          "name": "stdout",
          "text": [
            "Enter the value of n: 7\n",
            " The cube sum of the first (n) natural numbers is :784\n"
          ]
        }
      ],
      "source": [
        "def cube_sum_of_natural_numbers(n):\n",
        " if n <= 0:\n",
        "    return 0\n",
        " else:\n",
        "    total = sum([i**3 for i in range(1, n + 1)])\n",
        " return total\n",
        "# Input the number of natural numbers\n",
        "n = int(input(\"Enter the value of n: \"))\n",
        "if n <= 0:\n",
        " print(\"Please enter a positive integer.\")\n",
        "else:\n",
        " result = cube_sum_of_natural_numbers(n)\n",
        "print(f\" The cube sum of the first (n) natural numbers is :{result}\")"
      ]
    },
    {
      "cell_type": "markdown",
      "id": "00bc4dee-aeb5-44a8-8cd2-01e7e2f363ad",
      "metadata": {
        "id": "00bc4dee-aeb5-44a8-8cd2-01e7e2f363ad"
      },
      "source": [
        "## Program 32\n",
        "#### Write a Python Program to find sum of array.\n",
        "##### In Python, an array is a data structure used to store a collection of elements, each identified\n",
        "by an index or a key. Unlike some other programming languages, Python does not have a\n",
        "built-in array type. Instead, the most commonly used array-like data structure is the list.\n",
        "A list in Python is a dynamic array, meaning it can change in size during runtime. Elements\n",
        "in a list can be of different data types, and you can perform various operations such as\n",
        "adding, removing, or modifying elements. Lists are defined using square brackets [] and\n",
        "can be indexed and sliced to access specific elements or sublists.\n",
        "## Example of a simple list in Python:\n",
        "my_list = [1, 2, 3, 4, 5]\n",
        "###### This list can be accessed and manipulated using various built-in functions and methods in\n",
        "Python."
      ]
    },
    {
      "cell_type": "code",
      "execution_count": null,
      "id": "62c58d1a-4749-43c8-a4ce-afe417904276",
      "metadata": {
        "id": "62c58d1a-4749-43c8-a4ce-afe417904276",
        "outputId": "7a178de6-2d97-4776-c895-1ba6881f6487"
      },
      "outputs": [
        {
          "name": "stdout",
          "output_type": "stream",
          "text": [
            "Sum of the array is  6\n"
          ]
        }
      ],
      "source": [
        "# Finding Sum of Array Using sum()\n",
        "arr = [1,2,3]\n",
        "ans = sum(arr)\n",
        "print('Sum of the array is ', ans)\n"
      ]
    },
    {
      "cell_type": "code",
      "execution_count": 11,
      "id": "e7f78320-6e20-426a-8b94-5be02e921b06",
      "metadata": {
        "colab": {
          "base_uri": "https://localhost:8080/"
        },
        "id": "e7f78320-6e20-426a-8b94-5be02e921b06",
        "outputId": "7db37320-1f99-478b-9b0d-2795f0938078"
      },
      "outputs": [
        {
          "output_type": "stream",
          "name": "stdout",
          "text": [
            "Sum of the array: 6\n"
          ]
        }
      ],
      "source": [
        "# Function to find the sum of elements in an array\n",
        "def sum_of_array(arr):\n",
        " total = 0 # Initialize a variable to store the sum\n",
        "\n",
        " for element in arr:\n",
        "     total += element # Add each element to the total\n",
        "\n",
        " return total\n",
        "# Example usage:\n",
        "array = [1, 2, 3]\n",
        "result = sum_of_array(array)\n",
        "print(\"Sum of the array:\", result)"
      ]
    },
    {
      "cell_type": "markdown",
      "id": "031fd0f3-4c78-4c65-85bc-ded93b2d7854",
      "metadata": {
        "id": "031fd0f3-4c78-4c65-85bc-ded93b2d7854"
      },
      "source": [
        "## Program 33\n",
        "Write a Python Program to find largest element in an array"
      ]
    },
    {
      "cell_type": "code",
      "execution_count": 13,
      "id": "46173779-4ee1-4f1f-8ae5-200b872c009c",
      "metadata": {
        "colab": {
          "base_uri": "https://localhost:8080/"
        },
        "id": "46173779-4ee1-4f1f-8ae5-200b872c009c",
        "outputId": "bad16879-3611-4a0f-de8a-1578695c29bd"
      },
      "outputs": [
        {
          "output_type": "stream",
          "name": "stdout",
          "text": [
            "The largest element in the array is: 99\n"
          ]
        }
      ],
      "source": [
        "def find_largest_element(arr):\n",
        " if not arr:\n",
        "    return \"Array is empty\"\n",
        " # Initialize the first element as the largest\n",
        " largest_element = arr[0]\n",
        " # Iterate through the array to find the largest element\n",
        " for element in arr:\n",
        "    if element > largest_element:\n",
        "      largest_element = element\n",
        " return largest_element\n",
        "# Example usage:\n",
        "my_array = [10, 20, 30, 99]\n",
        "result = find_largest_element(my_array)\n",
        "print(f\"The largest element in the array is: {result}\")\n"
      ]
    },
    {
      "cell_type": "markdown",
      "id": "fd63a34b-43aa-43d3-9b24-69a4ddee592e",
      "metadata": {
        "id": "fd63a34b-43aa-43d3-9b24-69a4ddee592e"
      },
      "source": [
        "## Program 34\n",
        "Write a Python Program for array rotation."
      ]
    },
    {
      "cell_type": "code",
      "execution_count": 14,
      "id": "24f8d618-6cbe-4f1e-85da-df47c458f2fd",
      "metadata": {
        "colab": {
          "base_uri": "https://localhost:8080/"
        },
        "id": "24f8d618-6cbe-4f1e-85da-df47c458f2fd",
        "outputId": "87bcc33e-4e80-46e3-9034-4ef8009ca4e8"
      },
      "outputs": [
        {
          "output_type": "stream",
          "name": "stdout",
          "text": [
            "Original Array: [1, 2, 3, 4, 5]\n",
            "Rotated Array: [3, 4, 5, 1, 2]\n"
          ]
        }
      ],
      "source": [
        "def rotate_array(arr, d):\n",
        " n = len(arr)\n",
        "\n",
        " # Check if 'd' is valid, it should be within the range of array len\n",
        " if d < 0 or d >= n:\n",
        "     return \"Invalid rotation value\"\n",
        "\n",
        " # Create a new array to store the rotated elements.\n",
        " rotated_arr = [0] * n\n",
        "\n",
        " # Perform the rotation.\n",
        " for i in range(n):\n",
        "      rotated_arr[i] = arr[(i + d) % n]\n",
        "\n",
        " return rotated_arr\n",
        "# Input array\n",
        "arr = [1, 2, 3, 4, 5]\n",
        "# Number of positions to rotate\n",
        "d = 2\n",
        "# Call the rotate_array function\n",
        "result = rotate_array(arr, d)\n",
        "# Print the rotated array\n",
        "print(\"Original Array:\", arr)\n",
        "print(\"Rotated Array:\", result)"
      ]
    },
    {
      "cell_type": "markdown",
      "id": "f979dad1-469f-4ea9-a510-117968a544a0",
      "metadata": {
        "id": "f979dad1-469f-4ea9-a510-117968a544a0"
      },
      "source": [
        "## Program 35\n",
        "Write a Python Program to Split the array and add the first part to the end?"
      ]
    },
    {
      "cell_type": "code",
      "execution_count": 15,
      "id": "de45bcc8-5a61-47f9-8ee8-1c7f255c0191",
      "metadata": {
        "colab": {
          "base_uri": "https://localhost:8080/"
        },
        "id": "de45bcc8-5a61-47f9-8ee8-1c7f255c0191",
        "outputId": "7865c66e-abb2-4b0e-9fc0-8f0c8ad7c555"
      },
      "outputs": [
        {
          "output_type": "stream",
          "name": "stdout",
          "text": [
            "Original Array: [1, 2, 3, 4, 5]\n",
            "Array after splitting and adding: [4, 5, 1, 2, 3]\n"
          ]
        }
      ],
      "source": [
        "def split_and_add(arr, k):\n",
        " if k <= 0 or k >= len(arr):\n",
        "    return arr\n",
        " # Split the array into two parts\n",
        " first_part = arr[:k]\n",
        " second_part = arr[k:]\n",
        " # Add the first part to the end of the second part\n",
        " result = second_part + first_part\n",
        " return result\n",
        "# Test the function\n",
        "arr = [1, 2, 3, 4, 5]\n",
        "k = 3\n",
        "result = split_and_add(arr, k)\n",
        "print(\"Original Array:\", arr)\n",
        "print(\"Array after splitting and adding:\", result)"
      ]
    },
    {
      "cell_type": "markdown",
      "id": "dadc25d8-f167-472d-a7f3-8d65cdcacd75",
      "metadata": {
        "id": "dadc25d8-f167-472d-a7f3-8d65cdcacd75"
      },
      "source": [
        "## Program 36\n",
        "#### Write a Python Program to check if given array is Monotonic.\n",
        "##### A monotonic array is one that is entirely non-increasing or non-decreasing.\n"
      ]
    },
    {
      "cell_type": "code",
      "execution_count": 16,
      "id": "e73040b2-554f-4d4e-be8c-81c3a9846210",
      "metadata": {
        "colab": {
          "base_uri": "https://localhost:8080/"
        },
        "id": "e73040b2-554f-4d4e-be8c-81c3a9846210",
        "outputId": "3f5296d9-e5d3-47bd-e910-dc463e5e5933"
      },
      "outputs": [
        {
          "output_type": "stream",
          "name": "stdout",
          "text": [
            "arr1 is monotonic: True\n",
            "arr2 is monotonic: True\n",
            "arr3 is monotonic: False\n"
          ]
        }
      ],
      "source": [
        "def is_monotonic(arr):\n",
        " increasing = decreasing = True\n",
        " for i in range(1, len(arr)):\n",
        "     if arr[i] > arr[i - 1]:\n",
        "       decreasing = False\n",
        "     elif arr[i] < arr[i - 1]:\n",
        "       increasing = False\n",
        " return increasing or decreasing\n",
        "# Test the function\n",
        "arr1 = [1, 2, 2, 3] # Monotonic (non-decreasing)\n",
        "arr2 = [3, 2, 1] # Monotonic (non-increasing)\n",
        "arr3 = [1, 3, 2, 4] # Not monotonic\n",
        "print(\"arr1 is monotonic:\", is_monotonic(arr1))\n",
        "print(\"arr2 is monotonic:\", is_monotonic(arr2))\n",
        "print(\"arr3 is monotonic:\", is_monotonic(arr3))\n"
      ]
    },
    {
      "cell_type": "markdown",
      "id": "29f98c0f-2db7-47dc-a577-24e7e9fa852a",
      "metadata": {
        "id": "29f98c0f-2db7-47dc-a577-24e7e9fa852a"
      },
      "source": [
        "## Program 37\n",
        "Write a Python Program to Add Two Matrices."
      ]
    },
    {
      "cell_type": "code",
      "execution_count": 17,
      "id": "797b6112-0685-454d-ab2b-3ef11a715480",
      "metadata": {
        "colab": {
          "base_uri": "https://localhost:8080/"
        },
        "id": "797b6112-0685-454d-ab2b-3ef11a715480",
        "outputId": "59f750bb-3d5c-42ba-d529-eb3f9440f764"
      },
      "outputs": [
        {
          "output_type": "stream",
          "name": "stdout",
          "text": [
            "Sum of matrices:\n",
            "[10, 10, 10]\n"
          ]
        }
      ],
      "source": [
        "# Function to add two matrices\n",
        "def add_matrices(mat1, mat2):\n",
        " # Check if the matrices have the same dimensions\n",
        " if len(mat1) != len(mat2) or len(mat1[0]) != len(mat2[0]):\n",
        "    return \"Matrices must have the same dimensions for addition\"\n",
        "\n",
        " # Initialize an empty result matrix with the same dimensions\n",
        " result = []\n",
        " for i in range(len(mat1)):\n",
        "    row = []\n",
        " for j in range(len(mat1[0])):\n",
        "    row.append(mat1[i][j] + mat2[i][j])\n",
        " result.append(row)\n",
        "\n",
        " return result\n",
        "# Input matrices\n",
        "matrix1 = [\n",
        " [1, 2, 3],\n",
        " [4, 5, 6],\n",
        " [7, 8, 9]\n",
        "]\n",
        "matrix2 = [\n",
        " [9, 8, 7],\n",
        " [6, 5, 4],\n",
        " [3, 2, 1]\n",
        "]\n",
        "# Call the add_matrices function\n",
        "result_matrix = add_matrices(matrix1, matrix2)\n",
        "# Display the result\n",
        "if isinstance(result_matrix, str):\n",
        " print(result_matrix)\n",
        "else:\n",
        " print(\"Sum of matrices:\")\n",
        " for row in result_matrix:\n",
        "     print(row)\n"
      ]
    },
    {
      "cell_type": "markdown",
      "id": "2bffd237-c47f-423f-8784-c91794d7ca8b",
      "metadata": {
        "id": "2bffd237-c47f-423f-8784-c91794d7ca8b"
      },
      "source": [
        "## Program 38\n",
        "Write a Python Program to Multiply Two Matrices"
      ]
    },
    {
      "cell_type": "code",
      "execution_count": 18,
      "id": "bcca8d9e-f954-48f6-8bc3-dd84bc4ef7c7",
      "metadata": {
        "colab": {
          "base_uri": "https://localhost:8080/"
        },
        "id": "bcca8d9e-f954-48f6-8bc3-dd84bc4ef7c7",
        "outputId": "14af92a3-67a9-46b9-d867-0f5d15db0b48"
      },
      "outputs": [
        {
          "output_type": "stream",
          "name": "stdout",
          "text": [
            "Result of matrix multiplication:\n",
            "[58, 64]\n",
            "[139, 154]\n"
          ]
        }
      ],
      "source": [
        "#  Function to multiply two matrices\n",
        "def multiply_matrices(mat1, mat2):\n",
        " # Determine the dimensions of the input matrices\n",
        " rows1 = len(mat1)\n",
        " cols1 = len(mat1[0])\n",
        " rows2 = len(mat2)\n",
        " cols2 = len(mat2[0])\n",
        " # Check if multiplication is possible\n",
        " if cols1 != rows2:\n",
        "     return \"Matrix multiplication is not possible. Number of column\"\n",
        " # Initialize the result matrix with zeros\n",
        " result = [[0 for _ in range(cols2)] for _ in range(rows1)]\n",
        " # Perform matrix multiplication\n",
        " for i in range(rows1):\n",
        "   for j in range(cols2):\n",
        "     for k in range(cols1):\n",
        "      result[i][j] += mat1[i][k] * mat2[k][j]\n",
        " return result\n",
        "# Example matrices\n",
        "matrix1 = [[1, 2, 3],\n",
        " [4, 5, 6]]\n",
        "matrix2 = [[7, 8],\n",
        " [9, 10],\n",
        " [11, 12]]\n",
        "# Multiply the matrices\n",
        "result_matrix = multiply_matrices(matrix1, matrix2)\n",
        "# Display the result\n",
        "if isinstance(result_matrix, str):\n",
        " print(result_matrix)\n",
        "else:\n",
        " print(\"Result of matrix multiplication:\")\n",
        " for row in result_matrix:\n",
        "     print(row)"
      ]
    },
    {
      "cell_type": "markdown",
      "id": "4ac949c0-94f3-4e4f-a61c-0ae6fa3d5ea5",
      "metadata": {
        "id": "4ac949c0-94f3-4e4f-a61c-0ae6fa3d5ea5"
      },
      "source": [
        "## Program 39\n",
        "Write a Python Program to Transpose a Matrix."
      ]
    },
    {
      "cell_type": "markdown",
      "id": "a1c5c2e2-03f2-43d4-a567-aa7ac36adc1a",
      "metadata": {
        "id": "a1c5c2e2-03f2-43d4-a567-aa7ac36adc1a"
      },
      "source": [
        "# Function to transpose a matrix\n",
        "def transpose_matrix(matrix):\n",
        " rows, cols = len(matrix), len(matrix[0])\n",
        " # Create an empty matrix to store the transposed data\n",
        " result = [[0 for _ in range(rows)] for _ in range(cols)]\n",
        " for i in range(rows):\n",
        " for j in range(cols):\n",
        " result[j][i] = matrix[i][j]\n",
        " return result\n",
        "# Input matrix\n",
        "matrix = [\n",
        " [1, 2, 3],\n",
        " [4, 5, 6]\n",
        "]\n",
        "# Transpose the matrix\n",
        "transposed_matrix = transpose_matrix(matrix)\n",
        "# Print the transposed matrix\n",
        "for row in transposed_matrix:\n",
        "    print(rows)"
      ]
    },
    {
      "cell_type": "code",
      "execution_count": 20,
      "id": "caf59e4d-6fd9-4867-b0aa-ccde8243bf7e",
      "metadata": {
        "colab": {
          "base_uri": "https://localhost:8080/"
        },
        "id": "caf59e4d-6fd9-4867-b0aa-ccde8243bf7e",
        "outputId": "f90a9f99-c63a-46e3-a3d3-2ae8adadecc2"
      },
      "outputs": [
        {
          "output_type": "stream",
          "name": "stdout",
          "text": [
            "[1, 4]\n",
            "[2, 5]\n",
            "[3, 6]\n"
          ]
        }
      ],
      "source": [
        "## # Function to transpose a matrix\n",
        "def transpose_matrix(matrix):\n",
        " rows, cols = len(matrix), len(matrix[0])\n",
        " # Create an empty matrix to store the transposed data\n",
        " result = [[0 for _ in range(rows)] for _ in range(cols)]\n",
        " for i in range(rows):\n",
        "    for j in range(cols):\n",
        "      result[j][i] = matrix[i][j]\n",
        " return result\n",
        "# Input matrix\n",
        "matrix = [\n",
        " [1, 2, 3],\n",
        " [4, 5, 6]\n",
        "]\n",
        "# Transpose the matrix\n",
        "transposed_matrix = transpose_matrix(matrix)\n",
        "# Print the transposed matrix\n",
        "for row in transposed_matrix:\n",
        "  print(row)"
      ]
    },
    {
      "cell_type": "markdown",
      "id": "88e8bc06-6bb0-41b4-97d8-7f183e6aa37f",
      "metadata": {
        "id": "88e8bc06-6bb0-41b4-97d8-7f183e6aa37f"
      },
      "source": [
        "## Program 40\n",
        "Write a Python Program to Sort Words in Alphabetic Order."
      ]
    },
    {
      "cell_type": "code",
      "execution_count": 22,
      "id": "7160775b-3c32-484d-ba5f-c4a95a969da7",
      "metadata": {
        "colab": {
          "base_uri": "https://localhost:8080/"
        },
        "id": "7160775b-3c32-484d-ba5f-c4a95a969da7",
        "outputId": "5de591b4-1ce0-418b-abb3-09e30cb3ba55"
      },
      "outputs": [
        {
          "output_type": "stream",
          "name": "stdout",
          "text": [
            "Enter a string: \"d\"\n",
            "The sorted words are:\n",
            "\"d\"\n"
          ]
        }
      ],
      "source": [
        "# Program to sort alphabetically the words form a string provided by th\n",
        "my_str = input(\"Enter a string: \")\n",
        "# breakdown the string into a list of words\n",
        "words = [word.capitalize() for word in my_str.split()]\n",
        "# sort the list\n",
        "words.sort()\n",
        "# display the sorted words\n",
        "print(\"The sorted words are:\")\n",
        "for word in words:\n",
        "  print(word)"
      ]
    }
  ],
  "metadata": {
    "kernelspec": {
      "display_name": "Python 3 (ipykernel)",
      "language": "python",
      "name": "python3"
    },
    "language_info": {
      "codemirror_mode": {
        "name": "ipython",
        "version": 3
      },
      "file_extension": ".py",
      "mimetype": "text/x-python",
      "name": "python",
      "nbconvert_exporter": "python",
      "pygments_lexer": "ipython3",
      "version": "3.12.7"
    },
    "colab": {
      "provenance": [],
      "include_colab_link": true
    }
  },
  "nbformat": 4,
  "nbformat_minor": 5
}