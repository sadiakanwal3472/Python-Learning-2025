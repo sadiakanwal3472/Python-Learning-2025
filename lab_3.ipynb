{
  "cells": [
    {
      "cell_type": "markdown",
      "metadata": {
        "id": "view-in-github",
        "colab_type": "text"
      },
      "source": [
        "<a href=\"https://colab.research.google.com/github/sadiakanwal3472/Python-Learning-2025/blob/main/lab_3.ipynb\" target=\"_parent\"><img src=\"https://colab.research.google.com/assets/colab-badge.svg\" alt=\"Open In Colab\"/></a>"
      ]
    },
    {
      "cell_type": "markdown",
      "id": "23064e89-ed84-464c-8f23-e4af59856a35",
      "metadata": {
        "id": "23064e89-ed84-464c-8f23-e4af59856a35"
      },
      "source": [
        "# \"Lab 03: Loops in Python\"\n",
        "# Introduction\n",
        "The purpose of this lab is to get familiar with usage of while loop and ‘for’ loop in Python.\n",
        "\n",
        "# Objectives\n",
        "\n",
        "The objective of this lab is to design solutions using a while loop or ‘for’ loop in Python.\n",
        "\n",
        "# Description:\n",
        "\n",
        "There are 4 built-in data types in Python used to store collections of data, these are List, Tuple, Set, and Dictionary, all with different qualities and usage.\n",
        "\n",
        "# List:"
      ]
    },
    {
      "cell_type": "code",
      "execution_count": null,
      "id": "6d133e8d-56a9-4b77-8dc6-c7055111cc54",
      "metadata": {
        "id": "6d133e8d-56a9-4b77-8dc6-c7055111cc54",
        "outputId": "afba7483-f77d-4564-b712-4ff230ed4ff1"
      },
      "outputs": [
        {
          "name": "stdout",
          "output_type": "stream",
          "text": [
            "['apple', 'banana', 'Cherry']\n"
          ]
        }
      ],
      "source": [
        "thislist=[\"apple\", \"banana\",\"Cherry\"]\n",
        "print(thislist)"
      ]
    },
    {
      "cell_type": "markdown",
      "id": "c12cf5f3-ec2f-42bd-9e6c-f8ba5593e0c2",
      "metadata": {
        "id": "c12cf5f3-ec2f-42bd-9e6c-f8ba5593e0c2"
      },
      "source": [
        ". Lists are used to store multiple items in a single variable ,\n",
        "\n",
        ". List items are ordered, changeable, and allow duplicate values\n",
        "\n",
        ". The list is changeable, meaning that we can change, add, and remove items in a list after it has been created.\n",
        "\n",
        ". Since lists are indexed, lists can have items with the same value.\n",
        "\n",
        ". To access a value in the list we can use.\n",
        "\n"
      ]
    },
    {
      "cell_type": "code",
      "execution_count": null,
      "id": "4c3cdfe6-b16e-4b68-b1e0-d30977963d6a",
      "metadata": {
        "id": "4c3cdfe6-b16e-4b68-b1e0-d30977963d6a",
        "outputId": "6577fd5a-d00a-4418-b287-c3f9894ef783"
      },
      "outputs": [
        {
          "data": {
            "text/plain": [
              "'banana'"
            ]
          },
          "execution_count": 3,
          "metadata": {},
          "output_type": "execute_result"
        }
      ],
      "source": [
        "thislist[1]"
      ]
    },
    {
      "cell_type": "code",
      "execution_count": null,
      "id": "6fee1e28-eef3-455a-aad7-506f66cca5f8",
      "metadata": {
        "id": "6fee1e28-eef3-455a-aad7-506f66cca5f8",
        "outputId": "94f51d0f-42bf-4af5-a666-f4018fc3a55c"
      },
      "outputs": [
        {
          "data": {
            "text/plain": [
              "'Cherry'"
            ]
          },
          "execution_count": 4,
          "metadata": {},
          "output_type": "execute_result"
        }
      ],
      "source": [
        "thislist[-1]"
      ]
    },
    {
      "cell_type": "code",
      "execution_count": null,
      "id": "53913ab2-dc41-41ca-b7fc-ab3480d06df8",
      "metadata": {
        "id": "53913ab2-dc41-41ca-b7fc-ab3480d06df8",
        "outputId": "dad4ac99-1527-4c5f-e3ee-13178e9f1276"
      },
      "outputs": [
        {
          "data": {
            "text/plain": [
              "['Cherry']"
            ]
          },
          "execution_count": 5,
          "metadata": {},
          "output_type": "execute_result"
        }
      ],
      "source": [
        "thislist[2:5]"
      ]
    },
    {
      "cell_type": "code",
      "execution_count": null,
      "id": "136292f2-4cef-4ff0-9d80-ef6117f31030",
      "metadata": {
        "id": "136292f2-4cef-4ff0-9d80-ef6117f31030",
        "outputId": "e01a12e1-5839-42ae-9a49-010379335e93"
      },
      "outputs": [
        {
          "data": {
            "text/plain": [
              "['apple', 'banana', 'Cherry']"
            ]
          },
          "execution_count": 6,
          "metadata": {},
          "output_type": "execute_result"
        }
      ],
      "source": [
        "thislist[:4]"
      ]
    },
    {
      "cell_type": "code",
      "execution_count": null,
      "id": "a49e0d5f-630c-4c96-bbf1-1280976a8b1e",
      "metadata": {
        "id": "a49e0d5f-630c-4c96-bbf1-1280976a8b1e",
        "outputId": "6486abca-8be0-4b7a-eeeb-1f054c3bb456"
      },
      "outputs": [
        {
          "data": {
            "text/plain": [
              "['Cherry']"
            ]
          },
          "execution_count": 7,
          "metadata": {},
          "output_type": "execute_result"
        }
      ],
      "source": [
        "thislist[2:]"
      ]
    },
    {
      "cell_type": "markdown",
      "id": "61f581fa-7190-4c63-92db-61ede5b7a824",
      "metadata": {
        "id": "61f581fa-7190-4c63-92db-61ede5b7a824"
      },
      "source": [
        "# .append( ) and insert ( ) are used to add a new item to the list"
      ]
    },
    {
      "cell_type": "code",
      "execution_count": null,
      "id": "a4d9e37c-29ff-4a08-aebf-8d892ac773c6",
      "metadata": {
        "id": "a4d9e37c-29ff-4a08-aebf-8d892ac773c6",
        "outputId": "92e41556-9533-47dd-c359-2bbb1bea0e98"
      },
      "outputs": [
        {
          "name": "stdout",
          "output_type": "stream",
          "text": [
            "['apple', 'banana', 'Cherry', 'orange']\n"
          ]
        }
      ],
      "source": [
        "thislist.append(\"orange\")# adds at the end of the list\n",
        "print(thislist)"
      ]
    },
    {
      "cell_type": "code",
      "execution_count": null,
      "id": "baeacf2d-76b5-4e16-9ab6-5f395f280d97",
      "metadata": {
        "id": "baeacf2d-76b5-4e16-9ab6-5f395f280d97",
        "outputId": "6a01df12-f9a4-46ae-8a10-9ed48407edcc"
      },
      "outputs": [
        {
          "data": {
            "text/plain": [
              "['apple', 'orange', 'banana', 'Cherry', 'orange']"
            ]
          },
          "execution_count": 9,
          "metadata": {},
          "output_type": "execute_result"
        }
      ],
      "source": [
        "thislist.insert(1,\"orange\") # adds at the specific index\n",
        "thislist"
      ]
    },
    {
      "cell_type": "markdown",
      "id": "b21d1119-85d9-4dc6-912e-9498434ddbc2",
      "metadata": {
        "id": "b21d1119-85d9-4dc6-912e-9498434ddbc2"
      },
      "source": [
        "# remove( ) and pop ( ) are used to remove an item from a list."
      ]
    },
    {
      "cell_type": "code",
      "execution_count": null,
      "id": "b902712b-776b-4343-beda-caba3ef58d29",
      "metadata": {
        "id": "b902712b-776b-4343-beda-caba3ef58d29"
      },
      "outputs": [],
      "source": [
        "thislist.remove(\"banana\")"
      ]
    },
    {
      "cell_type": "code",
      "execution_count": null,
      "id": "ea15d386-5220-4a55-babe-2488fe1ee100",
      "metadata": {
        "id": "ea15d386-5220-4a55-babe-2488fe1ee100",
        "outputId": "74d3ebfc-2fed-4ff2-e44e-024f14e50497"
      },
      "outputs": [
        {
          "data": {
            "text/plain": [
              "['apple', 'orange', 'Cherry', 'orange']"
            ]
          },
          "execution_count": 11,
          "metadata": {},
          "output_type": "execute_result"
        }
      ],
      "source": [
        "thislist"
      ]
    },
    {
      "cell_type": "code",
      "execution_count": null,
      "id": "d4c5d9ee-6366-41a0-9301-320710263d36",
      "metadata": {
        "id": "d4c5d9ee-6366-41a0-9301-320710263d36",
        "outputId": "b2607c6d-7ddf-4720-d369-666cbd1ec2b2"
      },
      "outputs": [
        {
          "data": {
            "text/plain": [
              "'orange'"
            ]
          },
          "execution_count": 12,
          "metadata": {},
          "output_type": "execute_result"
        }
      ],
      "source": [
        "thislist.pop(1)"
      ]
    },
    {
      "cell_type": "code",
      "execution_count": null,
      "id": "9df53e57-45a8-4dc5-8927-b62077da54d8",
      "metadata": {
        "id": "9df53e57-45a8-4dc5-8927-b62077da54d8",
        "outputId": "a2483ce6-35fe-4e30-943b-60f7eae5eaaa"
      },
      "outputs": [
        {
          "data": {
            "text/plain": [
              "'orange'"
            ]
          },
          "execution_count": 13,
          "metadata": {},
          "output_type": "execute_result"
        }
      ],
      "source": [
        "thislist.pop()"
      ]
    },
    {
      "cell_type": "markdown",
      "id": "c0f49af1-0681-490e-81fe-a8b756d30b1e",
      "metadata": {
        "id": "c0f49af1-0681-490e-81fe-a8b756d30b1e"
      },
      "source": [
        "# Tuple:"
      ]
    },
    {
      "cell_type": "code",
      "execution_count": null,
      "id": "958ad2bd-26d3-493b-af23-5805d2ea6705",
      "metadata": {
        "id": "958ad2bd-26d3-493b-af23-5805d2ea6705",
        "outputId": "6c5d9afd-c8f1-4b75-874e-a6ab90c7368d"
      },
      "outputs": [
        {
          "name": "stdout",
          "output_type": "stream",
          "text": [
            "('a', 'b', 'c')\n"
          ]
        }
      ],
      "source": [
        "thistuple=(\"a\", \"b\", \"c\")\n",
        "print(thistuple)"
      ]
    },
    {
      "cell_type": "markdown",
      "id": "bcfdf565-d280-4600-9f8a-a95e8e0f8eff",
      "metadata": {
        "id": "bcfdf565-d280-4600-9f8a-a95e8e0f8eff"
      },
      "source": [
        ".A tuple is a collection which is ordered and unchangeable.\n",
        ".Tuples are used to store multiple items in a single variable.\n",
        ".Tuple items are ordered, unchangeable, and allow duplicate values.\n",
        ".Tuple items are indexed, the first item has index [0], the second item has index [1] etc.\n",
        ".When we say that tuples are ordered, it means that the items have a defined order, and that order will not change.\n",
        ".Tuples are unchangeable, meaning that we cannot change, add or remove items after the tuple has been created.\n",
        ".Since tuples are indexed, they can have items with the same value:\n",
        "To access a tuple item we can use its index,\n"
      ]
    },
    {
      "cell_type": "code",
      "execution_count": null,
      "id": "2acf131b-776e-47b0-b3d1-75c704ca493e",
      "metadata": {
        "id": "2acf131b-776e-47b0-b3d1-75c704ca493e",
        "outputId": "a3ee6be0-fcd5-48f3-e1e4-5bfbca0aa0c5"
      },
      "outputs": [
        {
          "data": {
            "text/plain": [
              "'b'"
            ]
          },
          "execution_count": 16,
          "metadata": {},
          "output_type": "execute_result"
        }
      ],
      "source": [
        "thistuple[1]"
      ]
    },
    {
      "cell_type": "code",
      "execution_count": null,
      "id": "966e2b35-bfca-4fa5-a144-87d7ca5e6b28",
      "metadata": {
        "id": "966e2b35-bfca-4fa5-a144-87d7ca5e6b28",
        "outputId": "645b3ff5-03b4-42ab-9173-3d1e7dfeca9d"
      },
      "outputs": [
        {
          "data": {
            "text/plain": [
              "('c',)"
            ]
          },
          "execution_count": 17,
          "metadata": {},
          "output_type": "execute_result"
        }
      ],
      "source": [
        "thistuple[2:5]"
      ]
    },
    {
      "cell_type": "code",
      "execution_count": null,
      "id": "be3e9897-5338-41b4-a095-7f5df8b810ef",
      "metadata": {
        "id": "be3e9897-5338-41b4-a095-7f5df8b810ef",
        "outputId": "9c6b342e-2d33-48ae-deb1-68873c2f9f28"
      },
      "outputs": [
        {
          "data": {
            "text/plain": [
              "'c'"
            ]
          },
          "execution_count": 18,
          "metadata": {},
          "output_type": "execute_result"
        }
      ],
      "source": [
        "thistuple[-1]"
      ]
    },
    {
      "cell_type": "markdown",
      "id": "2b04f11f-5c73-455d-92f6-9fd402ded128",
      "metadata": {
        "id": "2b04f11f-5c73-455d-92f6-9fd402ded128"
      },
      "source": [
        "# Sets"
      ]
    },
    {
      "cell_type": "code",
      "execution_count": null,
      "id": "81709060-038f-4121-86b1-6dbc11be7e78",
      "metadata": {
        "id": "81709060-038f-4121-86b1-6dbc11be7e78",
        "outputId": "058382ad-241c-4486-caed-2d7d7ceed248"
      },
      "outputs": [
        {
          "name": "stdout",
          "output_type": "stream",
          "text": [
            "{'applie', 'banana', 'cherry'}\n"
          ]
        }
      ],
      "source": [
        "myset={\"applie\",\"banana\", \"cherry\"}\n",
        "print(myset)"
      ]
    },
    {
      "cell_type": "markdown",
      "id": "cd462469-af65-4c0b-8560-c3c2ca740c7f",
      "metadata": {
        "id": "cd462469-af65-4c0b-8560-c3c2ca740c7f"
      },
      "source": [
        ". set are use to store multiple items in a single variable.\n",
        ". A set is a collection which is unordered, unchangeable*, and unindexed.\n",
        ". Set items are unordered, unchangeable, and do not allow duplicate values.\n",
        ". undorder means that the items in a set do not have a define order."
      ]
    },
    {
      "cell_type": "code",
      "execution_count": null,
      "id": "e69661a0-faa7-45bd-87e6-3cc349ed0df3",
      "metadata": {
        "id": "e69661a0-faa7-45bd-87e6-3cc349ed0df3",
        "outputId": "12e80afe-4933-4cc3-cc39-df59010d9d92"
      },
      "outputs": [
        {
          "name": "stdout",
          "output_type": "stream",
          "text": [
            "cherry\n",
            "banana\n",
            "apple\n"
          ]
        }
      ],
      "source": [
        "thisset={\"apple\",\"banana\",\"cherry\"}\n",
        "for x in thisset:\n",
        "  print(x)"
      ]
    },
    {
      "cell_type": "markdown",
      "id": "8f4d380f-49fd-4479-89a2-40515472bf54",
      "metadata": {
        "id": "8f4d380f-49fd-4479-89a2-40515472bf54"
      },
      "source": [
        "# .To Remove an item from a set"
      ]
    },
    {
      "cell_type": "code",
      "execution_count": null,
      "id": "3d6810e5-7934-4217-b275-2bd394428ef5",
      "metadata": {
        "id": "3d6810e5-7934-4217-b275-2bd394428ef5"
      },
      "outputs": [],
      "source": [
        "thisset.remove(\"banana\")"
      ]
    },
    {
      "cell_type": "markdown",
      "id": "4e8a52a3-8402-4c20-8895-199aa9fb0367",
      "metadata": {
        "id": "4e8a52a3-8402-4c20-8895-199aa9fb0367"
      },
      "source": [
        "# To add an item to a set,"
      ]
    },
    {
      "cell_type": "code",
      "execution_count": null,
      "id": "da8cfc37-eac7-4075-aee8-8a977e619978",
      "metadata": {
        "id": "da8cfc37-eac7-4075-aee8-8a977e619978"
      },
      "outputs": [],
      "source": [
        "thisset.add(\"orange\")"
      ]
    },
    {
      "cell_type": "code",
      "execution_count": null,
      "id": "70ed4a56-83d3-44ce-92c5-d719e17622d1",
      "metadata": {
        "id": "70ed4a56-83d3-44ce-92c5-d719e17622d1"
      },
      "outputs": [],
      "source": []
    }
  ],
  "metadata": {
    "kernelspec": {
      "display_name": "Python 3 (ipykernel)",
      "language": "python",
      "name": "python3"
    },
    "language_info": {
      "codemirror_mode": {
        "name": "ipython",
        "version": 3
      },
      "file_extension": ".py",
      "mimetype": "text/x-python",
      "name": "python",
      "nbconvert_exporter": "python",
      "pygments_lexer": "ipython3",
      "version": "3.12.7"
    },
    "colab": {
      "provenance": [],
      "include_colab_link": true
    }
  },
  "nbformat": 4,
  "nbformat_minor": 5
}